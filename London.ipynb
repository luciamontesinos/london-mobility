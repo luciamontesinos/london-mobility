{
 "cells": [
  {
   "cell_type": "markdown",
   "metadata": {},
   "source": [
    "## Motivation\n",
    "### What is your dataset?\n",
    "We are working with several covid-19, mobility and transport infrastructure datasets obtained from the London datasets obtained mainly from [London Datastore](https://data.london.gov.uk/dataset) \n",
    "### Why did you choose this/these particular dataset(s)?\n",
    "We decided to work with these datasets as they give the necessary context to analyse such a complex phenomena as the effect of a pandemic is.\n",
    "### What was your goal for the end user's experience?\n",
    "The goal of the website is to inform the user about how has Covid-19 affected the life of Londoners.\n",
    "\n",
    "## Basic stats\n",
    "The project started with the two main areas of data exploration. Mobility data from Google's London mobility dataset and bicycle hire data from the London Cycle Network, was one focus. The other area was COVID infection data from Public Health England. The mobility data was very broad, but we narrowed it down to see those areas of mobility that seemed most affected by COVID restrictions, or the absence of. The covid data had daily case numbers, but we aggregated these by week for ease of visualizing across all the boroughs.\n",
    "As a part of further data exploration, we analyzed socioeconomic data to look for correlations with COVID data. These datasets included labor statistics, political affiliations, poverty and population. Geo data was also gleaned for use in making the maps of the boroughs. Not all of the plots were included in the website, but the others can be seen in this notebook.\n",
    "\n",
    "\n",
    "## Data Analysis\n",
    "For the majority of the project we were searching for and experimenting with different datasets that could be used to supports our general analysis into the change in mobility because of COVID-19. We first used these datasets alone and then merged the ones that we have found interesting and worthwhile to showcase in different visualisations.\n",
    "The analysis breaks down the content into three main parts, introduction to the city, the socioeconomical status of the population, COVID-19 cases and restrictions and finally the change in mobility during the different periods of the lockdown. \n",
    "\n",
    "\n",
    "## Genre\n",
    "Our initial plan was a slideshow genre, but we finally produced a website that incorporates different pages, almost like a partitioned poster. Visually, we used a mostly consistent visual platform, and many of the visualizations are able to be zoomed in and out for convenience.\n",
    "We employed a user directed path narrative structure, with text and links to guide the user, with introductory text and commentary. Many of the graphs also employ interactivity and filtering/selection.\n",
    "\n",
    "## Visualizations\n",
    "We decided to use different libraries for our interactive visualizations. The main idea was to be able to explain certain aspects  within the restriction time period, but at the same time, offer the user the possibility to navigate by themselves. They visualization chosen allow the user to get a broad picture of how covid-19 affected London in terms of mobility patterns.\n",
    "\n",
    "\n",
    "## Discussion\n",
    "It was actually easier to find data than we have imagined at the start, by looking at a bunch of different datasets we had to narrow our scope. The website that was setup with hugo is really pleasant to look at and we think it does a great job at showcasing our findings in a way, that is easy for the reader to understand.\n",
    "Plots that were created with folium and exported as .html ended up breaking the website we had, as a workaround we have included screenshots of these maps, not ideal, but the reader is not missing out on much.\n",
    "\n",
    "\n",
    "## Contributions\n",
    "Although all members contributed equally to the project, we decided to divide the work into the website content sections, ending with the following contribution table:\n",
    "\n",
    "\n",
    "| Task                       | s205912 | s184361 | s202522 |\n",
    "|----------------------------|---------|---------|---------|\n",
    "| Motivation                 | x       |         |         |\n",
    "| Genre                      |         | x       |         |\n",
    "| Basic stats                |         | x       |         |\n",
    "| Data analysis              |         |         | x       |\n",
    "| Visualizations             | x       |         |         |\n",
    "| Discussion                 |       |        | x     |\n",
    "| Home section (website)     | x       |         | x       |\n",
    "| Covid-19 (website)         |         | x       |         |\n",
    "| Mobility section (website) | x       |         | x       |\n",
    "| London section (website)   |         | x       | x       |\n",
    "| Website management         | x       |         |         |"
   ]
  },
  {
   "cell_type": "markdown",
   "metadata": {},
   "source": [
    "## Imports"
   ]
  },
  {
   "cell_type": "code",
   "execution_count": 301,
   "metadata": {},
   "outputs": [
    {
     "name": "stdout",
     "output_type": "stream",
     "text": [
      "Requirement already satisfied: pandas-profiling in /Users/luciamontesinos/opt/anaconda3/lib/python3.8/site-packages (2.11.0)\n",
      "Requirement already satisfied: numpy>=1.16.0 in /Users/luciamontesinos/opt/anaconda3/lib/python3.8/site-packages (from pandas-profiling) (1.19.2)\n",
      "Requirement already satisfied: visions[type_image_path]==0.6.0 in /Users/luciamontesinos/opt/anaconda3/lib/python3.8/site-packages (from pandas-profiling) (0.6.0)\n",
      "Requirement already satisfied: ipywidgets>=7.5.1 in /Users/luciamontesinos/opt/anaconda3/lib/python3.8/site-packages (from pandas-profiling) (7.5.1)\n",
      "Requirement already satisfied: confuse>=1.0.0 in /Users/luciamontesinos/opt/anaconda3/lib/python3.8/site-packages (from pandas-profiling) (1.4.0)\n",
      "Requirement already satisfied: tangled-up-in-unicode>=0.0.6 in /Users/luciamontesinos/opt/anaconda3/lib/python3.8/site-packages (from pandas-profiling) (0.0.7)\n",
      "Requirement already satisfied: attrs>=19.3.0 in /Users/luciamontesinos/opt/anaconda3/lib/python3.8/site-packages (from pandas-profiling) (20.3.0)\n",
      "Requirement already satisfied: missingno>=0.4.2 in /Users/luciamontesinos/opt/anaconda3/lib/python3.8/site-packages (from pandas-profiling) (0.4.2)\n",
      "Requirement already satisfied: phik>=0.10.0 in /Users/luciamontesinos/opt/anaconda3/lib/python3.8/site-packages (from pandas-profiling) (0.11.2)\n",
      "Requirement already satisfied: requests>=2.24.0 in /Users/luciamontesinos/opt/anaconda3/lib/python3.8/site-packages (from pandas-profiling) (2.24.0)\n",
      "Requirement already satisfied: htmlmin>=0.1.12 in /Users/luciamontesinos/opt/anaconda3/lib/python3.8/site-packages (from pandas-profiling) (0.1.12)\n",
      "Requirement already satisfied: tqdm>=4.48.2 in /Users/luciamontesinos/opt/anaconda3/lib/python3.8/site-packages (from pandas-profiling) (4.50.2)\n",
      "Requirement already satisfied: joblib in /Users/luciamontesinos/opt/anaconda3/lib/python3.8/site-packages (from pandas-profiling) (0.17.0)\n",
      "Requirement already satisfied: scipy>=1.4.1 in /Users/luciamontesinos/opt/anaconda3/lib/python3.8/site-packages (from pandas-profiling) (1.5.2)\n",
      "Requirement already satisfied: jinja2>=2.11.1 in /Users/luciamontesinos/opt/anaconda3/lib/python3.8/site-packages (from pandas-profiling) (2.11.2)\n",
      "Requirement already satisfied: matplotlib>=3.2.0 in /Users/luciamontesinos/opt/anaconda3/lib/python3.8/site-packages (from pandas-profiling) (3.3.2)\n",
      "Requirement already satisfied: pandas!=1.0.0,!=1.0.1,!=1.0.2,!=1.1.0,>=0.25.3 in /Users/luciamontesinos/opt/anaconda3/lib/python3.8/site-packages (from pandas-profiling) (1.1.3)\n",
      "Requirement already satisfied: seaborn>=0.10.1 in /Users/luciamontesinos/opt/anaconda3/lib/python3.8/site-packages (from pandas-profiling) (0.11.0)\n",
      "Requirement already satisfied: networkx>=2.4 in /Users/luciamontesinos/opt/anaconda3/lib/python3.8/site-packages (from visions[type_image_path]==0.6.0->pandas-profiling) (2.5)\n",
      "Requirement already satisfied: Pillow; extra == \"type_image_path\" in /Users/luciamontesinos/opt/anaconda3/lib/python3.8/site-packages (from visions[type_image_path]==0.6.0->pandas-profiling) (8.0.1)\n",
      "Requirement already satisfied: imagehash; extra == \"type_image_path\" in /Users/luciamontesinos/opt/anaconda3/lib/python3.8/site-packages (from visions[type_image_path]==0.6.0->pandas-profiling) (4.2.0)\n",
      "Requirement already satisfied: nbformat>=4.2.0 in /Users/luciamontesinos/opt/anaconda3/lib/python3.8/site-packages (from ipywidgets>=7.5.1->pandas-profiling) (5.0.8)\n",
      "Requirement already satisfied: ipykernel>=4.5.1 in /Users/luciamontesinos/opt/anaconda3/lib/python3.8/site-packages (from ipywidgets>=7.5.1->pandas-profiling) (5.3.4)\n",
      "Requirement already satisfied: traitlets>=4.3.1 in /Users/luciamontesinos/opt/anaconda3/lib/python3.8/site-packages (from ipywidgets>=7.5.1->pandas-profiling) (5.0.5)\n",
      "Requirement already satisfied: widgetsnbextension~=3.5.0 in /Users/luciamontesinos/opt/anaconda3/lib/python3.8/site-packages (from ipywidgets>=7.5.1->pandas-profiling) (3.5.1)\n",
      "Requirement already satisfied: ipython>=4.0.0; python_version >= \"3.3\" in /Users/luciamontesinos/opt/anaconda3/lib/python3.8/site-packages (from ipywidgets>=7.5.1->pandas-profiling) (7.19.0)\n",
      "Requirement already satisfied: pyyaml in /Users/luciamontesinos/opt/anaconda3/lib/python3.8/site-packages (from confuse>=1.0.0->pandas-profiling) (5.3.1)\n",
      "Requirement already satisfied: certifi>=2017.4.17 in /Users/luciamontesinos/opt/anaconda3/lib/python3.8/site-packages (from requests>=2.24.0->pandas-profiling) (2020.6.20)\n",
      "Requirement already satisfied: urllib3!=1.25.0,!=1.25.1,<1.26,>=1.21.1 in /Users/luciamontesinos/opt/anaconda3/lib/python3.8/site-packages (from requests>=2.24.0->pandas-profiling) (1.25.11)\n",
      "Requirement already satisfied: idna<3,>=2.5 in /Users/luciamontesinos/opt/anaconda3/lib/python3.8/site-packages (from requests>=2.24.0->pandas-profiling) (2.10)\n",
      "Requirement already satisfied: chardet<4,>=3.0.2 in /Users/luciamontesinos/opt/anaconda3/lib/python3.8/site-packages (from requests>=2.24.0->pandas-profiling) (3.0.4)\n",
      "Requirement already satisfied: MarkupSafe>=0.23 in /Users/luciamontesinos/opt/anaconda3/lib/python3.8/site-packages (from jinja2>=2.11.1->pandas-profiling) (1.1.1)\n",
      "Requirement already satisfied: kiwisolver>=1.0.1 in /Users/luciamontesinos/opt/anaconda3/lib/python3.8/site-packages (from matplotlib>=3.2.0->pandas-profiling) (1.3.0)\n",
      "Requirement already satisfied: pyparsing!=2.0.4,!=2.1.2,!=2.1.6,>=2.0.3 in /Users/luciamontesinos/opt/anaconda3/lib/python3.8/site-packages (from matplotlib>=3.2.0->pandas-profiling) (2.4.7)\n",
      "Requirement already satisfied: python-dateutil>=2.1 in /Users/luciamontesinos/opt/anaconda3/lib/python3.8/site-packages (from matplotlib>=3.2.0->pandas-profiling) (2.8.1)\n",
      "Requirement already satisfied: cycler>=0.10 in /Users/luciamontesinos/opt/anaconda3/lib/python3.8/site-packages (from matplotlib>=3.2.0->pandas-profiling) (0.10.0)\n",
      "Requirement already satisfied: pytz>=2017.2 in /Users/luciamontesinos/opt/anaconda3/lib/python3.8/site-packages (from pandas!=1.0.0,!=1.0.1,!=1.0.2,!=1.1.0,>=0.25.3->pandas-profiling) (2020.1)\n",
      "Requirement already satisfied: decorator>=4.3.0 in /Users/luciamontesinos/opt/anaconda3/lib/python3.8/site-packages (from networkx>=2.4->visions[type_image_path]==0.6.0->pandas-profiling) (4.4.2)\n",
      "Requirement already satisfied: PyWavelets in /Users/luciamontesinos/opt/anaconda3/lib/python3.8/site-packages (from imagehash; extra == \"type_image_path\"->visions[type_image_path]==0.6.0->pandas-profiling) (1.1.1)\n",
      "Requirement already satisfied: six in /Users/luciamontesinos/opt/anaconda3/lib/python3.8/site-packages (from imagehash; extra == \"type_image_path\"->visions[type_image_path]==0.6.0->pandas-profiling) (1.15.0)\n",
      "Requirement already satisfied: jupyter-core in /Users/luciamontesinos/opt/anaconda3/lib/python3.8/site-packages (from nbformat>=4.2.0->ipywidgets>=7.5.1->pandas-profiling) (4.6.3)\n",
      "Requirement already satisfied: ipython-genutils in /Users/luciamontesinos/opt/anaconda3/lib/python3.8/site-packages (from nbformat>=4.2.0->ipywidgets>=7.5.1->pandas-profiling) (0.2.0)\n",
      "Requirement already satisfied: jsonschema!=2.5.0,>=2.4 in /Users/luciamontesinos/opt/anaconda3/lib/python3.8/site-packages (from nbformat>=4.2.0->ipywidgets>=7.5.1->pandas-profiling) (3.2.0)\n",
      "Requirement already satisfied: appnope; platform_system == \"Darwin\" in /Users/luciamontesinos/opt/anaconda3/lib/python3.8/site-packages (from ipykernel>=4.5.1->ipywidgets>=7.5.1->pandas-profiling) (0.1.0)\n",
      "Requirement already satisfied: tornado>=4.2 in /Users/luciamontesinos/opt/anaconda3/lib/python3.8/site-packages (from ipykernel>=4.5.1->ipywidgets>=7.5.1->pandas-profiling) (6.1)\n",
      "Requirement already satisfied: jupyter-client in /Users/luciamontesinos/opt/anaconda3/lib/python3.8/site-packages (from ipykernel>=4.5.1->ipywidgets>=7.5.1->pandas-profiling) (6.1.7)\n",
      "Requirement already satisfied: notebook>=4.4.1 in /Users/luciamontesinos/opt/anaconda3/lib/python3.8/site-packages (from widgetsnbextension~=3.5.0->ipywidgets>=7.5.1->pandas-profiling) (6.1.4)\n",
      "Requirement already satisfied: jedi>=0.10 in /Users/luciamontesinos/opt/anaconda3/lib/python3.8/site-packages (from ipython>=4.0.0; python_version >= \"3.3\"->ipywidgets>=7.5.1->pandas-profiling) (0.17.1)\n",
      "Requirement already satisfied: backcall in /Users/luciamontesinos/opt/anaconda3/lib/python3.8/site-packages (from ipython>=4.0.0; python_version >= \"3.3\"->ipywidgets>=7.5.1->pandas-profiling) (0.2.0)\n",
      "Requirement already satisfied: pexpect>4.3; sys_platform != \"win32\" in /Users/luciamontesinos/opt/anaconda3/lib/python3.8/site-packages (from ipython>=4.0.0; python_version >= \"3.3\"->ipywidgets>=7.5.1->pandas-profiling) (4.8.0)\n",
      "Requirement already satisfied: setuptools>=18.5 in /Users/luciamontesinos/opt/anaconda3/lib/python3.8/site-packages (from ipython>=4.0.0; python_version >= \"3.3\"->ipywidgets>=7.5.1->pandas-profiling) (50.3.1.post20201107)\n"
     ]
    },
    {
     "name": "stdout",
     "output_type": "stream",
     "text": [
      "Requirement already satisfied: prompt-toolkit!=3.0.0,!=3.0.1,<3.1.0,>=2.0.0 in /Users/luciamontesinos/opt/anaconda3/lib/python3.8/site-packages (from ipython>=4.0.0; python_version >= \"3.3\"->ipywidgets>=7.5.1->pandas-profiling) (3.0.8)\n",
      "Requirement already satisfied: pygments in /Users/luciamontesinos/opt/anaconda3/lib/python3.8/site-packages (from ipython>=4.0.0; python_version >= \"3.3\"->ipywidgets>=7.5.1->pandas-profiling) (2.7.2)\n",
      "Requirement already satisfied: pickleshare in /Users/luciamontesinos/opt/anaconda3/lib/python3.8/site-packages (from ipython>=4.0.0; python_version >= \"3.3\"->ipywidgets>=7.5.1->pandas-profiling) (0.7.5)\n",
      "Requirement already satisfied: pyrsistent>=0.14.0 in /Users/luciamontesinos/opt/anaconda3/lib/python3.8/site-packages (from jsonschema!=2.5.0,>=2.4->nbformat>=4.2.0->ipywidgets>=7.5.1->pandas-profiling) (0.17.3)\n",
      "Requirement already satisfied: pyzmq>=13 in /Users/luciamontesinos/opt/anaconda3/lib/python3.8/site-packages (from jupyter-client->ipykernel>=4.5.1->ipywidgets>=7.5.1->pandas-profiling) (19.0.2)\n",
      "Requirement already satisfied: argon2-cffi in /Users/luciamontesinos/opt/anaconda3/lib/python3.8/site-packages (from notebook>=4.4.1->widgetsnbextension~=3.5.0->ipywidgets>=7.5.1->pandas-profiling) (20.1.0)\n",
      "Requirement already satisfied: terminado>=0.8.3 in /Users/luciamontesinos/opt/anaconda3/lib/python3.8/site-packages (from notebook>=4.4.1->widgetsnbextension~=3.5.0->ipywidgets>=7.5.1->pandas-profiling) (0.9.1)\n",
      "Requirement already satisfied: nbconvert in /Users/luciamontesinos/opt/anaconda3/lib/python3.8/site-packages (from notebook>=4.4.1->widgetsnbextension~=3.5.0->ipywidgets>=7.5.1->pandas-profiling) (6.0.7)\n",
      "Requirement already satisfied: Send2Trash in /Users/luciamontesinos/opt/anaconda3/lib/python3.8/site-packages (from notebook>=4.4.1->widgetsnbextension~=3.5.0->ipywidgets>=7.5.1->pandas-profiling) (1.5.0)\n",
      "Requirement already satisfied: prometheus-client in /Users/luciamontesinos/opt/anaconda3/lib/python3.8/site-packages (from notebook>=4.4.1->widgetsnbextension~=3.5.0->ipywidgets>=7.5.1->pandas-profiling) (0.8.0)\n",
      "Requirement already satisfied: parso<0.8.0,>=0.7.0 in /Users/luciamontesinos/opt/anaconda3/lib/python3.8/site-packages (from jedi>=0.10->ipython>=4.0.0; python_version >= \"3.3\"->ipywidgets>=7.5.1->pandas-profiling) (0.7.0)\n",
      "Requirement already satisfied: ptyprocess>=0.5 in /Users/luciamontesinos/opt/anaconda3/lib/python3.8/site-packages (from pexpect>4.3; sys_platform != \"win32\"->ipython>=4.0.0; python_version >= \"3.3\"->ipywidgets>=7.5.1->pandas-profiling) (0.6.0)\n",
      "Requirement already satisfied: wcwidth in /Users/luciamontesinos/opt/anaconda3/lib/python3.8/site-packages (from prompt-toolkit!=3.0.0,!=3.0.1,<3.1.0,>=2.0.0->ipython>=4.0.0; python_version >= \"3.3\"->ipywidgets>=7.5.1->pandas-profiling) (0.2.5)\n",
      "Requirement already satisfied: cffi>=1.0.0 in /Users/luciamontesinos/opt/anaconda3/lib/python3.8/site-packages (from argon2-cffi->notebook>=4.4.1->widgetsnbextension~=3.5.0->ipywidgets>=7.5.1->pandas-profiling) (1.14.3)\n",
      "Requirement already satisfied: entrypoints>=0.2.2 in /Users/luciamontesinos/opt/anaconda3/lib/python3.8/site-packages (from nbconvert->notebook>=4.4.1->widgetsnbextension~=3.5.0->ipywidgets>=7.5.1->pandas-profiling) (0.3)\n",
      "Requirement already satisfied: testpath in /Users/luciamontesinos/opt/anaconda3/lib/python3.8/site-packages (from nbconvert->notebook>=4.4.1->widgetsnbextension~=3.5.0->ipywidgets>=7.5.1->pandas-profiling) (0.4.4)\n",
      "Requirement already satisfied: defusedxml in /Users/luciamontesinos/opt/anaconda3/lib/python3.8/site-packages (from nbconvert->notebook>=4.4.1->widgetsnbextension~=3.5.0->ipywidgets>=7.5.1->pandas-profiling) (0.6.0)\n",
      "Requirement already satisfied: nbclient<0.6.0,>=0.5.0 in /Users/luciamontesinos/opt/anaconda3/lib/python3.8/site-packages (from nbconvert->notebook>=4.4.1->widgetsnbextension~=3.5.0->ipywidgets>=7.5.1->pandas-profiling) (0.5.1)\n",
      "Requirement already satisfied: mistune<2,>=0.8.1 in /Users/luciamontesinos/opt/anaconda3/lib/python3.8/site-packages (from nbconvert->notebook>=4.4.1->widgetsnbextension~=3.5.0->ipywidgets>=7.5.1->pandas-profiling) (0.8.4)\n",
      "Requirement already satisfied: pandocfilters>=1.4.1 in /Users/luciamontesinos/opt/anaconda3/lib/python3.8/site-packages (from nbconvert->notebook>=4.4.1->widgetsnbextension~=3.5.0->ipywidgets>=7.5.1->pandas-profiling) (1.4.3)\n",
      "Requirement already satisfied: bleach in /Users/luciamontesinos/opt/anaconda3/lib/python3.8/site-packages (from nbconvert->notebook>=4.4.1->widgetsnbextension~=3.5.0->ipywidgets>=7.5.1->pandas-profiling) (3.2.1)\n",
      "Requirement already satisfied: jupyterlab-pygments in /Users/luciamontesinos/opt/anaconda3/lib/python3.8/site-packages (from nbconvert->notebook>=4.4.1->widgetsnbextension~=3.5.0->ipywidgets>=7.5.1->pandas-profiling) (0.1.2)\n",
      "Requirement already satisfied: pycparser in /Users/luciamontesinos/opt/anaconda3/lib/python3.8/site-packages (from cffi>=1.0.0->argon2-cffi->notebook>=4.4.1->widgetsnbextension~=3.5.0->ipywidgets>=7.5.1->pandas-profiling) (2.20)\n",
      "Requirement already satisfied: async-generator in /Users/luciamontesinos/opt/anaconda3/lib/python3.8/site-packages (from nbclient<0.6.0,>=0.5.0->nbconvert->notebook>=4.4.1->widgetsnbextension~=3.5.0->ipywidgets>=7.5.1->pandas-profiling) (1.10)\n",
      "Requirement already satisfied: nest-asyncio in /Users/luciamontesinos/opt/anaconda3/lib/python3.8/site-packages (from nbclient<0.6.0,>=0.5.0->nbconvert->notebook>=4.4.1->widgetsnbextension~=3.5.0->ipywidgets>=7.5.1->pandas-profiling) (1.4.2)\n",
      "Requirement already satisfied: webencodings in /Users/luciamontesinos/opt/anaconda3/lib/python3.8/site-packages (from bleach->nbconvert->notebook>=4.4.1->widgetsnbextension~=3.5.0->ipywidgets>=7.5.1->pandas-profiling) (0.5.1)\n",
      "Requirement already satisfied: packaging in /Users/luciamontesinos/opt/anaconda3/lib/python3.8/site-packages (from bleach->nbconvert->notebook>=4.4.1->widgetsnbextension~=3.5.0->ipywidgets>=7.5.1->pandas-profiling) (20.4)\n",
      "Requirement already satisfied: geojson in /Users/luciamontesinos/opt/anaconda3/lib/python3.8/site-packages (2.5.0)\n",
      "Requirement already satisfied: shapely in /Users/luciamontesinos/opt/anaconda3/lib/python3.8/site-packages (1.7.1)\n"
     ]
    }
   ],
   "source": [
    "!pip install pandas-profiling\n",
    "!pip install geojson\n",
    "!pip install shapely\n",
    "\n",
    "import pandas as pd\n",
    "import folium\n",
    "import matplotlib.pyplot as plt\n",
    "import matplotlib.dates as mdates\n",
    "from matplotlib.dates import DateFormatter\n",
    "import numpy as np\n",
    "import pandas_profiling\n",
    "import datetime\n",
    "import geojson\n",
    "from shapely.geometry import shape, Point\n",
    "import json\n",
    "import seaborn as sns\n",
    "from urllib.request import urlopen\n",
    "\n",
    "\n",
    "### BOKEH\n",
    "from bokeh.io import show\n",
    "from bokeh.layouts import column\n",
    "from bokeh.models import (\n",
    "    ColumnDataSource, RangeTool, Legend, Label, LogColorMapper, ColorBar,  GeoJSONDataSource,\n",
    "    HoverTool, LinearColorMapper)\n",
    "from bokeh.plotting import figure\n",
    "from bokeh.palettes import Viridis6, Viridis11, RdYlBu11, plasma\n",
    "from bokeh.io import show, output_notebook, output_file, curdoc\n",
    "from bokeh.themes import built_in_themes\n",
    "\n",
    "### PLOTLY\n",
    "import plotly.express as px\n"
   ]
  },
  {
   "cell_type": "markdown",
   "metadata": {},
   "source": [
    "### Change from baseline \n",
    "Create mobility dataset using [Google Mobility Report](https://www.google.com/covid19/mobility/) of 2020 and 2021"
   ]
  },
  {
   "cell_type": "code",
   "execution_count": 302,
   "metadata": {},
   "outputs": [],
   "source": [
    "# Upload Mobility report dataset for 2021\n",
    "df = pd.read_csv('datasets/2021_GB_Region_Mobility_Report.csv')\n",
    "\n",
    "# Upload Mobility report dataset for 2021\n",
    "df0 = pd.read_csv('datasets/2020_GB_Region_Mobility_Report.csv')\n",
    "\n",
    "# Concat datasets\n",
    "df = pd.concat([df0, df])\n",
    "df.drop(['country_region_code', 'country_region'], axis=1)\n",
    "\n",
    "# Upload restrictions dataset\n",
    "df1 = pd.read_csv('datasets/restrictions_daily.csv')\n",
    "\n",
    "# Merge datatsets\n",
    "data = pd.merge(df, df1, how=\"inner\", on=[\"date\"])\n",
    "\n",
    "# Obtain report of the dataset\n",
    "# prof = pandas_profiling.ProfileReport(data)\n",
    "# prof.to_file(output_file='output.html')\n",
    "\n",
    "data.to_csv('datasets/london_mobility_restrictions.csv')"
   ]
  },
  {
   "cell_type": "code",
   "execution_count": 303,
   "metadata": {},
   "outputs": [],
   "source": [
    "# Upload Mobility report datasets\n",
    "\n",
    "# Upload Mobility report dataset for 2021\n",
    "df = pd.read_csv('datasets/2021_GB_Region_Mobility_Report.csv')\n",
    "\n",
    "# Upload Mobility report dataset for 2021\n",
    "df0 = pd.read_csv('datasets/2020_GB_Region_Mobility_Report.csv')\n",
    "\n",
    "# Concat datasets\n",
    "df = pd.concat([df0, df])\n",
    "\n",
    "\n",
    "# Extract Greater London Area information\n",
    "df.drop(['country_region_code', 'country_region'], axis=1)\n",
    "df = df.loc[df.sub_region_1 == 'Greater London']\n",
    "df.sub_region_2 = df.sub_region_2.fillna(0)\n",
    "df = df.loc[df.sub_region_2 == 0]\n",
    "df.date = pd.to_datetime(df.date)\n",
    "\n",
    "\n",
    "# Bokeh\n",
    "curdoc().theme = 'night_sky'\n",
    "\n",
    "p = figure(plot_height=300, plot_width=800, tools=[\"xpan\"], toolbar_location=None, title=\"Mobility in Greater London\",\n",
    "           x_axis_type=\"datetime\", x_range=(min(df.date), max(df.date)))\n",
    "\n",
    "line ={}\n",
    "legend_items = []\n",
    "\n",
    "\n",
    "for index, baseline_col in enumerate(list(df.columns.values)[-6:]):\n",
    "    \n",
    "    line[baseline_col] = p.line(df.date, df[baseline_col], color=Viridis6[index],\n",
    "                    alpha=1, muted_color=Viridis6[index], muted_alpha=0.1, line_width=2)\n",
    "    \n",
    "    # Add legend and make it readable\n",
    "    legend_items.append((baseline_col.replace('_', ' ')[:-28], [line[baseline_col]]))\n",
    "\n",
    "\n",
    "legend = Legend(items=legend_items)\n",
    "p.add_layout(legend,'left')\n",
    "p.legend.click_policy = 'mute'\n",
    "\n",
    "\n",
    "# Add baseline line\n",
    "p.line(df.date, 0, color='black', line_width=0.5, line_dash='dashed')\n",
    "\n",
    "\n",
    "p.yaxis.axis_label = 'Change from baseline'\n",
    "\n",
    "select = figure(title=\"Drag the middle and edges of the selection box to change the date range above\",\n",
    "                plot_height=100, plot_width=800, y_range=p.y_range,\n",
    "                x_axis_type=\"datetime\", y_axis_type=None,\n",
    "                tools=\"\", toolbar_location=None)\n",
    "\n",
    "range_tool = RangeTool(x_range=p.x_range)\n",
    "range_tool.overlay.fill_color = \"navy\"\n",
    "range_tool.overlay.fill_alpha = 0.2\n",
    "\n",
    "\n",
    "\n",
    "for baseline_col in list(df.columns.values)[-6:]:\n",
    "    select.line(df.date, df[baseline_col])\n",
    "select.ygrid.grid_line_color = None\n",
    "select.add_tools(range_tool)\n",
    "select.toolbar.active_multi = range_tool\n",
    "\n",
    "p.background_fill_alpha = 0.0\n",
    "p.border_fill_alpha = 0.0\n",
    "select.background_fill_alpha = 0.0\n",
    "select.border_fill_alpha = 0.0\n",
    "legend.background_fill_alpha = 0.0\n",
    "legend.border_line_alpha = 0.0\n",
    "\n",
    "\n",
    "show(column(p, select))\n",
    "\n",
    "\n",
    "output_file(\"data/ChangeBaseline.html\")\n"
   ]
  },
  {
   "cell_type": "markdown",
   "metadata": {},
   "source": [
    "### Restrictions timeline"
   ]
  },
  {
   "cell_type": "code",
   "execution_count": 304,
   "metadata": {},
   "outputs": [
    {
     "data": {
      "application/vnd.plotly.v1+json": {
       "config": {
        "plotlyServerURL": "https://plot.ly"
       },
       "data": [
        {
         "alignmentgroup": "True",
         "base": [
          "2020-03-23",
          "2021-01-05"
         ],
         "hovertemplate": "Restriction=%{y}<br>Start=%{base}<br>Finish=%{x}<extra></extra>",
         "legendgroup": "schools closed",
         "marker": {
          "color": "#636efa"
         },
         "name": "schools closed",
         "offsetgroup": "schools closed",
         "orientation": "h",
         "showlegend": true,
         "textposition": "auto",
         "type": "bar",
         "x": [
          5961600000,
          5270400000
         ],
         "xaxis": "x",
         "y": [
          "schools closed",
          "schools closed"
         ],
         "yaxis": "y"
        },
        {
         "alignmentgroup": "True",
         "base": [
          "2020-03-21",
          "2020-11-05",
          "2020-12-16"
         ],
         "hovertemplate": "Restriction=%{y}<br>Start=%{base}<br>Finish=%{x}<extra></extra>",
         "legendgroup": "pubs closed",
         "marker": {
          "color": "#EF553B"
         },
         "name": "pubs closed",
         "offsetgroup": "pubs closed",
         "orientation": "h",
         "showlegend": true,
         "textposition": "auto",
         "type": "bar",
         "x": [
          8899200000,
          2246400000,
          10627200000
         ],
         "xaxis": "x",
         "y": [
          "pubs closed",
          "pubs closed",
          "pubs closed"
         ],
         "yaxis": "y"
        },
        {
         "alignmentgroup": "True",
         "base": [
          "2020-03-24",
          "2020-11-05",
          "2020-12-20"
         ],
         "hovertemplate": "Restriction=%{y}<br>Start=%{base}<br>Finish=%{x}<extra></extra>",
         "legendgroup": "shops closed",
         "marker": {
          "color": "#00cc96"
         },
         "name": "shops closed",
         "offsetgroup": "shops closed",
         "orientation": "h",
         "showlegend": true,
         "textposition": "auto",
         "type": "bar",
         "x": [
          7084800000,
          2246400000,
          10281600000
         ],
         "xaxis": "x",
         "y": [
          "shops closed",
          "shops closed",
          "shops closed"
         ],
         "yaxis": "y"
        },
        {
         "alignmentgroup": "True",
         "base": [
          "2020-03-21",
          "2020-11-05",
          "2020-12-16"
         ],
         "hovertemplate": "Restriction=%{y}<br>Start=%{base}<br>Finish=%{x}<extra></extra>",
         "legendgroup": "eating places closed",
         "marker": {
          "color": "#ab63fa"
         },
         "name": "eating places closed",
         "offsetgroup": "eating places closed",
         "orientation": "h",
         "showlegend": true,
         "textposition": "auto",
         "type": "bar",
         "x": [
          8985600000,
          2246400000,
          10627200000
         ],
         "xaxis": "x",
         "y": [
          "eating places closed",
          "eating places closed",
          "eating places closed"
         ],
         "yaxis": "y"
        },
        {
         "alignmentgroup": "True",
         "base": [
          "2020-03-24",
          "2020-11-05",
          "2020-12-20"
         ],
         "hovertemplate": "Restriction=%{y}<br>Start=%{base}<br>Finish=%{x}<extra></extra>",
         "legendgroup": "stay at home",
         "marker": {
          "color": "#FFA15A"
         },
         "name": "stay at home",
         "offsetgroup": "stay at home",
         "orientation": "h",
         "showlegend": true,
         "textposition": "auto",
         "type": "bar",
         "x": [
          4060800000,
          2332800000,
          8467200000
         ],
         "xaxis": "x",
         "y": [
          "stay at home",
          "stay at home",
          "stay at home"
         ],
         "yaxis": "y"
        },
        {
         "alignmentgroup": "True",
         "base": [
          "2020-03-24",
          "2020-10-17"
         ],
         "hovertemplate": "Restriction=%{y}<br>Start=%{base}<br>Finish=%{x}<extra></extra>",
         "legendgroup": "household mixing indoors banned",
         "marker": {
          "color": "#19d3f3"
         },
         "name": "household mixing indoors banned",
         "offsetgroup": "household mixing indoors banned",
         "orientation": "h",
         "showlegend": true,
         "textposition": "auto",
         "type": "bar",
         "x": [
          8726400000,
          15811200000
         ],
         "xaxis": "x",
         "y": [
          "household mixing indoors banned",
          "household mixing indoors banned"
         ],
         "yaxis": "y"
        },
        {
         "alignmentgroup": "True",
         "base": [
          "2020-03-17",
          "2020-09-22"
         ],
         "hovertemplate": "Restriction=%{y}<br>Start=%{base}<br>Finish=%{x}<extra></extra>",
         "legendgroup": "wfh",
         "marker": {
          "color": "#FF6692"
         },
         "name": "wfh",
         "offsetgroup": "wfh",
         "orientation": "h",
         "showlegend": true,
         "textposition": "auto",
         "type": "bar",
         "x": [
          11750400000,
          17971200000
         ],
         "xaxis": "x",
         "y": [
          "wfh",
          "wfh"
         ],
         "yaxis": "y"
        },
        {
         "alignmentgroup": "True",
         "base": [
          "2020-09-14"
         ],
         "hovertemplate": "Restriction=%{y}<br>Start=%{base}<br>Finish=%{x}<extra></extra>",
         "legendgroup": "rule of 6 indoors",
         "marker": {
          "color": "#B6E880"
         },
         "name": "rule of 6 indoors",
         "offsetgroup": "rule of 6 indoors",
         "orientation": "h",
         "showlegend": true,
         "textposition": "auto",
         "type": "bar",
         "x": [
          2764800000
         ],
         "xaxis": "x",
         "y": [
          "rule of 6 indoors"
         ],
         "yaxis": "y"
        },
        {
         "alignmentgroup": "True",
         "base": [
          "2020-09-24",
          "2020-12-02"
         ],
         "hovertemplate": "Restriction=%{y}<br>Start=%{base}<br>Finish=%{x}<extra></extra>",
         "legendgroup": "curfew",
         "marker": {
          "color": "#FF97FF"
         },
         "name": "curfew",
         "offsetgroup": "curfew",
         "orientation": "h",
         "showlegend": true,
         "textposition": "auto",
         "type": "bar",
         "x": [
          3542400000,
          1123200000
         ],
         "xaxis": "x",
         "y": [
          "curfew",
          "curfew"
         ],
         "yaxis": "y"
        },
        {
         "alignmentgroup": "True",
         "base": [
          "2020-08-03"
         ],
         "hovertemplate": "Restriction=%{y}<br>Start=%{base}<br>Finish=%{x}<extra></extra>",
         "legendgroup": "eat out to help out",
         "marker": {
          "color": "#FECB52"
         },
         "name": "eat out to help out",
         "offsetgroup": "eat out to help out",
         "orientation": "h",
         "showlegend": true,
         "textposition": "auto",
         "type": "bar",
         "x": [
          2332800000
         ],
         "xaxis": "x",
         "y": [
          "eat out to help out"
         ],
         "yaxis": "y"
        }
       ],
       "layout": {
        "barmode": "overlay",
        "legend": {
         "title": {
          "text": "Restriction"
         },
         "tracegroupgap": 0
        },
        "paper_bgcolor": "rgba(0, 0, 0, 0)",
        "plot_bgcolor": "rgba(0, 0, 0, 0)",
        "showlegend": false,
        "template": {
         "data": {
          "bar": [
           {
            "error_x": {
             "color": "#f2f5fa"
            },
            "error_y": {
             "color": "#f2f5fa"
            },
            "marker": {
             "line": {
              "color": "rgb(17,17,17)",
              "width": 0.5
             }
            },
            "type": "bar"
           }
          ],
          "barpolar": [
           {
            "marker": {
             "line": {
              "color": "rgb(17,17,17)",
              "width": 0.5
             }
            },
            "type": "barpolar"
           }
          ],
          "carpet": [
           {
            "aaxis": {
             "endlinecolor": "#A2B1C6",
             "gridcolor": "#506784",
             "linecolor": "#506784",
             "minorgridcolor": "#506784",
             "startlinecolor": "#A2B1C6"
            },
            "baxis": {
             "endlinecolor": "#A2B1C6",
             "gridcolor": "#506784",
             "linecolor": "#506784",
             "minorgridcolor": "#506784",
             "startlinecolor": "#A2B1C6"
            },
            "type": "carpet"
           }
          ],
          "choropleth": [
           {
            "colorbar": {
             "outlinewidth": 0,
             "ticks": ""
            },
            "type": "choropleth"
           }
          ],
          "contour": [
           {
            "colorbar": {
             "outlinewidth": 0,
             "ticks": ""
            },
            "colorscale": [
             [
              0,
              "#0d0887"
             ],
             [
              0.1111111111111111,
              "#46039f"
             ],
             [
              0.2222222222222222,
              "#7201a8"
             ],
             [
              0.3333333333333333,
              "#9c179e"
             ],
             [
              0.4444444444444444,
              "#bd3786"
             ],
             [
              0.5555555555555556,
              "#d8576b"
             ],
             [
              0.6666666666666666,
              "#ed7953"
             ],
             [
              0.7777777777777778,
              "#fb9f3a"
             ],
             [
              0.8888888888888888,
              "#fdca26"
             ],
             [
              1,
              "#f0f921"
             ]
            ],
            "type": "contour"
           }
          ],
          "contourcarpet": [
           {
            "colorbar": {
             "outlinewidth": 0,
             "ticks": ""
            },
            "type": "contourcarpet"
           }
          ],
          "heatmap": [
           {
            "colorbar": {
             "outlinewidth": 0,
             "ticks": ""
            },
            "colorscale": [
             [
              0,
              "#0d0887"
             ],
             [
              0.1111111111111111,
              "#46039f"
             ],
             [
              0.2222222222222222,
              "#7201a8"
             ],
             [
              0.3333333333333333,
              "#9c179e"
             ],
             [
              0.4444444444444444,
              "#bd3786"
             ],
             [
              0.5555555555555556,
              "#d8576b"
             ],
             [
              0.6666666666666666,
              "#ed7953"
             ],
             [
              0.7777777777777778,
              "#fb9f3a"
             ],
             [
              0.8888888888888888,
              "#fdca26"
             ],
             [
              1,
              "#f0f921"
             ]
            ],
            "type": "heatmap"
           }
          ],
          "heatmapgl": [
           {
            "colorbar": {
             "outlinewidth": 0,
             "ticks": ""
            },
            "colorscale": [
             [
              0,
              "#0d0887"
             ],
             [
              0.1111111111111111,
              "#46039f"
             ],
             [
              0.2222222222222222,
              "#7201a8"
             ],
             [
              0.3333333333333333,
              "#9c179e"
             ],
             [
              0.4444444444444444,
              "#bd3786"
             ],
             [
              0.5555555555555556,
              "#d8576b"
             ],
             [
              0.6666666666666666,
              "#ed7953"
             ],
             [
              0.7777777777777778,
              "#fb9f3a"
             ],
             [
              0.8888888888888888,
              "#fdca26"
             ],
             [
              1,
              "#f0f921"
             ]
            ],
            "type": "heatmapgl"
           }
          ],
          "histogram": [
           {
            "marker": {
             "colorbar": {
              "outlinewidth": 0,
              "ticks": ""
             }
            },
            "type": "histogram"
           }
          ],
          "histogram2d": [
           {
            "colorbar": {
             "outlinewidth": 0,
             "ticks": ""
            },
            "colorscale": [
             [
              0,
              "#0d0887"
             ],
             [
              0.1111111111111111,
              "#46039f"
             ],
             [
              0.2222222222222222,
              "#7201a8"
             ],
             [
              0.3333333333333333,
              "#9c179e"
             ],
             [
              0.4444444444444444,
              "#bd3786"
             ],
             [
              0.5555555555555556,
              "#d8576b"
             ],
             [
              0.6666666666666666,
              "#ed7953"
             ],
             [
              0.7777777777777778,
              "#fb9f3a"
             ],
             [
              0.8888888888888888,
              "#fdca26"
             ],
             [
              1,
              "#f0f921"
             ]
            ],
            "type": "histogram2d"
           }
          ],
          "histogram2dcontour": [
           {
            "colorbar": {
             "outlinewidth": 0,
             "ticks": ""
            },
            "colorscale": [
             [
              0,
              "#0d0887"
             ],
             [
              0.1111111111111111,
              "#46039f"
             ],
             [
              0.2222222222222222,
              "#7201a8"
             ],
             [
              0.3333333333333333,
              "#9c179e"
             ],
             [
              0.4444444444444444,
              "#bd3786"
             ],
             [
              0.5555555555555556,
              "#d8576b"
             ],
             [
              0.6666666666666666,
              "#ed7953"
             ],
             [
              0.7777777777777778,
              "#fb9f3a"
             ],
             [
              0.8888888888888888,
              "#fdca26"
             ],
             [
              1,
              "#f0f921"
             ]
            ],
            "type": "histogram2dcontour"
           }
          ],
          "mesh3d": [
           {
            "colorbar": {
             "outlinewidth": 0,
             "ticks": ""
            },
            "type": "mesh3d"
           }
          ],
          "parcoords": [
           {
            "line": {
             "colorbar": {
              "outlinewidth": 0,
              "ticks": ""
             }
            },
            "type": "parcoords"
           }
          ],
          "pie": [
           {
            "automargin": true,
            "type": "pie"
           }
          ],
          "scatter": [
           {
            "marker": {
             "line": {
              "color": "#283442"
             }
            },
            "type": "scatter"
           }
          ],
          "scatter3d": [
           {
            "line": {
             "colorbar": {
              "outlinewidth": 0,
              "ticks": ""
             }
            },
            "marker": {
             "colorbar": {
              "outlinewidth": 0,
              "ticks": ""
             }
            },
            "type": "scatter3d"
           }
          ],
          "scattercarpet": [
           {
            "marker": {
             "colorbar": {
              "outlinewidth": 0,
              "ticks": ""
             }
            },
            "type": "scattercarpet"
           }
          ],
          "scattergeo": [
           {
            "marker": {
             "colorbar": {
              "outlinewidth": 0,
              "ticks": ""
             }
            },
            "type": "scattergeo"
           }
          ],
          "scattergl": [
           {
            "marker": {
             "line": {
              "color": "#283442"
             }
            },
            "type": "scattergl"
           }
          ],
          "scattermapbox": [
           {
            "marker": {
             "colorbar": {
              "outlinewidth": 0,
              "ticks": ""
             }
            },
            "type": "scattermapbox"
           }
          ],
          "scatterpolar": [
           {
            "marker": {
             "colorbar": {
              "outlinewidth": 0,
              "ticks": ""
             }
            },
            "type": "scatterpolar"
           }
          ],
          "scatterpolargl": [
           {
            "marker": {
             "colorbar": {
              "outlinewidth": 0,
              "ticks": ""
             }
            },
            "type": "scatterpolargl"
           }
          ],
          "scatterternary": [
           {
            "marker": {
             "colorbar": {
              "outlinewidth": 0,
              "ticks": ""
             }
            },
            "type": "scatterternary"
           }
          ],
          "surface": [
           {
            "colorbar": {
             "outlinewidth": 0,
             "ticks": ""
            },
            "colorscale": [
             [
              0,
              "#0d0887"
             ],
             [
              0.1111111111111111,
              "#46039f"
             ],
             [
              0.2222222222222222,
              "#7201a8"
             ],
             [
              0.3333333333333333,
              "#9c179e"
             ],
             [
              0.4444444444444444,
              "#bd3786"
             ],
             [
              0.5555555555555556,
              "#d8576b"
             ],
             [
              0.6666666666666666,
              "#ed7953"
             ],
             [
              0.7777777777777778,
              "#fb9f3a"
             ],
             [
              0.8888888888888888,
              "#fdca26"
             ],
             [
              1,
              "#f0f921"
             ]
            ],
            "type": "surface"
           }
          ],
          "table": [
           {
            "cells": {
             "fill": {
              "color": "#506784"
             },
             "line": {
              "color": "rgb(17,17,17)"
             }
            },
            "header": {
             "fill": {
              "color": "#2a3f5f"
             },
             "line": {
              "color": "rgb(17,17,17)"
             }
            },
            "type": "table"
           }
          ]
         },
         "layout": {
          "annotationdefaults": {
           "arrowcolor": "#f2f5fa",
           "arrowhead": 0,
           "arrowwidth": 1
          },
          "autotypenumbers": "strict",
          "coloraxis": {
           "colorbar": {
            "outlinewidth": 0,
            "ticks": ""
           }
          },
          "colorscale": {
           "diverging": [
            [
             0,
             "#8e0152"
            ],
            [
             0.1,
             "#c51b7d"
            ],
            [
             0.2,
             "#de77ae"
            ],
            [
             0.3,
             "#f1b6da"
            ],
            [
             0.4,
             "#fde0ef"
            ],
            [
             0.5,
             "#f7f7f7"
            ],
            [
             0.6,
             "#e6f5d0"
            ],
            [
             0.7,
             "#b8e186"
            ],
            [
             0.8,
             "#7fbc41"
            ],
            [
             0.9,
             "#4d9221"
            ],
            [
             1,
             "#276419"
            ]
           ],
           "sequential": [
            [
             0,
             "#0d0887"
            ],
            [
             0.1111111111111111,
             "#46039f"
            ],
            [
             0.2222222222222222,
             "#7201a8"
            ],
            [
             0.3333333333333333,
             "#9c179e"
            ],
            [
             0.4444444444444444,
             "#bd3786"
            ],
            [
             0.5555555555555556,
             "#d8576b"
            ],
            [
             0.6666666666666666,
             "#ed7953"
            ],
            [
             0.7777777777777778,
             "#fb9f3a"
            ],
            [
             0.8888888888888888,
             "#fdca26"
            ],
            [
             1,
             "#f0f921"
            ]
           ],
           "sequentialminus": [
            [
             0,
             "#0d0887"
            ],
            [
             0.1111111111111111,
             "#46039f"
            ],
            [
             0.2222222222222222,
             "#7201a8"
            ],
            [
             0.3333333333333333,
             "#9c179e"
            ],
            [
             0.4444444444444444,
             "#bd3786"
            ],
            [
             0.5555555555555556,
             "#d8576b"
            ],
            [
             0.6666666666666666,
             "#ed7953"
            ],
            [
             0.7777777777777778,
             "#fb9f3a"
            ],
            [
             0.8888888888888888,
             "#fdca26"
            ],
            [
             1,
             "#f0f921"
            ]
           ]
          },
          "colorway": [
           "#636efa",
           "#EF553B",
           "#00cc96",
           "#ab63fa",
           "#FFA15A",
           "#19d3f3",
           "#FF6692",
           "#B6E880",
           "#FF97FF",
           "#FECB52"
          ],
          "font": {
           "color": "#f2f5fa"
          },
          "geo": {
           "bgcolor": "rgb(17,17,17)",
           "lakecolor": "rgb(17,17,17)",
           "landcolor": "rgb(17,17,17)",
           "showlakes": true,
           "showland": true,
           "subunitcolor": "#506784"
          },
          "hoverlabel": {
           "align": "left"
          },
          "hovermode": "closest",
          "mapbox": {
           "style": "dark"
          },
          "paper_bgcolor": "rgb(17,17,17)",
          "plot_bgcolor": "rgb(17,17,17)",
          "polar": {
           "angularaxis": {
            "gridcolor": "#506784",
            "linecolor": "#506784",
            "ticks": ""
           },
           "bgcolor": "rgb(17,17,17)",
           "radialaxis": {
            "gridcolor": "#506784",
            "linecolor": "#506784",
            "ticks": ""
           }
          },
          "scene": {
           "xaxis": {
            "backgroundcolor": "rgb(17,17,17)",
            "gridcolor": "#506784",
            "gridwidth": 2,
            "linecolor": "#506784",
            "showbackground": true,
            "ticks": "",
            "zerolinecolor": "#C8D4E3"
           },
           "yaxis": {
            "backgroundcolor": "rgb(17,17,17)",
            "gridcolor": "#506784",
            "gridwidth": 2,
            "linecolor": "#506784",
            "showbackground": true,
            "ticks": "",
            "zerolinecolor": "#C8D4E3"
           },
           "zaxis": {
            "backgroundcolor": "rgb(17,17,17)",
            "gridcolor": "#506784",
            "gridwidth": 2,
            "linecolor": "#506784",
            "showbackground": true,
            "ticks": "",
            "zerolinecolor": "#C8D4E3"
           }
          },
          "shapedefaults": {
           "line": {
            "color": "#f2f5fa"
           }
          },
          "sliderdefaults": {
           "bgcolor": "#C8D4E3",
           "bordercolor": "rgb(17,17,17)",
           "borderwidth": 1,
           "tickwidth": 0
          },
          "ternary": {
           "aaxis": {
            "gridcolor": "#506784",
            "linecolor": "#506784",
            "ticks": ""
           },
           "baxis": {
            "gridcolor": "#506784",
            "linecolor": "#506784",
            "ticks": ""
           },
           "bgcolor": "rgb(17,17,17)",
           "caxis": {
            "gridcolor": "#506784",
            "linecolor": "#506784",
            "ticks": ""
           }
          },
          "title": {
           "x": 0.05
          },
          "updatemenudefaults": {
           "bgcolor": "#506784",
           "borderwidth": 0
          },
          "xaxis": {
           "automargin": true,
           "gridcolor": "#283442",
           "linecolor": "#506784",
           "ticks": "",
           "title": {
            "standoff": 15
           },
           "zerolinecolor": "#283442",
           "zerolinewidth": 2
          },
          "yaxis": {
           "automargin": true,
           "gridcolor": "#283442",
           "linecolor": "#506784",
           "ticks": "",
           "title": {
            "standoff": 15
           },
           "zerolinecolor": "#283442",
           "zerolinewidth": 2
          }
         }
        },
        "title": {
         "text": "Timeline of mobility restrictions"
        },
        "xaxis": {
         "anchor": "y",
         "domain": [
          0,
          1
         ],
         "nticks": 20,
         "tickformat": "%b %y",
         "tickmode": "auto",
         "type": "date"
        },
        "yaxis": {
         "anchor": "x",
         "categoryarray": [
          "eat out to help out",
          "curfew",
          "rule of 6 indoors",
          "wfh",
          "household mixing indoors banned",
          "stay at home",
          "eating places closed",
          "shops closed",
          "pubs closed",
          "schools closed"
         ],
         "categoryorder": "array",
         "domain": [
          0,
          1
         ],
         "title": {
          "text": "Restriction"
         }
        }
       }
      },
      "text/html": [
       "<div>                            <div id=\"c4936701-0e7a-411c-aecd-8037907673dc\" class=\"plotly-graph-div\" style=\"height:525px; width:100%;\"></div>            <script type=\"text/javascript\">                require([\"plotly\"], function(Plotly) {                    window.PLOTLYENV=window.PLOTLYENV || {};                                    if (document.getElementById(\"c4936701-0e7a-411c-aecd-8037907673dc\")) {                    Plotly.newPlot(                        \"c4936701-0e7a-411c-aecd-8037907673dc\",                        [{\"alignmentgroup\": \"True\", \"base\": [\"2020-03-23\", \"2021-01-05\"], \"hovertemplate\": \"Restriction=%{y}<br>Start=%{base}<br>Finish=%{x}<extra></extra>\", \"legendgroup\": \"schools closed\", \"marker\": {\"color\": \"#636efa\"}, \"name\": \"schools closed\", \"offsetgroup\": \"schools closed\", \"orientation\": \"h\", \"showlegend\": true, \"textposition\": \"auto\", \"type\": \"bar\", \"x\": [5961600000.0, 5270400000.0], \"xaxis\": \"x\", \"y\": [\"schools closed\", \"schools closed\"], \"yaxis\": \"y\"}, {\"alignmentgroup\": \"True\", \"base\": [\"2020-03-21\", \"2020-11-05\", \"2020-12-16\"], \"hovertemplate\": \"Restriction=%{y}<br>Start=%{base}<br>Finish=%{x}<extra></extra>\", \"legendgroup\": \"pubs closed\", \"marker\": {\"color\": \"#EF553B\"}, \"name\": \"pubs closed\", \"offsetgroup\": \"pubs closed\", \"orientation\": \"h\", \"showlegend\": true, \"textposition\": \"auto\", \"type\": \"bar\", \"x\": [8899200000.0, 2246400000.0, 10627200000.0], \"xaxis\": \"x\", \"y\": [\"pubs closed\", \"pubs closed\", \"pubs closed\"], \"yaxis\": \"y\"}, {\"alignmentgroup\": \"True\", \"base\": [\"2020-03-24\", \"2020-11-05\", \"2020-12-20\"], \"hovertemplate\": \"Restriction=%{y}<br>Start=%{base}<br>Finish=%{x}<extra></extra>\", \"legendgroup\": \"shops closed\", \"marker\": {\"color\": \"#00cc96\"}, \"name\": \"shops closed\", \"offsetgroup\": \"shops closed\", \"orientation\": \"h\", \"showlegend\": true, \"textposition\": \"auto\", \"type\": \"bar\", \"x\": [7084800000.0, 2246400000.0, 10281600000.0], \"xaxis\": \"x\", \"y\": [\"shops closed\", \"shops closed\", \"shops closed\"], \"yaxis\": \"y\"}, {\"alignmentgroup\": \"True\", \"base\": [\"2020-03-21\", \"2020-11-05\", \"2020-12-16\"], \"hovertemplate\": \"Restriction=%{y}<br>Start=%{base}<br>Finish=%{x}<extra></extra>\", \"legendgroup\": \"eating places closed\", \"marker\": {\"color\": \"#ab63fa\"}, \"name\": \"eating places closed\", \"offsetgroup\": \"eating places closed\", \"orientation\": \"h\", \"showlegend\": true, \"textposition\": \"auto\", \"type\": \"bar\", \"x\": [8985600000.0, 2246400000.0, 10627200000.0], \"xaxis\": \"x\", \"y\": [\"eating places closed\", \"eating places closed\", \"eating places closed\"], \"yaxis\": \"y\"}, {\"alignmentgroup\": \"True\", \"base\": [\"2020-03-24\", \"2020-11-05\", \"2020-12-20\"], \"hovertemplate\": \"Restriction=%{y}<br>Start=%{base}<br>Finish=%{x}<extra></extra>\", \"legendgroup\": \"stay at home\", \"marker\": {\"color\": \"#FFA15A\"}, \"name\": \"stay at home\", \"offsetgroup\": \"stay at home\", \"orientation\": \"h\", \"showlegend\": true, \"textposition\": \"auto\", \"type\": \"bar\", \"x\": [4060800000.0, 2332800000.0, 8467200000.0], \"xaxis\": \"x\", \"y\": [\"stay at home\", \"stay at home\", \"stay at home\"], \"yaxis\": \"y\"}, {\"alignmentgroup\": \"True\", \"base\": [\"2020-03-24\", \"2020-10-17\"], \"hovertemplate\": \"Restriction=%{y}<br>Start=%{base}<br>Finish=%{x}<extra></extra>\", \"legendgroup\": \"household mixing indoors banned\", \"marker\": {\"color\": \"#19d3f3\"}, \"name\": \"household mixing indoors banned\", \"offsetgroup\": \"household mixing indoors banned\", \"orientation\": \"h\", \"showlegend\": true, \"textposition\": \"auto\", \"type\": \"bar\", \"x\": [8726400000.0, 15811200000.0], \"xaxis\": \"x\", \"y\": [\"household mixing indoors banned\", \"household mixing indoors banned\"], \"yaxis\": \"y\"}, {\"alignmentgroup\": \"True\", \"base\": [\"2020-03-17\", \"2020-09-22\"], \"hovertemplate\": \"Restriction=%{y}<br>Start=%{base}<br>Finish=%{x}<extra></extra>\", \"legendgroup\": \"wfh\", \"marker\": {\"color\": \"#FF6692\"}, \"name\": \"wfh\", \"offsetgroup\": \"wfh\", \"orientation\": \"h\", \"showlegend\": true, \"textposition\": \"auto\", \"type\": \"bar\", \"x\": [11750400000.0, 17971200000.0], \"xaxis\": \"x\", \"y\": [\"wfh\", \"wfh\"], \"yaxis\": \"y\"}, {\"alignmentgroup\": \"True\", \"base\": [\"2020-09-14\"], \"hovertemplate\": \"Restriction=%{y}<br>Start=%{base}<br>Finish=%{x}<extra></extra>\", \"legendgroup\": \"rule of 6 indoors\", \"marker\": {\"color\": \"#B6E880\"}, \"name\": \"rule of 6 indoors\", \"offsetgroup\": \"rule of 6 indoors\", \"orientation\": \"h\", \"showlegend\": true, \"textposition\": \"auto\", \"type\": \"bar\", \"x\": [2764800000.0], \"xaxis\": \"x\", \"y\": [\"rule of 6 indoors\"], \"yaxis\": \"y\"}, {\"alignmentgroup\": \"True\", \"base\": [\"2020-09-24\", \"2020-12-02\"], \"hovertemplate\": \"Restriction=%{y}<br>Start=%{base}<br>Finish=%{x}<extra></extra>\", \"legendgroup\": \"curfew\", \"marker\": {\"color\": \"#FF97FF\"}, \"name\": \"curfew\", \"offsetgroup\": \"curfew\", \"orientation\": \"h\", \"showlegend\": true, \"textposition\": \"auto\", \"type\": \"bar\", \"x\": [3542400000.0, 1123200000.0], \"xaxis\": \"x\", \"y\": [\"curfew\", \"curfew\"], \"yaxis\": \"y\"}, {\"alignmentgroup\": \"True\", \"base\": [\"2020-08-03\"], \"hovertemplate\": \"Restriction=%{y}<br>Start=%{base}<br>Finish=%{x}<extra></extra>\", \"legendgroup\": \"eat out to help out\", \"marker\": {\"color\": \"#FECB52\"}, \"name\": \"eat out to help out\", \"offsetgroup\": \"eat out to help out\", \"orientation\": \"h\", \"showlegend\": true, \"textposition\": \"auto\", \"type\": \"bar\", \"x\": [2332800000.0], \"xaxis\": \"x\", \"y\": [\"eat out to help out\"], \"yaxis\": \"y\"}],                        {\"barmode\": \"overlay\", \"legend\": {\"title\": {\"text\": \"Restriction\"}, \"tracegroupgap\": 0}, \"paper_bgcolor\": \"rgba(0, 0, 0, 0)\", \"plot_bgcolor\": \"rgba(0, 0, 0, 0)\", \"showlegend\": false, \"template\": {\"data\": {\"bar\": [{\"error_x\": {\"color\": \"#f2f5fa\"}, \"error_y\": {\"color\": \"#f2f5fa\"}, \"marker\": {\"line\": {\"color\": \"rgb(17,17,17)\", \"width\": 0.5}}, \"type\": \"bar\"}], \"barpolar\": [{\"marker\": {\"line\": {\"color\": \"rgb(17,17,17)\", \"width\": 0.5}}, \"type\": \"barpolar\"}], \"carpet\": [{\"aaxis\": {\"endlinecolor\": \"#A2B1C6\", \"gridcolor\": \"#506784\", \"linecolor\": \"#506784\", \"minorgridcolor\": \"#506784\", \"startlinecolor\": \"#A2B1C6\"}, \"baxis\": {\"endlinecolor\": \"#A2B1C6\", \"gridcolor\": \"#506784\", \"linecolor\": \"#506784\", \"minorgridcolor\": \"#506784\", \"startlinecolor\": \"#A2B1C6\"}, \"type\": \"carpet\"}], \"choropleth\": [{\"colorbar\": {\"outlinewidth\": 0, \"ticks\": \"\"}, \"type\": \"choropleth\"}], \"contour\": [{\"colorbar\": {\"outlinewidth\": 0, \"ticks\": \"\"}, \"colorscale\": [[0.0, \"#0d0887\"], [0.1111111111111111, \"#46039f\"], [0.2222222222222222, \"#7201a8\"], [0.3333333333333333, \"#9c179e\"], [0.4444444444444444, \"#bd3786\"], [0.5555555555555556, \"#d8576b\"], [0.6666666666666666, \"#ed7953\"], [0.7777777777777778, \"#fb9f3a\"], [0.8888888888888888, \"#fdca26\"], [1.0, \"#f0f921\"]], \"type\": \"contour\"}], \"contourcarpet\": [{\"colorbar\": {\"outlinewidth\": 0, \"ticks\": \"\"}, \"type\": \"contourcarpet\"}], \"heatmap\": [{\"colorbar\": {\"outlinewidth\": 0, \"ticks\": \"\"}, \"colorscale\": [[0.0, \"#0d0887\"], [0.1111111111111111, \"#46039f\"], [0.2222222222222222, \"#7201a8\"], [0.3333333333333333, \"#9c179e\"], [0.4444444444444444, \"#bd3786\"], [0.5555555555555556, \"#d8576b\"], [0.6666666666666666, \"#ed7953\"], [0.7777777777777778, \"#fb9f3a\"], [0.8888888888888888, \"#fdca26\"], [1.0, \"#f0f921\"]], \"type\": \"heatmap\"}], \"heatmapgl\": [{\"colorbar\": {\"outlinewidth\": 0, \"ticks\": \"\"}, \"colorscale\": [[0.0, \"#0d0887\"], [0.1111111111111111, \"#46039f\"], [0.2222222222222222, \"#7201a8\"], [0.3333333333333333, \"#9c179e\"], [0.4444444444444444, \"#bd3786\"], [0.5555555555555556, \"#d8576b\"], [0.6666666666666666, \"#ed7953\"], [0.7777777777777778, \"#fb9f3a\"], [0.8888888888888888, \"#fdca26\"], [1.0, \"#f0f921\"]], \"type\": \"heatmapgl\"}], \"histogram\": [{\"marker\": {\"colorbar\": {\"outlinewidth\": 0, \"ticks\": \"\"}}, \"type\": \"histogram\"}], \"histogram2d\": [{\"colorbar\": {\"outlinewidth\": 0, \"ticks\": \"\"}, \"colorscale\": [[0.0, \"#0d0887\"], [0.1111111111111111, \"#46039f\"], [0.2222222222222222, \"#7201a8\"], [0.3333333333333333, \"#9c179e\"], [0.4444444444444444, \"#bd3786\"], [0.5555555555555556, \"#d8576b\"], [0.6666666666666666, \"#ed7953\"], [0.7777777777777778, \"#fb9f3a\"], [0.8888888888888888, \"#fdca26\"], [1.0, \"#f0f921\"]], \"type\": \"histogram2d\"}], \"histogram2dcontour\": [{\"colorbar\": {\"outlinewidth\": 0, \"ticks\": \"\"}, \"colorscale\": [[0.0, \"#0d0887\"], [0.1111111111111111, \"#46039f\"], [0.2222222222222222, \"#7201a8\"], [0.3333333333333333, \"#9c179e\"], [0.4444444444444444, \"#bd3786\"], [0.5555555555555556, \"#d8576b\"], [0.6666666666666666, \"#ed7953\"], [0.7777777777777778, \"#fb9f3a\"], [0.8888888888888888, \"#fdca26\"], [1.0, \"#f0f921\"]], \"type\": \"histogram2dcontour\"}], \"mesh3d\": [{\"colorbar\": {\"outlinewidth\": 0, \"ticks\": \"\"}, \"type\": \"mesh3d\"}], \"parcoords\": [{\"line\": {\"colorbar\": {\"outlinewidth\": 0, \"ticks\": \"\"}}, \"type\": \"parcoords\"}], \"pie\": [{\"automargin\": true, \"type\": \"pie\"}], \"scatter\": [{\"marker\": {\"line\": {\"color\": \"#283442\"}}, \"type\": \"scatter\"}], \"scatter3d\": [{\"line\": {\"colorbar\": {\"outlinewidth\": 0, \"ticks\": \"\"}}, \"marker\": {\"colorbar\": {\"outlinewidth\": 0, \"ticks\": \"\"}}, \"type\": \"scatter3d\"}], \"scattercarpet\": [{\"marker\": {\"colorbar\": {\"outlinewidth\": 0, \"ticks\": \"\"}}, \"type\": \"scattercarpet\"}], \"scattergeo\": [{\"marker\": {\"colorbar\": {\"outlinewidth\": 0, \"ticks\": \"\"}}, \"type\": \"scattergeo\"}], \"scattergl\": [{\"marker\": {\"line\": {\"color\": \"#283442\"}}, \"type\": \"scattergl\"}], \"scattermapbox\": [{\"marker\": {\"colorbar\": {\"outlinewidth\": 0, \"ticks\": \"\"}}, \"type\": \"scattermapbox\"}], \"scatterpolar\": [{\"marker\": {\"colorbar\": {\"outlinewidth\": 0, \"ticks\": \"\"}}, \"type\": \"scatterpolar\"}], \"scatterpolargl\": [{\"marker\": {\"colorbar\": {\"outlinewidth\": 0, \"ticks\": \"\"}}, \"type\": \"scatterpolargl\"}], \"scatterternary\": [{\"marker\": {\"colorbar\": {\"outlinewidth\": 0, \"ticks\": \"\"}}, \"type\": \"scatterternary\"}], \"surface\": [{\"colorbar\": {\"outlinewidth\": 0, \"ticks\": \"\"}, \"colorscale\": [[0.0, \"#0d0887\"], [0.1111111111111111, \"#46039f\"], [0.2222222222222222, \"#7201a8\"], [0.3333333333333333, \"#9c179e\"], [0.4444444444444444, \"#bd3786\"], [0.5555555555555556, \"#d8576b\"], [0.6666666666666666, \"#ed7953\"], [0.7777777777777778, \"#fb9f3a\"], [0.8888888888888888, \"#fdca26\"], [1.0, \"#f0f921\"]], \"type\": \"surface\"}], \"table\": [{\"cells\": {\"fill\": {\"color\": \"#506784\"}, \"line\": {\"color\": \"rgb(17,17,17)\"}}, \"header\": {\"fill\": {\"color\": \"#2a3f5f\"}, \"line\": {\"color\": \"rgb(17,17,17)\"}}, \"type\": \"table\"}]}, \"layout\": {\"annotationdefaults\": {\"arrowcolor\": \"#f2f5fa\", \"arrowhead\": 0, \"arrowwidth\": 1}, \"autotypenumbers\": \"strict\", \"coloraxis\": {\"colorbar\": {\"outlinewidth\": 0, \"ticks\": \"\"}}, \"colorscale\": {\"diverging\": [[0, \"#8e0152\"], [0.1, \"#c51b7d\"], [0.2, \"#de77ae\"], [0.3, \"#f1b6da\"], [0.4, \"#fde0ef\"], [0.5, \"#f7f7f7\"], [0.6, \"#e6f5d0\"], [0.7, \"#b8e186\"], [0.8, \"#7fbc41\"], [0.9, \"#4d9221\"], [1, \"#276419\"]], \"sequential\": [[0.0, \"#0d0887\"], [0.1111111111111111, \"#46039f\"], [0.2222222222222222, \"#7201a8\"], [0.3333333333333333, \"#9c179e\"], [0.4444444444444444, \"#bd3786\"], [0.5555555555555556, \"#d8576b\"], [0.6666666666666666, \"#ed7953\"], [0.7777777777777778, \"#fb9f3a\"], [0.8888888888888888, \"#fdca26\"], [1.0, \"#f0f921\"]], \"sequentialminus\": [[0.0, \"#0d0887\"], [0.1111111111111111, \"#46039f\"], [0.2222222222222222, \"#7201a8\"], [0.3333333333333333, \"#9c179e\"], [0.4444444444444444, \"#bd3786\"], [0.5555555555555556, \"#d8576b\"], [0.6666666666666666, \"#ed7953\"], [0.7777777777777778, \"#fb9f3a\"], [0.8888888888888888, \"#fdca26\"], [1.0, \"#f0f921\"]]}, \"colorway\": [\"#636efa\", \"#EF553B\", \"#00cc96\", \"#ab63fa\", \"#FFA15A\", \"#19d3f3\", \"#FF6692\", \"#B6E880\", \"#FF97FF\", \"#FECB52\"], \"font\": {\"color\": \"#f2f5fa\"}, \"geo\": {\"bgcolor\": \"rgb(17,17,17)\", \"lakecolor\": \"rgb(17,17,17)\", \"landcolor\": \"rgb(17,17,17)\", \"showlakes\": true, \"showland\": true, \"subunitcolor\": \"#506784\"}, \"hoverlabel\": {\"align\": \"left\"}, \"hovermode\": \"closest\", \"mapbox\": {\"style\": \"dark\"}, \"paper_bgcolor\": \"rgb(17,17,17)\", \"plot_bgcolor\": \"rgb(17,17,17)\", \"polar\": {\"angularaxis\": {\"gridcolor\": \"#506784\", \"linecolor\": \"#506784\", \"ticks\": \"\"}, \"bgcolor\": \"rgb(17,17,17)\", \"radialaxis\": {\"gridcolor\": \"#506784\", \"linecolor\": \"#506784\", \"ticks\": \"\"}}, \"scene\": {\"xaxis\": {\"backgroundcolor\": \"rgb(17,17,17)\", \"gridcolor\": \"#506784\", \"gridwidth\": 2, \"linecolor\": \"#506784\", \"showbackground\": true, \"ticks\": \"\", \"zerolinecolor\": \"#C8D4E3\"}, \"yaxis\": {\"backgroundcolor\": \"rgb(17,17,17)\", \"gridcolor\": \"#506784\", \"gridwidth\": 2, \"linecolor\": \"#506784\", \"showbackground\": true, \"ticks\": \"\", \"zerolinecolor\": \"#C8D4E3\"}, \"zaxis\": {\"backgroundcolor\": \"rgb(17,17,17)\", \"gridcolor\": \"#506784\", \"gridwidth\": 2, \"linecolor\": \"#506784\", \"showbackground\": true, \"ticks\": \"\", \"zerolinecolor\": \"#C8D4E3\"}}, \"shapedefaults\": {\"line\": {\"color\": \"#f2f5fa\"}}, \"sliderdefaults\": {\"bgcolor\": \"#C8D4E3\", \"bordercolor\": \"rgb(17,17,17)\", \"borderwidth\": 1, \"tickwidth\": 0}, \"ternary\": {\"aaxis\": {\"gridcolor\": \"#506784\", \"linecolor\": \"#506784\", \"ticks\": \"\"}, \"baxis\": {\"gridcolor\": \"#506784\", \"linecolor\": \"#506784\", \"ticks\": \"\"}, \"bgcolor\": \"rgb(17,17,17)\", \"caxis\": {\"gridcolor\": \"#506784\", \"linecolor\": \"#506784\", \"ticks\": \"\"}}, \"title\": {\"x\": 0.05}, \"updatemenudefaults\": {\"bgcolor\": \"#506784\", \"borderwidth\": 0}, \"xaxis\": {\"automargin\": true, \"gridcolor\": \"#283442\", \"linecolor\": \"#506784\", \"ticks\": \"\", \"title\": {\"standoff\": 15}, \"zerolinecolor\": \"#283442\", \"zerolinewidth\": 2}, \"yaxis\": {\"automargin\": true, \"gridcolor\": \"#283442\", \"linecolor\": \"#506784\", \"ticks\": \"\", \"title\": {\"standoff\": 15}, \"zerolinecolor\": \"#283442\", \"zerolinewidth\": 2}}}, \"title\": {\"text\": \"Timeline of mobility restrictions\"}, \"xaxis\": {\"anchor\": \"y\", \"domain\": [0.0, 1.0], \"nticks\": 20, \"tickformat\": \"%b %y\", \"tickmode\": \"auto\", \"type\": \"date\"}, \"yaxis\": {\"anchor\": \"x\", \"categoryarray\": [\"eat out to help out\", \"curfew\", \"rule of 6 indoors\", \"wfh\", \"household mixing indoors banned\", \"stay at home\", \"eating places closed\", \"shops closed\", \"pubs closed\", \"schools closed\"], \"categoryorder\": \"array\", \"domain\": [0.0, 1.0], \"title\": {\"text\": \"Restriction\"}}},                        {\"responsive\": true}                    ).then(function(){\n",
       "                            \n",
       "var gd = document.getElementById('c4936701-0e7a-411c-aecd-8037907673dc');\n",
       "var x = new MutationObserver(function (mutations, observer) {{\n",
       "        var display = window.getComputedStyle(gd).display;\n",
       "        if (!display || display === 'none') {{\n",
       "            console.log([gd, 'removed!']);\n",
       "            Plotly.purge(gd);\n",
       "            observer.disconnect();\n",
       "        }}\n",
       "}});\n",
       "\n",
       "// Listen for the removal of the full notebook cells\n",
       "var notebookContainer = gd.closest('#notebook-container');\n",
       "if (notebookContainer) {{\n",
       "    x.observe(notebookContainer, {childList: true});\n",
       "}}\n",
       "\n",
       "// Listen for the clearing of the current output cell\n",
       "var outputEl = gd.closest('.output');\n",
       "if (outputEl) {{\n",
       "    x.observe(outputEl, {childList: true});\n",
       "}}\n",
       "\n",
       "                        })                };                });            </script>        </div>"
      ]
     },
     "metadata": {},
     "output_type": "display_data"
    }
   ],
   "source": [
    "# Create dataset using the restrictions dataset\n",
    "df = pd.DataFrame([\n",
    "    dict(Task='schools_closed_0', Start='2020-03-23', Finish='2020-05-31', Resource='schools closed'),\n",
    "    dict(Task='pubs_closed_0',  Start='2020-03-21',Finish='2020-07-02', Resource='pubs closed'),\n",
    "    dict(Task='shops_closed_0',  Start='2020-03-24',Finish='2020-06-14', Resource='shops closed'),\n",
    "    dict(Task='eating_places_closed_0',  Start='2020-03-21',Finish='2020-07-03', Resource='eating places closed'),\n",
    "    dict(Task='schools_closed_1',  Start='2021-01-05',Finish='2021-03-07', Resource='schools closed'),\n",
    "    dict(Task='pubs_closed_1',  Start='2020-11-05',Finish='2020-12-01', Resource='pubs closed'),\n",
    "    dict(Task='shops_closed_1',  Start='2020-11-05',Finish='2020-12-01', Resource='shops closed'),\n",
    "    dict(Task='eating_places_closed_1',  Start='2020-11-05',Finish='2020-12-01', Resource='eating places closed'),\n",
    "    dict(Task='pubs_closed_2',  Start='2020-12-16',Finish='2021-04-18', Resource='pubs closed'),\n",
    "    dict(Task='shops_closed_2',  Start='2020-12-20',Finish='2021-04-18', Resource='shops closed'),\n",
    "    dict(Task='eating_places_closed_2',  Start='2020-12-16', Finish='2021-04-18', Resource='eating places closed'),\n",
    "    dict(Task='stay_at_home_0',  Start='2020-03-24', Finish='2020-05-10', Resource='stay at home'),\n",
    "    dict(Task='stay_at_home_1',  Start='2020-11-05',Finish='2020-12-02', Resource='stay at home'),\n",
    "    dict(Task='stay_at_home_2',  Start='2020-12-20', Finish='2021-03-28', Resource='stay at home'),\n",
    "    dict(Task='household_mixing_indoors_banned_0',  Start='2020-03-24', Finish='2020-07-03', Resource='household mixing indoors banned'),\n",
    "    dict(Task='household_mixing_indoors_banned_1',  Start='2020-10-17', Finish='2021-04-18', Resource='household mixing indoors banned'),\n",
    "    dict(Task='wfh_0',  Start='2020-03-17', Finish='2020-07-31', Resource='wfh'),\n",
    "    dict(Task='wfh_1',  Start='2020-09-22', Finish='2021-04-18', Resource='wfh'),\n",
    "    dict(Task='rule_of_6_indoors_0',  Start='2020-09-14', Finish='2020-10-16', Resource='rule of 6 indoors'),\n",
    "    dict(Task='curfew_0',  Start='2020-09-24', Finish='2020-11-04', Resource='curfew'),\n",
    "    dict(Task='curfew_1',  Start='2020-12-02', Finish='2020-12-15', Resource='curfew'),\n",
    "    dict(Task='eat_out_to_help_out_0',  Start='2020-08-03',Finish='2020-08-30', Resource='eat out to help out'),\n",
    "])\n",
    "\n",
    "# Plot timeline of restrictions using plotly\n",
    "fig = px.timeline(df, x_start=\"Start\", x_end=\"Finish\",\n",
    "                  y=\"Resource\", color=\"Resource\", labels={\n",
    "                     \"Start\": \"Start\",\n",
    "                     \"Finish\": \"Finish\",\n",
    "                     \"Resource\": \"Restriction\"\n",
    "                 },\n",
    "                title=\"Timeline of mobility restrictions\", template='plotly_dark')\n",
    "fig.update_xaxes(\n",
    "    tickmode = 'auto',\n",
    "    nticks =  20,\n",
    "    tickformat=\"%b %y\")\n",
    "\n",
    "\n",
    "fig.update_layout(showlegend=False, plot_bgcolor = 'rgba(0, 0, 0, 0)', paper_bgcolor = 'rgba(0, 0, 0, 0)' )\n",
    "\n",
    "\n",
    "fig.show()\n",
    "fig.write_html(\"data/timeline_restrictions.html\")"
   ]
  },
  {
   "cell_type": "markdown",
   "metadata": {},
   "source": [
    "### Mobility infrastructure of london"
   ]
  },
  {
   "cell_type": "code",
   "execution_count": 305,
   "metadata": {},
   "outputs": [],
   "source": [
    "# Obtain number of bus stops per borough, number of docking stations per borough, number of tfl stops per borough\n",
    "    \n",
    "with open('datasets/london_boroughs.geojson') as f:\n",
    "    london = geojson.load(f)\n",
    "    \n",
    "with open('datasets/stops_with_lat_longs.geojson') as f:\n",
    "    stops = geojson.load(f)\n",
    "    \n",
    "with open('datasets/cycle_hire_locations.geojson') as f:\n",
    "    stations = geojson.load(f)   \n",
    "\n",
    "with open('datasets/tfl.geojson') as f:\n",
    "    tfl = geojson.load(f)   \n",
    "    \n",
    "        \n",
    "# Transform coordenates to Points\n",
    "bus_points = []\n",
    "for i in range(len(stops['features'])):\n",
    "    bus_points.append(Point(stops['features'][i]['geometry']['coordinates']\n",
    "                  [0], stops['features'][i]['geometry']['coordinates'][1]))\n",
    "\n",
    "docking_points = []\n",
    "for i in range(len(stations['features'])):\n",
    "    docking_points.append(Point(stations['features'][i]['properties']['longitude'],\n",
    "                   stations['features'][i]['properties']['latitude']))\n",
    "    \n",
    "tfl_points = []\n",
    "for i in range(len(tfl['features'])):\n",
    "     tfl_points.append(Point(tfl['features'][i]['geometry']['coordinates']\n",
    "                  [0], tfl['features'][i]['geometry']['coordinates'][1]))\n",
    "\n",
    "# Check if borough contains each point        \n",
    "for feature in london['features']:\n",
    "    polygon = shape(feature['geometry'])\n",
    "    feature['properties']['stops_counter']  = 0\n",
    "    feature['properties']['docking_counter']  = 0\n",
    "    feature['properties']['tfl_counter']  = 0\n",
    "    \n",
    "    # Count stops\n",
    "    for point in bus_points:\n",
    "        if polygon.contains(point):\n",
    "            feature['properties']['stops_counter'] +=1\n",
    "            \n",
    "    # Count docking stations       \n",
    "    for point in docking_points:\n",
    "        if polygon.contains(point):\n",
    "            feature['properties']['docking_counter'] +=1\n",
    "            \n",
    "    # Count docking stations       \n",
    "    for point in tfl_points:\n",
    "        if polygon.contains(point):\n",
    "            feature['properties']['tfl_counter'] +=1\n",
    "            \n",
    "with open('datasets/london_stops.geojson', 'w') as f:\n",
    "    json.dump(london, f)            "
   ]
  },
  {
   "cell_type": "markdown",
   "metadata": {},
   "source": [
    "#### Bus"
   ]
  },
  {
   "cell_type": "code",
   "execution_count": 306,
   "metadata": {},
   "outputs": [],
   "source": [
    "# Plot Bus Stops per Borough\n",
    "\n",
    "with open('datasets/london_stops.geojson') as f:\n",
    "    london_source = GeoJSONDataSource(geojson=f.read())\n",
    "\n",
    "\n",
    "# Define color mapper    \n",
    "color_mapper = LinearColorMapper(palette=Viridis11, low=0, high=1200)\n",
    "\n",
    "TOOLS = \"pan,wheel_zoom,box_zoom,reset,hover,save\"\n",
    "\n",
    "curdoc().theme = 'night_sky'\n",
    "\n",
    "p = figure(title=\"Number of bus stops per borough\", tools=TOOLS, x_axis_location=None,\n",
    "           y_axis_location=None, width=600, height=400)\n",
    "p.grid.grid_line_color = None\n",
    "\n",
    "\n",
    "# Plot map of Greater London\n",
    "p.patches('xs', 'ys', source=london_source,\n",
    "          fill_color={'field': 'stops_counter', 'transform': color_mapper},\n",
    "          fill_alpha=1.0, line_color=\"black\", line_width=0.5)\n",
    "\n",
    "# Add legend\n",
    "color_bar = ColorBar(color_mapper=color_mapper, label_standoff=12, location=(0,0))\n",
    "\n",
    "p.add_layout(color_bar, 'right')\n",
    "\n",
    "p.background_fill_alpha = 0.0\n",
    "p.border_fill_alpha = 0.0\n",
    "color_bar.background_fill_alpha = 0.0\n",
    "\n",
    "\n",
    "hover = p.select_one(HoverTool)\n",
    "hover.point_policy = \"follow_mouse\"\n",
    "hover.tooltips = [(\"Borough\", \"@name\"), (\"Number of stops\", \"@stops_counter\")]\n",
    "\n",
    "output_file(\"data/London_bus_stops.html\", title=\"Number of bus stops per borough\")\n",
    "\n",
    "show(p)"
   ]
  },
  {
   "cell_type": "markdown",
   "metadata": {},
   "source": [
    "#### Cycle"
   ]
  },
  {
   "cell_type": "code",
   "execution_count": 307,
   "metadata": {},
   "outputs": [],
   "source": [
    "# Plot cycle hire docking stations per Borough\n",
    "\n",
    "with open('datasets/london_stops.geojson') as f:\n",
    "    london_source = GeoJSONDataSource(geojson=f.read())\n",
    "\n",
    "# Define color mapper       \n",
    "color_mapper = LinearColorMapper(palette=Viridis11, low=0, high=200)\n",
    "\n",
    "TOOLS = \"pan,wheel_zoom,box_zoom,reset,hover,save\"\n",
    "\n",
    "curdoc().theme = 'night_sky'\n",
    "\n",
    "p = figure(title=\"Number of Santander Cycle Hire docking stations per borough\", tools=TOOLS, x_axis_location=None,\n",
    "           y_axis_location=None, width=600, height=400)\n",
    "p.grid.grid_line_color = None\n",
    "\n",
    "\n",
    "# Plot map of Greater London\n",
    "p.patches('xs', 'ys', source=london_source,\n",
    "          fill_color={'field': 'docking_counter', 'transform': color_mapper},\n",
    "          fill_alpha=1.0, line_color=\"black\", line_width=0.5)\n",
    "\n",
    "\n",
    "color_bar = ColorBar(color_mapper=color_mapper, label_standoff=12, location=(0,0))\n",
    "\n",
    "p.add_layout(color_bar, 'right')\n",
    "\n",
    "p.background_fill_alpha = 0.0\n",
    "p.border_fill_alpha = 0.0\n",
    "color_bar.background_fill_alpha = 0.0\n",
    "\n",
    "hover = p.select_one(HoverTool)\n",
    "hover.point_policy = \"follow_mouse\"\n",
    "hover.tooltips = [(\"Borough\", \"@name\"), (\"Number of docking stations\", \"@docking_counter\")]\n",
    "\n",
    "output_file(\"data/London_docking_stations.html\", title=\"Number of bus stops per borough\")\n",
    "\n",
    "show(p)"
   ]
  },
  {
   "cell_type": "code",
   "execution_count": 308,
   "metadata": {},
   "outputs": [],
   "source": [
    "# Plot number of cycle hires\n",
    "\n",
    "cycle_hires = pd.read_excel('datasets/tfl-daily-cycle-hires.xlsx', sheet_name='Data')\n",
    "\n",
    "\n",
    "cycle_hires = cycle_hires.loc[cycle_hires['Day']>'2017-01-01']\n",
    "\n",
    "curdoc().theme = 'night_sky'\n",
    "\n",
    "p = figure(plot_height=300, plot_width=800, tools=\"xpan\", toolbar_location=None,\n",
    "           x_axis_type=\"datetime\", x_range=(datetime.datetime(2017,1,1), datetime.datetime(2021, 4, 1)))\n",
    "\n",
    "p.circle(cycle_hires['Day'], cycle_hires['Number of Bicycle Hires'])\n",
    "\n",
    "p.yaxis.axis_label = 'Bicycle Hires'\n",
    "\n",
    "\n",
    "\n",
    "\n",
    "\n",
    "select = figure(title=\"Drag the middle and edges of the selection box to change the date range above\",\n",
    "                plot_height=100, plot_width=800, y_range=p.y_range,\n",
    "                x_axis_type=\"datetime\", y_axis_type=None,\n",
    "                tools=\"\", toolbar_location=None)\n",
    "\n",
    "\n",
    "\n",
    "p.background_fill_alpha = 0.0\n",
    "p.border_fill_alpha = 0.0\n",
    "select.background_fill_alpha = 0.0\n",
    "select.border_fill_alpha = 0.0\n",
    "\n",
    "\n",
    "range_tool = RangeTool(x_range=p.x_range)\n",
    "range_tool.overlay.fill_color = \"navy\"\n",
    "range_tool.overlay.fill_alpha = 0.2\n",
    "\n",
    "select.line(cycle_hires['Day'], cycle_hires['Number of Bicycle Hires'])\n",
    "select.ygrid.grid_line_color = None\n",
    "select.add_tools(range_tool)\n",
    "select.toolbar.active_multi = range_tool\n",
    "\n",
    "show(column(p, select))\n",
    "\n",
    "output_file(\"data/CycleHires.html\")"
   ]
  },
  {
   "cell_type": "code",
   "execution_count": 309,
   "metadata": {},
   "outputs": [],
   "source": [
    "# Plot cycle routes\n",
    "with open('datasets/london_boroughs.geojson') as f:\n",
    "    london_source = GeoJSONDataSource(geojson=f.read())\n",
    "\n",
    "with open('datasets/CycleRoutes.geojson') as f:\n",
    "    cycle_source = GeoJSONDataSource(geojson=f.read())\n",
    "\n",
    "    \n",
    "with open('datasets/cycle_hire_locations.geojson') as f:\n",
    "    docking_source = GeoJSONDataSource(geojson=f.read())\n",
    "\n",
    "\n",
    "TOOLS = \"pan,wheel_zoom,box_zoom,reset,hover,save\"\n",
    "\n",
    "p = figure(title=\"Cycle Routes\", tools=TOOLS, x_axis_location=None,\n",
    "           y_axis_location=None, width=600, height=400)\n",
    "p.grid.grid_line_color = None\n",
    "\n",
    "\n",
    "# Plot map of Greater London\n",
    "p.patches('xs', 'ys', source=london_source,\n",
    "          fill_color=Viridis6[0],\n",
    "          fill_alpha=0.5, line_color=\"black\", line_width=0.5)\n",
    "\n",
    "# Plot cycle routes on top\n",
    "p.multi_line('xs', 'ys', source=cycle_source, line_alpha=1, line_color=Viridis6[5],\n",
    "             line_width=0.7)\n",
    "\n",
    "p.background_fill_alpha = 0.0\n",
    "p.border_fill_alpha = 0.0\n",
    "        \n",
    "hover = p.select_one(HoverTool)\n",
    "hover.point_policy = \"follow_mouse\"\n",
    "hover.tooltips = [(\"Borough\", \"@name\")]\n",
    "\n",
    "output_file(\"data/Cycle_Routes.html\", title=\"Cycle Routes\")\n",
    "\n",
    "show(p)"
   ]
  },
  {
   "cell_type": "markdown",
   "metadata": {},
   "source": [
    "#### TLF STATIONS (Tube, DLR, Overground, Tramlink, Emirates Air Line and Crossrail)"
   ]
  },
  {
   "cell_type": "code",
   "execution_count": 310,
   "metadata": {},
   "outputs": [],
   "source": [
    "# Plot TFL stations per Borough\n",
    "\n",
    "with open('datasets/london_stops.geojson') as f:\n",
    "    london_source = GeoJSONDataSource(geojson=f.read())\n",
    "\n",
    "# Define color mapper \n",
    "color_mapper = LinearColorMapper(palette=Viridis11, low=0, high=40)\n",
    "\n",
    "TOOLS = \"pan,wheel_zoom,box_zoom,reset,hover,save\"\n",
    "\n",
    "curdoc().theme = 'night_sky'\n",
    "\n",
    "p = figure(title=\"Number of TFL Stations per borough\", tools=TOOLS, x_axis_location=None,\n",
    "           y_axis_location=None, width=600, height=400)\n",
    "p.grid.grid_line_color = None\n",
    "\n",
    "\n",
    "# Plot map of Greater London\n",
    "p.patches('xs', 'ys', source=london_source,\n",
    "          fill_color={'field': 'tfl_counter', 'transform': color_mapper},\n",
    "          fill_alpha=1.0, line_color=\"black\", line_width=0.5)\n",
    "\n",
    "\n",
    "color_bar = ColorBar(color_mapper=color_mapper, label_standoff=12, location=(0,0))\n",
    "\n",
    "p.add_layout(color_bar, 'right')\n",
    "\n",
    "p.background_fill_alpha = 0.0\n",
    "p.border_fill_alpha = 0.0\n",
    "color_bar.background_fill_alpha = 0.0\n",
    "\n",
    "hover = p.select_one(HoverTool)\n",
    "hover.point_policy = \"follow_mouse\"\n",
    "hover.tooltips = [(\"Borough\", \"@name\"), (\"Number of TFL stations\", \"@tfl_counter\")]\n",
    "\n",
    "output_file(\"data/London_tfl_stations.html\", title=\"Number of TFL Stations per borough\")\n",
    "\n",
    "show(p)"
   ]
  },
  {
   "cell_type": "markdown",
   "metadata": {},
   "source": [
    "Maps made with folium - Google Mobility Data"
   ]
  },
  {
   "cell_type": "code",
   "execution_count": 314,
   "metadata": {},
   "outputs": [],
   "source": [
    "mobility = pd.read_csv('datasets/cleaned_sub_region_2_data.csv')"
   ]
  },
  {
   "cell_type": "markdown",
   "metadata": {},
   "source": [
    "Create a dataframe and fill for the first wave"
   ]
  },
  {
   "cell_type": "code",
   "execution_count": 315,
   "metadata": {},
   "outputs": [],
   "source": [
    "mobility_mean_first = pd.DataFrame(columns=['name', 'retail_and_recreation_percent_change_from_baseline_first', 'grocery_and_pharmacy_percent_change_from_baseline_first', 'parks_percent_change_from_baseline_first', 'transit_stations_percent_change_from_baseline_first', 'workplaces_percent_change_from_baseline_first', 'residential_percent_change_from_baseline_first'])"
   ]
  },
  {
   "cell_type": "code",
   "execution_count": 316,
   "metadata": {},
   "outputs": [],
   "source": [
    "for index, borough in enumerate(mobility.sub_region_2.unique()):\n",
    "    mask = ('2020-03-24' <= mobility['date']) & (mobility['date'] <= '2020-03-30' ) & (mobility['sub_region_2'] == borough)\n",
    "    borough_df = mobility.loc[mask]\n",
    "    mobility_mean_first.loc[index] = [\n",
    "        borough, \n",
    "        borough_df.retail_and_recreation_percent_change_from_baseline.mean(), \n",
    "        borough_df.grocery_and_pharmacy_percent_change_from_baseline.mean(), \n",
    "        borough_df.parks_percent_change_from_baseline.mean(), \n",
    "        borough_df.transit_stations_percent_change_from_baseline.mean(), \n",
    "        borough_df.workplaces_percent_change_from_baseline.mean(), \n",
    "        borough_df.residential_percent_change_from_baseline.mean()\n",
    "        ]"
   ]
  },
  {
   "cell_type": "code",
   "execution_count": 317,
   "metadata": {},
   "outputs": [
    {
     "data": {
      "text/html": [
       "<div>\n",
       "<style scoped>\n",
       "    .dataframe tbody tr th:only-of-type {\n",
       "        vertical-align: middle;\n",
       "    }\n",
       "\n",
       "    .dataframe tbody tr th {\n",
       "        vertical-align: top;\n",
       "    }\n",
       "\n",
       "    .dataframe thead th {\n",
       "        text-align: right;\n",
       "    }\n",
       "</style>\n",
       "<table border=\"1\" class=\"dataframe\">\n",
       "  <thead>\n",
       "    <tr style=\"text-align: right;\">\n",
       "      <th></th>\n",
       "      <th>name</th>\n",
       "      <th>retail_and_recreation_percent_change_from_baseline_first</th>\n",
       "      <th>grocery_and_pharmacy_percent_change_from_baseline_first</th>\n",
       "      <th>parks_percent_change_from_baseline_first</th>\n",
       "      <th>transit_stations_percent_change_from_baseline_first</th>\n",
       "      <th>workplaces_percent_change_from_baseline_first</th>\n",
       "      <th>residential_percent_change_from_baseline_first</th>\n",
       "    </tr>\n",
       "  </thead>\n",
       "  <tbody>\n",
       "    <tr>\n",
       "      <th>0</th>\n",
       "      <td>City of London</td>\n",
       "      <td>-95.142857</td>\n",
       "      <td>-80.714286</td>\n",
       "      <td>-90.571429</td>\n",
       "      <td>-91.000000</td>\n",
       "      <td>-83.200000</td>\n",
       "      <td>NaN</td>\n",
       "    </tr>\n",
       "    <tr>\n",
       "      <th>1</th>\n",
       "      <td>Westminster</td>\n",
       "      <td>-94.428571</td>\n",
       "      <td>-64.857143</td>\n",
       "      <td>-81.857143</td>\n",
       "      <td>-89.428571</td>\n",
       "      <td>-77.000000</td>\n",
       "      <td>35.000000</td>\n",
       "    </tr>\n",
       "    <tr>\n",
       "      <th>2</th>\n",
       "      <td>Barking and Dagenham</td>\n",
       "      <td>-69.000000</td>\n",
       "      <td>-30.000000</td>\n",
       "      <td>-1.571429</td>\n",
       "      <td>-60.857143</td>\n",
       "      <td>-61.571429</td>\n",
       "      <td>24.428571</td>\n",
       "    </tr>\n",
       "    <tr>\n",
       "      <th>3</th>\n",
       "      <td>Barnet</td>\n",
       "      <td>-75.714286</td>\n",
       "      <td>-28.142857</td>\n",
       "      <td>17.714286</td>\n",
       "      <td>-70.428571</td>\n",
       "      <td>-72.000000</td>\n",
       "      <td>29.428571</td>\n",
       "    </tr>\n",
       "    <tr>\n",
       "      <th>4</th>\n",
       "      <td>Bexley</td>\n",
       "      <td>-75.857143</td>\n",
       "      <td>-30.000000</td>\n",
       "      <td>-8.571429</td>\n",
       "      <td>-68.285714</td>\n",
       "      <td>-64.428571</td>\n",
       "      <td>26.000000</td>\n",
       "    </tr>\n",
       "    <tr>\n",
       "      <th>5</th>\n",
       "      <td>Brent</td>\n",
       "      <td>-74.857143</td>\n",
       "      <td>-30.285714</td>\n",
       "      <td>14.000000</td>\n",
       "      <td>-66.428571</td>\n",
       "      <td>-67.000000</td>\n",
       "      <td>27.571429</td>\n",
       "    </tr>\n",
       "    <tr>\n",
       "      <th>6</th>\n",
       "      <td>Bromley</td>\n",
       "      <td>-78.428571</td>\n",
       "      <td>-27.000000</td>\n",
       "      <td>-11.000000</td>\n",
       "      <td>-73.285714</td>\n",
       "      <td>-72.000000</td>\n",
       "      <td>28.428571</td>\n",
       "    </tr>\n",
       "    <tr>\n",
       "      <th>7</th>\n",
       "      <td>Camden</td>\n",
       "      <td>-89.571429</td>\n",
       "      <td>-58.571429</td>\n",
       "      <td>-42.428571</td>\n",
       "      <td>-88.000000</td>\n",
       "      <td>-78.857143</td>\n",
       "      <td>36.000000</td>\n",
       "    </tr>\n",
       "    <tr>\n",
       "      <th>8</th>\n",
       "      <td>Croydon</td>\n",
       "      <td>-79.857143</td>\n",
       "      <td>-27.714286</td>\n",
       "      <td>23.428571</td>\n",
       "      <td>-72.428571</td>\n",
       "      <td>-66.285714</td>\n",
       "      <td>27.285714</td>\n",
       "    </tr>\n",
       "    <tr>\n",
       "      <th>9</th>\n",
       "      <td>Ealing</td>\n",
       "      <td>-73.714286</td>\n",
       "      <td>-29.142857</td>\n",
       "      <td>3.000000</td>\n",
       "      <td>-70.714286</td>\n",
       "      <td>-68.000000</td>\n",
       "      <td>28.142857</td>\n",
       "    </tr>\n",
       "    <tr>\n",
       "      <th>10</th>\n",
       "      <td>Enfield</td>\n",
       "      <td>-71.857143</td>\n",
       "      <td>-31.428571</td>\n",
       "      <td>-1.428571</td>\n",
       "      <td>-65.142857</td>\n",
       "      <td>-64.000000</td>\n",
       "      <td>26.428571</td>\n",
       "    </tr>\n",
       "    <tr>\n",
       "      <th>11</th>\n",
       "      <td>Hackney</td>\n",
       "      <td>-78.571429</td>\n",
       "      <td>-27.285714</td>\n",
       "      <td>-4.000000</td>\n",
       "      <td>-76.285714</td>\n",
       "      <td>-72.857143</td>\n",
       "      <td>30.571429</td>\n",
       "    </tr>\n",
       "    <tr>\n",
       "      <th>12</th>\n",
       "      <td>Hammersmith and Fulham</td>\n",
       "      <td>-84.714286</td>\n",
       "      <td>-42.571429</td>\n",
       "      <td>-33.571429</td>\n",
       "      <td>-80.142857</td>\n",
       "      <td>-77.142857</td>\n",
       "      <td>36.600000</td>\n",
       "    </tr>\n",
       "    <tr>\n",
       "      <th>13</th>\n",
       "      <td>Haringey</td>\n",
       "      <td>-73.857143</td>\n",
       "      <td>-33.285714</td>\n",
       "      <td>4.285714</td>\n",
       "      <td>-71.428571</td>\n",
       "      <td>-73.428571</td>\n",
       "      <td>30.428571</td>\n",
       "    </tr>\n",
       "    <tr>\n",
       "      <th>14</th>\n",
       "      <td>Harrow</td>\n",
       "      <td>-79.428571</td>\n",
       "      <td>-34.000000</td>\n",
       "      <td>4.285714</td>\n",
       "      <td>-71.428571</td>\n",
       "      <td>-68.571429</td>\n",
       "      <td>28.000000</td>\n",
       "    </tr>\n",
       "    <tr>\n",
       "      <th>15</th>\n",
       "      <td>Havering</td>\n",
       "      <td>-77.714286</td>\n",
       "      <td>-30.857143</td>\n",
       "      <td>-25.714286</td>\n",
       "      <td>-70.142857</td>\n",
       "      <td>-65.142857</td>\n",
       "      <td>26.285714</td>\n",
       "    </tr>\n",
       "    <tr>\n",
       "      <th>16</th>\n",
       "      <td>Hillingdon</td>\n",
       "      <td>-75.142857</td>\n",
       "      <td>-32.142857</td>\n",
       "      <td>-3.142857</td>\n",
       "      <td>-74.000000</td>\n",
       "      <td>-65.000000</td>\n",
       "      <td>26.428571</td>\n",
       "    </tr>\n",
       "    <tr>\n",
       "      <th>17</th>\n",
       "      <td>Hounslow</td>\n",
       "      <td>-72.714286</td>\n",
       "      <td>-35.714286</td>\n",
       "      <td>-9.428571</td>\n",
       "      <td>-68.571429</td>\n",
       "      <td>-65.857143</td>\n",
       "      <td>26.714286</td>\n",
       "    </tr>\n",
       "    <tr>\n",
       "      <th>18</th>\n",
       "      <td>Islington</td>\n",
       "      <td>-86.142857</td>\n",
       "      <td>-37.571429</td>\n",
       "      <td>-29.857143</td>\n",
       "      <td>-84.000000</td>\n",
       "      <td>-79.571429</td>\n",
       "      <td>36.666667</td>\n",
       "    </tr>\n",
       "    <tr>\n",
       "      <th>19</th>\n",
       "      <td>Lambeth</td>\n",
       "      <td>-83.142857</td>\n",
       "      <td>-31.857143</td>\n",
       "      <td>-38.571429</td>\n",
       "      <td>-82.000000</td>\n",
       "      <td>-74.857143</td>\n",
       "      <td>33.000000</td>\n",
       "    </tr>\n",
       "    <tr>\n",
       "      <th>20</th>\n",
       "      <td>Lewisham</td>\n",
       "      <td>-70.142857</td>\n",
       "      <td>-25.000000</td>\n",
       "      <td>10.285714</td>\n",
       "      <td>-71.142857</td>\n",
       "      <td>-72.285714</td>\n",
       "      <td>30.142857</td>\n",
       "    </tr>\n",
       "    <tr>\n",
       "      <th>21</th>\n",
       "      <td>Merton</td>\n",
       "      <td>-80.428571</td>\n",
       "      <td>-30.285714</td>\n",
       "      <td>-10.285714</td>\n",
       "      <td>-75.714286</td>\n",
       "      <td>-70.142857</td>\n",
       "      <td>29.714286</td>\n",
       "    </tr>\n",
       "    <tr>\n",
       "      <th>22</th>\n",
       "      <td>Newham</td>\n",
       "      <td>-79.285714</td>\n",
       "      <td>-35.285714</td>\n",
       "      <td>-8.000000</td>\n",
       "      <td>-73.428571</td>\n",
       "      <td>-71.000000</td>\n",
       "      <td>28.142857</td>\n",
       "    </tr>\n",
       "    <tr>\n",
       "      <th>23</th>\n",
       "      <td>Redbridge</td>\n",
       "      <td>-71.428571</td>\n",
       "      <td>-30.571429</td>\n",
       "      <td>4.428571</td>\n",
       "      <td>-72.000000</td>\n",
       "      <td>-70.571429</td>\n",
       "      <td>27.571429</td>\n",
       "    </tr>\n",
       "    <tr>\n",
       "      <th>24</th>\n",
       "      <td>Richmond upon Thames</td>\n",
       "      <td>-79.428571</td>\n",
       "      <td>-32.857143</td>\n",
       "      <td>-11.428571</td>\n",
       "      <td>-76.142857</td>\n",
       "      <td>-76.142857</td>\n",
       "      <td>34.200000</td>\n",
       "    </tr>\n",
       "    <tr>\n",
       "      <th>25</th>\n",
       "      <td>Southwark</td>\n",
       "      <td>-80.428571</td>\n",
       "      <td>-42.428571</td>\n",
       "      <td>-51.857143</td>\n",
       "      <td>-80.142857</td>\n",
       "      <td>-74.428571</td>\n",
       "      <td>31.857143</td>\n",
       "    </tr>\n",
       "    <tr>\n",
       "      <th>26</th>\n",
       "      <td>Sutton</td>\n",
       "      <td>-79.428571</td>\n",
       "      <td>-34.571429</td>\n",
       "      <td>-16.428571</td>\n",
       "      <td>-72.285714</td>\n",
       "      <td>-65.285714</td>\n",
       "      <td>27.142857</td>\n",
       "    </tr>\n",
       "    <tr>\n",
       "      <th>27</th>\n",
       "      <td>Tower Hamlets</td>\n",
       "      <td>-84.428571</td>\n",
       "      <td>-42.000000</td>\n",
       "      <td>-60.571429</td>\n",
       "      <td>-79.714286</td>\n",
       "      <td>-79.714286</td>\n",
       "      <td>33.142857</td>\n",
       "    </tr>\n",
       "    <tr>\n",
       "      <th>28</th>\n",
       "      <td>Waltham Forest</td>\n",
       "      <td>-66.428571</td>\n",
       "      <td>-32.428571</td>\n",
       "      <td>-6.000000</td>\n",
       "      <td>-66.571429</td>\n",
       "      <td>-70.714286</td>\n",
       "      <td>28.571429</td>\n",
       "    </tr>\n",
       "    <tr>\n",
       "      <th>29</th>\n",
       "      <td>Wandsworth</td>\n",
       "      <td>-78.000000</td>\n",
       "      <td>-34.428571</td>\n",
       "      <td>-17.428571</td>\n",
       "      <td>-77.428571</td>\n",
       "      <td>-78.000000</td>\n",
       "      <td>34.000000</td>\n",
       "    </tr>\n",
       "    <tr>\n",
       "      <th>30</th>\n",
       "      <td>Greenwich</td>\n",
       "      <td>-79.142857</td>\n",
       "      <td>-28.714286</td>\n",
       "      <td>-30.000000</td>\n",
       "      <td>-69.857143</td>\n",
       "      <td>-68.428571</td>\n",
       "      <td>28.142857</td>\n",
       "    </tr>\n",
       "    <tr>\n",
       "      <th>31</th>\n",
       "      <td>Kensington and Chelsea</td>\n",
       "      <td>-87.714286</td>\n",
       "      <td>-41.142857</td>\n",
       "      <td>-38.428571</td>\n",
       "      <td>-82.857143</td>\n",
       "      <td>-74.857143</td>\n",
       "      <td>33.200000</td>\n",
       "    </tr>\n",
       "    <tr>\n",
       "      <th>32</th>\n",
       "      <td>Kingston upon Thames</td>\n",
       "      <td>-82.142857</td>\n",
       "      <td>-37.285714</td>\n",
       "      <td>-1.500000</td>\n",
       "      <td>-77.142857</td>\n",
       "      <td>-72.142857</td>\n",
       "      <td>31.333333</td>\n",
       "    </tr>\n",
       "  </tbody>\n",
       "</table>\n",
       "</div>"
      ],
      "text/plain": [
       "                      name  \\\n",
       "0           City of London   \n",
       "1              Westminster   \n",
       "2     Barking and Dagenham   \n",
       "3                   Barnet   \n",
       "4                   Bexley   \n",
       "5                    Brent   \n",
       "6                  Bromley   \n",
       "7                   Camden   \n",
       "8                  Croydon   \n",
       "9                   Ealing   \n",
       "10                 Enfield   \n",
       "11                 Hackney   \n",
       "12  Hammersmith and Fulham   \n",
       "13                Haringey   \n",
       "14                  Harrow   \n",
       "15                Havering   \n",
       "16              Hillingdon   \n",
       "17                Hounslow   \n",
       "18               Islington   \n",
       "19                 Lambeth   \n",
       "20                Lewisham   \n",
       "21                  Merton   \n",
       "22                  Newham   \n",
       "23               Redbridge   \n",
       "24    Richmond upon Thames   \n",
       "25               Southwark   \n",
       "26                  Sutton   \n",
       "27           Tower Hamlets   \n",
       "28          Waltham Forest   \n",
       "29              Wandsworth   \n",
       "30               Greenwich   \n",
       "31  Kensington and Chelsea   \n",
       "32    Kingston upon Thames   \n",
       "\n",
       "    retail_and_recreation_percent_change_from_baseline_first  \\\n",
       "0                                          -95.142857          \n",
       "1                                          -94.428571          \n",
       "2                                          -69.000000          \n",
       "3                                          -75.714286          \n",
       "4                                          -75.857143          \n",
       "5                                          -74.857143          \n",
       "6                                          -78.428571          \n",
       "7                                          -89.571429          \n",
       "8                                          -79.857143          \n",
       "9                                          -73.714286          \n",
       "10                                         -71.857143          \n",
       "11                                         -78.571429          \n",
       "12                                         -84.714286          \n",
       "13                                         -73.857143          \n",
       "14                                         -79.428571          \n",
       "15                                         -77.714286          \n",
       "16                                         -75.142857          \n",
       "17                                         -72.714286          \n",
       "18                                         -86.142857          \n",
       "19                                         -83.142857          \n",
       "20                                         -70.142857          \n",
       "21                                         -80.428571          \n",
       "22                                         -79.285714          \n",
       "23                                         -71.428571          \n",
       "24                                         -79.428571          \n",
       "25                                         -80.428571          \n",
       "26                                         -79.428571          \n",
       "27                                         -84.428571          \n",
       "28                                         -66.428571          \n",
       "29                                         -78.000000          \n",
       "30                                         -79.142857          \n",
       "31                                         -87.714286          \n",
       "32                                         -82.142857          \n",
       "\n",
       "    grocery_and_pharmacy_percent_change_from_baseline_first  \\\n",
       "0                                          -80.714286         \n",
       "1                                          -64.857143         \n",
       "2                                          -30.000000         \n",
       "3                                          -28.142857         \n",
       "4                                          -30.000000         \n",
       "5                                          -30.285714         \n",
       "6                                          -27.000000         \n",
       "7                                          -58.571429         \n",
       "8                                          -27.714286         \n",
       "9                                          -29.142857         \n",
       "10                                         -31.428571         \n",
       "11                                         -27.285714         \n",
       "12                                         -42.571429         \n",
       "13                                         -33.285714         \n",
       "14                                         -34.000000         \n",
       "15                                         -30.857143         \n",
       "16                                         -32.142857         \n",
       "17                                         -35.714286         \n",
       "18                                         -37.571429         \n",
       "19                                         -31.857143         \n",
       "20                                         -25.000000         \n",
       "21                                         -30.285714         \n",
       "22                                         -35.285714         \n",
       "23                                         -30.571429         \n",
       "24                                         -32.857143         \n",
       "25                                         -42.428571         \n",
       "26                                         -34.571429         \n",
       "27                                         -42.000000         \n",
       "28                                         -32.428571         \n",
       "29                                         -34.428571         \n",
       "30                                         -28.714286         \n",
       "31                                         -41.142857         \n",
       "32                                         -37.285714         \n",
       "\n",
       "    parks_percent_change_from_baseline_first  \\\n",
       "0                                 -90.571429   \n",
       "1                                 -81.857143   \n",
       "2                                  -1.571429   \n",
       "3                                  17.714286   \n",
       "4                                  -8.571429   \n",
       "5                                  14.000000   \n",
       "6                                 -11.000000   \n",
       "7                                 -42.428571   \n",
       "8                                  23.428571   \n",
       "9                                   3.000000   \n",
       "10                                 -1.428571   \n",
       "11                                 -4.000000   \n",
       "12                                -33.571429   \n",
       "13                                  4.285714   \n",
       "14                                  4.285714   \n",
       "15                                -25.714286   \n",
       "16                                 -3.142857   \n",
       "17                                 -9.428571   \n",
       "18                                -29.857143   \n",
       "19                                -38.571429   \n",
       "20                                 10.285714   \n",
       "21                                -10.285714   \n",
       "22                                 -8.000000   \n",
       "23                                  4.428571   \n",
       "24                                -11.428571   \n",
       "25                                -51.857143   \n",
       "26                                -16.428571   \n",
       "27                                -60.571429   \n",
       "28                                 -6.000000   \n",
       "29                                -17.428571   \n",
       "30                                -30.000000   \n",
       "31                                -38.428571   \n",
       "32                                 -1.500000   \n",
       "\n",
       "    transit_stations_percent_change_from_baseline_first  \\\n",
       "0                                          -91.000000     \n",
       "1                                          -89.428571     \n",
       "2                                          -60.857143     \n",
       "3                                          -70.428571     \n",
       "4                                          -68.285714     \n",
       "5                                          -66.428571     \n",
       "6                                          -73.285714     \n",
       "7                                          -88.000000     \n",
       "8                                          -72.428571     \n",
       "9                                          -70.714286     \n",
       "10                                         -65.142857     \n",
       "11                                         -76.285714     \n",
       "12                                         -80.142857     \n",
       "13                                         -71.428571     \n",
       "14                                         -71.428571     \n",
       "15                                         -70.142857     \n",
       "16                                         -74.000000     \n",
       "17                                         -68.571429     \n",
       "18                                         -84.000000     \n",
       "19                                         -82.000000     \n",
       "20                                         -71.142857     \n",
       "21                                         -75.714286     \n",
       "22                                         -73.428571     \n",
       "23                                         -72.000000     \n",
       "24                                         -76.142857     \n",
       "25                                         -80.142857     \n",
       "26                                         -72.285714     \n",
       "27                                         -79.714286     \n",
       "28                                         -66.571429     \n",
       "29                                         -77.428571     \n",
       "30                                         -69.857143     \n",
       "31                                         -82.857143     \n",
       "32                                         -77.142857     \n",
       "\n",
       "    workplaces_percent_change_from_baseline_first  \\\n",
       "0                                      -83.200000   \n",
       "1                                      -77.000000   \n",
       "2                                      -61.571429   \n",
       "3                                      -72.000000   \n",
       "4                                      -64.428571   \n",
       "5                                      -67.000000   \n",
       "6                                      -72.000000   \n",
       "7                                      -78.857143   \n",
       "8                                      -66.285714   \n",
       "9                                      -68.000000   \n",
       "10                                     -64.000000   \n",
       "11                                     -72.857143   \n",
       "12                                     -77.142857   \n",
       "13                                     -73.428571   \n",
       "14                                     -68.571429   \n",
       "15                                     -65.142857   \n",
       "16                                     -65.000000   \n",
       "17                                     -65.857143   \n",
       "18                                     -79.571429   \n",
       "19                                     -74.857143   \n",
       "20                                     -72.285714   \n",
       "21                                     -70.142857   \n",
       "22                                     -71.000000   \n",
       "23                                     -70.571429   \n",
       "24                                     -76.142857   \n",
       "25                                     -74.428571   \n",
       "26                                     -65.285714   \n",
       "27                                     -79.714286   \n",
       "28                                     -70.714286   \n",
       "29                                     -78.000000   \n",
       "30                                     -68.428571   \n",
       "31                                     -74.857143   \n",
       "32                                     -72.142857   \n",
       "\n",
       "    residential_percent_change_from_baseline_first  \n",
       "0                                              NaN  \n",
       "1                                        35.000000  \n",
       "2                                        24.428571  \n",
       "3                                        29.428571  \n",
       "4                                        26.000000  \n",
       "5                                        27.571429  \n",
       "6                                        28.428571  \n",
       "7                                        36.000000  \n",
       "8                                        27.285714  \n",
       "9                                        28.142857  \n",
       "10                                       26.428571  \n",
       "11                                       30.571429  \n",
       "12                                       36.600000  \n",
       "13                                       30.428571  \n",
       "14                                       28.000000  \n",
       "15                                       26.285714  \n",
       "16                                       26.428571  \n",
       "17                                       26.714286  \n",
       "18                                       36.666667  \n",
       "19                                       33.000000  \n",
       "20                                       30.142857  \n",
       "21                                       29.714286  \n",
       "22                                       28.142857  \n",
       "23                                       27.571429  \n",
       "24                                       34.200000  \n",
       "25                                       31.857143  \n",
       "26                                       27.142857  \n",
       "27                                       33.142857  \n",
       "28                                       28.571429  \n",
       "29                                       34.000000  \n",
       "30                                       28.142857  \n",
       "31                                       33.200000  \n",
       "32                                       31.333333  "
      ]
     },
     "execution_count": 317,
     "metadata": {},
     "output_type": "execute_result"
    }
   ],
   "source": [
    "mobility_mean_first"
   ]
  },
  {
   "cell_type": "markdown",
   "metadata": {},
   "source": [
    "Create a dataframe and fill for the second wave"
   ]
  },
  {
   "cell_type": "code",
   "execution_count": 318,
   "metadata": {},
   "outputs": [],
   "source": [
    "mobility_mean_second = pd.DataFrame(columns=['name', 'retail_and_recreation_percent_change_from_baseline_second', 'grocery_and_pharmacy_percent_change_from_baseline_second', 'parks_percent_change_from_baseline_second', 'transit_stations_percent_change_from_baseline_second', 'workplaces_percent_change_from_baseline_second', 'residential_percent_change_from_baseline_second'])"
   ]
  },
  {
   "cell_type": "code",
   "execution_count": 319,
   "metadata": {},
   "outputs": [],
   "source": [
    "for index, borough in enumerate(mobility.sub_region_2.unique()):\n",
    "    mask = ('2020-11-05' <= mobility['date']) & (mobility['date'] <= '2020-11-11' ) & (mobility['sub_region_2'] == borough)\n",
    "    borough_df = mobility.loc[mask]\n",
    "    mobility_mean_second.loc[index] = [\n",
    "        borough, \n",
    "        borough_df.retail_and_recreation_percent_change_from_baseline.mean(),\n",
    "        borough_df.grocery_and_pharmacy_percent_change_from_baseline.mean(), \n",
    "        borough_df.parks_percent_change_from_baseline.mean(), \n",
    "        borough_df.transit_stations_percent_change_from_baseline.mean(), \n",
    "        borough_df.workplaces_percent_change_from_baseline.mean(), \n",
    "        borough_df.residential_percent_change_from_baseline.mean()]"
   ]
  },
  {
   "cell_type": "code",
   "execution_count": 320,
   "metadata": {},
   "outputs": [
    {
     "data": {
      "text/html": [
       "<div>\n",
       "<style scoped>\n",
       "    .dataframe tbody tr th:only-of-type {\n",
       "        vertical-align: middle;\n",
       "    }\n",
       "\n",
       "    .dataframe tbody tr th {\n",
       "        vertical-align: top;\n",
       "    }\n",
       "\n",
       "    .dataframe thead th {\n",
       "        text-align: right;\n",
       "    }\n",
       "</style>\n",
       "<table border=\"1\" class=\"dataframe\">\n",
       "  <thead>\n",
       "    <tr style=\"text-align: right;\">\n",
       "      <th></th>\n",
       "      <th>name</th>\n",
       "      <th>retail_and_recreation_percent_change_from_baseline_second</th>\n",
       "      <th>grocery_and_pharmacy_percent_change_from_baseline_second</th>\n",
       "      <th>parks_percent_change_from_baseline_second</th>\n",
       "      <th>transit_stations_percent_change_from_baseline_second</th>\n",
       "      <th>workplaces_percent_change_from_baseline_second</th>\n",
       "      <th>residential_percent_change_from_baseline_second</th>\n",
       "    </tr>\n",
       "  </thead>\n",
       "  <tbody>\n",
       "    <tr>\n",
       "      <th>0</th>\n",
       "      <td>City of London</td>\n",
       "      <td>-89.428571</td>\n",
       "      <td>-71.285714</td>\n",
       "      <td>-85.714286</td>\n",
       "      <td>-79.571429</td>\n",
       "      <td>-66.200000</td>\n",
       "      <td>NaN</td>\n",
       "    </tr>\n",
       "    <tr>\n",
       "      <th>1</th>\n",
       "      <td>Westminster</td>\n",
       "      <td>-86.714286</td>\n",
       "      <td>-48.142857</td>\n",
       "      <td>-57.571429</td>\n",
       "      <td>-76.857143</td>\n",
       "      <td>-57.857143</td>\n",
       "      <td>21.714286</td>\n",
       "    </tr>\n",
       "    <tr>\n",
       "      <th>2</th>\n",
       "      <td>Barking and Dagenham</td>\n",
       "      <td>-39.857143</td>\n",
       "      <td>-7.000000</td>\n",
       "      <td>35.000000</td>\n",
       "      <td>-38.285714</td>\n",
       "      <td>-33.285714</td>\n",
       "      <td>12.714286</td>\n",
       "    </tr>\n",
       "    <tr>\n",
       "      <th>3</th>\n",
       "      <td>Barnet</td>\n",
       "      <td>-50.571429</td>\n",
       "      <td>-11.571429</td>\n",
       "      <td>55.428571</td>\n",
       "      <td>-49.714286</td>\n",
       "      <td>-44.857143</td>\n",
       "      <td>18.000000</td>\n",
       "    </tr>\n",
       "    <tr>\n",
       "      <th>4</th>\n",
       "      <td>Bexley</td>\n",
       "      <td>-52.714286</td>\n",
       "      <td>-11.000000</td>\n",
       "      <td>39.571429</td>\n",
       "      <td>-49.714286</td>\n",
       "      <td>-40.714286</td>\n",
       "      <td>16.571429</td>\n",
       "    </tr>\n",
       "    <tr>\n",
       "      <th>5</th>\n",
       "      <td>Brent</td>\n",
       "      <td>-51.285714</td>\n",
       "      <td>-7.142857</td>\n",
       "      <td>67.142857</td>\n",
       "      <td>-44.857143</td>\n",
       "      <td>-42.142857</td>\n",
       "      <td>15.857143</td>\n",
       "    </tr>\n",
       "    <tr>\n",
       "      <th>6</th>\n",
       "      <td>Bromley</td>\n",
       "      <td>-55.857143</td>\n",
       "      <td>-9.857143</td>\n",
       "      <td>24.142857</td>\n",
       "      <td>-52.285714</td>\n",
       "      <td>-44.857143</td>\n",
       "      <td>19.285714</td>\n",
       "    </tr>\n",
       "    <tr>\n",
       "      <th>7</th>\n",
       "      <td>Camden</td>\n",
       "      <td>-79.714286</td>\n",
       "      <td>-38.571429</td>\n",
       "      <td>0.857143</td>\n",
       "      <td>-74.428571</td>\n",
       "      <td>-54.571429</td>\n",
       "      <td>22.142857</td>\n",
       "    </tr>\n",
       "    <tr>\n",
       "      <th>8</th>\n",
       "      <td>Croydon</td>\n",
       "      <td>-56.714286</td>\n",
       "      <td>-7.857143</td>\n",
       "      <td>47.142857</td>\n",
       "      <td>-53.000000</td>\n",
       "      <td>-37.857143</td>\n",
       "      <td>17.000000</td>\n",
       "    </tr>\n",
       "    <tr>\n",
       "      <th>9</th>\n",
       "      <td>Ealing</td>\n",
       "      <td>-45.285714</td>\n",
       "      <td>-10.714286</td>\n",
       "      <td>41.714286</td>\n",
       "      <td>-50.142857</td>\n",
       "      <td>-41.857143</td>\n",
       "      <td>17.000000</td>\n",
       "    </tr>\n",
       "    <tr>\n",
       "      <th>10</th>\n",
       "      <td>Enfield</td>\n",
       "      <td>-45.428571</td>\n",
       "      <td>-9.285714</td>\n",
       "      <td>33.142857</td>\n",
       "      <td>-42.428571</td>\n",
       "      <td>-37.142857</td>\n",
       "      <td>15.142857</td>\n",
       "    </tr>\n",
       "    <tr>\n",
       "      <th>11</th>\n",
       "      <td>Hackney</td>\n",
       "      <td>-63.142857</td>\n",
       "      <td>-8.428571</td>\n",
       "      <td>40.714286</td>\n",
       "      <td>-57.000000</td>\n",
       "      <td>-50.000000</td>\n",
       "      <td>20.000000</td>\n",
       "    </tr>\n",
       "    <tr>\n",
       "      <th>12</th>\n",
       "      <td>Hammersmith and Fulham</td>\n",
       "      <td>-71.285714</td>\n",
       "      <td>-27.571429</td>\n",
       "      <td>14.428571</td>\n",
       "      <td>-59.571429</td>\n",
       "      <td>-56.428571</td>\n",
       "      <td>21.714286</td>\n",
       "    </tr>\n",
       "    <tr>\n",
       "      <th>13</th>\n",
       "      <td>Haringey</td>\n",
       "      <td>-51.142857</td>\n",
       "      <td>-15.714286</td>\n",
       "      <td>30.142857</td>\n",
       "      <td>-52.285714</td>\n",
       "      <td>-51.285714</td>\n",
       "      <td>18.428571</td>\n",
       "    </tr>\n",
       "    <tr>\n",
       "      <th>14</th>\n",
       "      <td>Harrow</td>\n",
       "      <td>-52.428571</td>\n",
       "      <td>-9.000000</td>\n",
       "      <td>73.285714</td>\n",
       "      <td>-45.142857</td>\n",
       "      <td>-37.571429</td>\n",
       "      <td>16.571429</td>\n",
       "    </tr>\n",
       "    <tr>\n",
       "      <th>15</th>\n",
       "      <td>Havering</td>\n",
       "      <td>-55.142857</td>\n",
       "      <td>-13.857143</td>\n",
       "      <td>12.857143</td>\n",
       "      <td>-45.571429</td>\n",
       "      <td>-38.571429</td>\n",
       "      <td>15.857143</td>\n",
       "    </tr>\n",
       "    <tr>\n",
       "      <th>16</th>\n",
       "      <td>Hillingdon</td>\n",
       "      <td>-51.428571</td>\n",
       "      <td>-11.285714</td>\n",
       "      <td>62.714286</td>\n",
       "      <td>-68.428571</td>\n",
       "      <td>-37.000000</td>\n",
       "      <td>16.428571</td>\n",
       "    </tr>\n",
       "    <tr>\n",
       "      <th>17</th>\n",
       "      <td>Hounslow</td>\n",
       "      <td>-44.571429</td>\n",
       "      <td>-12.571429</td>\n",
       "      <td>27.000000</td>\n",
       "      <td>-45.571429</td>\n",
       "      <td>-40.714286</td>\n",
       "      <td>16.000000</td>\n",
       "    </tr>\n",
       "    <tr>\n",
       "      <th>18</th>\n",
       "      <td>Islington</td>\n",
       "      <td>-73.857143</td>\n",
       "      <td>-19.142857</td>\n",
       "      <td>30.000000</td>\n",
       "      <td>-67.285714</td>\n",
       "      <td>-56.142857</td>\n",
       "      <td>23.857143</td>\n",
       "    </tr>\n",
       "    <tr>\n",
       "      <th>19</th>\n",
       "      <td>Lambeth</td>\n",
       "      <td>-64.285714</td>\n",
       "      <td>-15.285714</td>\n",
       "      <td>0.428571</td>\n",
       "      <td>-65.142857</td>\n",
       "      <td>-49.857143</td>\n",
       "      <td>22.000000</td>\n",
       "    </tr>\n",
       "    <tr>\n",
       "      <th>20</th>\n",
       "      <td>Lewisham</td>\n",
       "      <td>-46.000000</td>\n",
       "      <td>-4.857143</td>\n",
       "      <td>58.714286</td>\n",
       "      <td>-50.285714</td>\n",
       "      <td>-49.000000</td>\n",
       "      <td>19.714286</td>\n",
       "    </tr>\n",
       "    <tr>\n",
       "      <th>21</th>\n",
       "      <td>Merton</td>\n",
       "      <td>-57.142857</td>\n",
       "      <td>-18.714286</td>\n",
       "      <td>19.142857</td>\n",
       "      <td>-51.857143</td>\n",
       "      <td>-47.000000</td>\n",
       "      <td>18.714286</td>\n",
       "    </tr>\n",
       "    <tr>\n",
       "      <th>22</th>\n",
       "      <td>Newham</td>\n",
       "      <td>-58.857143</td>\n",
       "      <td>-16.000000</td>\n",
       "      <td>128.142857</td>\n",
       "      <td>-52.428571</td>\n",
       "      <td>-43.714286</td>\n",
       "      <td>16.000000</td>\n",
       "    </tr>\n",
       "    <tr>\n",
       "      <th>23</th>\n",
       "      <td>Redbridge</td>\n",
       "      <td>-44.857143</td>\n",
       "      <td>-10.000000</td>\n",
       "      <td>14.142857</td>\n",
       "      <td>-48.285714</td>\n",
       "      <td>-41.142857</td>\n",
       "      <td>16.000000</td>\n",
       "    </tr>\n",
       "    <tr>\n",
       "      <th>24</th>\n",
       "      <td>Richmond upon Thames</td>\n",
       "      <td>-54.571429</td>\n",
       "      <td>-6.857143</td>\n",
       "      <td>37.285714</td>\n",
       "      <td>-57.142857</td>\n",
       "      <td>-54.142857</td>\n",
       "      <td>20.571429</td>\n",
       "    </tr>\n",
       "    <tr>\n",
       "      <th>25</th>\n",
       "      <td>Southwark</td>\n",
       "      <td>-63.857143</td>\n",
       "      <td>-18.285714</td>\n",
       "      <td>-12.428571</td>\n",
       "      <td>-63.000000</td>\n",
       "      <td>-51.428571</td>\n",
       "      <td>21.000000</td>\n",
       "    </tr>\n",
       "    <tr>\n",
       "      <th>26</th>\n",
       "      <td>Sutton</td>\n",
       "      <td>-51.000000</td>\n",
       "      <td>-13.142857</td>\n",
       "      <td>45.000000</td>\n",
       "      <td>-54.285714</td>\n",
       "      <td>-45.285714</td>\n",
       "      <td>17.428571</td>\n",
       "    </tr>\n",
       "    <tr>\n",
       "      <th>27</th>\n",
       "      <td>Tower Hamlets</td>\n",
       "      <td>-63.428571</td>\n",
       "      <td>-25.000000</td>\n",
       "      <td>-25.571429</td>\n",
       "      <td>-65.571429</td>\n",
       "      <td>-56.428571</td>\n",
       "      <td>22.571429</td>\n",
       "    </tr>\n",
       "    <tr>\n",
       "      <th>28</th>\n",
       "      <td>Waltham Forest</td>\n",
       "      <td>-41.142857</td>\n",
       "      <td>-6.571429</td>\n",
       "      <td>32.714286</td>\n",
       "      <td>-50.285714</td>\n",
       "      <td>-45.714286</td>\n",
       "      <td>17.000000</td>\n",
       "    </tr>\n",
       "    <tr>\n",
       "      <th>29</th>\n",
       "      <td>Wandsworth</td>\n",
       "      <td>-58.857143</td>\n",
       "      <td>-14.428571</td>\n",
       "      <td>30.857143</td>\n",
       "      <td>-56.285714</td>\n",
       "      <td>-51.857143</td>\n",
       "      <td>23.285714</td>\n",
       "    </tr>\n",
       "    <tr>\n",
       "      <th>30</th>\n",
       "      <td>Greenwich</td>\n",
       "      <td>-57.000000</td>\n",
       "      <td>-9.857143</td>\n",
       "      <td>3.857143</td>\n",
       "      <td>-45.857143</td>\n",
       "      <td>-47.285714</td>\n",
       "      <td>17.857143</td>\n",
       "    </tr>\n",
       "    <tr>\n",
       "      <th>31</th>\n",
       "      <td>Kensington and Chelsea</td>\n",
       "      <td>-73.428571</td>\n",
       "      <td>-13.714286</td>\n",
       "      <td>-9.000000</td>\n",
       "      <td>-65.857143</td>\n",
       "      <td>-52.714286</td>\n",
       "      <td>20.285714</td>\n",
       "    </tr>\n",
       "    <tr>\n",
       "      <th>32</th>\n",
       "      <td>Kingston upon Thames</td>\n",
       "      <td>-64.428571</td>\n",
       "      <td>-20.714286</td>\n",
       "      <td>74.500000</td>\n",
       "      <td>-53.714286</td>\n",
       "      <td>-47.714286</td>\n",
       "      <td>19.571429</td>\n",
       "    </tr>\n",
       "  </tbody>\n",
       "</table>\n",
       "</div>"
      ],
      "text/plain": [
       "                      name  \\\n",
       "0           City of London   \n",
       "1              Westminster   \n",
       "2     Barking and Dagenham   \n",
       "3                   Barnet   \n",
       "4                   Bexley   \n",
       "5                    Brent   \n",
       "6                  Bromley   \n",
       "7                   Camden   \n",
       "8                  Croydon   \n",
       "9                   Ealing   \n",
       "10                 Enfield   \n",
       "11                 Hackney   \n",
       "12  Hammersmith and Fulham   \n",
       "13                Haringey   \n",
       "14                  Harrow   \n",
       "15                Havering   \n",
       "16              Hillingdon   \n",
       "17                Hounslow   \n",
       "18               Islington   \n",
       "19                 Lambeth   \n",
       "20                Lewisham   \n",
       "21                  Merton   \n",
       "22                  Newham   \n",
       "23               Redbridge   \n",
       "24    Richmond upon Thames   \n",
       "25               Southwark   \n",
       "26                  Sutton   \n",
       "27           Tower Hamlets   \n",
       "28          Waltham Forest   \n",
       "29              Wandsworth   \n",
       "30               Greenwich   \n",
       "31  Kensington and Chelsea   \n",
       "32    Kingston upon Thames   \n",
       "\n",
       "    retail_and_recreation_percent_change_from_baseline_second  \\\n",
       "0                                          -89.428571           \n",
       "1                                          -86.714286           \n",
       "2                                          -39.857143           \n",
       "3                                          -50.571429           \n",
       "4                                          -52.714286           \n",
       "5                                          -51.285714           \n",
       "6                                          -55.857143           \n",
       "7                                          -79.714286           \n",
       "8                                          -56.714286           \n",
       "9                                          -45.285714           \n",
       "10                                         -45.428571           \n",
       "11                                         -63.142857           \n",
       "12                                         -71.285714           \n",
       "13                                         -51.142857           \n",
       "14                                         -52.428571           \n",
       "15                                         -55.142857           \n",
       "16                                         -51.428571           \n",
       "17                                         -44.571429           \n",
       "18                                         -73.857143           \n",
       "19                                         -64.285714           \n",
       "20                                         -46.000000           \n",
       "21                                         -57.142857           \n",
       "22                                         -58.857143           \n",
       "23                                         -44.857143           \n",
       "24                                         -54.571429           \n",
       "25                                         -63.857143           \n",
       "26                                         -51.000000           \n",
       "27                                         -63.428571           \n",
       "28                                         -41.142857           \n",
       "29                                         -58.857143           \n",
       "30                                         -57.000000           \n",
       "31                                         -73.428571           \n",
       "32                                         -64.428571           \n",
       "\n",
       "    grocery_and_pharmacy_percent_change_from_baseline_second  \\\n",
       "0                                          -71.285714          \n",
       "1                                          -48.142857          \n",
       "2                                           -7.000000          \n",
       "3                                          -11.571429          \n",
       "4                                          -11.000000          \n",
       "5                                           -7.142857          \n",
       "6                                           -9.857143          \n",
       "7                                          -38.571429          \n",
       "8                                           -7.857143          \n",
       "9                                          -10.714286          \n",
       "10                                          -9.285714          \n",
       "11                                          -8.428571          \n",
       "12                                         -27.571429          \n",
       "13                                         -15.714286          \n",
       "14                                          -9.000000          \n",
       "15                                         -13.857143          \n",
       "16                                         -11.285714          \n",
       "17                                         -12.571429          \n",
       "18                                         -19.142857          \n",
       "19                                         -15.285714          \n",
       "20                                          -4.857143          \n",
       "21                                         -18.714286          \n",
       "22                                         -16.000000          \n",
       "23                                         -10.000000          \n",
       "24                                          -6.857143          \n",
       "25                                         -18.285714          \n",
       "26                                         -13.142857          \n",
       "27                                         -25.000000          \n",
       "28                                          -6.571429          \n",
       "29                                         -14.428571          \n",
       "30                                          -9.857143          \n",
       "31                                         -13.714286          \n",
       "32                                         -20.714286          \n",
       "\n",
       "    parks_percent_change_from_baseline_second  \\\n",
       "0                                  -85.714286   \n",
       "1                                  -57.571429   \n",
       "2                                   35.000000   \n",
       "3                                   55.428571   \n",
       "4                                   39.571429   \n",
       "5                                   67.142857   \n",
       "6                                   24.142857   \n",
       "7                                    0.857143   \n",
       "8                                   47.142857   \n",
       "9                                   41.714286   \n",
       "10                                  33.142857   \n",
       "11                                  40.714286   \n",
       "12                                  14.428571   \n",
       "13                                  30.142857   \n",
       "14                                  73.285714   \n",
       "15                                  12.857143   \n",
       "16                                  62.714286   \n",
       "17                                  27.000000   \n",
       "18                                  30.000000   \n",
       "19                                   0.428571   \n",
       "20                                  58.714286   \n",
       "21                                  19.142857   \n",
       "22                                 128.142857   \n",
       "23                                  14.142857   \n",
       "24                                  37.285714   \n",
       "25                                 -12.428571   \n",
       "26                                  45.000000   \n",
       "27                                 -25.571429   \n",
       "28                                  32.714286   \n",
       "29                                  30.857143   \n",
       "30                                   3.857143   \n",
       "31                                  -9.000000   \n",
       "32                                  74.500000   \n",
       "\n",
       "    transit_stations_percent_change_from_baseline_second  \\\n",
       "0                                          -79.571429      \n",
       "1                                          -76.857143      \n",
       "2                                          -38.285714      \n",
       "3                                          -49.714286      \n",
       "4                                          -49.714286      \n",
       "5                                          -44.857143      \n",
       "6                                          -52.285714      \n",
       "7                                          -74.428571      \n",
       "8                                          -53.000000      \n",
       "9                                          -50.142857      \n",
       "10                                         -42.428571      \n",
       "11                                         -57.000000      \n",
       "12                                         -59.571429      \n",
       "13                                         -52.285714      \n",
       "14                                         -45.142857      \n",
       "15                                         -45.571429      \n",
       "16                                         -68.428571      \n",
       "17                                         -45.571429      \n",
       "18                                         -67.285714      \n",
       "19                                         -65.142857      \n",
       "20                                         -50.285714      \n",
       "21                                         -51.857143      \n",
       "22                                         -52.428571      \n",
       "23                                         -48.285714      \n",
       "24                                         -57.142857      \n",
       "25                                         -63.000000      \n",
       "26                                         -54.285714      \n",
       "27                                         -65.571429      \n",
       "28                                         -50.285714      \n",
       "29                                         -56.285714      \n",
       "30                                         -45.857143      \n",
       "31                                         -65.857143      \n",
       "32                                         -53.714286      \n",
       "\n",
       "    workplaces_percent_change_from_baseline_second  \\\n",
       "0                                       -66.200000   \n",
       "1                                       -57.857143   \n",
       "2                                       -33.285714   \n",
       "3                                       -44.857143   \n",
       "4                                       -40.714286   \n",
       "5                                       -42.142857   \n",
       "6                                       -44.857143   \n",
       "7                                       -54.571429   \n",
       "8                                       -37.857143   \n",
       "9                                       -41.857143   \n",
       "10                                      -37.142857   \n",
       "11                                      -50.000000   \n",
       "12                                      -56.428571   \n",
       "13                                      -51.285714   \n",
       "14                                      -37.571429   \n",
       "15                                      -38.571429   \n",
       "16                                      -37.000000   \n",
       "17                                      -40.714286   \n",
       "18                                      -56.142857   \n",
       "19                                      -49.857143   \n",
       "20                                      -49.000000   \n",
       "21                                      -47.000000   \n",
       "22                                      -43.714286   \n",
       "23                                      -41.142857   \n",
       "24                                      -54.142857   \n",
       "25                                      -51.428571   \n",
       "26                                      -45.285714   \n",
       "27                                      -56.428571   \n",
       "28                                      -45.714286   \n",
       "29                                      -51.857143   \n",
       "30                                      -47.285714   \n",
       "31                                      -52.714286   \n",
       "32                                      -47.714286   \n",
       "\n",
       "    residential_percent_change_from_baseline_second  \n",
       "0                                               NaN  \n",
       "1                                         21.714286  \n",
       "2                                         12.714286  \n",
       "3                                         18.000000  \n",
       "4                                         16.571429  \n",
       "5                                         15.857143  \n",
       "6                                         19.285714  \n",
       "7                                         22.142857  \n",
       "8                                         17.000000  \n",
       "9                                         17.000000  \n",
       "10                                        15.142857  \n",
       "11                                        20.000000  \n",
       "12                                        21.714286  \n",
       "13                                        18.428571  \n",
       "14                                        16.571429  \n",
       "15                                        15.857143  \n",
       "16                                        16.428571  \n",
       "17                                        16.000000  \n",
       "18                                        23.857143  \n",
       "19                                        22.000000  \n",
       "20                                        19.714286  \n",
       "21                                        18.714286  \n",
       "22                                        16.000000  \n",
       "23                                        16.000000  \n",
       "24                                        20.571429  \n",
       "25                                        21.000000  \n",
       "26                                        17.428571  \n",
       "27                                        22.571429  \n",
       "28                                        17.000000  \n",
       "29                                        23.285714  \n",
       "30                                        17.857143  \n",
       "31                                        20.285714  \n",
       "32                                        19.571429  "
      ]
     },
     "execution_count": 320,
     "metadata": {},
     "output_type": "execute_result"
    }
   ],
   "source": [
    "mobility_mean_second"
   ]
  },
  {
   "cell_type": "markdown",
   "metadata": {},
   "source": [
    "Create 2 dfs so that we can join them on 'name'"
   ]
  },
  {
   "cell_type": "code",
   "execution_count": 321,
   "metadata": {},
   "outputs": [],
   "source": [
    "data_final_first = pd.DataFrame(columns=[\n",
    "    'name',\n",
    "    'retail_and_recreation_percent_change_from_baseline_first',\n",
    "    'grocery_and_pharmacy_percent_change_from_baseline_first',\n",
    "    'parks_percent_change_from_baseline_first',\n",
    "    'transit_stations_percent_change_from_baseline_first',\n",
    "    'workplaces_percent_change_from_baseline_first',\n",
    "    'residential_percent_change_from_baseline_first'\n",
    "])"
   ]
  },
  {
   "cell_type": "code",
   "execution_count": 322,
   "metadata": {},
   "outputs": [],
   "source": [
    "data_final_second = pd.DataFrame(columns=[\n",
    "    'name',\n",
    "    'retail_and_recreation_percent_change_from_baseline_second',\n",
    "    'grocery_and_pharmacy_percent_change_from_baseline_second',\n",
    "    'parks_percent_change_from_baseline_second',\n",
    "    'transit_stations_percent_change_from_baseline_second',\n",
    "    'workplaces_percent_change_from_baseline_second',\n",
    "    'residential_percent_change_from_baseline_second'\n",
    "])"
   ]
  },
  {
   "cell_type": "code",
   "execution_count": 323,
   "metadata": {},
   "outputs": [],
   "source": [
    "df_final = data_final_first.join(data_final_second.set_index('name'), on='name')"
   ]
  },
  {
   "cell_type": "markdown",
   "metadata": {},
   "source": [
    "load geojson"
   ]
  },
  {
   "cell_type": "code",
   "execution_count": 326,
   "metadata": {},
   "outputs": [],
   "source": [
    "london_boroughs = f\"datasets/london_boroughs.geosjon\""
   ]
  },
  {
   "cell_type": "markdown",
   "metadata": {},
   "source": [
    "From here we create the maps for each category and each wave"
   ]
  },
  {
   "cell_type": "code",
   "execution_count": 327,
   "metadata": {},
   "outputs": [
    {
     "ename": "FileNotFoundError",
     "evalue": "[Errno 2] No such file or directory: 'datasets/london_boroughs.geosjon'",
     "output_type": "error",
     "traceback": [
      "\u001b[0;31m---------------------------------------------------------------------------\u001b[0m",
      "\u001b[0;31mFileNotFoundError\u001b[0m                         Traceback (most recent call last)",
      "\u001b[0;32m<ipython-input-327-4dff9e3a6f15>\u001b[0m in \u001b[0;36m<module>\u001b[0;34m\u001b[0m\n\u001b[1;32m      1\u001b[0m \u001b[0mrr1\u001b[0m \u001b[0;34m=\u001b[0m \u001b[0mfolium\u001b[0m\u001b[0;34m.\u001b[0m\u001b[0mMap\u001b[0m\u001b[0;34m(\u001b[0m\u001b[0;34m[\u001b[0m\u001b[0;36m51.5074\u001b[0m\u001b[0;34m,\u001b[0m \u001b[0;34m-\u001b[0m\u001b[0;36m0.1278\u001b[0m\u001b[0;34m]\u001b[0m\u001b[0;34m,\u001b[0m \u001b[0mtiles\u001b[0m\u001b[0;34m=\u001b[0m\u001b[0;34m'Stamen Toner'\u001b[0m\u001b[0;34m,\u001b[0m \u001b[0mzoom_start\u001b[0m\u001b[0;34m=\u001b[0m\u001b[0;36m10\u001b[0m\u001b[0;34m)\u001b[0m\u001b[0;34m\u001b[0m\u001b[0;34m\u001b[0m\u001b[0m\n\u001b[1;32m      2\u001b[0m \u001b[0;34m\u001b[0m\u001b[0m\n\u001b[0;32m----> 3\u001b[0;31m folium.Choropleth(geo_data = london_boroughs,\n\u001b[0m\u001b[1;32m      4\u001b[0m                   \u001b[0mdata\u001b[0m \u001b[0;34m=\u001b[0m \u001b[0mdf_final\u001b[0m\u001b[0;34m[\u001b[0m\u001b[0mdf_final\u001b[0m\u001b[0;34m[\u001b[0m\u001b[0;34m'retail_and_recreation_percent_change_from_baseline_first'\u001b[0m\u001b[0;34m]\u001b[0m\u001b[0;34m.\u001b[0m\u001b[0mnotna\u001b[0m\u001b[0;34m(\u001b[0m\u001b[0;34m)\u001b[0m\u001b[0;34m]\u001b[0m\u001b[0;34m,\u001b[0m\u001b[0;34m\u001b[0m\u001b[0;34m\u001b[0m\u001b[0m\n\u001b[1;32m      5\u001b[0m                   \u001b[0mcolumns\u001b[0m \u001b[0;34m=\u001b[0m \u001b[0;34m[\u001b[0m\u001b[0;34m'name'\u001b[0m\u001b[0;34m,\u001b[0m \u001b[0;34m'retail_and_recreation_percent_change_from_baseline_first'\u001b[0m\u001b[0;34m]\u001b[0m\u001b[0;34m,\u001b[0m\u001b[0;34m\u001b[0m\u001b[0;34m\u001b[0m\u001b[0m\n",
      "\u001b[0;32m~/opt/anaconda3/lib/python3.8/site-packages/folium/features.py\u001b[0m in \u001b[0;36m__init__\u001b[0;34m(self, geo_data, data, columns, key_on, bins, fill_color, nan_fill_color, fill_opacity, nan_fill_opacity, line_color, line_weight, line_opacity, name, legend_name, overlay, control, show, topojson, smooth_factor, highlight, **kwargs)\u001b[0m\n\u001b[1;32m   1287\u001b[0m                 smooth_factor=smooth_factor)\n\u001b[1;32m   1288\u001b[0m         \u001b[0;32melse\u001b[0m\u001b[0;34m:\u001b[0m\u001b[0;34m\u001b[0m\u001b[0;34m\u001b[0m\u001b[0m\n\u001b[0;32m-> 1289\u001b[0;31m             self.geojson = GeoJson(\n\u001b[0m\u001b[1;32m   1290\u001b[0m                 \u001b[0mgeo_data\u001b[0m\u001b[0;34m,\u001b[0m\u001b[0;34m\u001b[0m\u001b[0;34m\u001b[0m\u001b[0m\n\u001b[1;32m   1291\u001b[0m                 \u001b[0mstyle_function\u001b[0m\u001b[0;34m=\u001b[0m\u001b[0mstyle_function\u001b[0m\u001b[0;34m,\u001b[0m\u001b[0;34m\u001b[0m\u001b[0;34m\u001b[0m\u001b[0m\n",
      "\u001b[0;32m~/opt/anaconda3/lib/python3.8/site-packages/folium/features.py\u001b[0m in \u001b[0;36m__init__\u001b[0;34m(self, data, style_function, highlight_function, name, overlay, control, show, smooth_factor, tooltip, embed, popup, zoom_on_click, marker)\u001b[0m\n\u001b[1;32m    497\u001b[0m         \u001b[0mself\u001b[0m\u001b[0;34m.\u001b[0m\u001b[0mmarker\u001b[0m \u001b[0;34m=\u001b[0m \u001b[0mmarker\u001b[0m\u001b[0;34m\u001b[0m\u001b[0;34m\u001b[0m\u001b[0m\n\u001b[1;32m    498\u001b[0m \u001b[0;34m\u001b[0m\u001b[0m\n\u001b[0;32m--> 499\u001b[0;31m         \u001b[0mself\u001b[0m\u001b[0;34m.\u001b[0m\u001b[0mdata\u001b[0m \u001b[0;34m=\u001b[0m \u001b[0mself\u001b[0m\u001b[0;34m.\u001b[0m\u001b[0mprocess_data\u001b[0m\u001b[0;34m(\u001b[0m\u001b[0mdata\u001b[0m\u001b[0;34m)\u001b[0m\u001b[0;34m\u001b[0m\u001b[0;34m\u001b[0m\u001b[0m\n\u001b[0m\u001b[1;32m    500\u001b[0m \u001b[0;34m\u001b[0m\u001b[0m\n\u001b[1;32m    501\u001b[0m         \u001b[0;32mif\u001b[0m \u001b[0mself\u001b[0m\u001b[0;34m.\u001b[0m\u001b[0mstyle\u001b[0m \u001b[0;32mor\u001b[0m \u001b[0mself\u001b[0m\u001b[0;34m.\u001b[0m\u001b[0mhighlight\u001b[0m\u001b[0;34m:\u001b[0m\u001b[0;34m\u001b[0m\u001b[0;34m\u001b[0m\u001b[0m\n",
      "\u001b[0;32m~/opt/anaconda3/lib/python3.8/site-packages/folium/features.py\u001b[0m in \u001b[0;36mprocess_data\u001b[0;34m(self, data)\u001b[0m\n\u001b[1;32m    534\u001b[0m                 \u001b[0;32mif\u001b[0m \u001b[0;32mnot\u001b[0m \u001b[0mself\u001b[0m\u001b[0;34m.\u001b[0m\u001b[0membed\u001b[0m\u001b[0;34m:\u001b[0m\u001b[0;34m\u001b[0m\u001b[0;34m\u001b[0m\u001b[0m\n\u001b[1;32m    535\u001b[0m                     \u001b[0mself\u001b[0m\u001b[0;34m.\u001b[0m\u001b[0membed_link\u001b[0m \u001b[0;34m=\u001b[0m \u001b[0mdata\u001b[0m\u001b[0;34m\u001b[0m\u001b[0;34m\u001b[0m\u001b[0m\n\u001b[0;32m--> 536\u001b[0;31m                 \u001b[0;32mwith\u001b[0m \u001b[0mopen\u001b[0m\u001b[0;34m(\u001b[0m\u001b[0mdata\u001b[0m\u001b[0;34m)\u001b[0m \u001b[0;32mas\u001b[0m \u001b[0mf\u001b[0m\u001b[0;34m:\u001b[0m\u001b[0;34m\u001b[0m\u001b[0;34m\u001b[0m\u001b[0m\n\u001b[0m\u001b[1;32m    537\u001b[0m                     \u001b[0;32mreturn\u001b[0m \u001b[0mjson\u001b[0m\u001b[0;34m.\u001b[0m\u001b[0mloads\u001b[0m\u001b[0;34m(\u001b[0m\u001b[0mf\u001b[0m\u001b[0;34m.\u001b[0m\u001b[0mread\u001b[0m\u001b[0;34m(\u001b[0m\u001b[0;34m)\u001b[0m\u001b[0;34m)\u001b[0m\u001b[0;34m\u001b[0m\u001b[0;34m\u001b[0m\u001b[0m\n\u001b[1;32m    538\u001b[0m         \u001b[0;32melif\u001b[0m \u001b[0mhasattr\u001b[0m\u001b[0;34m(\u001b[0m\u001b[0mdata\u001b[0m\u001b[0;34m,\u001b[0m \u001b[0;34m'__geo_interface__'\u001b[0m\u001b[0;34m)\u001b[0m\u001b[0;34m:\u001b[0m\u001b[0;34m\u001b[0m\u001b[0;34m\u001b[0m\u001b[0m\n",
      "\u001b[0;31mFileNotFoundError\u001b[0m: [Errno 2] No such file or directory: 'datasets/london_boroughs.geosjon'"
     ]
    }
   ],
   "source": [
    "rr1 = folium.Map([51.5074, -0.1278], tiles='Stamen Toner', zoom_start=10)\n",
    "\n",
    "folium.Choropleth(geo_data = london_boroughs,\n",
    "                  data = df_final[df_final['retail_and_recreation_percent_change_from_baseline_first'].notna()],\n",
    "                  columns = ['name', 'retail_and_recreation_percent_change_from_baseline_first'],\n",
    "                  key_on = 'feature.properties.name',\n",
    "                  legend_name = 'Retail and Recreation \\% Change from Baseline (First Lockdown)',\n",
    "                  name=\"Retail and Recreation \\% Change from Baseline (First Lockdown)\",\n",
    "                  fill_color='YlGnBu',\n",
    "                  overlay=False,\n",
    "                  show=False).add_to(rr1)"
   ]
  },
  {
   "cell_type": "code",
   "execution_count": null,
   "metadata": {},
   "outputs": [],
   "source": [
    "gp1 = folium.Map([51.5074, -0.1278], tiles='Stamen Toner', zoom_start=10)\n",
    "\n",
    "folium.Choropleth(geo_data = london_boroughs,\n",
    "                  data = df_final[df_final['grocery_and_pharmacy_percent_change_from_baseline_first'].notna()],\n",
    "                  columns = ['name', 'grocery_and_pharmacy_percent_change_from_baseline_first'],\n",
    "                  key_on = 'feature.properties.name',\n",
    "                  legend_name = 'Grocery and Pharmacy \\% Change from Baseline (First Lockdown)',\n",
    "                  name=\"Grocery and Pharmacy \\% Change from Baseline (First Lockdown)\",\n",
    "                  fill_color='YlGnBu',\n",
    "                  overlay=False,\n",
    "                  show=False).add_to(gp1)"
   ]
  },
  {
   "cell_type": "code",
   "execution_count": null,
   "metadata": {},
   "outputs": [],
   "source": [
    "p1 = folium.Map([51.5074, -0.1278], tiles='Stamen Toner', zoom_start=10)\n",
    "\n",
    "folium.Choropleth(geo_data = london_boroughs,\n",
    "                  data = df_final[df_final['parks_percent_change_from_baseline_first'].notna()],\n",
    "                  columns = ['name', 'parks_percent_change_from_baseline_first'],\n",
    "                  key_on = 'feature.properties.name',\n",
    "                  legend_name = 'Parks \\% Change from Baseline (First Lockdown)',\n",
    "                  name=\"Parks \\% Change from Baseline (First Lockdown)\",\n",
    "                  fill_color='YlGnBu',\n",
    "                  overlay=False,\n",
    "                  show=False).add_to(p1)"
   ]
  },
  {
   "cell_type": "code",
   "execution_count": null,
   "metadata": {},
   "outputs": [],
   "source": [
    "ts1 = folium.Map([51.5074, -0.1278], tiles='Stamen Toner', zoom_start=10)\n",
    "\n",
    "folium.Choropleth(geo_data = london_boroughs,\n",
    "                  data = df_final[df_final['transit_stations_percent_change_from_baseline_first'].notna()],\n",
    "                  columns = ['name', 'transit_stations_percent_change_from_baseline_first'],\n",
    "                  key_on = 'feature.properties.name',\n",
    "                  legend_name = 'Transit Stations \\% Change from Baseline (First Lockdown)',\n",
    "                  name=\"Transit Stations \\% Change from Baseline (First Lockdown)\",\n",
    "                  fill_color='YlGnBu',\n",
    "                  overlay=False,\n",
    "                  show=False).add_to(ts1)"
   ]
  },
  {
   "cell_type": "code",
   "execution_count": null,
   "metadata": {},
   "outputs": [],
   "source": [
    "w1 = folium.Map([51.5074, -0.1278], tiles='Stamen Toner', zoom_start=10)\n",
    "\n",
    "folium.Choropleth(geo_data = london_boroughs,\n",
    "                  data = df_final[df_final['workplaces_percent_change_from_baseline_first'].notna()],\n",
    "                  columns = ['name', 'workplaces_percent_change_from_baseline_first'],\n",
    "                  key_on = 'feature.properties.name',\n",
    "                  legend_name = 'Workplaces \\% Change from Baseline (First Lockdown)',\n",
    "                  name=\"Workplaces \\% Change from Baseline (First Lockdown)\",\n",
    "                  fill_color='YlGnBu',\n",
    "                  overlay=False,\n",
    "                  show=False).add_to(w1)"
   ]
  },
  {
   "cell_type": "code",
   "execution_count": null,
   "metadata": {},
   "outputs": [],
   "source": [
    "rr2 = folium.Map([51.5074, -0.1278], tiles='Stamen Toner', zoom_start=10)\n",
    "\n",
    "folium.Choropleth(geo_data = london_boroughs,\n",
    "                  data = df_final[df_final['retail_and_recreation_percent_change_from_baseline_second'].notna()],\n",
    "                  columns = ['name', 'retail_and_recreation_percent_change_from_baseline_second'],\n",
    "                  key_on = 'feature.properties.name',\n",
    "                  legend_name = 'Retail and Recreation \\% Change from Baseline (Second Lockdown)',\n",
    "                  name=\"Retail and Recreation \\% Change from Baseline (Second Lockdown)\",\n",
    "                  fill_color='YlGnBu',\n",
    "                  overlay=False,\n",
    "                  show=False).add_to(rr2)"
   ]
  },
  {
   "cell_type": "code",
   "execution_count": null,
   "metadata": {},
   "outputs": [],
   "source": [
    "gp2 = folium.Map([51.5074, -0.1278], tiles='Stamen Toner', zoom_start=10)\n",
    "\n",
    "folium.Choropleth(geo_data = london_boroughs,\n",
    "                  data = df_final[df_final['grocery_and_pharmacy_percent_change_from_baseline_second'].notna()],\n",
    "                  columns = ['name', 'grocery_and_pharmacy_percent_change_from_baseline_second'],\n",
    "                  key_on = 'feature.properties.name',\n",
    "                  legend_name = 'Grocery and Pharmacy \\% Change from Baseline (Second Lockdown)',\n",
    "                  name=\"Grocery and Pharmacy \\% Change from Baseline (Second Lockdown)\",\n",
    "                  fill_color='YlGnBu',\n",
    "                  overlay=False,\n",
    "                  show=False).add_to(gp2)"
   ]
  },
  {
   "cell_type": "code",
   "execution_count": null,
   "metadata": {},
   "outputs": [],
   "source": [
    "p2 = folium.Map([51.5074, -0.1278], tiles='Stamen Toner', zoom_start=10)\n",
    "\n",
    "folium.Choropleth(geo_data = london_boroughs,\n",
    "                  data = df_final[df_final['parks_percent_change_from_baseline_second'].notna()],\n",
    "                  columns = ['name', 'parks_percent_change_from_baseline_second'],\n",
    "                  key_on = 'feature.properties.name',\n",
    "                  legend_name = 'Parks \\% Change from Baseline (Second Lockdown)',\n",
    "                  name=\"Parks \\% Change from Baseline (Second Lockdown)\",\n",
    "                  fill_color='YlGnBu',\n",
    "                  overlay=False,\n",
    "                  show=False).add_to(p2)"
   ]
  },
  {
   "cell_type": "code",
   "execution_count": null,
   "metadata": {},
   "outputs": [],
   "source": [
    "ts2 = folium.Map([51.5074, -0.1278], tiles='Stamen Toner', zoom_start=10)\n",
    "\n",
    "folium.Choropleth(geo_data = london_boroughs,\n",
    "                  data = df_final[df_final['transit_stations_percent_change_from_baseline_second'].notna()],\n",
    "                  columns = ['name', 'transit_stations_percent_change_from_baseline_second'],\n",
    "                  key_on = 'feature.properties.name',\n",
    "                  legend_name = 'Transit Stations \\% Change from Baseline (Second Lockdown)',\n",
    "                  name=\"Transit Stations \\% Change from Baseline (Second Lockdown)\",\n",
    "                  fill_color='YlGnBu',\n",
    "                  overlay=False,\n",
    "                  show=False).add_to(ts2)"
   ]
  },
  {
   "cell_type": "code",
   "execution_count": null,
   "metadata": {},
   "outputs": [],
   "source": [
    "w2 = folium.Map([51.5074, -0.1278], tiles='Stamen Toner', zoom_start=10)\n",
    "\n",
    "folium.Choropleth(geo_data = london_boroughs,\n",
    "                  data = df_final[df_final['workplaces_percent_change_from_baseline_second'].notna()],\n",
    "                  columns = ['name', 'workplaces_percent_change_from_baseline_second'],\n",
    "                  key_on = 'feature.properties.name',\n",
    "                  legend_name = 'Workplaces \\% Change from Baseline (Second Lockdown)',\n",
    "                  name=\"Workplaces \\% Change from Baseline (Second Lockdown)\",\n",
    "                  fill_color='YlGnBu',\n",
    "                  overlay=False,\n",
    "                  show=False).add_to(w2)"
   ]
  },
  {
   "cell_type": "markdown",
   "metadata": {},
   "source": [
    "### Covid cases"
   ]
  },
  {
   "cell_type": "code",
   "execution_count": null,
   "metadata": {},
   "outputs": [],
   "source": [
    "# data of all london covid cases\n",
    "cases_london = pd.read_csv('phe_cases_age_london.csv')\n",
    "cases_london['date'] = pd.to_datetime(cases_london['date'], format = '%Y-%m-%d')\n",
    "cases_london = cases_london.groupby(['date']).agg({'cases': 'sum'})\n",
    "cases_london.insert(0, 'area_code', '')\n",
    "cases_london['area_code'] = 'E12000007'\n",
    "cases_london.insert(0, 'area_name', '')\n",
    "cases_london['area_name'] = 'London'"
   ]
  },
  {
   "cell_type": "code",
   "execution_count": null,
   "metadata": {},
   "outputs": [],
   "source": [
    "# data of covid cases by borough\n",
    "cases_boroughs = pd.read_csv('phe_cases_london_boroughs.csv')\n",
    "cases_boroughs = cases_boroughs.replace(['Hackney and City of London'], 'Hackney')"
   ]
  },
  {
   "cell_type": "code",
   "execution_count": null,
   "metadata": {},
   "outputs": [],
   "source": [
    "# clean dataframe and aggregate by new cases\n",
    "cases_boroughs.drop(['area_code','total_cases'],axis=1, inplace=True)\n",
    "cases_boroughs['date'] = pd.to_datetime(cases_boroughs['date'], format = '%Y-%m-%d')\n",
    "\n",
    "cases_boroughs = cases_boroughs.groupby(['date','area_name']).agg({'new_cases': 'sum'}).unstack()\n",
    "cases_boroughs.columns = cases_boroughs.columns.droplevel()\n",
    "areas = list(cases_boroughs.columns)"
   ]
  },
  {
   "cell_type": "code",
   "execution_count": null,
   "metadata": {},
   "outputs": [],
   "source": [
    "# plot of total cases\n",
    "cases = cases_london.loc[:,'cases']\n",
    "\n",
    "# Plot timeline of restrictions using plotly\n",
    "fig = px.line(cases,\n",
    "                title='Total COVID cases for London', template='plotly_dark',\n",
    "                labels={'value':'Cases', 'date':'Date'})\n",
    "fig.update_xaxes(\n",
    "    tickmode = 'auto',\n",
    "    nticks =  20,\n",
    "    tickformat=\"%b %y\")\n",
    "fig.update_layout(showlegend=False, \n",
    "                  xaxis_showgrid=False, \n",
    "                  yaxis_showgrid=False,\n",
    "                  plot_bgcolor = 'rgba(0, 0, 0, 0)', \n",
    "                  paper_bgcolor = 'rgba(0, 0, 0, 0)' )\n",
    "fig.show()\n",
    "fig.write_html('totalcases.html')"
   ]
  },
  {
   "cell_type": "code",
   "execution_count": null,
   "metadata": {},
   "outputs": [],
   "source": [
    "# bokeh plot of cases by borough\n",
    "numlines=len(areas)\n",
    "colors_list = plasma(32)[0:numlines]\n",
    "xs=[cases_boroughs.index.values]*numlines\n",
    "ys=[cases_boroughs[name].values for name in cases_boroughs]\n",
    "legend_items = []\n",
    "\n",
    "curdoc().theme = \"dark_minimal\"\n",
    "\n",
    "p = figure(title='New COVID cases for each borough', width=1200, height=800, x_axis_type=\"datetime\")\n",
    "\n",
    "for (colr, leg, x, y ) in zip(colors_list, areas, xs, ys):\n",
    "    my_plot = p.line(x, y, color= colr, alpha=0.8)\n",
    "    legend_items.append((leg, [my_plot]))\n",
    "\n",
    "legend = Legend(items=legend_items)\n",
    "p.add_layout(legend,'left')\n",
    "p.legend.click_policy = 'hide'\n",
    "p.legend.label_text_font_size = \"10px\"\n",
    "p.background_fill_alpha = 0.0\n",
    "p.border_fill_alpha = 0.0\n",
    "legend.background_fill_alpha = 0.0\n",
    "legend.border_line_alpha = 0.0 \n",
    "output_file('boroughcases.html', title='New COVID cases for each borough')\n",
    "show(p)"
   ]
  },
  {
   "cell_type": "code",
   "execution_count": null,
   "metadata": {},
   "outputs": [],
   "source": [
    "# prepare dataframe of covid cases by borough\n",
    "cases = pd.read_csv('phe_cases_london_boroughs.csv')\n",
    "cases = cases.replace(['Hackney and City of London'], 'Hackney')\n",
    "cases['date'] = pd.to_datetime(cases['date'], format = '%Y-%m-%d')\n",
    "cases['week'] = cases['date'].datetime.year.astype(str) + ' week ' + cases['date'].datetime.week.astype(str)\n",
    "\n",
    "# data for first lockdown\n",
    "cases1 = cases.loc[(cases['date']>='2020-11-05') & (cases['date']<='2021-02-01')].reset_index()\n",
    "cases1 = cases1.groupby(['area_name','week']).sum().reset_index()"
   ]
  },
  {
   "cell_type": "code",
   "execution_count": null,
   "metadata": {},
   "outputs": [],
   "source": [
    "# plot data for first lockdown\n",
    "fig = px.choropleth_mapbox(cases1, geojson=boroughs, locations='area_name', color='new_cases',\n",
    "                           mapbox_style='stamen-toner',\n",
    "                           color_continuous_scale='YlOrRd',\n",
    "                           zoom=8, center = {\"lat\": 51.5074, \"lon\": -0.07},\n",
    "                           animation_frame='week',\n",
    "                           labels={'new_cases':'New cases', 'area_name':'Borough', 'week':'Week'},\n",
    "                           title='Weekly new COVID-19 cases during Winter \\'20-\\'21 lockdown',\n",
    "                           template='plotly_dark',\n",
    "                           opacity=0.5)\n",
    "fig.update_layout({'plot_bgcolor': 'rgba(0, 0, 0, 0)',\n",
    "'paper_bgcolor': 'rgba(0, 0, 0, 0)'},margin={\"r\":0,\"t\":40,\"l\":0,\"b\":0})\n",
    "fig.show()\n",
    "fig.write_html(\"winter_dark.html\")"
   ]
  },
  {
   "cell_type": "code",
   "execution_count": null,
   "metadata": {},
   "outputs": [],
   "source": [
    "# data for second wave lockdown\n",
    "cases2 = cases.loc[(cases['date']>='2020-03-21') & (cases['date']<='2020-06-14')].reset_index()\n",
    "cases2 = cases2.groupby(['area_name','week']).sum().reset_index()"
   ]
  },
  {
   "cell_type": "code",
   "execution_count": null,
   "metadata": {},
   "outputs": [],
   "source": [
    "# plot data for second wave lockdown\n",
    "fig = px.choropleth_mapbox(cases2, geojson=boroughs, locations='area_name', color='new_cases',\n",
    "                           mapbox_style='stamen-toner',\n",
    "                           color_continuous_scale='YlOrRd',\n",
    "                           zoom=8, center = {\"lat\": 51.5074, \"lon\": -0.07},\n",
    "                           animation_frame='week',\n",
    "                           title='Weekly new COVID-19 cases during Spring 2020 lockdown',\n",
    "                           labels={'new_cases':'New cases', 'area_name':'Borough', 'week':'Week'},\n",
    "                           template='plotly_dark',\n",
    "                           opacity=0.5)\n",
    "fig.update_layout({'plot_bgcolor': 'rgba(0, 0, 0, 0)',\n",
    "'paper_bgcolor': 'rgba(0, 0, 0, 0)'},margin={\"r\":0,\"t\":40,\"l\":0,\"b\":0})\n",
    "fig.show()\n",
    "fig.write_html(\"spring_dark.html\")"
   ]
  },
  {
   "cell_type": "markdown",
   "metadata": {},
   "source": [
    "### Socioeconomic data"
   ]
  },
  {
   "cell_type": "code",
   "execution_count": null,
   "metadata": {},
   "outputs": [],
   "source": [
    "# Boroughs poverty rate, 0 = below average, 1 = average, 2 = above average\n",
    "poverty_map = {'Barking and Dagenham': '1', 'Barnet': '1', 'Bexley': '2', 'Brent': '0', 'Bromley': '2', 'Camden': '1', 'City of London': '2',\n",
    "               'Croydon': '1', 'Ealing': '1', 'Enfield': '1', 'Greenwich': '1', 'Hackney': '0', 'Hammersmith and Fulham': '1',\n",
    "               'Haringey': '1', 'Harrow': '1', 'Havering': '2', 'Hillingdon': '1', 'Hounslow': '1', 'Islington': '0',\n",
    "               'Kensington and Chelsea': '1', 'Kingston upon Thames': '2', 'Lambeth': '1', 'Lewisham': '1', 'Merton': '1', 'Newham': '0',\n",
    "               'Redbridge': '1', 'Richmond upon Thames': '2', 'Southwark': '1', 'Sutton': '2', 'Tower Hamlets': '0', 'Waltham Forest': '1',\n",
    "               'Wandsworth': '1', 'Westminster': '1'}"
   ]
  },
  {
   "cell_type": "code",
   "execution_count": 328,
   "metadata": {},
   "outputs": [
    {
     "ename": "NameError",
     "evalue": "name 'poverty_map' is not defined",
     "output_type": "error",
     "traceback": [
      "\u001b[0;31m---------------------------------------------------------------------------\u001b[0m",
      "\u001b[0;31mNameError\u001b[0m                                 Traceback (most recent call last)",
      "\u001b[0;32m<ipython-input-328-47a9ae225eb7>\u001b[0m in \u001b[0;36m<module>\u001b[0;34m\u001b[0m\n\u001b[1;32m      1\u001b[0m \u001b[0;31m# change poverty map values\u001b[0m\u001b[0;34m\u001b[0m\u001b[0;34m\u001b[0m\u001b[0;34m\u001b[0m\u001b[0m\n\u001b[0;32m----> 2\u001b[0;31m \u001b[0;32mfor\u001b[0m \u001b[0mitem\u001b[0m \u001b[0;32min\u001b[0m \u001b[0mpoverty_map\u001b[0m\u001b[0;34m.\u001b[0m\u001b[0mitems\u001b[0m\u001b[0;34m(\u001b[0m\u001b[0;34m)\u001b[0m\u001b[0;34m:\u001b[0m\u001b[0;34m\u001b[0m\u001b[0;34m\u001b[0m\u001b[0m\n\u001b[0m\u001b[1;32m      3\u001b[0m     \u001b[0;32mif\u001b[0m \u001b[0mitem\u001b[0m\u001b[0;34m[\u001b[0m\u001b[0;36m1\u001b[0m\u001b[0;34m]\u001b[0m \u001b[0;34m==\u001b[0m \u001b[0;34m'0'\u001b[0m\u001b[0;34m:\u001b[0m\u001b[0;34m\u001b[0m\u001b[0;34m\u001b[0m\u001b[0m\n\u001b[1;32m      4\u001b[0m         \u001b[0mpoverty_map\u001b[0m\u001b[0;34m[\u001b[0m\u001b[0mitem\u001b[0m\u001b[0;34m[\u001b[0m\u001b[0;36m0\u001b[0m\u001b[0;34m]\u001b[0m\u001b[0;34m]\u001b[0m \u001b[0;34m=\u001b[0m \u001b[0;34m'Low'\u001b[0m\u001b[0;34m\u001b[0m\u001b[0;34m\u001b[0m\u001b[0m\n\u001b[1;32m      5\u001b[0m     \u001b[0;32melif\u001b[0m \u001b[0mitem\u001b[0m\u001b[0;34m[\u001b[0m\u001b[0;36m1\u001b[0m\u001b[0;34m]\u001b[0m \u001b[0;34m==\u001b[0m \u001b[0;34m'1'\u001b[0m\u001b[0;34m:\u001b[0m\u001b[0;34m\u001b[0m\u001b[0;34m\u001b[0m\u001b[0m\n",
      "\u001b[0;31mNameError\u001b[0m: name 'poverty_map' is not defined"
     ]
    }
   ],
   "source": [
    "# change poverty map values \n",
    "for item in poverty_map.items():\n",
    "    if item[1] == '0':\n",
    "        poverty_map[item[0]] = 'Low'\n",
    "    elif item[1] == '1':\n",
    "        poverty_map[item[0]] = 'Average'\n",
    "    elif item[1] == '2':\n",
    "        poverty_map[item[0]] = 'High'"
   ]
  },
  {
   "cell_type": "code",
   "execution_count": null,
   "metadata": {},
   "outputs": [],
   "source": [
    "# create dataframe of economic levels\n",
    "df = pd.DataFrame(poverty_map.items(), columns=['locations', 'income'])\n",
    "df.income = pd.Categorical(df.income, categories=['Low', 'Average', 'High'])\n",
    "df = df.sort_values('income')"
   ]
  },
  {
   "cell_type": "code",
   "execution_count": null,
   "metadata": {},
   "outputs": [],
   "source": [
    "# plot economic data as interactive map\n",
    "with open('boroughs.json') as f:\n",
    "    boroughs = json.load(f)\n",
    "\n",
    "import plotly.express as px\n",
    "\n",
    "fig = px.choropleth_mapbox(df, geojson=boroughs, locations='locations', color='income',\n",
    "                           mapbox_style='stamen-toner',\n",
    "                           color_discrete_sequence=px.colors.qualitative.Set1,\n",
    "                           title='Relative income levels of London boroughs',\n",
    "                           labels={'income':'Average incomes', 'locations': 'Borough'},\n",
    "                           zoom=8, center = {\"lat\": 51.5074, \"lon\": -0.07},\n",
    "                           template='plotly_dark',\n",
    "                           opacity=0.5\n",
    "                          )\n",
    "fig.update_layout({'plot_bgcolor': 'rgba(0, 0, 0, 0)',\n",
    "'paper_bgcolor': 'rgba(0, 0, 0, 0)'},margin={\"r\":0,\"t\":40,\"l\":0,\"b\":0})\n",
    "fig.show()\n",
    "fig.write_html(\"poverty_dark.html\")"
   ]
  },
  {
   "cell_type": "code",
   "execution_count": null,
   "metadata": {},
   "outputs": [],
   "source": [
    "# plot population data as interactive map\n",
    "population = pd.read_csv('populations.csv',names=['locations','population','size',])\n",
    "\n",
    "fig = px.choropleth_mapbox(population, geojson=boroughs, locations='locations', color='population',\n",
    "                           mapbox_style='stamen-toner',\n",
    "                           color_continuous_scale='YlOrRd',\n",
    "                           title='Populations of London boroughs',\n",
    "                           labels={'population':'Population', 'locations':'Borough'},\n",
    "                           zoom=8, center = {\"lat\": 51.5074, \"lon\": -0.07},\n",
    "                           template='plotly_dark',\n",
    "                           opacity=0.5\n",
    "                          )\n",
    "fig.update_layout({'plot_bgcolor': 'rgba(0, 0, 0, 0)',\n",
    "'paper_bgcolor': 'rgba(0, 0, 0, 0)'},margin={\"r\":0,\"t\":40,\"l\":0,\"b\":0})\n",
    "fig.show()\n",
    "fig.write_html('population_dark.html')"
   ]
  },
  {
   "cell_type": "code",
   "execution_count": null,
   "metadata": {},
   "outputs": [],
   "source": [
    "# plot unemployment data as interactive map\n",
    "unemployment = pd.read_csv('unemployment.csv')\n",
    "\n",
    "fig = px.choropleth_mapbox(unemployment, geojson=boroughs, locations='locations', color='Unemployment',\n",
    "                           mapbox_style='stamen-toner',\n",
    "                           color_continuous_scale='YlOrRd',\n",
    "                           title='Unemployment levels by borough',\n",
    "                           labels={'Unemployment':'Percentage unemployed', 'locations': 'Borough'},\n",
    "                           zoom=8, center = {\"lat\": 51.5074, \"lon\": -0.07},\n",
    "                           template='plotly_dark',\n",
    "                           opacity=0.5\n",
    "                          )\n",
    "fig.update_layout({'plot_bgcolor': 'rgba(0, 0, 0, 0)',\n",
    "'paper_bgcolor': 'rgba(0, 0, 0, 0)'},margin={\"r\":0,\"t\":40,\"l\":0,\"b\":0})\n",
    "fig.show()\n",
    "fig.write_html('unemployment_dark.html')"
   ]
  },
  {
   "cell_type": "code",
   "execution_count": null,
   "metadata": {},
   "outputs": [],
   "source": [
    "# plot labor data as interactive map\n",
    "service = pd.read_csv('service.csv')\n",
    "\n",
    "fig = px.choropleth_mapbox(service, geojson=boroughs, locations='Area', color='Total frontline workers',\n",
    "                           mapbox_style='stamen-toner',\n",
    "                           color_continuous_scale='YlOrRd',\n",
    "                           title='Frontline workers by borough',\n",
    "                           labels={'Area':'Borough'},\n",
    "                           zoom=8, center = {\"lat\": 51.5074, \"lon\": -0.07},\n",
    "                           template='plotly_dark',\n",
    "                           opacity=0.5\n",
    "                          )\n",
    "fig.update_layout({'plot_bgcolor': 'rgba(0, 0, 0, 0)',\n",
    "'paper_bgcolor': 'rgba(0, 0, 0, 0)'},margin={\"r\":0,\"t\":40,\"l\":0,\"b\":0})\n",
    "fig.show()\n",
    "fig.write_html('frontline_dark.html')"
   ]
  }
 ],
 "metadata": {
  "kernelspec": {
   "display_name": "Python 3",
   "language": "python",
   "name": "python3"
  },
  "language_info": {
   "codemirror_mode": {
    "name": "ipython",
    "version": 3
   },
   "file_extension": ".py",
   "mimetype": "text/x-python",
   "name": "python",
   "nbconvert_exporter": "python",
   "pygments_lexer": "ipython3",
   "version": "3.8.5"
  },
  "varInspector": {
   "cols": {
    "lenName": 16,
    "lenType": 16,
    "lenVar": 40
   },
   "kernels_config": {
    "python": {
     "delete_cmd_postfix": "",
     "delete_cmd_prefix": "del ",
     "library": "var_list.py",
     "varRefreshCmd": "print(var_dic_list())"
    },
    "r": {
     "delete_cmd_postfix": ") ",
     "delete_cmd_prefix": "rm(",
     "library": "var_list.r",
     "varRefreshCmd": "cat(var_dic_list()) "
    }
   },
   "oldHeight": 465,
   "position": {
    "height": "487px",
    "left": "1001px",
    "right": "20px",
    "top": "46px",
    "width": "339px"
   },
   "types_to_exclude": [
    "module",
    "function",
    "builtin_function_or_method",
    "instance",
    "_Feature"
   ],
   "varInspector_section_display": "block",
   "window_display": false
  }
 },
 "nbformat": 4,
 "nbformat_minor": 4
}
