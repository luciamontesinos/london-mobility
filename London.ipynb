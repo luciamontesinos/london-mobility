{
 "cells": [
  {
   "cell_type": "code",
   "execution_count": 1,
   "metadata": {},
   "outputs": [
    {
     "name": "stdout",
     "output_type": "stream",
     "text": [
      "Requirement already satisfied: pandas-profiling in /Users/luciamontesinos/opt/anaconda3/lib/python3.8/site-packages (2.11.0)\n",
      "Requirement already satisfied: missingno>=0.4.2 in /Users/luciamontesinos/opt/anaconda3/lib/python3.8/site-packages (from pandas-profiling) (0.4.2)\n",
      "Requirement already satisfied: matplotlib>=3.2.0 in /Users/luciamontesinos/opt/anaconda3/lib/python3.8/site-packages (from pandas-profiling) (3.3.2)\n",
      "Requirement already satisfied: joblib in /Users/luciamontesinos/opt/anaconda3/lib/python3.8/site-packages (from pandas-profiling) (0.17.0)\n",
      "Requirement already satisfied: numpy>=1.16.0 in /Users/luciamontesinos/opt/anaconda3/lib/python3.8/site-packages (from pandas-profiling) (1.19.2)\n",
      "Requirement already satisfied: visions[type_image_path]==0.6.0 in /Users/luciamontesinos/opt/anaconda3/lib/python3.8/site-packages (from pandas-profiling) (0.6.0)\n",
      "Requirement already satisfied: requests>=2.24.0 in /Users/luciamontesinos/opt/anaconda3/lib/python3.8/site-packages (from pandas-profiling) (2.24.0)\n",
      "Requirement already satisfied: seaborn>=0.10.1 in /Users/luciamontesinos/opt/anaconda3/lib/python3.8/site-packages (from pandas-profiling) (0.11.0)\n",
      "Requirement already satisfied: scipy>=1.4.1 in /Users/luciamontesinos/opt/anaconda3/lib/python3.8/site-packages (from pandas-profiling) (1.5.2)\n",
      "Requirement already satisfied: attrs>=19.3.0 in /Users/luciamontesinos/opt/anaconda3/lib/python3.8/site-packages (from pandas-profiling) (20.3.0)\n",
      "Requirement already satisfied: htmlmin>=0.1.12 in /Users/luciamontesinos/opt/anaconda3/lib/python3.8/site-packages (from pandas-profiling) (0.1.12)\n",
      "Requirement already satisfied: confuse>=1.0.0 in /Users/luciamontesinos/opt/anaconda3/lib/python3.8/site-packages (from pandas-profiling) (1.4.0)\n",
      "Requirement already satisfied: phik>=0.10.0 in /Users/luciamontesinos/opt/anaconda3/lib/python3.8/site-packages (from pandas-profiling) (0.11.2)\n",
      "Requirement already satisfied: ipywidgets>=7.5.1 in /Users/luciamontesinos/opt/anaconda3/lib/python3.8/site-packages (from pandas-profiling) (7.5.1)\n",
      "Requirement already satisfied: tangled-up-in-unicode>=0.0.6 in /Users/luciamontesinos/opt/anaconda3/lib/python3.8/site-packages (from pandas-profiling) (0.0.7)\n",
      "Requirement already satisfied: pandas!=1.0.0,!=1.0.1,!=1.0.2,!=1.1.0,>=0.25.3 in /Users/luciamontesinos/opt/anaconda3/lib/python3.8/site-packages (from pandas-profiling) (1.1.3)\n",
      "Requirement already satisfied: jinja2>=2.11.1 in /Users/luciamontesinos/opt/anaconda3/lib/python3.8/site-packages (from pandas-profiling) (2.11.2)\n",
      "Requirement already satisfied: tqdm>=4.48.2 in /Users/luciamontesinos/opt/anaconda3/lib/python3.8/site-packages (from pandas-profiling) (4.50.2)\n",
      "Requirement already satisfied: kiwisolver>=1.0.1 in /Users/luciamontesinos/opt/anaconda3/lib/python3.8/site-packages (from matplotlib>=3.2.0->pandas-profiling) (1.3.0)\n",
      "Requirement already satisfied: cycler>=0.10 in /Users/luciamontesinos/opt/anaconda3/lib/python3.8/site-packages (from matplotlib>=3.2.0->pandas-profiling) (0.10.0)\n",
      "Requirement already satisfied: pillow>=6.2.0 in /Users/luciamontesinos/opt/anaconda3/lib/python3.8/site-packages (from matplotlib>=3.2.0->pandas-profiling) (8.0.1)\n",
      "Requirement already satisfied: pyparsing!=2.0.4,!=2.1.2,!=2.1.6,>=2.0.3 in /Users/luciamontesinos/opt/anaconda3/lib/python3.8/site-packages (from matplotlib>=3.2.0->pandas-profiling) (2.4.7)\n",
      "Requirement already satisfied: certifi>=2020.06.20 in /Users/luciamontesinos/opt/anaconda3/lib/python3.8/site-packages (from matplotlib>=3.2.0->pandas-profiling) (2020.6.20)\n",
      "Requirement already satisfied: python-dateutil>=2.1 in /Users/luciamontesinos/opt/anaconda3/lib/python3.8/site-packages (from matplotlib>=3.2.0->pandas-profiling) (2.8.1)\n",
      "Requirement already satisfied: networkx>=2.4 in /Users/luciamontesinos/opt/anaconda3/lib/python3.8/site-packages (from visions[type_image_path]==0.6.0->pandas-profiling) (2.5)\n",
      "Requirement already satisfied: imagehash; extra == \"type_image_path\" in /Users/luciamontesinos/opt/anaconda3/lib/python3.8/site-packages (from visions[type_image_path]==0.6.0->pandas-profiling) (4.2.0)\n",
      "Requirement already satisfied: idna<3,>=2.5 in /Users/luciamontesinos/opt/anaconda3/lib/python3.8/site-packages (from requests>=2.24.0->pandas-profiling) (2.10)\n",
      "Requirement already satisfied: chardet<4,>=3.0.2 in /Users/luciamontesinos/opt/anaconda3/lib/python3.8/site-packages (from requests>=2.24.0->pandas-profiling) (3.0.4)\n",
      "Requirement already satisfied: urllib3!=1.25.0,!=1.25.1,<1.26,>=1.21.1 in /Users/luciamontesinos/opt/anaconda3/lib/python3.8/site-packages (from requests>=2.24.0->pandas-profiling) (1.25.11)\n",
      "Requirement already satisfied: pyyaml in /Users/luciamontesinos/opt/anaconda3/lib/python3.8/site-packages (from confuse>=1.0.0->pandas-profiling) (5.3.1)\n",
      "Requirement already satisfied: ipykernel>=4.5.1 in /Users/luciamontesinos/opt/anaconda3/lib/python3.8/site-packages (from ipywidgets>=7.5.1->pandas-profiling) (5.3.4)\n",
      "Requirement already satisfied: widgetsnbextension~=3.5.0 in /Users/luciamontesinos/opt/anaconda3/lib/python3.8/site-packages (from ipywidgets>=7.5.1->pandas-profiling) (3.5.1)\n",
      "Requirement already satisfied: ipython>=4.0.0; python_version >= \"3.3\" in /Users/luciamontesinos/opt/anaconda3/lib/python3.8/site-packages (from ipywidgets>=7.5.1->pandas-profiling) (7.19.0)\n",
      "Requirement already satisfied: traitlets>=4.3.1 in /Users/luciamontesinos/opt/anaconda3/lib/python3.8/site-packages (from ipywidgets>=7.5.1->pandas-profiling) (5.0.5)\n",
      "Requirement already satisfied: nbformat>=4.2.0 in /Users/luciamontesinos/opt/anaconda3/lib/python3.8/site-packages (from ipywidgets>=7.5.1->pandas-profiling) (5.0.8)\n",
      "Requirement already satisfied: pytz>=2017.2 in /Users/luciamontesinos/opt/anaconda3/lib/python3.8/site-packages (from pandas!=1.0.0,!=1.0.1,!=1.0.2,!=1.1.0,>=0.25.3->pandas-profiling) (2020.1)\n",
      "Requirement already satisfied: MarkupSafe>=0.23 in /Users/luciamontesinos/opt/anaconda3/lib/python3.8/site-packages (from jinja2>=2.11.1->pandas-profiling) (1.1.1)\n",
      "Requirement already satisfied: six in /Users/luciamontesinos/opt/anaconda3/lib/python3.8/site-packages (from cycler>=0.10->matplotlib>=3.2.0->pandas-profiling) (1.15.0)\n",
      "Requirement already satisfied: decorator>=4.3.0 in /Users/luciamontesinos/opt/anaconda3/lib/python3.8/site-packages (from networkx>=2.4->visions[type_image_path]==0.6.0->pandas-profiling) (4.4.2)\n",
      "Requirement already satisfied: PyWavelets in /Users/luciamontesinos/opt/anaconda3/lib/python3.8/site-packages (from imagehash; extra == \"type_image_path\"->visions[type_image_path]==0.6.0->pandas-profiling) (1.1.1)\n",
      "Requirement already satisfied: jupyter-client in /Users/luciamontesinos/opt/anaconda3/lib/python3.8/site-packages (from ipykernel>=4.5.1->ipywidgets>=7.5.1->pandas-profiling) (6.1.7)\n",
      "Requirement already satisfied: appnope; platform_system == \"Darwin\" in /Users/luciamontesinos/opt/anaconda3/lib/python3.8/site-packages (from ipykernel>=4.5.1->ipywidgets>=7.5.1->pandas-profiling) (0.1.0)\n",
      "Requirement already satisfied: tornado>=4.2 in /Users/luciamontesinos/opt/anaconda3/lib/python3.8/site-packages (from ipykernel>=4.5.1->ipywidgets>=7.5.1->pandas-profiling) (6.1)\n",
      "Requirement already satisfied: notebook>=4.4.1 in /Users/luciamontesinos/opt/anaconda3/lib/python3.8/site-packages (from widgetsnbextension~=3.5.0->ipywidgets>=7.5.1->pandas-profiling) (6.1.4)\n",
      "Requirement already satisfied: prompt-toolkit!=3.0.0,!=3.0.1,<3.1.0,>=2.0.0 in /Users/luciamontesinos/opt/anaconda3/lib/python3.8/site-packages (from ipython>=4.0.0; python_version >= \"3.3\"->ipywidgets>=7.5.1->pandas-profiling) (3.0.8)\n",
      "Requirement already satisfied: pexpect>4.3; sys_platform != \"win32\" in /Users/luciamontesinos/opt/anaconda3/lib/python3.8/site-packages (from ipython>=4.0.0; python_version >= \"3.3\"->ipywidgets>=7.5.1->pandas-profiling) (4.8.0)\n",
      "Requirement already satisfied: setuptools>=18.5 in /Users/luciamontesinos/opt/anaconda3/lib/python3.8/site-packages (from ipython>=4.0.0; python_version >= \"3.3\"->ipywidgets>=7.5.1->pandas-profiling) (50.3.1.post20201107)\n",
      "Requirement already satisfied: backcall in /Users/luciamontesinos/opt/anaconda3/lib/python3.8/site-packages (from ipython>=4.0.0; python_version >= \"3.3\"->ipywidgets>=7.5.1->pandas-profiling) (0.2.0)\n",
      "Requirement already satisfied: pickleshare in /Users/luciamontesinos/opt/anaconda3/lib/python3.8/site-packages (from ipython>=4.0.0; python_version >= \"3.3\"->ipywidgets>=7.5.1->pandas-profiling) (0.7.5)\n",
      "Requirement already satisfied: jedi>=0.10 in /Users/luciamontesinos/opt/anaconda3/lib/python3.8/site-packages (from ipython>=4.0.0; python_version >= \"3.3\"->ipywidgets>=7.5.1->pandas-profiling) (0.17.1)\n",
      "Requirement already satisfied: pygments in /Users/luciamontesinos/opt/anaconda3/lib/python3.8/site-packages (from ipython>=4.0.0; python_version >= \"3.3\"->ipywidgets>=7.5.1->pandas-profiling) (2.7.2)\n",
      "Requirement already satisfied: ipython-genutils in /Users/luciamontesinos/opt/anaconda3/lib/python3.8/site-packages (from traitlets>=4.3.1->ipywidgets>=7.5.1->pandas-profiling) (0.2.0)\n",
      "Requirement already satisfied: jupyter-core in /Users/luciamontesinos/opt/anaconda3/lib/python3.8/site-packages (from nbformat>=4.2.0->ipywidgets>=7.5.1->pandas-profiling) (4.6.3)\n"
     ]
    },
    {
     "name": "stdout",
     "output_type": "stream",
     "text": [
      "Requirement already satisfied: jsonschema!=2.5.0,>=2.4 in /Users/luciamontesinos/opt/anaconda3/lib/python3.8/site-packages (from nbformat>=4.2.0->ipywidgets>=7.5.1->pandas-profiling) (3.2.0)\n",
      "Requirement already satisfied: pyzmq>=13 in /Users/luciamontesinos/opt/anaconda3/lib/python3.8/site-packages (from jupyter-client->ipykernel>=4.5.1->ipywidgets>=7.5.1->pandas-profiling) (19.0.2)\n",
      "Requirement already satisfied: nbconvert in /Users/luciamontesinos/opt/anaconda3/lib/python3.8/site-packages (from notebook>=4.4.1->widgetsnbextension~=3.5.0->ipywidgets>=7.5.1->pandas-profiling) (6.0.7)\n",
      "Requirement already satisfied: prometheus-client in /Users/luciamontesinos/opt/anaconda3/lib/python3.8/site-packages (from notebook>=4.4.1->widgetsnbextension~=3.5.0->ipywidgets>=7.5.1->pandas-profiling) (0.8.0)\n",
      "Requirement already satisfied: terminado>=0.8.3 in /Users/luciamontesinos/opt/anaconda3/lib/python3.8/site-packages (from notebook>=4.4.1->widgetsnbextension~=3.5.0->ipywidgets>=7.5.1->pandas-profiling) (0.9.1)\n",
      "Requirement already satisfied: argon2-cffi in /Users/luciamontesinos/opt/anaconda3/lib/python3.8/site-packages (from notebook>=4.4.1->widgetsnbextension~=3.5.0->ipywidgets>=7.5.1->pandas-profiling) (20.1.0)\n",
      "Requirement already satisfied: Send2Trash in /Users/luciamontesinos/opt/anaconda3/lib/python3.8/site-packages (from notebook>=4.4.1->widgetsnbextension~=3.5.0->ipywidgets>=7.5.1->pandas-profiling) (1.5.0)\n",
      "Requirement already satisfied: wcwidth in /Users/luciamontesinos/opt/anaconda3/lib/python3.8/site-packages (from prompt-toolkit!=3.0.0,!=3.0.1,<3.1.0,>=2.0.0->ipython>=4.0.0; python_version >= \"3.3\"->ipywidgets>=7.5.1->pandas-profiling) (0.2.5)\n",
      "Requirement already satisfied: ptyprocess>=0.5 in /Users/luciamontesinos/opt/anaconda3/lib/python3.8/site-packages (from pexpect>4.3; sys_platform != \"win32\"->ipython>=4.0.0; python_version >= \"3.3\"->ipywidgets>=7.5.1->pandas-profiling) (0.6.0)\n",
      "Requirement already satisfied: parso<0.8.0,>=0.7.0 in /Users/luciamontesinos/opt/anaconda3/lib/python3.8/site-packages (from jedi>=0.10->ipython>=4.0.0; python_version >= \"3.3\"->ipywidgets>=7.5.1->pandas-profiling) (0.7.0)\n",
      "Requirement already satisfied: pyrsistent>=0.14.0 in /Users/luciamontesinos/opt/anaconda3/lib/python3.8/site-packages (from jsonschema!=2.5.0,>=2.4->nbformat>=4.2.0->ipywidgets>=7.5.1->pandas-profiling) (0.17.3)\n",
      "Requirement already satisfied: jupyterlab-pygments in /Users/luciamontesinos/opt/anaconda3/lib/python3.8/site-packages (from nbconvert->notebook>=4.4.1->widgetsnbextension~=3.5.0->ipywidgets>=7.5.1->pandas-profiling) (0.1.2)\n",
      "Requirement already satisfied: entrypoints>=0.2.2 in /Users/luciamontesinos/opt/anaconda3/lib/python3.8/site-packages (from nbconvert->notebook>=4.4.1->widgetsnbextension~=3.5.0->ipywidgets>=7.5.1->pandas-profiling) (0.3)\n",
      "Requirement already satisfied: pandocfilters>=1.4.1 in /Users/luciamontesinos/opt/anaconda3/lib/python3.8/site-packages (from nbconvert->notebook>=4.4.1->widgetsnbextension~=3.5.0->ipywidgets>=7.5.1->pandas-profiling) (1.4.3)\n",
      "Requirement already satisfied: testpath in /Users/luciamontesinos/opt/anaconda3/lib/python3.8/site-packages (from nbconvert->notebook>=4.4.1->widgetsnbextension~=3.5.0->ipywidgets>=7.5.1->pandas-profiling) (0.4.4)\n",
      "Requirement already satisfied: nbclient<0.6.0,>=0.5.0 in /Users/luciamontesinos/opt/anaconda3/lib/python3.8/site-packages (from nbconvert->notebook>=4.4.1->widgetsnbextension~=3.5.0->ipywidgets>=7.5.1->pandas-profiling) (0.5.1)\n",
      "Requirement already satisfied: mistune<2,>=0.8.1 in /Users/luciamontesinos/opt/anaconda3/lib/python3.8/site-packages (from nbconvert->notebook>=4.4.1->widgetsnbextension~=3.5.0->ipywidgets>=7.5.1->pandas-profiling) (0.8.4)\n",
      "Requirement already satisfied: bleach in /Users/luciamontesinos/opt/anaconda3/lib/python3.8/site-packages (from nbconvert->notebook>=4.4.1->widgetsnbextension~=3.5.0->ipywidgets>=7.5.1->pandas-profiling) (3.2.1)\n",
      "Requirement already satisfied: defusedxml in /Users/luciamontesinos/opt/anaconda3/lib/python3.8/site-packages (from nbconvert->notebook>=4.4.1->widgetsnbextension~=3.5.0->ipywidgets>=7.5.1->pandas-profiling) (0.6.0)\n",
      "Requirement already satisfied: cffi>=1.0.0 in /Users/luciamontesinos/opt/anaconda3/lib/python3.8/site-packages (from argon2-cffi->notebook>=4.4.1->widgetsnbextension~=3.5.0->ipywidgets>=7.5.1->pandas-profiling) (1.14.3)\n",
      "Requirement already satisfied: async-generator in /Users/luciamontesinos/opt/anaconda3/lib/python3.8/site-packages (from nbclient<0.6.0,>=0.5.0->nbconvert->notebook>=4.4.1->widgetsnbextension~=3.5.0->ipywidgets>=7.5.1->pandas-profiling) (1.10)\n",
      "Requirement already satisfied: nest-asyncio in /Users/luciamontesinos/opt/anaconda3/lib/python3.8/site-packages (from nbclient<0.6.0,>=0.5.0->nbconvert->notebook>=4.4.1->widgetsnbextension~=3.5.0->ipywidgets>=7.5.1->pandas-profiling) (1.4.2)\n",
      "Requirement already satisfied: packaging in /Users/luciamontesinos/opt/anaconda3/lib/python3.8/site-packages (from bleach->nbconvert->notebook>=4.4.1->widgetsnbextension~=3.5.0->ipywidgets>=7.5.1->pandas-profiling) (20.4)\n",
      "Requirement already satisfied: webencodings in /Users/luciamontesinos/opt/anaconda3/lib/python3.8/site-packages (from bleach->nbconvert->notebook>=4.4.1->widgetsnbextension~=3.5.0->ipywidgets>=7.5.1->pandas-profiling) (0.5.1)\n",
      "Requirement already satisfied: pycparser in /Users/luciamontesinos/opt/anaconda3/lib/python3.8/site-packages (from cffi>=1.0.0->argon2-cffi->notebook>=4.4.1->widgetsnbextension~=3.5.0->ipywidgets>=7.5.1->pandas-profiling) (2.20)\n"
     ]
    }
   ],
   "source": [
    "!pip install pandas-profiling\n",
    "import pandas as pd\n",
    "import matplotlib.pyplot as plt\n",
    "import numpy as np\n",
    "import pandas_profiling"
   ]
  },
  {
   "cell_type": "code",
   "execution_count": null,
   "metadata": {},
   "outputs": [],
   "source": []
  },
  {
   "cell_type": "code",
   "execution_count": 2,
   "metadata": {},
   "outputs": [
    {
     "data": {
      "application/vnd.jupyter.widget-view+json": {
       "model_id": "412b575ee9f546d4887acedfb63d523a",
       "version_major": 2,
       "version_minor": 0
      },
      "text/plain": [
       "HBox(children=(HTML(value='Summarize dataset'), FloatProgress(value=0.0, max=38.0), HTML(value='')))"
      ]
     },
     "metadata": {},
     "output_type": "display_data"
    },
    {
     "name": "stdout",
     "output_type": "stream",
     "text": [
      "\n"
     ]
    },
    {
     "ename": "KeyboardInterrupt",
     "evalue": "",
     "output_type": "error",
     "traceback": [
      "\u001b[0;31m---------------------------------------------------------------------------\u001b[0m",
      "\u001b[0;31mIndexError\u001b[0m                                Traceback (most recent call last)",
      "\u001b[0;32m~/opt/anaconda3/lib/python3.8/multiprocessing/pool.py\u001b[0m in \u001b[0;36mnext\u001b[0;34m(self, timeout)\u001b[0m\n\u001b[1;32m    850\u001b[0m             \u001b[0;32mtry\u001b[0m\u001b[0;34m:\u001b[0m\u001b[0;34m\u001b[0m\u001b[0;34m\u001b[0m\u001b[0m\n\u001b[0;32m--> 851\u001b[0;31m                 \u001b[0mitem\u001b[0m \u001b[0;34m=\u001b[0m \u001b[0mself\u001b[0m\u001b[0;34m.\u001b[0m\u001b[0m_items\u001b[0m\u001b[0;34m.\u001b[0m\u001b[0mpopleft\u001b[0m\u001b[0;34m(\u001b[0m\u001b[0;34m)\u001b[0m\u001b[0;34m\u001b[0m\u001b[0;34m\u001b[0m\u001b[0m\n\u001b[0m\u001b[1;32m    852\u001b[0m             \u001b[0;32mexcept\u001b[0m \u001b[0mIndexError\u001b[0m\u001b[0;34m:\u001b[0m\u001b[0;34m\u001b[0m\u001b[0;34m\u001b[0m\u001b[0m\n",
      "\u001b[0;31mIndexError\u001b[0m: pop from an empty deque",
      "\nDuring handling of the above exception, another exception occurred:\n",
      "\u001b[0;31mKeyboardInterrupt\u001b[0m                         Traceback (most recent call last)",
      "\u001b[0;32m<ipython-input-2-8a9c107e8bd1>\u001b[0m in \u001b[0;36m<module>\u001b[0;34m\u001b[0m\n\u001b[1;32m     18\u001b[0m \u001b[0;31m# Obtain report of the dataset\u001b[0m\u001b[0;34m\u001b[0m\u001b[0;34m\u001b[0m\u001b[0;34m\u001b[0m\u001b[0m\n\u001b[1;32m     19\u001b[0m \u001b[0mprof\u001b[0m \u001b[0;34m=\u001b[0m \u001b[0mpandas_profiling\u001b[0m\u001b[0;34m.\u001b[0m\u001b[0mProfileReport\u001b[0m\u001b[0;34m(\u001b[0m\u001b[0mdata\u001b[0m\u001b[0;34m)\u001b[0m\u001b[0;34m\u001b[0m\u001b[0;34m\u001b[0m\u001b[0m\n\u001b[0;32m---> 20\u001b[0;31m \u001b[0mprof\u001b[0m\u001b[0;34m.\u001b[0m\u001b[0mto_file\u001b[0m\u001b[0;34m(\u001b[0m\u001b[0moutput_file\u001b[0m\u001b[0;34m=\u001b[0m\u001b[0;34m'output.html'\u001b[0m\u001b[0;34m)\u001b[0m\u001b[0;34m\u001b[0m\u001b[0;34m\u001b[0m\u001b[0m\n\u001b[0m\u001b[1;32m     21\u001b[0m \u001b[0;34m\u001b[0m\u001b[0m\n\u001b[1;32m     22\u001b[0m \u001b[0mdata\u001b[0m\u001b[0;34m.\u001b[0m\u001b[0mto_csv\u001b[0m\u001b[0;34m(\u001b[0m\u001b[0;34m'datasets/london_mobility_restrictions.csv'\u001b[0m\u001b[0;34m)\u001b[0m\u001b[0;34m\u001b[0m\u001b[0;34m\u001b[0m\u001b[0m\n",
      "\u001b[0;32m~/opt/anaconda3/lib/python3.8/site-packages/pandas_profiling/profile_report.py\u001b[0m in \u001b[0;36mto_file\u001b[0;34m(self, output_file, silent)\u001b[0m\n\u001b[1;32m    276\u001b[0m                 \u001b[0mcreate_html_assets\u001b[0m\u001b[0;34m(\u001b[0m\u001b[0moutput_file\u001b[0m\u001b[0;34m)\u001b[0m\u001b[0;34m\u001b[0m\u001b[0;34m\u001b[0m\u001b[0m\n\u001b[1;32m    277\u001b[0m \u001b[0;34m\u001b[0m\u001b[0m\n\u001b[0;32m--> 278\u001b[0;31m             \u001b[0mdata\u001b[0m \u001b[0;34m=\u001b[0m \u001b[0mself\u001b[0m\u001b[0;34m.\u001b[0m\u001b[0mto_html\u001b[0m\u001b[0;34m(\u001b[0m\u001b[0;34m)\u001b[0m\u001b[0;34m\u001b[0m\u001b[0;34m\u001b[0m\u001b[0m\n\u001b[0m\u001b[1;32m    279\u001b[0m \u001b[0;34m\u001b[0m\u001b[0m\n\u001b[1;32m    280\u001b[0m             \u001b[0;32mif\u001b[0m \u001b[0moutput_file\u001b[0m\u001b[0;34m.\u001b[0m\u001b[0msuffix\u001b[0m \u001b[0;34m!=\u001b[0m \u001b[0;34m\".html\"\u001b[0m\u001b[0;34m:\u001b[0m\u001b[0;34m\u001b[0m\u001b[0;34m\u001b[0m\u001b[0m\n",
      "\u001b[0;32m~/opt/anaconda3/lib/python3.8/site-packages/pandas_profiling/profile_report.py\u001b[0m in \u001b[0;36mto_html\u001b[0;34m(self)\u001b[0m\n\u001b[1;32m    384\u001b[0m \u001b[0;34m\u001b[0m\u001b[0m\n\u001b[1;32m    385\u001b[0m         \"\"\"\n\u001b[0;32m--> 386\u001b[0;31m         \u001b[0;32mreturn\u001b[0m \u001b[0mself\u001b[0m\u001b[0;34m.\u001b[0m\u001b[0mhtml\u001b[0m\u001b[0;34m\u001b[0m\u001b[0;34m\u001b[0m\u001b[0m\n\u001b[0m\u001b[1;32m    387\u001b[0m \u001b[0;34m\u001b[0m\u001b[0m\n\u001b[1;32m    388\u001b[0m     \u001b[0;32mdef\u001b[0m \u001b[0mto_json\u001b[0m\u001b[0;34m(\u001b[0m\u001b[0mself\u001b[0m\u001b[0;34m)\u001b[0m \u001b[0;34m->\u001b[0m \u001b[0mstr\u001b[0m\u001b[0;34m:\u001b[0m\u001b[0;34m\u001b[0m\u001b[0;34m\u001b[0m\u001b[0m\n",
      "\u001b[0;32m~/opt/anaconda3/lib/python3.8/site-packages/pandas_profiling/profile_report.py\u001b[0m in \u001b[0;36mhtml\u001b[0;34m(self)\u001b[0m\n\u001b[1;32m    199\u001b[0m     \u001b[0;32mdef\u001b[0m \u001b[0mhtml\u001b[0m\u001b[0;34m(\u001b[0m\u001b[0mself\u001b[0m\u001b[0;34m)\u001b[0m\u001b[0;34m:\u001b[0m\u001b[0;34m\u001b[0m\u001b[0;34m\u001b[0m\u001b[0m\n\u001b[1;32m    200\u001b[0m         \u001b[0;32mif\u001b[0m \u001b[0mself\u001b[0m\u001b[0;34m.\u001b[0m\u001b[0m_html\u001b[0m \u001b[0;32mis\u001b[0m \u001b[0;32mNone\u001b[0m\u001b[0;34m:\u001b[0m\u001b[0;34m\u001b[0m\u001b[0;34m\u001b[0m\u001b[0m\n\u001b[0;32m--> 201\u001b[0;31m             \u001b[0mself\u001b[0m\u001b[0;34m.\u001b[0m\u001b[0m_html\u001b[0m \u001b[0;34m=\u001b[0m \u001b[0mself\u001b[0m\u001b[0;34m.\u001b[0m\u001b[0m_render_html\u001b[0m\u001b[0;34m(\u001b[0m\u001b[0;34m)\u001b[0m\u001b[0;34m\u001b[0m\u001b[0;34m\u001b[0m\u001b[0m\n\u001b[0m\u001b[1;32m    202\u001b[0m         \u001b[0;32mreturn\u001b[0m \u001b[0mself\u001b[0m\u001b[0;34m.\u001b[0m\u001b[0m_html\u001b[0m\u001b[0;34m\u001b[0m\u001b[0;34m\u001b[0m\u001b[0m\n\u001b[1;32m    203\u001b[0m \u001b[0;34m\u001b[0m\u001b[0m\n",
      "\u001b[0;32m~/opt/anaconda3/lib/python3.8/site-packages/pandas_profiling/profile_report.py\u001b[0m in \u001b[0;36m_render_html\u001b[0;34m(self)\u001b[0m\n\u001b[1;32m    306\u001b[0m         \u001b[0;32mfrom\u001b[0m \u001b[0mpandas_profiling\u001b[0m\u001b[0;34m.\u001b[0m\u001b[0mreport\u001b[0m\u001b[0;34m.\u001b[0m\u001b[0mpresentation\u001b[0m\u001b[0;34m.\u001b[0m\u001b[0mflavours\u001b[0m \u001b[0;32mimport\u001b[0m \u001b[0mHTMLReport\u001b[0m\u001b[0;34m\u001b[0m\u001b[0;34m\u001b[0m\u001b[0m\n\u001b[1;32m    307\u001b[0m \u001b[0;34m\u001b[0m\u001b[0m\n\u001b[0;32m--> 308\u001b[0;31m         \u001b[0mreport\u001b[0m \u001b[0;34m=\u001b[0m \u001b[0mself\u001b[0m\u001b[0;34m.\u001b[0m\u001b[0mreport\u001b[0m\u001b[0;34m\u001b[0m\u001b[0;34m\u001b[0m\u001b[0m\n\u001b[0m\u001b[1;32m    309\u001b[0m \u001b[0;34m\u001b[0m\u001b[0m\n\u001b[1;32m    310\u001b[0m         \u001b[0mdisable_progress_bar\u001b[0m \u001b[0;34m=\u001b[0m \u001b[0;32mnot\u001b[0m \u001b[0mconfig\u001b[0m\u001b[0;34m[\u001b[0m\u001b[0;34m\"progress_bar\"\u001b[0m\u001b[0;34m]\u001b[0m\u001b[0;34m.\u001b[0m\u001b[0mget\u001b[0m\u001b[0;34m(\u001b[0m\u001b[0mbool\u001b[0m\u001b[0;34m)\u001b[0m\u001b[0;34m\u001b[0m\u001b[0;34m\u001b[0m\u001b[0m\n",
      "\u001b[0;32m~/opt/anaconda3/lib/python3.8/site-packages/pandas_profiling/profile_report.py\u001b[0m in \u001b[0;36mreport\u001b[0;34m(self)\u001b[0m\n\u001b[1;32m    193\u001b[0m     \u001b[0;32mdef\u001b[0m \u001b[0mreport\u001b[0m\u001b[0;34m(\u001b[0m\u001b[0mself\u001b[0m\u001b[0;34m)\u001b[0m\u001b[0;34m:\u001b[0m\u001b[0;34m\u001b[0m\u001b[0;34m\u001b[0m\u001b[0m\n\u001b[1;32m    194\u001b[0m         \u001b[0;32mif\u001b[0m \u001b[0mself\u001b[0m\u001b[0;34m.\u001b[0m\u001b[0m_report\u001b[0m \u001b[0;32mis\u001b[0m \u001b[0;32mNone\u001b[0m\u001b[0;34m:\u001b[0m\u001b[0;34m\u001b[0m\u001b[0;34m\u001b[0m\u001b[0m\n\u001b[0;32m--> 195\u001b[0;31m             \u001b[0mself\u001b[0m\u001b[0;34m.\u001b[0m\u001b[0m_report\u001b[0m \u001b[0;34m=\u001b[0m \u001b[0mget_report_structure\u001b[0m\u001b[0;34m(\u001b[0m\u001b[0mself\u001b[0m\u001b[0;34m.\u001b[0m\u001b[0mdescription_set\u001b[0m\u001b[0;34m)\u001b[0m\u001b[0;34m\u001b[0m\u001b[0;34m\u001b[0m\u001b[0m\n\u001b[0m\u001b[1;32m    196\u001b[0m         \u001b[0;32mreturn\u001b[0m \u001b[0mself\u001b[0m\u001b[0;34m.\u001b[0m\u001b[0m_report\u001b[0m\u001b[0;34m\u001b[0m\u001b[0;34m\u001b[0m\u001b[0m\n\u001b[1;32m    197\u001b[0m \u001b[0;34m\u001b[0m\u001b[0m\n",
      "\u001b[0;32m~/opt/anaconda3/lib/python3.8/site-packages/pandas_profiling/profile_report.py\u001b[0m in \u001b[0;36mdescription_set\u001b[0;34m(self)\u001b[0m\n\u001b[1;32m    172\u001b[0m     \u001b[0;32mdef\u001b[0m \u001b[0mdescription_set\u001b[0m\u001b[0;34m(\u001b[0m\u001b[0mself\u001b[0m\u001b[0;34m)\u001b[0m\u001b[0;34m:\u001b[0m\u001b[0;34m\u001b[0m\u001b[0;34m\u001b[0m\u001b[0m\n\u001b[1;32m    173\u001b[0m         \u001b[0;32mif\u001b[0m \u001b[0mself\u001b[0m\u001b[0;34m.\u001b[0m\u001b[0m_description_set\u001b[0m \u001b[0;32mis\u001b[0m \u001b[0;32mNone\u001b[0m\u001b[0;34m:\u001b[0m\u001b[0;34m\u001b[0m\u001b[0;34m\u001b[0m\u001b[0m\n\u001b[0;32m--> 174\u001b[0;31m             self._description_set = describe_df(\n\u001b[0m\u001b[1;32m    175\u001b[0m                 \u001b[0mself\u001b[0m\u001b[0;34m.\u001b[0m\u001b[0mtitle\u001b[0m\u001b[0;34m,\u001b[0m \u001b[0mself\u001b[0m\u001b[0;34m.\u001b[0m\u001b[0mdf\u001b[0m\u001b[0;34m,\u001b[0m \u001b[0mself\u001b[0m\u001b[0;34m.\u001b[0m\u001b[0msummarizer\u001b[0m\u001b[0;34m,\u001b[0m \u001b[0mself\u001b[0m\u001b[0;34m.\u001b[0m\u001b[0mtypeset\u001b[0m\u001b[0;34m,\u001b[0m \u001b[0mself\u001b[0m\u001b[0;34m.\u001b[0m\u001b[0m_sample\u001b[0m\u001b[0;34m\u001b[0m\u001b[0;34m\u001b[0m\u001b[0m\n\u001b[1;32m    176\u001b[0m             )\n",
      "\u001b[0;32m~/opt/anaconda3/lib/python3.8/site-packages/pandas_profiling/model/describe.py\u001b[0m in \u001b[0;36mdescribe\u001b[0;34m(title, df, summarizer, typeset, sample)\u001b[0m\n\u001b[1;32m     72\u001b[0m         \u001b[0mtotal\u001b[0m\u001b[0;34m=\u001b[0m\u001b[0mnumber_of_tasks\u001b[0m\u001b[0;34m,\u001b[0m \u001b[0mdesc\u001b[0m\u001b[0;34m=\u001b[0m\u001b[0;34m\"Summarize dataset\"\u001b[0m\u001b[0;34m,\u001b[0m \u001b[0mdisable\u001b[0m\u001b[0;34m=\u001b[0m\u001b[0mdisable_progress_bar\u001b[0m\u001b[0;34m\u001b[0m\u001b[0;34m\u001b[0m\u001b[0m\n\u001b[1;32m     73\u001b[0m     ) as pbar:\n\u001b[0;32m---> 74\u001b[0;31m         \u001b[0mseries_description\u001b[0m \u001b[0;34m=\u001b[0m \u001b[0mget_series_descriptions\u001b[0m\u001b[0;34m(\u001b[0m\u001b[0mdf\u001b[0m\u001b[0;34m,\u001b[0m \u001b[0msummarizer\u001b[0m\u001b[0;34m,\u001b[0m \u001b[0mtypeset\u001b[0m\u001b[0;34m,\u001b[0m \u001b[0mpbar\u001b[0m\u001b[0;34m)\u001b[0m\u001b[0;34m\u001b[0m\u001b[0;34m\u001b[0m\u001b[0m\n\u001b[0m\u001b[1;32m     75\u001b[0m \u001b[0;34m\u001b[0m\u001b[0m\n\u001b[1;32m     76\u001b[0m         \u001b[0mpbar\u001b[0m\u001b[0;34m.\u001b[0m\u001b[0mset_postfix_str\u001b[0m\u001b[0;34m(\u001b[0m\u001b[0;34m\"Get variable types\"\u001b[0m\u001b[0;34m)\u001b[0m\u001b[0;34m\u001b[0m\u001b[0;34m\u001b[0m\u001b[0m\n",
      "\u001b[0;32m~/opt/anaconda3/lib/python3.8/site-packages/pandas_profiling/model/summary.py\u001b[0m in \u001b[0;36mget_series_descriptions\u001b[0;34m(df, summarizer, typeset, pbar)\u001b[0m\n\u001b[1;32m     97\u001b[0m         \u001b[0;31m# TODO: use `Pool` for Linux-based systems\u001b[0m\u001b[0;34m\u001b[0m\u001b[0;34m\u001b[0m\u001b[0;34m\u001b[0m\u001b[0m\n\u001b[1;32m     98\u001b[0m         \u001b[0;32mwith\u001b[0m \u001b[0mmultiprocessing\u001b[0m\u001b[0;34m.\u001b[0m\u001b[0mpool\u001b[0m\u001b[0;34m.\u001b[0m\u001b[0mThreadPool\u001b[0m\u001b[0;34m(\u001b[0m\u001b[0mpool_size\u001b[0m\u001b[0;34m)\u001b[0m \u001b[0;32mas\u001b[0m \u001b[0mexecutor\u001b[0m\u001b[0;34m:\u001b[0m\u001b[0;34m\u001b[0m\u001b[0;34m\u001b[0m\u001b[0m\n\u001b[0;32m---> 99\u001b[0;31m             for i, (column, description) in enumerate(\n\u001b[0m\u001b[1;32m    100\u001b[0m                 \u001b[0mexecutor\u001b[0m\u001b[0;34m.\u001b[0m\u001b[0mimap_unordered\u001b[0m\u001b[0;34m(\u001b[0m\u001b[0mmultiprocess_1d\u001b[0m\u001b[0;34m,\u001b[0m \u001b[0margs\u001b[0m\u001b[0;34m)\u001b[0m\u001b[0;34m\u001b[0m\u001b[0;34m\u001b[0m\u001b[0m\n\u001b[1;32m    101\u001b[0m             ):\n",
      "\u001b[0;32m~/opt/anaconda3/lib/python3.8/multiprocessing/pool.py\u001b[0m in \u001b[0;36mnext\u001b[0;34m(self, timeout)\u001b[0m\n\u001b[1;32m    854\u001b[0m                     \u001b[0mself\u001b[0m\u001b[0;34m.\u001b[0m\u001b[0m_pool\u001b[0m \u001b[0;34m=\u001b[0m \u001b[0;32mNone\u001b[0m\u001b[0;34m\u001b[0m\u001b[0;34m\u001b[0m\u001b[0m\n\u001b[1;32m    855\u001b[0m                     \u001b[0;32mraise\u001b[0m \u001b[0mStopIteration\u001b[0m \u001b[0;32mfrom\u001b[0m \u001b[0;32mNone\u001b[0m\u001b[0;34m\u001b[0m\u001b[0;34m\u001b[0m\u001b[0m\n\u001b[0;32m--> 856\u001b[0;31m                 \u001b[0mself\u001b[0m\u001b[0;34m.\u001b[0m\u001b[0m_cond\u001b[0m\u001b[0;34m.\u001b[0m\u001b[0mwait\u001b[0m\u001b[0;34m(\u001b[0m\u001b[0mtimeout\u001b[0m\u001b[0;34m)\u001b[0m\u001b[0;34m\u001b[0m\u001b[0;34m\u001b[0m\u001b[0m\n\u001b[0m\u001b[1;32m    857\u001b[0m                 \u001b[0;32mtry\u001b[0m\u001b[0;34m:\u001b[0m\u001b[0;34m\u001b[0m\u001b[0;34m\u001b[0m\u001b[0m\n\u001b[1;32m    858\u001b[0m                     \u001b[0mitem\u001b[0m \u001b[0;34m=\u001b[0m \u001b[0mself\u001b[0m\u001b[0;34m.\u001b[0m\u001b[0m_items\u001b[0m\u001b[0;34m.\u001b[0m\u001b[0mpopleft\u001b[0m\u001b[0;34m(\u001b[0m\u001b[0;34m)\u001b[0m\u001b[0;34m\u001b[0m\u001b[0;34m\u001b[0m\u001b[0m\n",
      "\u001b[0;32m~/opt/anaconda3/lib/python3.8/threading.py\u001b[0m in \u001b[0;36mwait\u001b[0;34m(self, timeout)\u001b[0m\n\u001b[1;32m    300\u001b[0m         \u001b[0;32mtry\u001b[0m\u001b[0;34m:\u001b[0m    \u001b[0;31m# restore state no matter what (e.g., KeyboardInterrupt)\u001b[0m\u001b[0;34m\u001b[0m\u001b[0;34m\u001b[0m\u001b[0m\n\u001b[1;32m    301\u001b[0m             \u001b[0;32mif\u001b[0m \u001b[0mtimeout\u001b[0m \u001b[0;32mis\u001b[0m \u001b[0;32mNone\u001b[0m\u001b[0;34m:\u001b[0m\u001b[0;34m\u001b[0m\u001b[0;34m\u001b[0m\u001b[0m\n\u001b[0;32m--> 302\u001b[0;31m                 \u001b[0mwaiter\u001b[0m\u001b[0;34m.\u001b[0m\u001b[0macquire\u001b[0m\u001b[0;34m(\u001b[0m\u001b[0;34m)\u001b[0m\u001b[0;34m\u001b[0m\u001b[0;34m\u001b[0m\u001b[0m\n\u001b[0m\u001b[1;32m    303\u001b[0m                 \u001b[0mgotit\u001b[0m \u001b[0;34m=\u001b[0m \u001b[0;32mTrue\u001b[0m\u001b[0;34m\u001b[0m\u001b[0;34m\u001b[0m\u001b[0m\n\u001b[1;32m    304\u001b[0m             \u001b[0;32melse\u001b[0m\u001b[0;34m:\u001b[0m\u001b[0;34m\u001b[0m\u001b[0;34m\u001b[0m\u001b[0m\n",
      "\u001b[0;31mKeyboardInterrupt\u001b[0m: "
     ]
    }
   ],
   "source": [
    "# Upload Mobility report dataset for 2021\n",
    "df = pd.read_csv('datasets/2021_GB_Region_Mobility_Report.csv')\n",
    "\n",
    "# Upload Mobility report dataset for 2021\n",
    "df0 = pd.read_csv('datasets/2020_GB_Region_Mobility_Report.csv')\n",
    "\n",
    "# Concat datasets\n",
    "df = pd.concat([df0, df])\n",
    "df.drop(['country_region_code', 'country_region'], axis=1)\n",
    "\n",
    "# Upload restrictions dataset\n",
    "\n",
    "df1 = pd.read_csv('datasets/restrictions_daily.csv')\n",
    "\n",
    "# Merge datatsets\n",
    "data = pd.merge(df, df1, how=\"inner\", on=[\"date\"])\n",
    "\n",
    "# Obtain report of the dataset\n",
    "prof = pandas_profiling.ProfileReport(data)\n",
    "prof.to_file(output_file='output.html')\n",
    "\n",
    "data.to_csv('datasets/london_mobility_restrictions.csv')"
   ]
  },
  {
   "cell_type": "code",
   "execution_count": 14,
   "metadata": {},
   "outputs": [
    {
     "data": {
      "text/html": [
       "<div>\n",
       "<style scoped>\n",
       "    .dataframe tbody tr th:only-of-type {\n",
       "        vertical-align: middle;\n",
       "    }\n",
       "\n",
       "    .dataframe tbody tr th {\n",
       "        vertical-align: top;\n",
       "    }\n",
       "\n",
       "    .dataframe thead th {\n",
       "        text-align: right;\n",
       "    }\n",
       "</style>\n",
       "<table border=\"1\" class=\"dataframe\">\n",
       "  <thead>\n",
       "    <tr style=\"text-align: right;\">\n",
       "      <th></th>\n",
       "      <th>Period and Financial year</th>\n",
       "      <th>Reporting Period</th>\n",
       "      <th>Days in period</th>\n",
       "      <th>Period beginning</th>\n",
       "      <th>Period ending</th>\n",
       "      <th>Bus journeys (m)</th>\n",
       "      <th>Underground journeys (m)</th>\n",
       "      <th>DLR Journeys (m)</th>\n",
       "      <th>Tram Journeys (m)</th>\n",
       "      <th>Overground Journeys (m)</th>\n",
       "      <th>Emirates Airline Journeys (m)</th>\n",
       "      <th>TfL Rail Journeys (m)</th>\n",
       "    </tr>\n",
       "  </thead>\n",
       "  <tbody>\n",
       "    <tr>\n",
       "      <th>0</th>\n",
       "      <td>01_10/11</td>\n",
       "      <td>1</td>\n",
       "      <td>31</td>\n",
       "      <td>2010-04-01</td>\n",
       "      <td>2010-05-01</td>\n",
       "      <td>189.114661</td>\n",
       "      <td>90.545391</td>\n",
       "      <td>6.291000</td>\n",
       "      <td>2.287785</td>\n",
       "      <td>NaN</td>\n",
       "      <td>NaN</td>\n",
       "      <td>NaN</td>\n",
       "    </tr>\n",
       "    <tr>\n",
       "      <th>1</th>\n",
       "      <td>02_10/11</td>\n",
       "      <td>2</td>\n",
       "      <td>28</td>\n",
       "      <td>2010-05-02</td>\n",
       "      <td>2010-05-29</td>\n",
       "      <td>181.604792</td>\n",
       "      <td>84.517504</td>\n",
       "      <td>5.813000</td>\n",
       "      <td>2.154791</td>\n",
       "      <td>NaN</td>\n",
       "      <td>NaN</td>\n",
       "      <td>NaN</td>\n",
       "    </tr>\n",
       "    <tr>\n",
       "      <th>2</th>\n",
       "      <td>03_10/11</td>\n",
       "      <td>3</td>\n",
       "      <td>28</td>\n",
       "      <td>2010-05-30</td>\n",
       "      <td>2010-06-26</td>\n",
       "      <td>175.883173</td>\n",
       "      <td>84.286014</td>\n",
       "      <td>5.752000</td>\n",
       "      <td>2.129122</td>\n",
       "      <td>NaN</td>\n",
       "      <td>NaN</td>\n",
       "      <td>NaN</td>\n",
       "    </tr>\n",
       "    <tr>\n",
       "      <th>3</th>\n",
       "      <td>04_10/11</td>\n",
       "      <td>4</td>\n",
       "      <td>28</td>\n",
       "      <td>2010-06-27</td>\n",
       "      <td>2010-07-24</td>\n",
       "      <td>183.428052</td>\n",
       "      <td>86.479612</td>\n",
       "      <td>6.064480</td>\n",
       "      <td>2.141941</td>\n",
       "      <td>NaN</td>\n",
       "      <td>NaN</td>\n",
       "      <td>NaN</td>\n",
       "    </tr>\n",
       "    <tr>\n",
       "      <th>4</th>\n",
       "      <td>05_10/11</td>\n",
       "      <td>5</td>\n",
       "      <td>28</td>\n",
       "      <td>2010-07-25</td>\n",
       "      <td>2010-08-21</td>\n",
       "      <td>160.422767</td>\n",
       "      <td>82.895287</td>\n",
       "      <td>5.767624</td>\n",
       "      <td>2.008482</td>\n",
       "      <td>NaN</td>\n",
       "      <td>NaN</td>\n",
       "      <td>NaN</td>\n",
       "    </tr>\n",
       "    <tr>\n",
       "      <th>...</th>\n",
       "      <td>...</td>\n",
       "      <td>...</td>\n",
       "      <td>...</td>\n",
       "      <td>...</td>\n",
       "      <td>...</td>\n",
       "      <td>...</td>\n",
       "      <td>...</td>\n",
       "      <td>...</td>\n",
       "      <td>...</td>\n",
       "      <td>...</td>\n",
       "      <td>...</td>\n",
       "      <td>...</td>\n",
       "    </tr>\n",
       "    <tr>\n",
       "      <th>138</th>\n",
       "      <td>09_19/20</td>\n",
       "      <td>9</td>\n",
       "      <td>28</td>\n",
       "      <td>2020-11-15</td>\n",
       "      <td>2020-12-12</td>\n",
       "      <td>88.994047</td>\n",
       "      <td>32.123281</td>\n",
       "      <td>4.008240</td>\n",
       "      <td>1.130222</td>\n",
       "      <td>6.704696</td>\n",
       "      <td>0.020520</td>\n",
       "      <td>2.076430</td>\n",
       "    </tr>\n",
       "    <tr>\n",
       "      <th>139</th>\n",
       "      <td>10_19/20</td>\n",
       "      <td>10</td>\n",
       "      <td>28</td>\n",
       "      <td>2020-12-13</td>\n",
       "      <td>2021-01-09</td>\n",
       "      <td>57.480443</td>\n",
       "      <td>18.829917</td>\n",
       "      <td>2.741322</td>\n",
       "      <td>0.738954</td>\n",
       "      <td>3.571976</td>\n",
       "      <td>0.029085</td>\n",
       "      <td>1.218441</td>\n",
       "    </tr>\n",
       "    <tr>\n",
       "      <th>140</th>\n",
       "      <td>11_19/20</td>\n",
       "      <td>11</td>\n",
       "      <td>28</td>\n",
       "      <td>2021-01-10</td>\n",
       "      <td>2021-02-06</td>\n",
       "      <td>51.707250</td>\n",
       "      <td>16.750937</td>\n",
       "      <td>2.662126</td>\n",
       "      <td>0.668001</td>\n",
       "      <td>3.519877</td>\n",
       "      <td>0.018906</td>\n",
       "      <td>1.154206</td>\n",
       "    </tr>\n",
       "    <tr>\n",
       "      <th>141</th>\n",
       "      <td>12_19/20</td>\n",
       "      <td>12</td>\n",
       "      <td>28</td>\n",
       "      <td>2021-02-07</td>\n",
       "      <td>2021-03-06</td>\n",
       "      <td>NaN</td>\n",
       "      <td>NaN</td>\n",
       "      <td>NaN</td>\n",
       "      <td>NaN</td>\n",
       "      <td>NaN</td>\n",
       "      <td>NaN</td>\n",
       "      <td>NaN</td>\n",
       "    </tr>\n",
       "    <tr>\n",
       "      <th>142</th>\n",
       "      <td>13_19/20</td>\n",
       "      <td>13</td>\n",
       "      <td>29</td>\n",
       "      <td>2021-03-07</td>\n",
       "      <td>2021-03-31</td>\n",
       "      <td>NaN</td>\n",
       "      <td>NaN</td>\n",
       "      <td>NaN</td>\n",
       "      <td>NaN</td>\n",
       "      <td>NaN</td>\n",
       "      <td>NaN</td>\n",
       "      <td>NaN</td>\n",
       "    </tr>\n",
       "  </tbody>\n",
       "</table>\n",
       "<p>143 rows × 12 columns</p>\n",
       "</div>"
      ],
      "text/plain": [
       "    Period and Financial year  Reporting Period  Days in period  \\\n",
       "0                    01_10/11                 1              31   \n",
       "1                    02_10/11                 2              28   \n",
       "2                    03_10/11                 3              28   \n",
       "3                    04_10/11                 4              28   \n",
       "4                    05_10/11                 5              28   \n",
       "..                        ...               ...             ...   \n",
       "138                  09_19/20                 9              28   \n",
       "139                  10_19/20                10              28   \n",
       "140                  11_19/20                11              28   \n",
       "141                  12_19/20                12              28   \n",
       "142                  13_19/20                13              29   \n",
       "\n",
       "    Period beginning Period ending  Bus journeys (m)  \\\n",
       "0         2010-04-01    2010-05-01        189.114661   \n",
       "1         2010-05-02    2010-05-29        181.604792   \n",
       "2         2010-05-30    2010-06-26        175.883173   \n",
       "3         2010-06-27    2010-07-24        183.428052   \n",
       "4         2010-07-25    2010-08-21        160.422767   \n",
       "..               ...           ...               ...   \n",
       "138       2020-11-15    2020-12-12         88.994047   \n",
       "139       2020-12-13    2021-01-09         57.480443   \n",
       "140       2021-01-10    2021-02-06         51.707250   \n",
       "141       2021-02-07    2021-03-06               NaN   \n",
       "142       2021-03-07    2021-03-31               NaN   \n",
       "\n",
       "     Underground journeys (m)  DLR Journeys (m)  Tram Journeys (m)  \\\n",
       "0                   90.545391          6.291000           2.287785   \n",
       "1                   84.517504          5.813000           2.154791   \n",
       "2                   84.286014          5.752000           2.129122   \n",
       "3                   86.479612          6.064480           2.141941   \n",
       "4                   82.895287          5.767624           2.008482   \n",
       "..                        ...               ...                ...   \n",
       "138                 32.123281          4.008240           1.130222   \n",
       "139                 18.829917          2.741322           0.738954   \n",
       "140                 16.750937          2.662126           0.668001   \n",
       "141                       NaN               NaN                NaN   \n",
       "142                       NaN               NaN                NaN   \n",
       "\n",
       "     Overground Journeys (m)  Emirates Airline Journeys (m)  \\\n",
       "0                        NaN                            NaN   \n",
       "1                        NaN                            NaN   \n",
       "2                        NaN                            NaN   \n",
       "3                        NaN                            NaN   \n",
       "4                        NaN                            NaN   \n",
       "..                       ...                            ...   \n",
       "138                 6.704696                       0.020520   \n",
       "139                 3.571976                       0.029085   \n",
       "140                 3.519877                       0.018906   \n",
       "141                      NaN                            NaN   \n",
       "142                      NaN                            NaN   \n",
       "\n",
       "     TfL Rail Journeys (m)  \n",
       "0                      NaN  \n",
       "1                      NaN  \n",
       "2                      NaN  \n",
       "3                      NaN  \n",
       "4                      NaN  \n",
       "..                     ...  \n",
       "138               2.076430  \n",
       "139               1.218441  \n",
       "140               1.154206  \n",
       "141                    NaN  \n",
       "142                    NaN  \n",
       "\n",
       "[143 rows x 12 columns]"
      ]
     },
     "execution_count": 14,
     "metadata": {},
     "output_type": "execute_result"
    }
   ],
   "source": [
    "from matplotlib.dates import DateFormatter\n",
    "\n",
    "df2 = pd.read_excel('tfl-journeys-type.xlsx', sheet_name=1)\n",
    "\n",
    "df2\n",
    "\n",
    "'''Problem: this dataset has the MONTHLY JOURNEYS'''\n",
    "\n",
    "# df = df.loc[df['Period beginning'] > '2020-01-01']\n",
    "# plt.figure(figsize=(20, 10))\n",
    "# # plt.plot(df['Period beginning'], df['Bus journeys (m)'], '.-r', label='Bus')\n",
    "# # plt.plot(df['Period beginning'], df['Underground journeys (m)'], '.-y', label='Underground')\n",
    "# # plt.plot(df['Period beginning'], df['DLR Journeys (m)'], '.-g', label='DLR')\n",
    "# # plt.plot(df['Period beginning'], df['Tram Journeys (m)'], '.-b', label='Tram')\n",
    "# legend= ['Bus', 'Underground','DLR', 'Tram' ]\n",
    "# plt.stackplot(df['Period beginning'],df['Bus journeys (m)'], df['Underground journeys (m)'],df['DLR Journeys (m)'], df['Tram Journeys (m)'] , labels=legend )\n",
    "# plt.legend(bbox_to_anchor=(1.05, 1), loc='upper left')\n",
    "# plt.title('Number of journeys on the public transport network by type of transport (in millions)', fontsize=20)\n",
    "# plt.show()"
   ]
  },
  {
   "cell_type": "code",
   "execution_count": null,
   "metadata": {},
   "outputs": [],
   "source": [
    "from bokeh.models import LogColorMapper\n",
    "from bokeh.palettes import RdYlBu11 as palette\n",
    "from bokeh.palettes import Viridis6\n",
    "from bokeh.plotting import figure\n",
    "from bokeh.models import (\n",
    "    GeoJSONDataSource,\n",
    "    HoverTool,\n",
    "    LinearColorMapper\n",
    ")\n",
    "from bokeh.io import show, output_notebook, output_file\n",
    "import json\n",
    "\n",
    "\n",
    "\n",
    "with open('datasets/london_boroughs.geojson') as f:\n",
    "    london_source = GeoJSONDataSource(geojson=f.read())\n",
    "\n",
    "with open('datasets/CycleRoutes.geojson') as f:\n",
    "    cycle_source = GeoJSONDataSource(geojson=f.read())\n",
    "\n",
    "    \n",
    "with open('datasets/cycle_hire_locations.geojson') as f:\n",
    "    docking_source = GeoJSONDataSource(geojson=f.read())\n",
    "\n",
    "\n",
    "color_mapper = LinearColorMapper(palette=Viridis6)\n",
    "\n",
    "TOOLS = \"pan,wheel_zoom,box_zoom,reset,hover,save\"\n",
    "\n",
    "p = figure(title=\"Cycle Routes\", tools=TOOLS, x_axis_location=None,\n",
    "           y_axis_location=None, width=600, height=400)\n",
    "p.grid.grid_line_color = None\n",
    "\n",
    "\n",
    "# Plot map of Greater London\n",
    "p.patches('xs', 'ys', source=london_source,\n",
    "          fill_color={'field': '@name', 'transform': color_mapper},\n",
    "          fill_alpha=1.0, line_color=\"black\", line_width=0.5)\n",
    "\n",
    "# Plot cycle routes on top\n",
    "p.multi_line('xs', 'ys', source=cycle_source, line_alpha=1, line_color='red',\n",
    "             line_width=0.7)\n",
    "p.circle('longitude', 'latitude', source=docking_source, )\n",
    "\n",
    "        \n",
    "\n",
    "\n",
    "hover = p.select_one(HoverTool)\n",
    "hover.point_policy = \"follow_mouse\"\n",
    "hover.tooltips = [(\"Borough\", \"@name\")]\n",
    "\n",
    "output_file(\"Cycle_Routes.html\", title=\"Cycle Routes\")\n",
    "\n",
    "show(p)"
   ]
  },
  {
   "cell_type": "code",
   "execution_count": 3,
   "metadata": {},
   "outputs": [
    {
     "data": {
      "image/png": "[encoded data removed]",
      "text/plain": [
       "<Figure size 1440x720 with 1 Axes>"
      ]
     },
     "metadata": {
      "needs_background": "light"
     },
     "output_type": "display_data"
    }
   ],
   "source": [
    "import pandas as pd\n",
    "from matplotlib.dates import DateFormatter\n",
    "cycle_hires = pd.read_excel('datasets/tfl-daily-cycle-hires.xlsx', sheet_name='Data')\n",
    "\n",
    "\n",
    "\n",
    "# remove data previous to 2020\n",
    "cycle_hires = cycle_hires.loc[cycle_hires['Day']>'2020-03-01']\n",
    "df1 = df1.loc[df1['date']>'2020-03-01']\n",
    "# remove data after 2021-04-01\n",
    "df1 = df1.loc[df1['date']<'2021-04-01']\n",
    "cycle_hires = cycle_hires.loc[cycle_hires['Day']<'2021-04-01']\n",
    "\n",
    "fig, ax = plt.subplots(figsize=(20,10))\n",
    "\n",
    "ax.plot(cycle_hires['Day'], cycle_hires['Number of Bicycle Hires'], 'wo',  mec='green', mew=1)\n",
    "\n",
    "\n",
    "\n",
    "\n",
    "for col in df1.columns[1:]:\n",
    "    ax.plot(cycle_hires['Day'], df1[col]*70000, alpha=0.8,linestyle='-', linewidth=1, color='black')\n",
    "    ax.fill_between(cycle_hires['Day'], df1[col]*70000, label=col, alpha=0.2,)\n",
    "    \n",
    "#     for value in df1[col]:\n",
    "#         if value == 1:\n",
    "#             ax.plot(cycle_hires['Day'], 70000)\n",
    "#          ax.fill_between(cycle_hires['Day'], df1[col], label=col, alpha=0.3)\n",
    "    \n",
    "ax.xaxis.set_major_formatter(DateFormatter(\"%y-%m-%d\"))\n",
    "plt.legend(bbox_to_anchor=(1.2, 1), loc='upper right')\n",
    "plt.title('Number of Bicycle Hires and days where restrictions were introduced')\n",
    "plt.show()"
   ]
  },
  {
   "cell_type": "code",
   "execution_count": 6,
   "metadata": {},
   "outputs": [
    {
     "name": "stdout",
     "output_type": "stream",
     "text": [
      "Requirement already satisfied: convertbng in /Users/luciamontesinos/opt/anaconda3/lib/python3.8/site-packages (0.6.25)\r\n",
      "Requirement already satisfied: numpy>=1.11.0 in /Users/luciamontesinos/opt/anaconda3/lib/python3.8/site-packages (from convertbng) (1.19.2)\r\n"
     ]
    }
   ],
   "source": [
    "!pip install convertbng\n",
    "import convertbng\n",
    "from convertbng.util import convert_bng, convert_lonlat"
   ]
  },
  {
   "cell_type": "code",
   "execution_count": null,
   "metadata": {},
   "outputs": [],
   "source": [
    "bus_stops = pd.read_csv('datasets/bus-stops-10-06-15.csv')\n",
    "\n",
    "res_list_en = convert_lonlat(bus_stops.Location_Easting, bus_stops.Location_Northing)\n"
   ]
  },
  {
   "cell_type": "code",
   "execution_count": null,
   "metadata": {},
   "outputs": [],
   "source": [
    "from bokeh.models import ColumnDataSource, FactorRange, Legend\n",
    "from bokeh.palettes import viridis\n",
    "from bokeh.plotting import figure\n",
    "from bokeh.transform import factor_cmap\n",
    "from bokeh.models import Legend\n",
    "from bokeh.io import show, output_notebook\n",
    "\n",
    "\n",
    "source = df1\n",
    "factors = [str(i) for i in list(range(10))]\n",
    "p = figure(x_range = FactorRange(factors=factors), plot_height=400, plot_width=1000, title=\"SF normalized crimes by hour\",\n",
    "           toolbar_location=None, tools=\"\")\n",
    "bar ={}\n",
    "legend_items = []\n",
    "\n",
    "\n",
    "for indx, i in enumerate(focuscrimes):\n",
    "    bar[i] = p.vbar(x='Hour', top=i, source=source, width=0.9, color=viridis(14)[indx],\n",
    "                    alpha=0.8, muted_color=viridis(14)[indx], muted_alpha=0.2)\n",
    "    legend_items.append((i, [bar[i]]))\n",
    "\n",
    "legend = Legend(items=legend_items)\n",
    "p.add_layout(legend,'left')\n",
    "p.legend.click_policy = 'mute'\n",
    "output_notebook()\n",
    "show(p)\n"
   ]
  },
  {
   "cell_type": "code",
   "execution_count": 54,
   "metadata": {},
   "outputs": [
    {
     "name": "stdout",
     "output_type": "stream",
     "text": [
      "  country_region_code  country_region sub_region_1 sub_region_2  metro_area  \\\n",
      "0                  GB  United Kingdom          NaN          NaN         NaN   \n",
      "1                  GB  United Kingdom          NaN          NaN         NaN   \n",
      "2                  GB  United Kingdom          NaN          NaN         NaN   \n",
      "3                  GB  United Kingdom          NaN          NaN         NaN   \n",
      "4                  GB  United Kingdom          NaN          NaN         NaN   \n",
      "\n",
      "  iso_3166_2_code  census_fips_code                     place_id        date  \\\n",
      "0             NaN               NaN  ChIJqZHHQhE7WgIReiWIMkOg-MQ  2020-02-15   \n",
      "1             NaN               NaN  ChIJqZHHQhE7WgIReiWIMkOg-MQ  2020-02-16   \n",
      "2             NaN               NaN  ChIJqZHHQhE7WgIReiWIMkOg-MQ  2020-02-17   \n",
      "3             NaN               NaN  ChIJqZHHQhE7WgIReiWIMkOg-MQ  2020-02-18   \n",
      "4             NaN               NaN  ChIJqZHHQhE7WgIReiWIMkOg-MQ  2020-02-19   \n",
      "\n",
      "   retail_and_recreation_percent_change_from_baseline  \\\n",
      "0                                              -12.0    \n",
      "1                                               -7.0    \n",
      "2                                               10.0    \n",
      "3                                                7.0    \n",
      "4                                                6.0    \n",
      "\n",
      "   grocery_and_pharmacy_percent_change_from_baseline  \\\n",
      "0                                               -7.0   \n",
      "1                                               -6.0   \n",
      "2                                                1.0   \n",
      "3                                               -1.0   \n",
      "4                                               -2.0   \n",
      "\n",
      "   parks_percent_change_from_baseline  \\\n",
      "0                               -35.0   \n",
      "1                               -28.0   \n",
      "2                                24.0   \n",
      "3                                20.0   \n",
      "4                                 8.0   \n",
      "\n",
      "   transit_stations_percent_change_from_baseline  \\\n",
      "0                                          -12.0   \n",
      "1                                           -7.0   \n",
      "2                                           -2.0   \n",
      "3                                           -3.0   \n",
      "4                                           -4.0   \n",
      "\n",
      "   workplaces_percent_change_from_baseline  \\\n",
      "0                                     -4.0   \n",
      "1                                     -3.0   \n",
      "2                                    -14.0   \n",
      "3                                    -14.0   \n",
      "4                                    -14.0   \n",
      "\n",
      "   residential_percent_change_from_baseline  \n",
      "0                                       2.0  \n",
      "1                                       1.0  \n",
      "2                                       2.0  \n",
      "3                                       2.0  \n",
      "4                                       3.0  \n"
     ]
    }
   ],
   "source": [
    "import numpy as np\n",
    "import pandas as pd\n",
    "import datetime\n",
    "from bokeh.io import show\n",
    "from bokeh.layouts import column\n",
    "from bokeh.models import ColumnDataSource, RangeTool, Legend, Label\n",
    "from bokeh.plotting import figure\n",
    "from bokeh.palettes import Viridis6\n",
    "from bokeh.io import show, output_notebook, output_file\n",
    "\n",
    "\n",
    "\n",
    "# Upload Mobility report dataset for 2021\n",
    "df = pd.read_csv('datasets/2021_GB_Region_Mobility_Report.csv')\n",
    "\n",
    "# Upload Mobility report dataset for 2021\n",
    "df0 = pd.read_csv('datasets/2020_GB_Region_Mobility_Report.csv')\n",
    "\n",
    "# Concat datasets\n",
    "df = pd.concat([df0, df])\n",
    "df.drop(['country_region_code', 'country_region'], axis=1)\n",
    "print(df.head())\n",
    "\n",
    "# Extract greater london area\n",
    "df = df.loc[df.sub_region_1 == 'Greater London']\n",
    "df.sub_region_2 = df.sub_region_2.fillna(0)\n",
    "df = df.loc[df.sub_region_2 == 0]\n",
    "df.date = pd.to_datetime(df.date)\n",
    "\n",
    "\n",
    "# Bokeh\n",
    "p = figure(plot_height=300, plot_width=800, tools=[\"xpan\"], toolbar_location=None, title=\"Mobility in Greater London\",\n",
    "           x_axis_type=\"datetime\", x_range=(min(df.date), max(df.date)))\n",
    "\n",
    "line ={}\n",
    "legend_items = []\n",
    "\n",
    "\n",
    "for index, baseline_col in enumerate(list(df.columns.values)[-6:]):\n",
    "    \n",
    "    line[baseline_col] = p.line(df.date, df[baseline_col], color=Viridis6[index],\n",
    "                    alpha=1, muted_color=Viridis6[index], muted_alpha=0.1, line_width=2)\n",
    "    \n",
    "    # Add legend and make it readable\n",
    "    legend_items.append((baseline_col.replace('_', ' ')[:-28], [line[baseline_col]]))\n",
    "\n",
    "\n",
    "legend = Legend(items=legend_items)\n",
    "p.add_layout(legend,'left')\n",
    "p.legend.click_policy = 'mute'\n",
    "\n",
    "\n",
    "# Add baseline line\n",
    "p.line(df.date, 0, color='black', line_width=0.5, line_dash='dashed')\n",
    "\n",
    "\n",
    "p.yaxis.axis_label = 'Change from baseline'\n",
    "\n",
    "select = figure(title=\"Drag the middle and edges of the selection box to change the date range above\",\n",
    "                plot_height=100, plot_width=800, y_range=p.y_range,\n",
    "                x_axis_type=\"datetime\", y_axis_type=None,\n",
    "                tools=\"\", toolbar_location=None)\n",
    "\n",
    "range_tool = RangeTool(x_range=p.x_range)\n",
    "range_tool.overlay.fill_color = \"navy\"\n",
    "range_tool.overlay.fill_alpha = 0.2\n",
    "\n",
    "\n",
    "\n",
    "for baseline_col in list(df.columns.values)[-6:]:\n",
    "    select.line(df.date, df[baseline_col])\n",
    "select.ygrid.grid_line_color = None\n",
    "select.add_tools(range_tool)\n",
    "select.toolbar.active_multi = range_tool\n",
    "\n",
    "show(column(p, select))\n",
    "\n",
    "\n",
    "output_file(\"ChangeBaseline.html\")\n"
   ]
  },
  {
   "cell_type": "code",
   "execution_count": 57,
   "metadata": {},
   "outputs": [
    {
     "data": {
      "application/vnd.plotly.v1+json": {
       "config": {
        "plotlyServerURL": "https://plot.ly"
       },
       "data": [
        {
         "alignmentgroup": "True",
         "base": [
          "2020-03-23",
          "2021-01-05"
         ],
         "hovertemplate": "Restriction=%{y}<br>Start=%{base}<br>Finish=%{x}<extra></extra>",
         "legendgroup": "schools closed",
         "marker": {
          "color": "#636efa"
         },
         "name": "schools closed",
         "offsetgroup": "schools closed",
         "orientation": "h",
         "showlegend": true,
         "textposition": "auto",
         "type": "bar",
         "x": [
          5961600000,
          5270400000
         ],
         "xaxis": "x",
         "y": [
          "schools closed",
          "schools closed"
         ],
         "yaxis": "y"
        },
        {
         "alignmentgroup": "True",
         "base": [
          "2020-03-21",
          "2020-11-05",
          "2020-12-16"
         ],
         "hovertemplate": "Restriction=%{y}<br>Start=%{base}<br>Finish=%{x}<extra></extra>",
         "legendgroup": "pubs closed",
         "marker": {
          "color": "#EF553B"
         },
         "name": "pubs closed",
         "offsetgroup": "pubs closed",
         "orientation": "h",
         "showlegend": true,
         "textposition": "auto",
         "type": "bar",
         "x": [
          8899200000,
          2246400000,
          10627200000
         ],
         "xaxis": "x",
         "y": [
          "pubs closed",
          "pubs closed",
          "pubs closed"
         ],
         "yaxis": "y"
        },
        {
         "alignmentgroup": "True",
         "base": [
          "2020-03-24",
          "2020-11-05",
          "2020-12-20"
         ],
         "hovertemplate": "Restriction=%{y}<br>Start=%{base}<br>Finish=%{x}<extra></extra>",
         "legendgroup": "shops closed",
         "marker": {
          "color": "#00cc96"
         },
         "name": "shops closed",
         "offsetgroup": "shops closed",
         "orientation": "h",
         "showlegend": true,
         "textposition": "auto",
         "type": "bar",
         "x": [
          7084800000,
          2246400000,
          10281600000
         ],
         "xaxis": "x",
         "y": [
          "shops closed",
          "shops closed",
          "shops closed"
         ],
         "yaxis": "y"
        },
        {
         "alignmentgroup": "True",
         "base": [
          "2020-03-21",
          "2020-11-05",
          "2020-12-16"
         ],
         "hovertemplate": "Restriction=%{y}<br>Start=%{base}<br>Finish=%{x}<extra></extra>",
         "legendgroup": "eating places closed",
         "marker": {
          "color": "#ab63fa"
         },
         "name": "eating places closed",
         "offsetgroup": "eating places closed",
         "orientation": "h",
         "showlegend": true,
         "textposition": "auto",
         "type": "bar",
         "x": [
          8985600000,
          2246400000,
          10627200000
         ],
         "xaxis": "x",
         "y": [
          "eating places closed",
          "eating places closed",
          "eating places closed"
         ],
         "yaxis": "y"
        },
        {
         "alignmentgroup": "True",
         "base": [
          "2020-03-24",
          "2020-11-05",
          "2020-12-20"
         ],
         "hovertemplate": "Restriction=%{y}<br>Start=%{base}<br>Finish=%{x}<extra></extra>",
         "legendgroup": "stay at home",
         "marker": {
          "color": "#FFA15A"
         },
         "name": "stay at home",
         "offsetgroup": "stay at home",
         "orientation": "h",
         "showlegend": true,
         "textposition": "auto",
         "type": "bar",
         "x": [
          4060800000,
          2332800000,
          8467200000
         ],
         "xaxis": "x",
         "y": [
          "stay at home",
          "stay at home",
          "stay at home"
         ],
         "yaxis": "y"
        },
        {
         "alignmentgroup": "True",
         "base": [
          "2020-03-24",
          "2020-10-17"
         ],
         "hovertemplate": "Restriction=%{y}<br>Start=%{base}<br>Finish=%{x}<extra></extra>",
         "legendgroup": "household mixing indoors banned",
         "marker": {
          "color": "#19d3f3"
         },
         "name": "household mixing indoors banned",
         "offsetgroup": "household mixing indoors banned",
         "orientation": "h",
         "showlegend": true,
         "textposition": "auto",
         "type": "bar",
         "x": [
          8726400000,
          15811200000
         ],
         "xaxis": "x",
         "y": [
          "household mixing indoors banned",
          "household mixing indoors banned"
         ],
         "yaxis": "y"
        },
        {
         "alignmentgroup": "True",
         "base": [
          "2020-03-17",
          "2020-09-22"
         ],
         "hovertemplate": "Restriction=%{y}<br>Start=%{base}<br>Finish=%{x}<extra></extra>",
         "legendgroup": "wfh",
         "marker": {
          "color": "#FF6692"
         },
         "name": "wfh",
         "offsetgroup": "wfh",
         "orientation": "h",
         "showlegend": true,
         "textposition": "auto",
         "type": "bar",
         "x": [
          11750400000,
          17971200000
         ],
         "xaxis": "x",
         "y": [
          "wfh",
          "wfh"
         ],
         "yaxis": "y"
        },
        {
         "alignmentgroup": "True",
         "base": [
          "2020-09-14"
         ],
         "hovertemplate": "Restriction=%{y}<br>Start=%{base}<br>Finish=%{x}<extra></extra>",
         "legendgroup": "rule of 6 indoors",
         "marker": {
          "color": "#B6E880"
         },
         "name": "rule of 6 indoors",
         "offsetgroup": "rule of 6 indoors",
         "orientation": "h",
         "showlegend": true,
         "textposition": "auto",
         "type": "bar",
         "x": [
          2764800000
         ],
         "xaxis": "x",
         "y": [
          "rule of 6 indoors"
         ],
         "yaxis": "y"
        },
        {
         "alignmentgroup": "True",
         "base": [
          "2020-09-24",
          "2020-12-02"
         ],
         "hovertemplate": "Restriction=%{y}<br>Start=%{base}<br>Finish=%{x}<extra></extra>",
         "legendgroup": "curfew",
         "marker": {
          "color": "#FF97FF"
         },
         "name": "curfew",
         "offsetgroup": "curfew",
         "orientation": "h",
         "showlegend": true,
         "textposition": "auto",
         "type": "bar",
         "x": [
          3542400000,
          1123200000
         ],
         "xaxis": "x",
         "y": [
          "curfew",
          "curfew"
         ],
         "yaxis": "y"
        },
        {
         "alignmentgroup": "True",
         "base": [
          "2020-08-03"
         ],
         "hovertemplate": "Restriction=%{y}<br>Start=%{base}<br>Finish=%{x}<extra></extra>",
         "legendgroup": "eat out to help out",
         "marker": {
          "color": "#FECB52"
         },
         "name": "eat out to help out",
         "offsetgroup": "eat out to help out",
         "orientation": "h",
         "showlegend": true,
         "textposition": "auto",
         "type": "bar",
         "x": [
          2332800000
         ],
         "xaxis": "x",
         "y": [
          "eat out to help out"
         ],
         "yaxis": "y"
        }
       ],
       "layout": {
        "barmode": "overlay",
        "legend": {
         "title": {
          "text": "Restriction"
         },
         "tracegroupgap": 0
        },
        "paper_bgcolor": "rgba(0, 0, 0, 0)",
        "plot_bgcolor": "rgba(0, 0, 0, 0)",
        "showlegend": false,
        "template": {
         "data": {
          "bar": [
           {
            "error_x": {
             "color": "#2a3f5f"
            },
            "error_y": {
             "color": "#2a3f5f"
            },
            "marker": {
             "line": {
              "color": "#E5ECF6",
              "width": 0.5
             }
            },
            "type": "bar"
           }
          ],
          "barpolar": [
           {
            "marker": {
             "line": {
              "color": "#E5ECF6",
              "width": 0.5
             }
            },
            "type": "barpolar"
           }
          ],
          "carpet": [
           {
            "aaxis": {
             "endlinecolor": "#2a3f5f",
             "gridcolor": "white",
             "linecolor": "white",
             "minorgridcolor": "white",
             "startlinecolor": "#2a3f5f"
            },
            "baxis": {
             "endlinecolor": "#2a3f5f",
             "gridcolor": "white",
             "linecolor": "white",
             "minorgridcolor": "white",
             "startlinecolor": "#2a3f5f"
            },
            "type": "carpet"
           }
          ],
          "choropleth": [
           {
            "colorbar": {
             "outlinewidth": 0,
             "ticks": ""
            },
            "type": "choropleth"
           }
          ],
          "contour": [
           {
            "colorbar": {
             "outlinewidth": 0,
             "ticks": ""
            },
            "colorscale": [
             [
              0,
              "#0d0887"
             ],
             [
              0.1111111111111111,
              "#46039f"
             ],
             [
              0.2222222222222222,
              "#7201a8"
             ],
             [
              0.3333333333333333,
              "#9c179e"
             ],
             [
              0.4444444444444444,
              "#bd3786"
             ],
             [
              0.5555555555555556,
              "#d8576b"
             ],
             [
              0.6666666666666666,
              "#ed7953"
             ],
             [
              0.7777777777777778,
              "#fb9f3a"
             ],
             [
              0.8888888888888888,
              "#fdca26"
             ],
             [
              1,
              "#f0f921"
             ]
            ],
            "type": "contour"
           }
          ],
          "contourcarpet": [
           {
            "colorbar": {
             "outlinewidth": 0,
             "ticks": ""
            },
            "type": "contourcarpet"
           }
          ],
          "heatmap": [
           {
            "colorbar": {
             "outlinewidth": 0,
             "ticks": ""
            },
            "colorscale": [
             [
              0,
              "#0d0887"
             ],
             [
              0.1111111111111111,
              "#46039f"
             ],
             [
              0.2222222222222222,
              "#7201a8"
             ],
             [
              0.3333333333333333,
              "#9c179e"
             ],
             [
              0.4444444444444444,
              "#bd3786"
             ],
             [
              0.5555555555555556,
              "#d8576b"
             ],
             [
              0.6666666666666666,
              "#ed7953"
             ],
             [
              0.7777777777777778,
              "#fb9f3a"
             ],
             [
              0.8888888888888888,
              "#fdca26"
             ],
             [
              1,
              "#f0f921"
             ]
            ],
            "type": "heatmap"
           }
          ],
          "heatmapgl": [
           {
            "colorbar": {
             "outlinewidth": 0,
             "ticks": ""
            },
            "colorscale": [
             [
              0,
              "#0d0887"
             ],
             [
              0.1111111111111111,
              "#46039f"
             ],
             [
              0.2222222222222222,
              "#7201a8"
             ],
             [
              0.3333333333333333,
              "#9c179e"
             ],
             [
              0.4444444444444444,
              "#bd3786"
             ],
             [
              0.5555555555555556,
              "#d8576b"
             ],
             [
              0.6666666666666666,
              "#ed7953"
             ],
             [
              0.7777777777777778,
              "#fb9f3a"
             ],
             [
              0.8888888888888888,
              "#fdca26"
             ],
             [
              1,
              "#f0f921"
             ]
            ],
            "type": "heatmapgl"
           }
          ],
          "histogram": [
           {
            "marker": {
             "colorbar": {
              "outlinewidth": 0,
              "ticks": ""
             }
            },
            "type": "histogram"
           }
          ],
          "histogram2d": [
           {
            "colorbar": {
             "outlinewidth": 0,
             "ticks": ""
            },
            "colorscale": [
             [
              0,
              "#0d0887"
             ],
             [
              0.1111111111111111,
              "#46039f"
             ],
             [
              0.2222222222222222,
              "#7201a8"
             ],
             [
              0.3333333333333333,
              "#9c179e"
             ],
             [
              0.4444444444444444,
              "#bd3786"
             ],
             [
              0.5555555555555556,
              "#d8576b"
             ],
             [
              0.6666666666666666,
              "#ed7953"
             ],
             [
              0.7777777777777778,
              "#fb9f3a"
             ],
             [
              0.8888888888888888,
              "#fdca26"
             ],
             [
              1,
              "#f0f921"
             ]
            ],
            "type": "histogram2d"
           }
          ],
          "histogram2dcontour": [
           {
            "colorbar": {
             "outlinewidth": 0,
             "ticks": ""
            },
            "colorscale": [
             [
              0,
              "#0d0887"
             ],
             [
              0.1111111111111111,
              "#46039f"
             ],
             [
              0.2222222222222222,
              "#7201a8"
             ],
             [
              0.3333333333333333,
              "#9c179e"
             ],
             [
              0.4444444444444444,
              "#bd3786"
             ],
             [
              0.5555555555555556,
              "#d8576b"
             ],
             [
              0.6666666666666666,
              "#ed7953"
             ],
             [
              0.7777777777777778,
              "#fb9f3a"
             ],
             [
              0.8888888888888888,
              "#fdca26"
             ],
             [
              1,
              "#f0f921"
             ]
            ],
            "type": "histogram2dcontour"
           }
          ],
          "mesh3d": [
           {
            "colorbar": {
             "outlinewidth": 0,
             "ticks": ""
            },
            "type": "mesh3d"
           }
          ],
          "parcoords": [
           {
            "line": {
             "colorbar": {
              "outlinewidth": 0,
              "ticks": ""
             }
            },
            "type": "parcoords"
           }
          ],
          "pie": [
           {
            "automargin": true,
            "type": "pie"
           }
          ],
          "scatter": [
           {
            "marker": {
             "colorbar": {
              "outlinewidth": 0,
              "ticks": ""
             }
            },
            "type": "scatter"
           }
          ],
          "scatter3d": [
           {
            "line": {
             "colorbar": {
              "outlinewidth": 0,
              "ticks": ""
             }
            },
            "marker": {
             "colorbar": {
              "outlinewidth": 0,
              "ticks": ""
             }
            },
            "type": "scatter3d"
           }
          ],
          "scattercarpet": [
           {
            "marker": {
             "colorbar": {
              "outlinewidth": 0,
              "ticks": ""
             }
            },
            "type": "scattercarpet"
           }
          ],
          "scattergeo": [
           {
            "marker": {
             "colorbar": {
              "outlinewidth": 0,
              "ticks": ""
             }
            },
            "type": "scattergeo"
           }
          ],
          "scattergl": [
           {
            "marker": {
             "colorbar": {
              "outlinewidth": 0,
              "ticks": ""
             }
            },
            "type": "scattergl"
           }
          ],
          "scattermapbox": [
           {
            "marker": {
             "colorbar": {
              "outlinewidth": 0,
              "ticks": ""
             }
            },
            "type": "scattermapbox"
           }
          ],
          "scatterpolar": [
           {
            "marker": {
             "colorbar": {
              "outlinewidth": 0,
              "ticks": ""
             }
            },
            "type": "scatterpolar"
           }
          ],
          "scatterpolargl": [
           {
            "marker": {
             "colorbar": {
              "outlinewidth": 0,
              "ticks": ""
             }
            },
            "type": "scatterpolargl"
           }
          ],
          "scatterternary": [
           {
            "marker": {
             "colorbar": {
              "outlinewidth": 0,
              "ticks": ""
             }
            },
            "type": "scatterternary"
           }
          ],
          "surface": [
           {
            "colorbar": {
             "outlinewidth": 0,
             "ticks": ""
            },
            "colorscale": [
             [
              0,
              "#0d0887"
             ],
             [
              0.1111111111111111,
              "#46039f"
             ],
             [
              0.2222222222222222,
              "#7201a8"
             ],
             [
              0.3333333333333333,
              "#9c179e"
             ],
             [
              0.4444444444444444,
              "#bd3786"
             ],
             [
              0.5555555555555556,
              "#d8576b"
             ],
             [
              0.6666666666666666,
              "#ed7953"
             ],
             [
              0.7777777777777778,
              "#fb9f3a"
             ],
             [
              0.8888888888888888,
              "#fdca26"
             ],
             [
              1,
              "#f0f921"
             ]
            ],
            "type": "surface"
           }
          ],
          "table": [
           {
            "cells": {
             "fill": {
              "color": "#EBF0F8"
             },
             "line": {
              "color": "white"
             }
            },
            "header": {
             "fill": {
              "color": "#C8D4E3"
             },
             "line": {
              "color": "white"
             }
            },
            "type": "table"
           }
          ]
         },
         "layout": {
          "annotationdefaults": {
           "arrowcolor": "#2a3f5f",
           "arrowhead": 0,
           "arrowwidth": 1
          },
          "autotypenumbers": "strict",
          "coloraxis": {
           "colorbar": {
            "outlinewidth": 0,
            "ticks": ""
           }
          },
          "colorscale": {
           "diverging": [
            [
             0,
             "#8e0152"
            ],
            [
             0.1,
             "#c51b7d"
            ],
            [
             0.2,
             "#de77ae"
            ],
            [
             0.3,
             "#f1b6da"
            ],
            [
             0.4,
             "#fde0ef"
            ],
            [
             0.5,
             "#f7f7f7"
            ],
            [
             0.6,
             "#e6f5d0"
            ],
            [
             0.7,
             "#b8e186"
            ],
            [
             0.8,
             "#7fbc41"
            ],
            [
             0.9,
             "#4d9221"
            ],
            [
             1,
             "#276419"
            ]
           ],
           "sequential": [
            [
             0,
             "#0d0887"
            ],
            [
             0.1111111111111111,
             "#46039f"
            ],
            [
             0.2222222222222222,
             "#7201a8"
            ],
            [
             0.3333333333333333,
             "#9c179e"
            ],
            [
             0.4444444444444444,
             "#bd3786"
            ],
            [
             0.5555555555555556,
             "#d8576b"
            ],
            [
             0.6666666666666666,
             "#ed7953"
            ],
            [
             0.7777777777777778,
             "#fb9f3a"
            ],
            [
             0.8888888888888888,
             "#fdca26"
            ],
            [
             1,
             "#f0f921"
            ]
           ],
           "sequentialminus": [
            [
             0,
             "#0d0887"
            ],
            [
             0.1111111111111111,
             "#46039f"
            ],
            [
             0.2222222222222222,
             "#7201a8"
            ],
            [
             0.3333333333333333,
             "#9c179e"
            ],
            [
             0.4444444444444444,
             "#bd3786"
            ],
            [
             0.5555555555555556,
             "#d8576b"
            ],
            [
             0.6666666666666666,
             "#ed7953"
            ],
            [
             0.7777777777777778,
             "#fb9f3a"
            ],
            [
             0.8888888888888888,
             "#fdca26"
            ],
            [
             1,
             "#f0f921"
            ]
           ]
          },
          "colorway": [
           "#636efa",
           "#EF553B",
           "#00cc96",
           "#ab63fa",
           "#FFA15A",
           "#19d3f3",
           "#FF6692",
           "#B6E880",
           "#FF97FF",
           "#FECB52"
          ],
          "font": {
           "color": "#2a3f5f"
          },
          "geo": {
           "bgcolor": "white",
           "lakecolor": "white",
           "landcolor": "#E5ECF6",
           "showlakes": true,
           "showland": true,
           "subunitcolor": "white"
          },
          "hoverlabel": {
           "align": "left"
          },
          "hovermode": "closest",
          "mapbox": {
           "style": "light"
          },
          "paper_bgcolor": "white",
          "plot_bgcolor": "#E5ECF6",
          "polar": {
           "angularaxis": {
            "gridcolor": "white",
            "linecolor": "white",
            "ticks": ""
           },
           "bgcolor": "#E5ECF6",
           "radialaxis": {
            "gridcolor": "white",
            "linecolor": "white",
            "ticks": ""
           }
          },
          "scene": {
           "xaxis": {
            "backgroundcolor": "#E5ECF6",
            "gridcolor": "white",
            "gridwidth": 2,
            "linecolor": "white",
            "showbackground": true,
            "ticks": "",
            "zerolinecolor": "white"
           },
           "yaxis": {
            "backgroundcolor": "#E5ECF6",
            "gridcolor": "white",
            "gridwidth": 2,
            "linecolor": "white",
            "showbackground": true,
            "ticks": "",
            "zerolinecolor": "white"
           },
           "zaxis": {
            "backgroundcolor": "#E5ECF6",
            "gridcolor": "white",
            "gridwidth": 2,
            "linecolor": "white",
            "showbackground": true,
            "ticks": "",
            "zerolinecolor": "white"
           }
          },
          "shapedefaults": {
           "line": {
            "color": "#2a3f5f"
           }
          },
          "ternary": {
           "aaxis": {
            "gridcolor": "white",
            "linecolor": "white",
            "ticks": ""
           },
           "baxis": {
            "gridcolor": "white",
            "linecolor": "white",
            "ticks": ""
           },
           "bgcolor": "#E5ECF6",
           "caxis": {
            "gridcolor": "white",
            "linecolor": "white",
            "ticks": ""
           }
          },
          "title": {
           "x": 0.05
          },
          "xaxis": {
           "automargin": true,
           "gridcolor": "white",
           "linecolor": "white",
           "ticks": "",
           "title": {
            "standoff": 15
           },
           "zerolinecolor": "white",
           "zerolinewidth": 2
          },
          "yaxis": {
           "automargin": true,
           "gridcolor": "white",
           "linecolor": "white",
           "ticks": "",
           "title": {
            "standoff": 15
           },
           "zerolinecolor": "white",
           "zerolinewidth": 2
          }
         }
        },
        "title": {
         "text": "Timeline of mobility restrictions"
        },
        "xaxis": {
         "anchor": "y",
         "domain": [
          0,
          1
         ],
         "gridcolor": "black",
         "nticks": 20,
         "tickformat": "%d %b %y",
         "tickmode": "auto",
         "type": "date"
        },
        "yaxis": {
         "anchor": "x",
         "categoryarray": [
          "eat out to help out",
          "curfew",
          "rule of 6 indoors",
          "wfh",
          "household mixing indoors banned",
          "stay at home",
          "eating places closed",
          "shops closed",
          "pubs closed",
          "schools closed"
         ],
         "categoryorder": "array",
         "domain": [
          0,
          1
         ],
         "title": {
          "text": "Restriction"
         }
        }
       }
      },
      "text/html": [
       "<div>                            <div id=\"710b1e37-1174-4ccf-9c57-b36586e5c1bd\" class=\"plotly-graph-div\" style=\"height:525px; width:100%;\"></div>            <script type=\"text/javascript\">                require([\"plotly\"], function(Plotly) {                    window.PLOTLYENV=window.PLOTLYENV || {};                                    if (document.getElementById(\"710b1e37-1174-4ccf-9c57-b36586e5c1bd\")) {                    Plotly.newPlot(                        \"710b1e37-1174-4ccf-9c57-b36586e5c1bd\",                        [{\"alignmentgroup\": \"True\", \"base\": [\"2020-03-23\", \"2021-01-05\"], \"hovertemplate\": \"Restriction=%{y}<br>Start=%{base}<br>Finish=%{x}<extra></extra>\", \"legendgroup\": \"schools closed\", \"marker\": {\"color\": \"#636efa\"}, \"name\": \"schools closed\", \"offsetgroup\": \"schools closed\", \"orientation\": \"h\", \"showlegend\": true, \"textposition\": \"auto\", \"type\": \"bar\", \"x\": [5961600000.0, 5270400000.0], \"xaxis\": \"x\", \"y\": [\"schools closed\", \"schools closed\"], \"yaxis\": \"y\"}, {\"alignmentgroup\": \"True\", \"base\": [\"2020-03-21\", \"2020-11-05\", \"2020-12-16\"], \"hovertemplate\": \"Restriction=%{y}<br>Start=%{base}<br>Finish=%{x}<extra></extra>\", \"legendgroup\": \"pubs closed\", \"marker\": {\"color\": \"#EF553B\"}, \"name\": \"pubs closed\", \"offsetgroup\": \"pubs closed\", \"orientation\": \"h\", \"showlegend\": true, \"textposition\": \"auto\", \"type\": \"bar\", \"x\": [8899200000.0, 2246400000.0, 10627200000.0], \"xaxis\": \"x\", \"y\": [\"pubs closed\", \"pubs closed\", \"pubs closed\"], \"yaxis\": \"y\"}, {\"alignmentgroup\": \"True\", \"base\": [\"2020-03-24\", \"2020-11-05\", \"2020-12-20\"], \"hovertemplate\": \"Restriction=%{y}<br>Start=%{base}<br>Finish=%{x}<extra></extra>\", \"legendgroup\": \"shops closed\", \"marker\": {\"color\": \"#00cc96\"}, \"name\": \"shops closed\", \"offsetgroup\": \"shops closed\", \"orientation\": \"h\", \"showlegend\": true, \"textposition\": \"auto\", \"type\": \"bar\", \"x\": [7084800000.0, 2246400000.0, 10281600000.0], \"xaxis\": \"x\", \"y\": [\"shops closed\", \"shops closed\", \"shops closed\"], \"yaxis\": \"y\"}, {\"alignmentgroup\": \"True\", \"base\": [\"2020-03-21\", \"2020-11-05\", \"2020-12-16\"], \"hovertemplate\": \"Restriction=%{y}<br>Start=%{base}<br>Finish=%{x}<extra></extra>\", \"legendgroup\": \"eating places closed\", \"marker\": {\"color\": \"#ab63fa\"}, \"name\": \"eating places closed\", \"offsetgroup\": \"eating places closed\", \"orientation\": \"h\", \"showlegend\": true, \"textposition\": \"auto\", \"type\": \"bar\", \"x\": [8985600000.0, 2246400000.0, 10627200000.0], \"xaxis\": \"x\", \"y\": [\"eating places closed\", \"eating places closed\", \"eating places closed\"], \"yaxis\": \"y\"}, {\"alignmentgroup\": \"True\", \"base\": [\"2020-03-24\", \"2020-11-05\", \"2020-12-20\"], \"hovertemplate\": \"Restriction=%{y}<br>Start=%{base}<br>Finish=%{x}<extra></extra>\", \"legendgroup\": \"stay at home\", \"marker\": {\"color\": \"#FFA15A\"}, \"name\": \"stay at home\", \"offsetgroup\": \"stay at home\", \"orientation\": \"h\", \"showlegend\": true, \"textposition\": \"auto\", \"type\": \"bar\", \"x\": [4060800000.0, 2332800000.0, 8467200000.0], \"xaxis\": \"x\", \"y\": [\"stay at home\", \"stay at home\", \"stay at home\"], \"yaxis\": \"y\"}, {\"alignmentgroup\": \"True\", \"base\": [\"2020-03-24\", \"2020-10-17\"], \"hovertemplate\": \"Restriction=%{y}<br>Start=%{base}<br>Finish=%{x}<extra></extra>\", \"legendgroup\": \"household mixing indoors banned\", \"marker\": {\"color\": \"#19d3f3\"}, \"name\": \"household mixing indoors banned\", \"offsetgroup\": \"household mixing indoors banned\", \"orientation\": \"h\", \"showlegend\": true, \"textposition\": \"auto\", \"type\": \"bar\", \"x\": [8726400000.0, 15811200000.0], \"xaxis\": \"x\", \"y\": [\"household mixing indoors banned\", \"household mixing indoors banned\"], \"yaxis\": \"y\"}, {\"alignmentgroup\": \"True\", \"base\": [\"2020-03-17\", \"2020-09-22\"], \"hovertemplate\": \"Restriction=%{y}<br>Start=%{base}<br>Finish=%{x}<extra></extra>\", \"legendgroup\": \"wfh\", \"marker\": {\"color\": \"#FF6692\"}, \"name\": \"wfh\", \"offsetgroup\": \"wfh\", \"orientation\": \"h\", \"showlegend\": true, \"textposition\": \"auto\", \"type\": \"bar\", \"x\": [11750400000.0, 17971200000.0], \"xaxis\": \"x\", \"y\": [\"wfh\", \"wfh\"], \"yaxis\": \"y\"}, {\"alignmentgroup\": \"True\", \"base\": [\"2020-09-14\"], \"hovertemplate\": \"Restriction=%{y}<br>Start=%{base}<br>Finish=%{x}<extra></extra>\", \"legendgroup\": \"rule of 6 indoors\", \"marker\": {\"color\": \"#B6E880\"}, \"name\": \"rule of 6 indoors\", \"offsetgroup\": \"rule of 6 indoors\", \"orientation\": \"h\", \"showlegend\": true, \"textposition\": \"auto\", \"type\": \"bar\", \"x\": [2764800000.0], \"xaxis\": \"x\", \"y\": [\"rule of 6 indoors\"], \"yaxis\": \"y\"}, {\"alignmentgroup\": \"True\", \"base\": [\"2020-09-24\", \"2020-12-02\"], \"hovertemplate\": \"Restriction=%{y}<br>Start=%{base}<br>Finish=%{x}<extra></extra>\", \"legendgroup\": \"curfew\", \"marker\": {\"color\": \"#FF97FF\"}, \"name\": \"curfew\", \"offsetgroup\": \"curfew\", \"orientation\": \"h\", \"showlegend\": true, \"textposition\": \"auto\", \"type\": \"bar\", \"x\": [3542400000.0, 1123200000.0], \"xaxis\": \"x\", \"y\": [\"curfew\", \"curfew\"], \"yaxis\": \"y\"}, {\"alignmentgroup\": \"True\", \"base\": [\"2020-08-03\"], \"hovertemplate\": \"Restriction=%{y}<br>Start=%{base}<br>Finish=%{x}<extra></extra>\", \"legendgroup\": \"eat out to help out\", \"marker\": {\"color\": \"#FECB52\"}, \"name\": \"eat out to help out\", \"offsetgroup\": \"eat out to help out\", \"orientation\": \"h\", \"showlegend\": true, \"textposition\": \"auto\", \"type\": \"bar\", \"x\": [2332800000.0], \"xaxis\": \"x\", \"y\": [\"eat out to help out\"], \"yaxis\": \"y\"}],                        {\"barmode\": \"overlay\", \"legend\": {\"title\": {\"text\": \"Restriction\"}, \"tracegroupgap\": 0}, \"paper_bgcolor\": \"rgba(0, 0, 0, 0)\", \"plot_bgcolor\": \"rgba(0, 0, 0, 0)\", \"showlegend\": false, \"template\": {\"data\": {\"bar\": [{\"error_x\": {\"color\": \"#2a3f5f\"}, \"error_y\": {\"color\": \"#2a3f5f\"}, \"marker\": {\"line\": {\"color\": \"#E5ECF6\", \"width\": 0.5}}, \"type\": \"bar\"}], \"barpolar\": [{\"marker\": {\"line\": {\"color\": \"#E5ECF6\", \"width\": 0.5}}, \"type\": \"barpolar\"}], \"carpet\": [{\"aaxis\": {\"endlinecolor\": \"#2a3f5f\", \"gridcolor\": \"white\", \"linecolor\": \"white\", \"minorgridcolor\": \"white\", \"startlinecolor\": \"#2a3f5f\"}, \"baxis\": {\"endlinecolor\": \"#2a3f5f\", \"gridcolor\": \"white\", \"linecolor\": \"white\", \"minorgridcolor\": \"white\", \"startlinecolor\": \"#2a3f5f\"}, \"type\": \"carpet\"}], \"choropleth\": [{\"colorbar\": {\"outlinewidth\": 0, \"ticks\": \"\"}, \"type\": \"choropleth\"}], \"contour\": [{\"colorbar\": {\"outlinewidth\": 0, \"ticks\": \"\"}, \"colorscale\": [[0.0, \"#0d0887\"], [0.1111111111111111, \"#46039f\"], [0.2222222222222222, \"#7201a8\"], [0.3333333333333333, \"#9c179e\"], [0.4444444444444444, \"#bd3786\"], [0.5555555555555556, \"#d8576b\"], [0.6666666666666666, \"#ed7953\"], [0.7777777777777778, \"#fb9f3a\"], [0.8888888888888888, \"#fdca26\"], [1.0, \"#f0f921\"]], \"type\": \"contour\"}], \"contourcarpet\": [{\"colorbar\": {\"outlinewidth\": 0, \"ticks\": \"\"}, \"type\": \"contourcarpet\"}], \"heatmap\": [{\"colorbar\": {\"outlinewidth\": 0, \"ticks\": \"\"}, \"colorscale\": [[0.0, \"#0d0887\"], [0.1111111111111111, \"#46039f\"], [0.2222222222222222, \"#7201a8\"], [0.3333333333333333, \"#9c179e\"], [0.4444444444444444, \"#bd3786\"], [0.5555555555555556, \"#d8576b\"], [0.6666666666666666, \"#ed7953\"], [0.7777777777777778, \"#fb9f3a\"], [0.8888888888888888, \"#fdca26\"], [1.0, \"#f0f921\"]], \"type\": \"heatmap\"}], \"heatmapgl\": [{\"colorbar\": {\"outlinewidth\": 0, \"ticks\": \"\"}, \"colorscale\": [[0.0, \"#0d0887\"], [0.1111111111111111, \"#46039f\"], [0.2222222222222222, \"#7201a8\"], [0.3333333333333333, \"#9c179e\"], [0.4444444444444444, \"#bd3786\"], [0.5555555555555556, \"#d8576b\"], [0.6666666666666666, \"#ed7953\"], [0.7777777777777778, \"#fb9f3a\"], [0.8888888888888888, \"#fdca26\"], [1.0, \"#f0f921\"]], \"type\": \"heatmapgl\"}], \"histogram\": [{\"marker\": {\"colorbar\": {\"outlinewidth\": 0, \"ticks\": \"\"}}, \"type\": \"histogram\"}], \"histogram2d\": [{\"colorbar\": {\"outlinewidth\": 0, \"ticks\": \"\"}, \"colorscale\": [[0.0, \"#0d0887\"], [0.1111111111111111, \"#46039f\"], [0.2222222222222222, \"#7201a8\"], [0.3333333333333333, \"#9c179e\"], [0.4444444444444444, \"#bd3786\"], [0.5555555555555556, \"#d8576b\"], [0.6666666666666666, \"#ed7953\"], [0.7777777777777778, \"#fb9f3a\"], [0.8888888888888888, \"#fdca26\"], [1.0, \"#f0f921\"]], \"type\": \"histogram2d\"}], \"histogram2dcontour\": [{\"colorbar\": {\"outlinewidth\": 0, \"ticks\": \"\"}, \"colorscale\": [[0.0, \"#0d0887\"], [0.1111111111111111, \"#46039f\"], [0.2222222222222222, \"#7201a8\"], [0.3333333333333333, \"#9c179e\"], [0.4444444444444444, \"#bd3786\"], [0.5555555555555556, \"#d8576b\"], [0.6666666666666666, \"#ed7953\"], [0.7777777777777778, \"#fb9f3a\"], [0.8888888888888888, \"#fdca26\"], [1.0, \"#f0f921\"]], \"type\": \"histogram2dcontour\"}], \"mesh3d\": [{\"colorbar\": {\"outlinewidth\": 0, \"ticks\": \"\"}, \"type\": \"mesh3d\"}], \"parcoords\": [{\"line\": {\"colorbar\": {\"outlinewidth\": 0, \"ticks\": \"\"}}, \"type\": \"parcoords\"}], \"pie\": [{\"automargin\": true, \"type\": \"pie\"}], \"scatter\": [{\"marker\": {\"colorbar\": {\"outlinewidth\": 0, \"ticks\": \"\"}}, \"type\": \"scatter\"}], \"scatter3d\": [{\"line\": {\"colorbar\": {\"outlinewidth\": 0, \"ticks\": \"\"}}, \"marker\": {\"colorbar\": {\"outlinewidth\": 0, \"ticks\": \"\"}}, \"type\": \"scatter3d\"}], \"scattercarpet\": [{\"marker\": {\"colorbar\": {\"outlinewidth\": 0, \"ticks\": \"\"}}, \"type\": \"scattercarpet\"}], \"scattergeo\": [{\"marker\": {\"colorbar\": {\"outlinewidth\": 0, \"ticks\": \"\"}}, \"type\": \"scattergeo\"}], \"scattergl\": [{\"marker\": {\"colorbar\": {\"outlinewidth\": 0, \"ticks\": \"\"}}, \"type\": \"scattergl\"}], \"scattermapbox\": [{\"marker\": {\"colorbar\": {\"outlinewidth\": 0, \"ticks\": \"\"}}, \"type\": \"scattermapbox\"}], \"scatterpolar\": [{\"marker\": {\"colorbar\": {\"outlinewidth\": 0, \"ticks\": \"\"}}, \"type\": \"scatterpolar\"}], \"scatterpolargl\": [{\"marker\": {\"colorbar\": {\"outlinewidth\": 0, \"ticks\": \"\"}}, \"type\": \"scatterpolargl\"}], \"scatterternary\": [{\"marker\": {\"colorbar\": {\"outlinewidth\": 0, \"ticks\": \"\"}}, \"type\": \"scatterternary\"}], \"surface\": [{\"colorbar\": {\"outlinewidth\": 0, \"ticks\": \"\"}, \"colorscale\": [[0.0, \"#0d0887\"], [0.1111111111111111, \"#46039f\"], [0.2222222222222222, \"#7201a8\"], [0.3333333333333333, \"#9c179e\"], [0.4444444444444444, \"#bd3786\"], [0.5555555555555556, \"#d8576b\"], [0.6666666666666666, \"#ed7953\"], [0.7777777777777778, \"#fb9f3a\"], [0.8888888888888888, \"#fdca26\"], [1.0, \"#f0f921\"]], \"type\": \"surface\"}], \"table\": [{\"cells\": {\"fill\": {\"color\": \"#EBF0F8\"}, \"line\": {\"color\": \"white\"}}, \"header\": {\"fill\": {\"color\": \"#C8D4E3\"}, \"line\": {\"color\": \"white\"}}, \"type\": \"table\"}]}, \"layout\": {\"annotationdefaults\": {\"arrowcolor\": \"#2a3f5f\", \"arrowhead\": 0, \"arrowwidth\": 1}, \"autotypenumbers\": \"strict\", \"coloraxis\": {\"colorbar\": {\"outlinewidth\": 0, \"ticks\": \"\"}}, \"colorscale\": {\"diverging\": [[0, \"#8e0152\"], [0.1, \"#c51b7d\"], [0.2, \"#de77ae\"], [0.3, \"#f1b6da\"], [0.4, \"#fde0ef\"], [0.5, \"#f7f7f7\"], [0.6, \"#e6f5d0\"], [0.7, \"#b8e186\"], [0.8, \"#7fbc41\"], [0.9, \"#4d9221\"], [1, \"#276419\"]], \"sequential\": [[0.0, \"#0d0887\"], [0.1111111111111111, \"#46039f\"], [0.2222222222222222, \"#7201a8\"], [0.3333333333333333, \"#9c179e\"], [0.4444444444444444, \"#bd3786\"], [0.5555555555555556, \"#d8576b\"], [0.6666666666666666, \"#ed7953\"], [0.7777777777777778, \"#fb9f3a\"], [0.8888888888888888, \"#fdca26\"], [1.0, \"#f0f921\"]], \"sequentialminus\": [[0.0, \"#0d0887\"], [0.1111111111111111, \"#46039f\"], [0.2222222222222222, \"#7201a8\"], [0.3333333333333333, \"#9c179e\"], [0.4444444444444444, \"#bd3786\"], [0.5555555555555556, \"#d8576b\"], [0.6666666666666666, \"#ed7953\"], [0.7777777777777778, \"#fb9f3a\"], [0.8888888888888888, \"#fdca26\"], [1.0, \"#f0f921\"]]}, \"colorway\": [\"#636efa\", \"#EF553B\", \"#00cc96\", \"#ab63fa\", \"#FFA15A\", \"#19d3f3\", \"#FF6692\", \"#B6E880\", \"#FF97FF\", \"#FECB52\"], \"font\": {\"color\": \"#2a3f5f\"}, \"geo\": {\"bgcolor\": \"white\", \"lakecolor\": \"white\", \"landcolor\": \"#E5ECF6\", \"showlakes\": true, \"showland\": true, \"subunitcolor\": \"white\"}, \"hoverlabel\": {\"align\": \"left\"}, \"hovermode\": \"closest\", \"mapbox\": {\"style\": \"light\"}, \"paper_bgcolor\": \"white\", \"plot_bgcolor\": \"#E5ECF6\", \"polar\": {\"angularaxis\": {\"gridcolor\": \"white\", \"linecolor\": \"white\", \"ticks\": \"\"}, \"bgcolor\": \"#E5ECF6\", \"radialaxis\": {\"gridcolor\": \"white\", \"linecolor\": \"white\", \"ticks\": \"\"}}, \"scene\": {\"xaxis\": {\"backgroundcolor\": \"#E5ECF6\", \"gridcolor\": \"white\", \"gridwidth\": 2, \"linecolor\": \"white\", \"showbackground\": true, \"ticks\": \"\", \"zerolinecolor\": \"white\"}, \"yaxis\": {\"backgroundcolor\": \"#E5ECF6\", \"gridcolor\": \"white\", \"gridwidth\": 2, \"linecolor\": \"white\", \"showbackground\": true, \"ticks\": \"\", \"zerolinecolor\": \"white\"}, \"zaxis\": {\"backgroundcolor\": \"#E5ECF6\", \"gridcolor\": \"white\", \"gridwidth\": 2, \"linecolor\": \"white\", \"showbackground\": true, \"ticks\": \"\", \"zerolinecolor\": \"white\"}}, \"shapedefaults\": {\"line\": {\"color\": \"#2a3f5f\"}}, \"ternary\": {\"aaxis\": {\"gridcolor\": \"white\", \"linecolor\": \"white\", \"ticks\": \"\"}, \"baxis\": {\"gridcolor\": \"white\", \"linecolor\": \"white\", \"ticks\": \"\"}, \"bgcolor\": \"#E5ECF6\", \"caxis\": {\"gridcolor\": \"white\", \"linecolor\": \"white\", \"ticks\": \"\"}}, \"title\": {\"x\": 0.05}, \"xaxis\": {\"automargin\": true, \"gridcolor\": \"white\", \"linecolor\": \"white\", \"ticks\": \"\", \"title\": {\"standoff\": 15}, \"zerolinecolor\": \"white\", \"zerolinewidth\": 2}, \"yaxis\": {\"automargin\": true, \"gridcolor\": \"white\", \"linecolor\": \"white\", \"ticks\": \"\", \"title\": {\"standoff\": 15}, \"zerolinecolor\": \"white\", \"zerolinewidth\": 2}}}, \"title\": {\"text\": \"Timeline of mobility restrictions\"}, \"xaxis\": {\"anchor\": \"y\", \"domain\": [0.0, 1.0], \"gridcolor\": \"black\", \"nticks\": 20, \"tickformat\": \"%d %b %y\", \"tickmode\": \"auto\", \"type\": \"date\"}, \"yaxis\": {\"anchor\": \"x\", \"categoryarray\": [\"eat out to help out\", \"curfew\", \"rule of 6 indoors\", \"wfh\", \"household mixing indoors banned\", \"stay at home\", \"eating places closed\", \"shops closed\", \"pubs closed\", \"schools closed\"], \"categoryorder\": \"array\", \"domain\": [0.0, 1.0], \"title\": {\"text\": \"Restriction\"}}},                        {\"responsive\": true}                    ).then(function(){\n",
       "                            \n",
       "var gd = document.getElementById('710b1e37-1174-4ccf-9c57-b36586e5c1bd');\n",
       "var x = new MutationObserver(function (mutations, observer) {{\n",
       "        var display = window.getComputedStyle(gd).display;\n",
       "        if (!display || display === 'none') {{\n",
       "            console.log([gd, 'removed!']);\n",
       "            Plotly.purge(gd);\n",
       "            observer.disconnect();\n",
       "        }}\n",
       "}});\n",
       "\n",
       "// Listen for the removal of the full notebook cells\n",
       "var notebookContainer = gd.closest('#notebook-container');\n",
       "if (notebookContainer) {{\n",
       "    x.observe(notebookContainer, {childList: true});\n",
       "}}\n",
       "\n",
       "// Listen for the clearing of the current output cell\n",
       "var outputEl = gd.closest('.output');\n",
       "if (outputEl) {{\n",
       "    x.observe(outputEl, {childList: true});\n",
       "}}\n",
       "\n",
       "                        })                };                });            </script>        </div>"
      ]
     },
     "metadata": {},
     "output_type": "display_data"
    }
   ],
   "source": [
    "import plotly.express as px\n",
    "import pandas as pd\n",
    "\n",
    "\n",
    "df = pd.DataFrame([\n",
    "    dict(Task='schools_closed_0', Start='2020-03-23', Finish='2020-05-31', Resource='schools closed'),\n",
    "    dict(Task='pubs_closed_0',  Start='2020-03-21',Finish='2020-07-02', Resource='pubs closed'),\n",
    "    dict(Task='shops_closed_0',  Start='2020-03-24',Finish='2020-06-14', Resource='shops closed'),\n",
    "    dict(Task='eating_places_closed_0',  Start='2020-03-21',Finish='2020-07-03', Resource='eating places closed'),\n",
    "    dict(Task='schools_closed_1',  Start='2021-01-05',Finish='2021-03-07', Resource='schools closed'),\n",
    "    dict(Task='pubs_closed_1',  Start='2020-11-05',Finish='2020-12-01', Resource='pubs closed'),\n",
    "    dict(Task='shops_closed_1',  Start='2020-11-05',Finish='2020-12-01', Resource='shops closed'),\n",
    "    dict(Task='eating_places_closed_1',  Start='2020-11-05',Finish='2020-12-01', Resource='eating places closed'),\n",
    "    dict(Task='pubs_closed_2',  Start='2020-12-16',Finish='2021-04-18', Resource='pubs closed'),\n",
    "    dict(Task='shops_closed_2',  Start='2020-12-20',Finish='2021-04-18', Resource='shops closed'),\n",
    "    dict(Task='eating_places_closed_2',  Start='2020-12-16', Finish='2021-04-18', Resource='eating places closed'),\n",
    "    dict(Task='stay_at_home_0',  Start='2020-03-24', Finish='2020-05-10', Resource='stay at home'),\n",
    "    dict(Task='stay_at_home_1',  Start='2020-11-05',Finish='2020-12-02', Resource='stay at home'),\n",
    "    dict(Task='stay_at_home_2',  Start='2020-12-20', Finish='2021-03-28', Resource='stay at home'),\n",
    "    dict(Task='household_mixing_indoors_banned_0',  Start='2020-03-24', Finish='2020-07-03', Resource='household mixing indoors banned'),\n",
    "    dict(Task='household_mixing_indoors_banned_1',  Start='2020-10-17', Finish='2021-04-18', Resource='household mixing indoors banned'),\n",
    "    dict(Task='wfh_0',  Start='2020-03-17', Finish='2020-07-31', Resource='wfh'),\n",
    "    dict(Task='wfh_1',  Start='2020-09-22', Finish='2021-04-18', Resource='wfh'),\n",
    "    dict(Task='rule_of_6_indoors_0',  Start='2020-09-14', Finish='2020-10-16', Resource='rule of 6 indoors'),\n",
    "    dict(Task='curfew_0',  Start='2020-09-24', Finish='2020-11-04', Resource='curfew'),\n",
    "    dict(Task='curfew_1',  Start='2020-12-02', Finish='2020-12-15', Resource='curfew'),\n",
    "    dict(Task='eat_out_to_help_out_0',  Start='2020-08-03',Finish='2020-08-30', Resource='eat out to help out'),\n",
    "])\n",
    "\n",
    "\n",
    "\n",
    "\n",
    "fig = px.timeline(df, x_start=\"Start\", x_end=\"Finish\",\n",
    "                  y=\"Resource\", color=\"Resource\", labels={\n",
    "                     \"Start\": \"Start\",\n",
    "                     \"Finish\": \"Finish\",\n",
    "                     \"Resource\": \"Restriction\"\n",
    "                 },\n",
    "                title=\"Timeline of mobility restrictions\")\n",
    "fig.update_xaxes(\n",
    "    tickmode = 'auto',\n",
    "    nticks =  20,\n",
    "    tickformat=\"%d %b %y\", gridcolor='black')\n",
    "\n",
    "\n",
    "\n",
    "fig.update_layout({\n",
    "'plot_bgcolor': 'rgba(0, 0, 0, 0)',\n",
    "'paper_bgcolor': 'rgba(0, 0, 0, 0)',\n",
    "})\n",
    "\n",
    "fig.update_layout(showlegend=False)\n",
    "\n",
    "\n",
    "fig.show()\n",
    "fig.write_html(\"timeline_restrictions.html\")"
   ]
  },
  {
   "cell_type": "code",
   "execution_count": null,
   "metadata": {},
   "outputs": [],
   "source": []
  },
  {
   "cell_type": "code",
   "execution_count": 73,
   "metadata": {},
   "outputs": [],
   "source": [
    "from bokeh.models import LogColorMapper\n",
    "from bokeh.palettes import RdYlBu11 as palette\n",
    "from bokeh.palettes import Viridis6\n",
    "from bokeh.plotting import figure\n",
    "from bokeh.models import (\n",
    "    GeoJSONDataSource,\n",
    "    HoverTool,\n",
    "    LinearColorMapper\n",
    ")\n",
    "from bokeh.io import show, output_notebook, output_file\n",
    "import json\n",
    "\n",
    "with open('datasets/london_boroughs.geojson') as f:\n",
    "    london_source = GeoJSONDataSource(geojson=f.read())\n",
    "\n",
    "with open('datasets/stops_with_lat_longs.geojson') as f:\n",
    "    bus_source = GeoJSONDataSource(geojson=f.read())\n",
    "\n",
    "color_mapper = LinearColorMapper(palette=Viridis6)\n",
    "\n",
    "TOOLS = \"pan,wheel_zoom,box_zoom,reset,hover,save\"\n",
    "\n",
    "p = figure(title=\"Bus stops\", tools=TOOLS, x_axis_location=None,\n",
    "           y_axis_location=None, width=600, height=400)\n",
    "p.grid.grid_line_color = None\n",
    "\n",
    "\n",
    "# Plot map of Greater London\n",
    "p.patches('xs', 'ys', source=london_source,\n",
    "          fill_color={'field': '@name', 'transform': color_mapper},\n",
    "          fill_alpha=1.0, line_color=\"black\", line_width=0.5)\n",
    "\n",
    "\n",
    "p.circle('x', 'y', source=bus_source, color='red', size=1)\n",
    "# p.multi_line('xs', 'ys', source=cycle_source, line_alpha=1, line_color='blue',\n",
    "#              line_width=0.7)\n",
    "        \n",
    "hover = p.select_one(HoverTool)\n",
    "hover.point_policy = \"follow_mouse\"\n",
    "hover.tooltips = [(\"Borough\", \"@name\")]\n",
    "\n",
    "output_file(\"data/Bus_stops.html\", title=\"Bus stops\")\n",
    "\n",
    "show(p)"
   ]
  }
 ],
 "metadata": {
  "kernelspec": {
   "display_name": "Python 3",
   "language": "python",
   "name": "python3"
  },
  "language_info": {
   "codemirror_mode": {
    "name": "ipython",
    "version": 3
   },
   "file_extension": ".py",
   "mimetype": "text/x-python",
   "name": "python",
   "nbconvert_exporter": "python",
   "pygments_lexer": "ipython3",
   "version": "3.8.5"
  },
  "varInspector": {
   "cols": {
    "lenName": 16,
    "lenType": 16,
    "lenVar": 40
   },
   "kernels_config": {
    "python": {
     "delete_cmd_postfix": "",
     "delete_cmd_prefix": "del ",
     "library": "var_list.py",
     "varRefreshCmd": "print(var_dic_list())"
    },
    "r": {
     "delete_cmd_postfix": ") ",
     "delete_cmd_prefix": "rm(",
     "library": "var_list.r",
     "varRefreshCmd": "cat(var_dic_list()) "
    }
   },
   "oldHeight": 465,
   "position": {
    "height": "487px",
    "left": "1001px",
    "right": "20px",
    "top": "46px",
    "width": "339px"
   },
   "types_to_exclude": [
    "module",
    "function",
    "builtin_function_or_method",
    "instance",
    "_Feature"
   ],
   "varInspector_section_display": "block",
   "window_display": false
  }
 },
 "nbformat": 4,
 "nbformat_minor": 4
}
