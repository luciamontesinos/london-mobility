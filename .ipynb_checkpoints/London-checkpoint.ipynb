{
 "cells": [
  {
   "cell_type": "markdown",
   "metadata": {},
   "source": [
    "## Imports"
   ]
  },
  {
   "cell_type": "code",
   "execution_count": 198,
   "metadata": {},
   "outputs": [
    {
     "name": "stdout",
     "output_type": "stream",
     "text": [
      "Requirement already satisfied: pandas-profiling in /Users/luciamontesinos/opt/anaconda3/lib/python3.8/site-packages (2.11.0)\n",
      "Requirement already satisfied: requests>=2.24.0 in /Users/luciamontesinos/opt/anaconda3/lib/python3.8/site-packages (from pandas-profiling) (2.24.0)\n",
      "Requirement already satisfied: scipy>=1.4.1 in /Users/luciamontesinos/opt/anaconda3/lib/python3.8/site-packages (from pandas-profiling) (1.5.2)\n",
      "Requirement already satisfied: numpy>=1.16.0 in /Users/luciamontesinos/opt/anaconda3/lib/python3.8/site-packages (from pandas-profiling) (1.19.2)\n",
      "Requirement already satisfied: tangled-up-in-unicode>=0.0.6 in /Users/luciamontesinos/opt/anaconda3/lib/python3.8/site-packages (from pandas-profiling) (0.0.7)\n",
      "Requirement already satisfied: matplotlib>=3.2.0 in /Users/luciamontesinos/opt/anaconda3/lib/python3.8/site-packages (from pandas-profiling) (3.3.2)\n",
      "Requirement already satisfied: tqdm>=4.48.2 in /Users/luciamontesinos/opt/anaconda3/lib/python3.8/site-packages (from pandas-profiling) (4.50.2)\n",
      "Requirement already satisfied: jinja2>=2.11.1 in /Users/luciamontesinos/opt/anaconda3/lib/python3.8/site-packages (from pandas-profiling) (2.11.2)\n",
      "Requirement already satisfied: missingno>=0.4.2 in /Users/luciamontesinos/opt/anaconda3/lib/python3.8/site-packages (from pandas-profiling) (0.4.2)\n",
      "Requirement already satisfied: pandas!=1.0.0,!=1.0.1,!=1.0.2,!=1.1.0,>=0.25.3 in /Users/luciamontesinos/opt/anaconda3/lib/python3.8/site-packages (from pandas-profiling) (1.1.3)\n",
      "Requirement already satisfied: joblib in /Users/luciamontesinos/opt/anaconda3/lib/python3.8/site-packages (from pandas-profiling) (0.17.0)\n",
      "Requirement already satisfied: visions[type_image_path]==0.6.0 in /Users/luciamontesinos/opt/anaconda3/lib/python3.8/site-packages (from pandas-profiling) (0.6.0)\n",
      "Requirement already satisfied: seaborn>=0.10.1 in /Users/luciamontesinos/opt/anaconda3/lib/python3.8/site-packages (from pandas-profiling) (0.11.0)\n",
      "Requirement already satisfied: htmlmin>=0.1.12 in /Users/luciamontesinos/opt/anaconda3/lib/python3.8/site-packages (from pandas-profiling) (0.1.12)\n",
      "Requirement already satisfied: ipywidgets>=7.5.1 in /Users/luciamontesinos/opt/anaconda3/lib/python3.8/site-packages (from pandas-profiling) (7.5.1)\n",
      "Requirement already satisfied: phik>=0.10.0 in /Users/luciamontesinos/opt/anaconda3/lib/python3.8/site-packages (from pandas-profiling) (0.11.2)\n",
      "Requirement already satisfied: attrs>=19.3.0 in /Users/luciamontesinos/opt/anaconda3/lib/python3.8/site-packages (from pandas-profiling) (20.3.0)\n",
      "Requirement already satisfied: confuse>=1.0.0 in /Users/luciamontesinos/opt/anaconda3/lib/python3.8/site-packages (from pandas-profiling) (1.4.0)\n",
      "Requirement already satisfied: urllib3!=1.25.0,!=1.25.1,<1.26,>=1.21.1 in /Users/luciamontesinos/opt/anaconda3/lib/python3.8/site-packages (from requests>=2.24.0->pandas-profiling) (1.25.11)\n",
      "Requirement already satisfied: chardet<4,>=3.0.2 in /Users/luciamontesinos/opt/anaconda3/lib/python3.8/site-packages (from requests>=2.24.0->pandas-profiling) (3.0.4)\n",
      "Requirement already satisfied: certifi>=2017.4.17 in /Users/luciamontesinos/opt/anaconda3/lib/python3.8/site-packages (from requests>=2.24.0->pandas-profiling) (2020.6.20)\n",
      "Requirement already satisfied: idna<3,>=2.5 in /Users/luciamontesinos/opt/anaconda3/lib/python3.8/site-packages (from requests>=2.24.0->pandas-profiling) (2.10)\n",
      "Requirement already satisfied: cycler>=0.10 in /Users/luciamontesinos/opt/anaconda3/lib/python3.8/site-packages (from matplotlib>=3.2.0->pandas-profiling) (0.10.0)\n",
      "Requirement already satisfied: pyparsing!=2.0.4,!=2.1.2,!=2.1.6,>=2.0.3 in /Users/luciamontesinos/opt/anaconda3/lib/python3.8/site-packages (from matplotlib>=3.2.0->pandas-profiling) (2.4.7)\n",
      "Requirement already satisfied: python-dateutil>=2.1 in /Users/luciamontesinos/opt/anaconda3/lib/python3.8/site-packages (from matplotlib>=3.2.0->pandas-profiling) (2.8.1)\n",
      "Requirement already satisfied: pillow>=6.2.0 in /Users/luciamontesinos/opt/anaconda3/lib/python3.8/site-packages (from matplotlib>=3.2.0->pandas-profiling) (8.0.1)\n",
      "Requirement already satisfied: kiwisolver>=1.0.1 in /Users/luciamontesinos/opt/anaconda3/lib/python3.8/site-packages (from matplotlib>=3.2.0->pandas-profiling) (1.3.0)\n",
      "Requirement already satisfied: MarkupSafe>=0.23 in /Users/luciamontesinos/opt/anaconda3/lib/python3.8/site-packages (from jinja2>=2.11.1->pandas-profiling) (1.1.1)\n",
      "Requirement already satisfied: pytz>=2017.2 in /Users/luciamontesinos/opt/anaconda3/lib/python3.8/site-packages (from pandas!=1.0.0,!=1.0.1,!=1.0.2,!=1.1.0,>=0.25.3->pandas-profiling) (2020.1)\n",
      "Requirement already satisfied: networkx>=2.4 in /Users/luciamontesinos/opt/anaconda3/lib/python3.8/site-packages (from visions[type_image_path]==0.6.0->pandas-profiling) (2.5)\n",
      "Requirement already satisfied: imagehash; extra == \"type_image_path\" in /Users/luciamontesinos/opt/anaconda3/lib/python3.8/site-packages (from visions[type_image_path]==0.6.0->pandas-profiling) (4.2.0)\n",
      "Requirement already satisfied: ipython>=4.0.0; python_version >= \"3.3\" in /Users/luciamontesinos/opt/anaconda3/lib/python3.8/site-packages (from ipywidgets>=7.5.1->pandas-profiling) (7.19.0)\n",
      "Requirement already satisfied: traitlets>=4.3.1 in /Users/luciamontesinos/opt/anaconda3/lib/python3.8/site-packages (from ipywidgets>=7.5.1->pandas-profiling) (5.0.5)\n",
      "Requirement already satisfied: ipykernel>=4.5.1 in /Users/luciamontesinos/opt/anaconda3/lib/python3.8/site-packages (from ipywidgets>=7.5.1->pandas-profiling) (5.3.4)\n",
      "Requirement already satisfied: widgetsnbextension~=3.5.0 in /Users/luciamontesinos/opt/anaconda3/lib/python3.8/site-packages (from ipywidgets>=7.5.1->pandas-profiling) (3.5.1)\n",
      "Requirement already satisfied: nbformat>=4.2.0 in /Users/luciamontesinos/opt/anaconda3/lib/python3.8/site-packages (from ipywidgets>=7.5.1->pandas-profiling) (5.0.8)\n",
      "Requirement already satisfied: pyyaml in /Users/luciamontesinos/opt/anaconda3/lib/python3.8/site-packages (from confuse>=1.0.0->pandas-profiling) (5.3.1)\n",
      "Requirement already satisfied: six in /Users/luciamontesinos/opt/anaconda3/lib/python3.8/site-packages (from cycler>=0.10->matplotlib>=3.2.0->pandas-profiling) (1.15.0)\n",
      "Requirement already satisfied: decorator>=4.3.0 in /Users/luciamontesinos/opt/anaconda3/lib/python3.8/site-packages (from networkx>=2.4->visions[type_image_path]==0.6.0->pandas-profiling) (4.4.2)\n",
      "Requirement already satisfied: PyWavelets in /Users/luciamontesinos/opt/anaconda3/lib/python3.8/site-packages (from imagehash; extra == \"type_image_path\"->visions[type_image_path]==0.6.0->pandas-profiling) (1.1.1)\n",
      "Requirement already satisfied: appnope; sys_platform == \"darwin\" in /Users/luciamontesinos/opt/anaconda3/lib/python3.8/site-packages (from ipython>=4.0.0; python_version >= \"3.3\"->ipywidgets>=7.5.1->pandas-profiling) (0.1.0)\n",
      "Requirement already satisfied: backcall in /Users/luciamontesinos/opt/anaconda3/lib/python3.8/site-packages (from ipython>=4.0.0; python_version >= \"3.3\"->ipywidgets>=7.5.1->pandas-profiling) (0.2.0)\n",
      "Requirement already satisfied: pickleshare in /Users/luciamontesinos/opt/anaconda3/lib/python3.8/site-packages (from ipython>=4.0.0; python_version >= \"3.3\"->ipywidgets>=7.5.1->pandas-profiling) (0.7.5)\n",
      "Requirement already satisfied: prompt-toolkit!=3.0.0,!=3.0.1,<3.1.0,>=2.0.0 in /Users/luciamontesinos/opt/anaconda3/lib/python3.8/site-packages (from ipython>=4.0.0; python_version >= \"3.3\"->ipywidgets>=7.5.1->pandas-profiling) (3.0.8)\n",
      "Requirement already satisfied: pexpect>4.3; sys_platform != \"win32\" in /Users/luciamontesinos/opt/anaconda3/lib/python3.8/site-packages (from ipython>=4.0.0; python_version >= \"3.3\"->ipywidgets>=7.5.1->pandas-profiling) (4.8.0)\n",
      "Requirement already satisfied: jedi>=0.10 in /Users/luciamontesinos/opt/anaconda3/lib/python3.8/site-packages (from ipython>=4.0.0; python_version >= \"3.3\"->ipywidgets>=7.5.1->pandas-profiling) (0.17.1)\n",
      "Requirement already satisfied: pygments in /Users/luciamontesinos/opt/anaconda3/lib/python3.8/site-packages (from ipython>=4.0.0; python_version >= \"3.3\"->ipywidgets>=7.5.1->pandas-profiling) (2.7.2)\n",
      "Requirement already satisfied: setuptools>=18.5 in /Users/luciamontesinos/opt/anaconda3/lib/python3.8/site-packages (from ipython>=4.0.0; python_version >= \"3.3\"->ipywidgets>=7.5.1->pandas-profiling) (50.3.1.post20201107)\n",
      "Requirement already satisfied: ipython-genutils in /Users/luciamontesinos/opt/anaconda3/lib/python3.8/site-packages (from traitlets>=4.3.1->ipywidgets>=7.5.1->pandas-profiling) (0.2.0)\n",
      "Requirement already satisfied: tornado>=4.2 in /Users/luciamontesinos/opt/anaconda3/lib/python3.8/site-packages (from ipykernel>=4.5.1->ipywidgets>=7.5.1->pandas-profiling) (6.1)\n",
      "Requirement already satisfied: jupyter-client in /Users/luciamontesinos/opt/anaconda3/lib/python3.8/site-packages (from ipykernel>=4.5.1->ipywidgets>=7.5.1->pandas-profiling) (6.1.7)\n"
     ]
    },
    {
     "name": "stdout",
     "output_type": "stream",
     "text": [
      "Requirement already satisfied: notebook>=4.4.1 in /Users/luciamontesinos/opt/anaconda3/lib/python3.8/site-packages (from widgetsnbextension~=3.5.0->ipywidgets>=7.5.1->pandas-profiling) (6.1.4)\n",
      "Requirement already satisfied: jsonschema!=2.5.0,>=2.4 in /Users/luciamontesinos/opt/anaconda3/lib/python3.8/site-packages (from nbformat>=4.2.0->ipywidgets>=7.5.1->pandas-profiling) (3.2.0)\n",
      "Requirement already satisfied: jupyter-core in /Users/luciamontesinos/opt/anaconda3/lib/python3.8/site-packages (from nbformat>=4.2.0->ipywidgets>=7.5.1->pandas-profiling) (4.6.3)\n",
      "Requirement already satisfied: wcwidth in /Users/luciamontesinos/opt/anaconda3/lib/python3.8/site-packages (from prompt-toolkit!=3.0.0,!=3.0.1,<3.1.0,>=2.0.0->ipython>=4.0.0; python_version >= \"3.3\"->ipywidgets>=7.5.1->pandas-profiling) (0.2.5)\n",
      "Requirement already satisfied: ptyprocess>=0.5 in /Users/luciamontesinos/opt/anaconda3/lib/python3.8/site-packages (from pexpect>4.3; sys_platform != \"win32\"->ipython>=4.0.0; python_version >= \"3.3\"->ipywidgets>=7.5.1->pandas-profiling) (0.6.0)\n",
      "Requirement already satisfied: parso<0.8.0,>=0.7.0 in /Users/luciamontesinos/opt/anaconda3/lib/python3.8/site-packages (from jedi>=0.10->ipython>=4.0.0; python_version >= \"3.3\"->ipywidgets>=7.5.1->pandas-profiling) (0.7.0)\n",
      "Requirement already satisfied: pyzmq>=13 in /Users/luciamontesinos/opt/anaconda3/lib/python3.8/site-packages (from jupyter-client->ipykernel>=4.5.1->ipywidgets>=7.5.1->pandas-profiling) (19.0.2)\n",
      "Requirement already satisfied: nbconvert in /Users/luciamontesinos/opt/anaconda3/lib/python3.8/site-packages (from notebook>=4.4.1->widgetsnbextension~=3.5.0->ipywidgets>=7.5.1->pandas-profiling) (6.0.7)\n",
      "Requirement already satisfied: terminado>=0.8.3 in /Users/luciamontesinos/opt/anaconda3/lib/python3.8/site-packages (from notebook>=4.4.1->widgetsnbextension~=3.5.0->ipywidgets>=7.5.1->pandas-profiling) (0.9.1)\n",
      "Requirement already satisfied: Send2Trash in /Users/luciamontesinos/opt/anaconda3/lib/python3.8/site-packages (from notebook>=4.4.1->widgetsnbextension~=3.5.0->ipywidgets>=7.5.1->pandas-profiling) (1.5.0)\n",
      "Requirement already satisfied: argon2-cffi in /Users/luciamontesinos/opt/anaconda3/lib/python3.8/site-packages (from notebook>=4.4.1->widgetsnbextension~=3.5.0->ipywidgets>=7.5.1->pandas-profiling) (20.1.0)\n",
      "Requirement already satisfied: prometheus-client in /Users/luciamontesinos/opt/anaconda3/lib/python3.8/site-packages (from notebook>=4.4.1->widgetsnbextension~=3.5.0->ipywidgets>=7.5.1->pandas-profiling) (0.8.0)\n",
      "Requirement already satisfied: pyrsistent>=0.14.0 in /Users/luciamontesinos/opt/anaconda3/lib/python3.8/site-packages (from jsonschema!=2.5.0,>=2.4->nbformat>=4.2.0->ipywidgets>=7.5.1->pandas-profiling) (0.17.3)\n",
      "Requirement already satisfied: bleach in /Users/luciamontesinos/opt/anaconda3/lib/python3.8/site-packages (from nbconvert->notebook>=4.4.1->widgetsnbextension~=3.5.0->ipywidgets>=7.5.1->pandas-profiling) (3.2.1)\n",
      "Requirement already satisfied: testpath in /Users/luciamontesinos/opt/anaconda3/lib/python3.8/site-packages (from nbconvert->notebook>=4.4.1->widgetsnbextension~=3.5.0->ipywidgets>=7.5.1->pandas-profiling) (0.4.4)\n",
      "Requirement already satisfied: mistune<2,>=0.8.1 in /Users/luciamontesinos/opt/anaconda3/lib/python3.8/site-packages (from nbconvert->notebook>=4.4.1->widgetsnbextension~=3.5.0->ipywidgets>=7.5.1->pandas-profiling) (0.8.4)\n",
      "Requirement already satisfied: pandocfilters>=1.4.1 in /Users/luciamontesinos/opt/anaconda3/lib/python3.8/site-packages (from nbconvert->notebook>=4.4.1->widgetsnbextension~=3.5.0->ipywidgets>=7.5.1->pandas-profiling) (1.4.3)\n",
      "Requirement already satisfied: defusedxml in /Users/luciamontesinos/opt/anaconda3/lib/python3.8/site-packages (from nbconvert->notebook>=4.4.1->widgetsnbextension~=3.5.0->ipywidgets>=7.5.1->pandas-profiling) (0.6.0)\n",
      "Requirement already satisfied: nbclient<0.6.0,>=0.5.0 in /Users/luciamontesinos/opt/anaconda3/lib/python3.8/site-packages (from nbconvert->notebook>=4.4.1->widgetsnbextension~=3.5.0->ipywidgets>=7.5.1->pandas-profiling) (0.5.1)\n",
      "Requirement already satisfied: entrypoints>=0.2.2 in /Users/luciamontesinos/opt/anaconda3/lib/python3.8/site-packages (from nbconvert->notebook>=4.4.1->widgetsnbextension~=3.5.0->ipywidgets>=7.5.1->pandas-profiling) (0.3)\n",
      "Requirement already satisfied: jupyterlab-pygments in /Users/luciamontesinos/opt/anaconda3/lib/python3.8/site-packages (from nbconvert->notebook>=4.4.1->widgetsnbextension~=3.5.0->ipywidgets>=7.5.1->pandas-profiling) (0.1.2)\n",
      "Requirement already satisfied: cffi>=1.0.0 in /Users/luciamontesinos/opt/anaconda3/lib/python3.8/site-packages (from argon2-cffi->notebook>=4.4.1->widgetsnbextension~=3.5.0->ipywidgets>=7.5.1->pandas-profiling) (1.14.3)\n",
      "Requirement already satisfied: webencodings in /Users/luciamontesinos/opt/anaconda3/lib/python3.8/site-packages (from bleach->nbconvert->notebook>=4.4.1->widgetsnbextension~=3.5.0->ipywidgets>=7.5.1->pandas-profiling) (0.5.1)\n",
      "Requirement already satisfied: packaging in /Users/luciamontesinos/opt/anaconda3/lib/python3.8/site-packages (from bleach->nbconvert->notebook>=4.4.1->widgetsnbextension~=3.5.0->ipywidgets>=7.5.1->pandas-profiling) (20.4)\n",
      "Requirement already satisfied: async-generator in /Users/luciamontesinos/opt/anaconda3/lib/python3.8/site-packages (from nbclient<0.6.0,>=0.5.0->nbconvert->notebook>=4.4.1->widgetsnbextension~=3.5.0->ipywidgets>=7.5.1->pandas-profiling) (1.10)\n",
      "Requirement already satisfied: nest-asyncio in /Users/luciamontesinos/opt/anaconda3/lib/python3.8/site-packages (from nbclient<0.6.0,>=0.5.0->nbconvert->notebook>=4.4.1->widgetsnbextension~=3.5.0->ipywidgets>=7.5.1->pandas-profiling) (1.4.2)\n",
      "Requirement already satisfied: pycparser in /Users/luciamontesinos/opt/anaconda3/lib/python3.8/site-packages (from cffi>=1.0.0->argon2-cffi->notebook>=4.4.1->widgetsnbextension~=3.5.0->ipywidgets>=7.5.1->pandas-profiling) (2.20)\n",
      "Requirement already satisfied: geojson in /Users/luciamontesinos/opt/anaconda3/lib/python3.8/site-packages (2.5.0)\n",
      "Requirement already satisfied: shapely in /Users/luciamontesinos/opt/anaconda3/lib/python3.8/site-packages (1.7.1)\n"
     ]
    }
   ],
   "source": [
    "!pip install pandas-profiling\n",
    "!pip install geojson\n",
    "!pip install shapely\n",
    "\n",
    "import pandas as pd\n",
    "import matplotlib.pyplot as plt\n",
    "from matplotlib.dates import DateFormatter\n",
    "import numpy as np\n",
    "import pandas_profiling\n",
    "import datetime\n",
    "import geojson\n",
    "from shapely.geometry import shape, Point\n",
    "import json\n",
    "\n",
    "### BOKEH\n",
    "from bokeh.io import show\n",
    "from bokeh.layouts import column\n",
    "from bokeh.models import (\n",
    "    ColumnDataSource, RangeTool, Legend, Label, LogColorMapper, ColorBar,  GeoJSONDataSource,\n",
    "    HoverTool, LinearColorMapper)\n",
    "from bokeh.plotting import figure\n",
    "from bokeh.palettes import Viridis6, Viridis11, RdYlBu11\n",
    "from bokeh.io import show, output_notebook, output_file, curdoc\n",
    "from bokeh.themes import built_in_themes\n",
    "\n",
    "### PLOTLY\n",
    "import plotly.express as px\n"
   ]
  },
  {
   "cell_type": "markdown",
   "metadata": {},
   "source": [
    "### Change from baseline \n",
    "Create mobility dataset using [Google Mobility Report](https://www.google.com/covid19/mobility/) of 2020 and 2021"
   ]
  },
  {
   "cell_type": "code",
   "execution_count": 241,
   "metadata": {},
   "outputs": [],
   "source": [
    "# Upload Mobility report dataset for 2021\n",
    "df = pd.read_csv('datasets/2021_GB_Region_Mobility_Report.csv')\n",
    "\n",
    "# Upload Mobility report dataset for 2021\n",
    "df0 = pd.read_csv('datasets/2020_GB_Region_Mobility_Report.csv')\n",
    "\n",
    "# Concat datasets\n",
    "df = pd.concat([df0, df])\n",
    "df.drop(['country_region_code', 'country_region'], axis=1)\n",
    "\n",
    "# Upload restrictions dataset\n",
    "df1 = pd.read_csv('datasets/restrictions_daily.csv')\n",
    "\n",
    "# Merge datatsets\n",
    "data = pd.merge(df, df1, how=\"inner\", on=[\"date\"])\n",
    "\n",
    "# Obtain report of the dataset\n",
    "# prof = pandas_profiling.ProfileReport(data)\n",
    "# prof.to_file(output_file='output.html')\n",
    "\n",
    "data.to_csv('datasets/london_mobility_restrictions.csv')"
   ]
  },
  {
   "cell_type": "code",
   "execution_count": 242,
   "metadata": {},
   "outputs": [],
   "source": [
    "# Upload Mobility report datasets\n",
    "\n",
    "# Upload Mobility report dataset for 2021\n",
    "df = pd.read_csv('datasets/2021_GB_Region_Mobility_Report.csv')\n",
    "\n",
    "# Upload Mobility report dataset for 2021\n",
    "df0 = pd.read_csv('datasets/2020_GB_Region_Mobility_Report.csv')\n",
    "\n",
    "# Concat datasets\n",
    "df = pd.concat([df0, df])\n",
    "\n",
    "\n",
    "# Extract Greater London Area information\n",
    "df.drop(['country_region_code', 'country_region'], axis=1)\n",
    "df = df.loc[df.sub_region_1 == 'Greater London']\n",
    "df.sub_region_2 = df.sub_region_2.fillna(0)\n",
    "df = df.loc[df.sub_region_2 == 0]\n",
    "df.date = pd.to_datetime(df.date)\n",
    "\n",
    "\n",
    "# Bokeh\n",
    "curdoc().theme = 'night_sky'\n",
    "\n",
    "p = figure(plot_height=300, plot_width=800, tools=[\"xpan\"], toolbar_location=None, title=\"Mobility in Greater London\",\n",
    "           x_axis_type=\"datetime\", x_range=(min(df.date), max(df.date)))\n",
    "\n",
    "line ={}\n",
    "legend_items = []\n",
    "\n",
    "\n",
    "for index, baseline_col in enumerate(list(df.columns.values)[-6:]):\n",
    "    \n",
    "    line[baseline_col] = p.line(df.date, df[baseline_col], color=Viridis6[index],\n",
    "                    alpha=1, muted_color=Viridis6[index], muted_alpha=0.1, line_width=2)\n",
    "    \n",
    "    # Add legend and make it readable\n",
    "    legend_items.append((baseline_col.replace('_', ' ')[:-28], [line[baseline_col]]))\n",
    "\n",
    "\n",
    "legend = Legend(items=legend_items)\n",
    "p.add_layout(legend,'left')\n",
    "p.legend.click_policy = 'mute'\n",
    "\n",
    "\n",
    "# Add baseline line\n",
    "p.line(df.date, 0, color='black', line_width=0.5, line_dash='dashed')\n",
    "\n",
    "\n",
    "p.yaxis.axis_label = 'Change from baseline'\n",
    "\n",
    "select = figure(title=\"Drag the middle and edges of the selection box to change the date range above\",\n",
    "                plot_height=100, plot_width=800, y_range=p.y_range,\n",
    "                x_axis_type=\"datetime\", y_axis_type=None,\n",
    "                tools=\"\", toolbar_location=None)\n",
    "\n",
    "range_tool = RangeTool(x_range=p.x_range)\n",
    "range_tool.overlay.fill_color = \"navy\"\n",
    "range_tool.overlay.fill_alpha = 0.2\n",
    "\n",
    "\n",
    "\n",
    "for baseline_col in list(df.columns.values)[-6:]:\n",
    "    select.line(df.date, df[baseline_col])\n",
    "select.ygrid.grid_line_color = None\n",
    "select.add_tools(range_tool)\n",
    "select.toolbar.active_multi = range_tool\n",
    "\n",
    "p.background_fill_alpha = 0.0\n",
    "p.border_fill_alpha = 0.0\n",
    "select.background_fill_alpha = 0.0\n",
    "select.border_fill_alpha = 0.0\n",
    "legend.background_fill_alpha = 0.0\n",
    "legend.border_line_alpha = 0.0\n",
    "\n",
    "\n",
    "show(column(p, select))\n",
    "\n",
    "\n",
    "output_file(\"data/ChangeBaseline.html\")\n"
   ]
  },
  {
   "cell_type": "markdown",
   "metadata": {},
   "source": [
    "### Restrictions timeline"
   ]
  },
  {
   "cell_type": "code",
   "execution_count": 278,
   "metadata": {},
   "outputs": [
    {
     "data": {
      "application/vnd.plotly.v1+json": {
       "config": {
        "plotlyServerURL": "https://plot.ly"
       },
       "data": [
        {
         "alignmentgroup": "True",
         "base": [
          "2020-03-23",
          "2021-01-05"
         ],
         "hovertemplate": "Restriction=%{y}<br>Start=%{base}<br>Finish=%{x}<extra></extra>",
         "legendgroup": "schools closed",
         "marker": {
          "color": "#636efa"
         },
         "name": "schools closed",
         "offsetgroup": "schools closed",
         "orientation": "h",
         "showlegend": true,
         "textposition": "auto",
         "type": "bar",
         "x": [
          5961600000,
          5270400000
         ],
         "xaxis": "x",
         "y": [
          "schools closed",
          "schools closed"
         ],
         "yaxis": "y"
        },
        {
         "alignmentgroup": "True",
         "base": [
          "2020-03-21",
          "2020-11-05",
          "2020-12-16"
         ],
         "hovertemplate": "Restriction=%{y}<br>Start=%{base}<br>Finish=%{x}<extra></extra>",
         "legendgroup": "pubs closed",
         "marker": {
          "color": "#EF553B"
         },
         "name": "pubs closed",
         "offsetgroup": "pubs closed",
         "orientation": "h",
         "showlegend": true,
         "textposition": "auto",
         "type": "bar",
         "x": [
          8899200000,
          2246400000,
          10627200000
         ],
         "xaxis": "x",
         "y": [
          "pubs closed",
          "pubs closed",
          "pubs closed"
         ],
         "yaxis": "y"
        },
        {
         "alignmentgroup": "True",
         "base": [
          "2020-03-24",
          "2020-11-05",
          "2020-12-20"
         ],
         "hovertemplate": "Restriction=%{y}<br>Start=%{base}<br>Finish=%{x}<extra></extra>",
         "legendgroup": "shops closed",
         "marker": {
          "color": "#00cc96"
         },
         "name": "shops closed",
         "offsetgroup": "shops closed",
         "orientation": "h",
         "showlegend": true,
         "textposition": "auto",
         "type": "bar",
         "x": [
          7084800000,
          2246400000,
          10281600000
         ],
         "xaxis": "x",
         "y": [
          "shops closed",
          "shops closed",
          "shops closed"
         ],
         "yaxis": "y"
        },
        {
         "alignmentgroup": "True",
         "base": [
          "2020-03-21",
          "2020-11-05",
          "2020-12-16"
         ],
         "hovertemplate": "Restriction=%{y}<br>Start=%{base}<br>Finish=%{x}<extra></extra>",
         "legendgroup": "eating places closed",
         "marker": {
          "color": "#ab63fa"
         },
         "name": "eating places closed",
         "offsetgroup": "eating places closed",
         "orientation": "h",
         "showlegend": true,
         "textposition": "auto",
         "type": "bar",
         "x": [
          8985600000,
          2246400000,
          10627200000
         ],
         "xaxis": "x",
         "y": [
          "eating places closed",
          "eating places closed",
          "eating places closed"
         ],
         "yaxis": "y"
        },
        {
         "alignmentgroup": "True",
         "base": [
          "2020-03-24",
          "2020-11-05",
          "2020-12-20"
         ],
         "hovertemplate": "Restriction=%{y}<br>Start=%{base}<br>Finish=%{x}<extra></extra>",
         "legendgroup": "stay at home",
         "marker": {
          "color": "#FFA15A"
         },
         "name": "stay at home",
         "offsetgroup": "stay at home",
         "orientation": "h",
         "showlegend": true,
         "textposition": "auto",
         "type": "bar",
         "x": [
          4060800000,
          2332800000,
          8467200000
         ],
         "xaxis": "x",
         "y": [
          "stay at home",
          "stay at home",
          "stay at home"
         ],
         "yaxis": "y"
        },
        {
         "alignmentgroup": "True",
         "base": [
          "2020-03-24",
          "2020-10-17"
         ],
         "hovertemplate": "Restriction=%{y}<br>Start=%{base}<br>Finish=%{x}<extra></extra>",
         "legendgroup": "household mixing indoors banned",
         "marker": {
          "color": "#19d3f3"
         },
         "name": "household mixing indoors banned",
         "offsetgroup": "household mixing indoors banned",
         "orientation": "h",
         "showlegend": true,
         "textposition": "auto",
         "type": "bar",
         "x": [
          8726400000,
          15811200000
         ],
         "xaxis": "x",
         "y": [
          "household mixing indoors banned",
          "household mixing indoors banned"
         ],
         "yaxis": "y"
        },
        {
         "alignmentgroup": "True",
         "base": [
          "2020-03-17",
          "2020-09-22"
         ],
         "hovertemplate": "Restriction=%{y}<br>Start=%{base}<br>Finish=%{x}<extra></extra>",
         "legendgroup": "wfh",
         "marker": {
          "color": "#FF6692"
         },
         "name": "wfh",
         "offsetgroup": "wfh",
         "orientation": "h",
         "showlegend": true,
         "textposition": "auto",
         "type": "bar",
         "x": [
          11750400000,
          17971200000
         ],
         "xaxis": "x",
         "y": [
          "wfh",
          "wfh"
         ],
         "yaxis": "y"
        },
        {
         "alignmentgroup": "True",
         "base": [
          "2020-09-14"
         ],
         "hovertemplate": "Restriction=%{y}<br>Start=%{base}<br>Finish=%{x}<extra></extra>",
         "legendgroup": "rule of 6 indoors",
         "marker": {
          "color": "#B6E880"
         },
         "name": "rule of 6 indoors",
         "offsetgroup": "rule of 6 indoors",
         "orientation": "h",
         "showlegend": true,
         "textposition": "auto",
         "type": "bar",
         "x": [
          2764800000
         ],
         "xaxis": "x",
         "y": [
          "rule of 6 indoors"
         ],
         "yaxis": "y"
        },
        {
         "alignmentgroup": "True",
         "base": [
          "2020-09-24",
          "2020-12-02"
         ],
         "hovertemplate": "Restriction=%{y}<br>Start=%{base}<br>Finish=%{x}<extra></extra>",
         "legendgroup": "curfew",
         "marker": {
          "color": "#FF97FF"
         },
         "name": "curfew",
         "offsetgroup": "curfew",
         "orientation": "h",
         "showlegend": true,
         "textposition": "auto",
         "type": "bar",
         "x": [
          3542400000,
          1123200000
         ],
         "xaxis": "x",
         "y": [
          "curfew",
          "curfew"
         ],
         "yaxis": "y"
        },
        {
         "alignmentgroup": "True",
         "base": [
          "2020-08-03"
         ],
         "hovertemplate": "Restriction=%{y}<br>Start=%{base}<br>Finish=%{x}<extra></extra>",
         "legendgroup": "eat out to help out",
         "marker": {
          "color": "#FECB52"
         },
         "name": "eat out to help out",
         "offsetgroup": "eat out to help out",
         "orientation": "h",
         "showlegend": true,
         "textposition": "auto",
         "type": "bar",
         "x": [
          2332800000
         ],
         "xaxis": "x",
         "y": [
          "eat out to help out"
         ],
         "yaxis": "y"
        }
       ],
       "layout": {
        "barmode": "overlay",
        "legend": {
         "title": {
          "text": "Restriction"
         },
         "tracegroupgap": 0
        },
        "paper_bgcolor": "rgba(0, 0, 0, 0)",
        "plot_bgcolor": "rgba(0, 0, 0, 0)",
        "showlegend": false,
        "template": {
         "data": {
          "bar": [
           {
            "error_x": {
             "color": "#f2f5fa"
            },
            "error_y": {
             "color": "#f2f5fa"
            },
            "marker": {
             "line": {
              "color": "rgb(17,17,17)",
              "width": 0.5
             }
            },
            "type": "bar"
           }
          ],
          "barpolar": [
           {
            "marker": {
             "line": {
              "color": "rgb(17,17,17)",
              "width": 0.5
             }
            },
            "type": "barpolar"
           }
          ],
          "carpet": [
           {
            "aaxis": {
             "endlinecolor": "#A2B1C6",
             "gridcolor": "#506784",
             "linecolor": "#506784",
             "minorgridcolor": "#506784",
             "startlinecolor": "#A2B1C6"
            },
            "baxis": {
             "endlinecolor": "#A2B1C6",
             "gridcolor": "#506784",
             "linecolor": "#506784",
             "minorgridcolor": "#506784",
             "startlinecolor": "#A2B1C6"
            },
            "type": "carpet"
           }
          ],
          "choropleth": [
           {
            "colorbar": {
             "outlinewidth": 0,
             "ticks": ""
            },
            "type": "choropleth"
           }
          ],
          "contour": [
           {
            "colorbar": {
             "outlinewidth": 0,
             "ticks": ""
            },
            "colorscale": [
             [
              0,
              "#0d0887"
             ],
             [
              0.1111111111111111,
              "#46039f"
             ],
             [
              0.2222222222222222,
              "#7201a8"
             ],
             [
              0.3333333333333333,
              "#9c179e"
             ],
             [
              0.4444444444444444,
              "#bd3786"
             ],
             [
              0.5555555555555556,
              "#d8576b"
             ],
             [
              0.6666666666666666,
              "#ed7953"
             ],
             [
              0.7777777777777778,
              "#fb9f3a"
             ],
             [
              0.8888888888888888,
              "#fdca26"
             ],
             [
              1,
              "#f0f921"
             ]
            ],
            "type": "contour"
           }
          ],
          "contourcarpet": [
           {
            "colorbar": {
             "outlinewidth": 0,
             "ticks": ""
            },
            "type": "contourcarpet"
           }
          ],
          "heatmap": [
           {
            "colorbar": {
             "outlinewidth": 0,
             "ticks": ""
            },
            "colorscale": [
             [
              0,
              "#0d0887"
             ],
             [
              0.1111111111111111,
              "#46039f"
             ],
             [
              0.2222222222222222,
              "#7201a8"
             ],
             [
              0.3333333333333333,
              "#9c179e"
             ],
             [
              0.4444444444444444,
              "#bd3786"
             ],
             [
              0.5555555555555556,
              "#d8576b"
             ],
             [
              0.6666666666666666,
              "#ed7953"
             ],
             [
              0.7777777777777778,
              "#fb9f3a"
             ],
             [
              0.8888888888888888,
              "#fdca26"
             ],
             [
              1,
              "#f0f921"
             ]
            ],
            "type": "heatmap"
           }
          ],
          "heatmapgl": [
           {
            "colorbar": {
             "outlinewidth": 0,
             "ticks": ""
            },
            "colorscale": [
             [
              0,
              "#0d0887"
             ],
             [
              0.1111111111111111,
              "#46039f"
             ],
             [
              0.2222222222222222,
              "#7201a8"
             ],
             [
              0.3333333333333333,
              "#9c179e"
             ],
             [
              0.4444444444444444,
              "#bd3786"
             ],
             [
              0.5555555555555556,
              "#d8576b"
             ],
             [
              0.6666666666666666,
              "#ed7953"
             ],
             [
              0.7777777777777778,
              "#fb9f3a"
             ],
             [
              0.8888888888888888,
              "#fdca26"
             ],
             [
              1,
              "#f0f921"
             ]
            ],
            "type": "heatmapgl"
           }
          ],
          "histogram": [
           {
            "marker": {
             "colorbar": {
              "outlinewidth": 0,
              "ticks": ""
             }
            },
            "type": "histogram"
           }
          ],
          "histogram2d": [
           {
            "colorbar": {
             "outlinewidth": 0,
             "ticks": ""
            },
            "colorscale": [
             [
              0,
              "#0d0887"
             ],
             [
              0.1111111111111111,
              "#46039f"
             ],
             [
              0.2222222222222222,
              "#7201a8"
             ],
             [
              0.3333333333333333,
              "#9c179e"
             ],
             [
              0.4444444444444444,
              "#bd3786"
             ],
             [
              0.5555555555555556,
              "#d8576b"
             ],
             [
              0.6666666666666666,
              "#ed7953"
             ],
             [
              0.7777777777777778,
              "#fb9f3a"
             ],
             [
              0.8888888888888888,
              "#fdca26"
             ],
             [
              1,
              "#f0f921"
             ]
            ],
            "type": "histogram2d"
           }
          ],
          "histogram2dcontour": [
           {
            "colorbar": {
             "outlinewidth": 0,
             "ticks": ""
            },
            "colorscale": [
             [
              0,
              "#0d0887"
             ],
             [
              0.1111111111111111,
              "#46039f"
             ],
             [
              0.2222222222222222,
              "#7201a8"
             ],
             [
              0.3333333333333333,
              "#9c179e"
             ],
             [
              0.4444444444444444,
              "#bd3786"
             ],
             [
              0.5555555555555556,
              "#d8576b"
             ],
             [
              0.6666666666666666,
              "#ed7953"
             ],
             [
              0.7777777777777778,
              "#fb9f3a"
             ],
             [
              0.8888888888888888,
              "#fdca26"
             ],
             [
              1,
              "#f0f921"
             ]
            ],
            "type": "histogram2dcontour"
           }
          ],
          "mesh3d": [
           {
            "colorbar": {
             "outlinewidth": 0,
             "ticks": ""
            },
            "type": "mesh3d"
           }
          ],
          "parcoords": [
           {
            "line": {
             "colorbar": {
              "outlinewidth": 0,
              "ticks": ""
             }
            },
            "type": "parcoords"
           }
          ],
          "pie": [
           {
            "automargin": true,
            "type": "pie"
           }
          ],
          "scatter": [
           {
            "marker": {
             "line": {
              "color": "#283442"
             }
            },
            "type": "scatter"
           }
          ],
          "scatter3d": [
           {
            "line": {
             "colorbar": {
              "outlinewidth": 0,
              "ticks": ""
             }
            },
            "marker": {
             "colorbar": {
              "outlinewidth": 0,
              "ticks": ""
             }
            },
            "type": "scatter3d"
           }
          ],
          "scattercarpet": [
           {
            "marker": {
             "colorbar": {
              "outlinewidth": 0,
              "ticks": ""
             }
            },
            "type": "scattercarpet"
           }
          ],
          "scattergeo": [
           {
            "marker": {
             "colorbar": {
              "outlinewidth": 0,
              "ticks": ""
             }
            },
            "type": "scattergeo"
           }
          ],
          "scattergl": [
           {
            "marker": {
             "line": {
              "color": "#283442"
             }
            },
            "type": "scattergl"
           }
          ],
          "scattermapbox": [
           {
            "marker": {
             "colorbar": {
              "outlinewidth": 0,
              "ticks": ""
             }
            },
            "type": "scattermapbox"
           }
          ],
          "scatterpolar": [
           {
            "marker": {
             "colorbar": {
              "outlinewidth": 0,
              "ticks": ""
             }
            },
            "type": "scatterpolar"
           }
          ],
          "scatterpolargl": [
           {
            "marker": {
             "colorbar": {
              "outlinewidth": 0,
              "ticks": ""
             }
            },
            "type": "scatterpolargl"
           }
          ],
          "scatterternary": [
           {
            "marker": {
             "colorbar": {
              "outlinewidth": 0,
              "ticks": ""
             }
            },
            "type": "scatterternary"
           }
          ],
          "surface": [
           {
            "colorbar": {
             "outlinewidth": 0,
             "ticks": ""
            },
            "colorscale": [
             [
              0,
              "#0d0887"
             ],
             [
              0.1111111111111111,
              "#46039f"
             ],
             [
              0.2222222222222222,
              "#7201a8"
             ],
             [
              0.3333333333333333,
              "#9c179e"
             ],
             [
              0.4444444444444444,
              "#bd3786"
             ],
             [
              0.5555555555555556,
              "#d8576b"
             ],
             [
              0.6666666666666666,
              "#ed7953"
             ],
             [
              0.7777777777777778,
              "#fb9f3a"
             ],
             [
              0.8888888888888888,
              "#fdca26"
             ],
             [
              1,
              "#f0f921"
             ]
            ],
            "type": "surface"
           }
          ],
          "table": [
           {
            "cells": {
             "fill": {
              "color": "#506784"
             },
             "line": {
              "color": "rgb(17,17,17)"
             }
            },
            "header": {
             "fill": {
              "color": "#2a3f5f"
             },
             "line": {
              "color": "rgb(17,17,17)"
             }
            },
            "type": "table"
           }
          ]
         },
         "layout": {
          "annotationdefaults": {
           "arrowcolor": "#f2f5fa",
           "arrowhead": 0,
           "arrowwidth": 1
          },
          "autotypenumbers": "strict",
          "coloraxis": {
           "colorbar": {
            "outlinewidth": 0,
            "ticks": ""
           }
          },
          "colorscale": {
           "diverging": [
            [
             0,
             "#8e0152"
            ],
            [
             0.1,
             "#c51b7d"
            ],
            [
             0.2,
             "#de77ae"
            ],
            [
             0.3,
             "#f1b6da"
            ],
            [
             0.4,
             "#fde0ef"
            ],
            [
             0.5,
             "#f7f7f7"
            ],
            [
             0.6,
             "#e6f5d0"
            ],
            [
             0.7,
             "#b8e186"
            ],
            [
             0.8,
             "#7fbc41"
            ],
            [
             0.9,
             "#4d9221"
            ],
            [
             1,
             "#276419"
            ]
           ],
           "sequential": [
            [
             0,
             "#0d0887"
            ],
            [
             0.1111111111111111,
             "#46039f"
            ],
            [
             0.2222222222222222,
             "#7201a8"
            ],
            [
             0.3333333333333333,
             "#9c179e"
            ],
            [
             0.4444444444444444,
             "#bd3786"
            ],
            [
             0.5555555555555556,
             "#d8576b"
            ],
            [
             0.6666666666666666,
             "#ed7953"
            ],
            [
             0.7777777777777778,
             "#fb9f3a"
            ],
            [
             0.8888888888888888,
             "#fdca26"
            ],
            [
             1,
             "#f0f921"
            ]
           ],
           "sequentialminus": [
            [
             0,
             "#0d0887"
            ],
            [
             0.1111111111111111,
             "#46039f"
            ],
            [
             0.2222222222222222,
             "#7201a8"
            ],
            [
             0.3333333333333333,
             "#9c179e"
            ],
            [
             0.4444444444444444,
             "#bd3786"
            ],
            [
             0.5555555555555556,
             "#d8576b"
            ],
            [
             0.6666666666666666,
             "#ed7953"
            ],
            [
             0.7777777777777778,
             "#fb9f3a"
            ],
            [
             0.8888888888888888,
             "#fdca26"
            ],
            [
             1,
             "#f0f921"
            ]
           ]
          },
          "colorway": [
           "#636efa",
           "#EF553B",
           "#00cc96",
           "#ab63fa",
           "#FFA15A",
           "#19d3f3",
           "#FF6692",
           "#B6E880",
           "#FF97FF",
           "#FECB52"
          ],
          "font": {
           "color": "#f2f5fa"
          },
          "geo": {
           "bgcolor": "rgb(17,17,17)",
           "lakecolor": "rgb(17,17,17)",
           "landcolor": "rgb(17,17,17)",
           "showlakes": true,
           "showland": true,
           "subunitcolor": "#506784"
          },
          "hoverlabel": {
           "align": "left"
          },
          "hovermode": "closest",
          "mapbox": {
           "style": "dark"
          },
          "paper_bgcolor": "rgb(17,17,17)",
          "plot_bgcolor": "rgb(17,17,17)",
          "polar": {
           "angularaxis": {
            "gridcolor": "#506784",
            "linecolor": "#506784",
            "ticks": ""
           },
           "bgcolor": "rgb(17,17,17)",
           "radialaxis": {
            "gridcolor": "#506784",
            "linecolor": "#506784",
            "ticks": ""
           }
          },
          "scene": {
           "xaxis": {
            "backgroundcolor": "rgb(17,17,17)",
            "gridcolor": "#506784",
            "gridwidth": 2,
            "linecolor": "#506784",
            "showbackground": true,
            "ticks": "",
            "zerolinecolor": "#C8D4E3"
           },
           "yaxis": {
            "backgroundcolor": "rgb(17,17,17)",
            "gridcolor": "#506784",
            "gridwidth": 2,
            "linecolor": "#506784",
            "showbackground": true,
            "ticks": "",
            "zerolinecolor": "#C8D4E3"
           },
           "zaxis": {
            "backgroundcolor": "rgb(17,17,17)",
            "gridcolor": "#506784",
            "gridwidth": 2,
            "linecolor": "#506784",
            "showbackground": true,
            "ticks": "",
            "zerolinecolor": "#C8D4E3"
           }
          },
          "shapedefaults": {
           "line": {
            "color": "#f2f5fa"
           }
          },
          "sliderdefaults": {
           "bgcolor": "#C8D4E3",
           "bordercolor": "rgb(17,17,17)",
           "borderwidth": 1,
           "tickwidth": 0
          },
          "ternary": {
           "aaxis": {
            "gridcolor": "#506784",
            "linecolor": "#506784",
            "ticks": ""
           },
           "baxis": {
            "gridcolor": "#506784",
            "linecolor": "#506784",
            "ticks": ""
           },
           "bgcolor": "rgb(17,17,17)",
           "caxis": {
            "gridcolor": "#506784",
            "linecolor": "#506784",
            "ticks": ""
           }
          },
          "title": {
           "x": 0.05
          },
          "updatemenudefaults": {
           "bgcolor": "#506784",
           "borderwidth": 0
          },
          "xaxis": {
           "automargin": true,
           "gridcolor": "#283442",
           "linecolor": "#506784",
           "ticks": "",
           "title": {
            "standoff": 15
           },
           "zerolinecolor": "#283442",
           "zerolinewidth": 2
          },
          "yaxis": {
           "automargin": true,
           "gridcolor": "#283442",
           "linecolor": "#506784",
           "ticks": "",
           "title": {
            "standoff": 15
           },
           "zerolinecolor": "#283442",
           "zerolinewidth": 2
          }
         }
        },
        "title": {
         "text": "Timeline of mobility restrictions"
        },
        "xaxis": {
         "anchor": "y",
         "domain": [
          0,
          1
         ],
         "nticks": 20,
         "tickformat": "%d %b %y",
         "tickmode": "auto",
         "type": "date"
        },
        "yaxis": {
         "anchor": "x",
         "categoryarray": [
          "eat out to help out",
          "curfew",
          "rule of 6 indoors",
          "wfh",
          "household mixing indoors banned",
          "stay at home",
          "eating places closed",
          "shops closed",
          "pubs closed",
          "schools closed"
         ],
         "categoryorder": "array",
         "domain": [
          0,
          1
         ],
         "title": {
          "text": "Restriction"
         }
        }
       }
      },
      "text/html": [
       "<div>                            <div id=\"7cde90e5-6ab1-45fb-b25b-996b34b1f8d7\" class=\"plotly-graph-div\" style=\"height:525px; width:100%;\"></div>            <script type=\"text/javascript\">                require([\"plotly\"], function(Plotly) {                    window.PLOTLYENV=window.PLOTLYENV || {};                                    if (document.getElementById(\"7cde90e5-6ab1-45fb-b25b-996b34b1f8d7\")) {                    Plotly.newPlot(                        \"7cde90e5-6ab1-45fb-b25b-996b34b1f8d7\",                        [{\"alignmentgroup\": \"True\", \"base\": [\"2020-03-23\", \"2021-01-05\"], \"hovertemplate\": \"Restriction=%{y}<br>Start=%{base}<br>Finish=%{x}<extra></extra>\", \"legendgroup\": \"schools closed\", \"marker\": {\"color\": \"#636efa\"}, \"name\": \"schools closed\", \"offsetgroup\": \"schools closed\", \"orientation\": \"h\", \"showlegend\": true, \"textposition\": \"auto\", \"type\": \"bar\", \"x\": [5961600000.0, 5270400000.0], \"xaxis\": \"x\", \"y\": [\"schools closed\", \"schools closed\"], \"yaxis\": \"y\"}, {\"alignmentgroup\": \"True\", \"base\": [\"2020-03-21\", \"2020-11-05\", \"2020-12-16\"], \"hovertemplate\": \"Restriction=%{y}<br>Start=%{base}<br>Finish=%{x}<extra></extra>\", \"legendgroup\": \"pubs closed\", \"marker\": {\"color\": \"#EF553B\"}, \"name\": \"pubs closed\", \"offsetgroup\": \"pubs closed\", \"orientation\": \"h\", \"showlegend\": true, \"textposition\": \"auto\", \"type\": \"bar\", \"x\": [8899200000.0, 2246400000.0, 10627200000.0], \"xaxis\": \"x\", \"y\": [\"pubs closed\", \"pubs closed\", \"pubs closed\"], \"yaxis\": \"y\"}, {\"alignmentgroup\": \"True\", \"base\": [\"2020-03-24\", \"2020-11-05\", \"2020-12-20\"], \"hovertemplate\": \"Restriction=%{y}<br>Start=%{base}<br>Finish=%{x}<extra></extra>\", \"legendgroup\": \"shops closed\", \"marker\": {\"color\": \"#00cc96\"}, \"name\": \"shops closed\", \"offsetgroup\": \"shops closed\", \"orientation\": \"h\", \"showlegend\": true, \"textposition\": \"auto\", \"type\": \"bar\", \"x\": [7084800000.0, 2246400000.0, 10281600000.0], \"xaxis\": \"x\", \"y\": [\"shops closed\", \"shops closed\", \"shops closed\"], \"yaxis\": \"y\"}, {\"alignmentgroup\": \"True\", \"base\": [\"2020-03-21\", \"2020-11-05\", \"2020-12-16\"], \"hovertemplate\": \"Restriction=%{y}<br>Start=%{base}<br>Finish=%{x}<extra></extra>\", \"legendgroup\": \"eating places closed\", \"marker\": {\"color\": \"#ab63fa\"}, \"name\": \"eating places closed\", \"offsetgroup\": \"eating places closed\", \"orientation\": \"h\", \"showlegend\": true, \"textposition\": \"auto\", \"type\": \"bar\", \"x\": [8985600000.0, 2246400000.0, 10627200000.0], \"xaxis\": \"x\", \"y\": [\"eating places closed\", \"eating places closed\", \"eating places closed\"], \"yaxis\": \"y\"}, {\"alignmentgroup\": \"True\", \"base\": [\"2020-03-24\", \"2020-11-05\", \"2020-12-20\"], \"hovertemplate\": \"Restriction=%{y}<br>Start=%{base}<br>Finish=%{x}<extra></extra>\", \"legendgroup\": \"stay at home\", \"marker\": {\"color\": \"#FFA15A\"}, \"name\": \"stay at home\", \"offsetgroup\": \"stay at home\", \"orientation\": \"h\", \"showlegend\": true, \"textposition\": \"auto\", \"type\": \"bar\", \"x\": [4060800000.0, 2332800000.0, 8467200000.0], \"xaxis\": \"x\", \"y\": [\"stay at home\", \"stay at home\", \"stay at home\"], \"yaxis\": \"y\"}, {\"alignmentgroup\": \"True\", \"base\": [\"2020-03-24\", \"2020-10-17\"], \"hovertemplate\": \"Restriction=%{y}<br>Start=%{base}<br>Finish=%{x}<extra></extra>\", \"legendgroup\": \"household mixing indoors banned\", \"marker\": {\"color\": \"#19d3f3\"}, \"name\": \"household mixing indoors banned\", \"offsetgroup\": \"household mixing indoors banned\", \"orientation\": \"h\", \"showlegend\": true, \"textposition\": \"auto\", \"type\": \"bar\", \"x\": [8726400000.0, 15811200000.0], \"xaxis\": \"x\", \"y\": [\"household mixing indoors banned\", \"household mixing indoors banned\"], \"yaxis\": \"y\"}, {\"alignmentgroup\": \"True\", \"base\": [\"2020-03-17\", \"2020-09-22\"], \"hovertemplate\": \"Restriction=%{y}<br>Start=%{base}<br>Finish=%{x}<extra></extra>\", \"legendgroup\": \"wfh\", \"marker\": {\"color\": \"#FF6692\"}, \"name\": \"wfh\", \"offsetgroup\": \"wfh\", \"orientation\": \"h\", \"showlegend\": true, \"textposition\": \"auto\", \"type\": \"bar\", \"x\": [11750400000.0, 17971200000.0], \"xaxis\": \"x\", \"y\": [\"wfh\", \"wfh\"], \"yaxis\": \"y\"}, {\"alignmentgroup\": \"True\", \"base\": [\"2020-09-14\"], \"hovertemplate\": \"Restriction=%{y}<br>Start=%{base}<br>Finish=%{x}<extra></extra>\", \"legendgroup\": \"rule of 6 indoors\", \"marker\": {\"color\": \"#B6E880\"}, \"name\": \"rule of 6 indoors\", \"offsetgroup\": \"rule of 6 indoors\", \"orientation\": \"h\", \"showlegend\": true, \"textposition\": \"auto\", \"type\": \"bar\", \"x\": [2764800000.0], \"xaxis\": \"x\", \"y\": [\"rule of 6 indoors\"], \"yaxis\": \"y\"}, {\"alignmentgroup\": \"True\", \"base\": [\"2020-09-24\", \"2020-12-02\"], \"hovertemplate\": \"Restriction=%{y}<br>Start=%{base}<br>Finish=%{x}<extra></extra>\", \"legendgroup\": \"curfew\", \"marker\": {\"color\": \"#FF97FF\"}, \"name\": \"curfew\", \"offsetgroup\": \"curfew\", \"orientation\": \"h\", \"showlegend\": true, \"textposition\": \"auto\", \"type\": \"bar\", \"x\": [3542400000.0, 1123200000.0], \"xaxis\": \"x\", \"y\": [\"curfew\", \"curfew\"], \"yaxis\": \"y\"}, {\"alignmentgroup\": \"True\", \"base\": [\"2020-08-03\"], \"hovertemplate\": \"Restriction=%{y}<br>Start=%{base}<br>Finish=%{x}<extra></extra>\", \"legendgroup\": \"eat out to help out\", \"marker\": {\"color\": \"#FECB52\"}, \"name\": \"eat out to help out\", \"offsetgroup\": \"eat out to help out\", \"orientation\": \"h\", \"showlegend\": true, \"textposition\": \"auto\", \"type\": \"bar\", \"x\": [2332800000.0], \"xaxis\": \"x\", \"y\": [\"eat out to help out\"], \"yaxis\": \"y\"}],                        {\"barmode\": \"overlay\", \"legend\": {\"title\": {\"text\": \"Restriction\"}, \"tracegroupgap\": 0}, \"paper_bgcolor\": \"rgba(0, 0, 0, 0)\", \"plot_bgcolor\": \"rgba(0, 0, 0, 0)\", \"showlegend\": false, \"template\": {\"data\": {\"bar\": [{\"error_x\": {\"color\": \"#f2f5fa\"}, \"error_y\": {\"color\": \"#f2f5fa\"}, \"marker\": {\"line\": {\"color\": \"rgb(17,17,17)\", \"width\": 0.5}}, \"type\": \"bar\"}], \"barpolar\": [{\"marker\": {\"line\": {\"color\": \"rgb(17,17,17)\", \"width\": 0.5}}, \"type\": \"barpolar\"}], \"carpet\": [{\"aaxis\": {\"endlinecolor\": \"#A2B1C6\", \"gridcolor\": \"#506784\", \"linecolor\": \"#506784\", \"minorgridcolor\": \"#506784\", \"startlinecolor\": \"#A2B1C6\"}, \"baxis\": {\"endlinecolor\": \"#A2B1C6\", \"gridcolor\": \"#506784\", \"linecolor\": \"#506784\", \"minorgridcolor\": \"#506784\", \"startlinecolor\": \"#A2B1C6\"}, \"type\": \"carpet\"}], \"choropleth\": [{\"colorbar\": {\"outlinewidth\": 0, \"ticks\": \"\"}, \"type\": \"choropleth\"}], \"contour\": [{\"colorbar\": {\"outlinewidth\": 0, \"ticks\": \"\"}, \"colorscale\": [[0.0, \"#0d0887\"], [0.1111111111111111, \"#46039f\"], [0.2222222222222222, \"#7201a8\"], [0.3333333333333333, \"#9c179e\"], [0.4444444444444444, \"#bd3786\"], [0.5555555555555556, \"#d8576b\"], [0.6666666666666666, \"#ed7953\"], [0.7777777777777778, \"#fb9f3a\"], [0.8888888888888888, \"#fdca26\"], [1.0, \"#f0f921\"]], \"type\": \"contour\"}], \"contourcarpet\": [{\"colorbar\": {\"outlinewidth\": 0, \"ticks\": \"\"}, \"type\": \"contourcarpet\"}], \"heatmap\": [{\"colorbar\": {\"outlinewidth\": 0, \"ticks\": \"\"}, \"colorscale\": [[0.0, \"#0d0887\"], [0.1111111111111111, \"#46039f\"], [0.2222222222222222, \"#7201a8\"], [0.3333333333333333, \"#9c179e\"], [0.4444444444444444, \"#bd3786\"], [0.5555555555555556, \"#d8576b\"], [0.6666666666666666, \"#ed7953\"], [0.7777777777777778, \"#fb9f3a\"], [0.8888888888888888, \"#fdca26\"], [1.0, \"#f0f921\"]], \"type\": \"heatmap\"}], \"heatmapgl\": [{\"colorbar\": {\"outlinewidth\": 0, \"ticks\": \"\"}, \"colorscale\": [[0.0, \"#0d0887\"], [0.1111111111111111, \"#46039f\"], [0.2222222222222222, \"#7201a8\"], [0.3333333333333333, \"#9c179e\"], [0.4444444444444444, \"#bd3786\"], [0.5555555555555556, \"#d8576b\"], [0.6666666666666666, \"#ed7953\"], [0.7777777777777778, \"#fb9f3a\"], [0.8888888888888888, \"#fdca26\"], [1.0, \"#f0f921\"]], \"type\": \"heatmapgl\"}], \"histogram\": [{\"marker\": {\"colorbar\": {\"outlinewidth\": 0, \"ticks\": \"\"}}, \"type\": \"histogram\"}], \"histogram2d\": [{\"colorbar\": {\"outlinewidth\": 0, \"ticks\": \"\"}, \"colorscale\": [[0.0, \"#0d0887\"], [0.1111111111111111, \"#46039f\"], [0.2222222222222222, \"#7201a8\"], [0.3333333333333333, \"#9c179e\"], [0.4444444444444444, \"#bd3786\"], [0.5555555555555556, \"#d8576b\"], [0.6666666666666666, \"#ed7953\"], [0.7777777777777778, \"#fb9f3a\"], [0.8888888888888888, \"#fdca26\"], [1.0, \"#f0f921\"]], \"type\": \"histogram2d\"}], \"histogram2dcontour\": [{\"colorbar\": {\"outlinewidth\": 0, \"ticks\": \"\"}, \"colorscale\": [[0.0, \"#0d0887\"], [0.1111111111111111, \"#46039f\"], [0.2222222222222222, \"#7201a8\"], [0.3333333333333333, \"#9c179e\"], [0.4444444444444444, \"#bd3786\"], [0.5555555555555556, \"#d8576b\"], [0.6666666666666666, \"#ed7953\"], [0.7777777777777778, \"#fb9f3a\"], [0.8888888888888888, \"#fdca26\"], [1.0, \"#f0f921\"]], \"type\": \"histogram2dcontour\"}], \"mesh3d\": [{\"colorbar\": {\"outlinewidth\": 0, \"ticks\": \"\"}, \"type\": \"mesh3d\"}], \"parcoords\": [{\"line\": {\"colorbar\": {\"outlinewidth\": 0, \"ticks\": \"\"}}, \"type\": \"parcoords\"}], \"pie\": [{\"automargin\": true, \"type\": \"pie\"}], \"scatter\": [{\"marker\": {\"line\": {\"color\": \"#283442\"}}, \"type\": \"scatter\"}], \"scatter3d\": [{\"line\": {\"colorbar\": {\"outlinewidth\": 0, \"ticks\": \"\"}}, \"marker\": {\"colorbar\": {\"outlinewidth\": 0, \"ticks\": \"\"}}, \"type\": \"scatter3d\"}], \"scattercarpet\": [{\"marker\": {\"colorbar\": {\"outlinewidth\": 0, \"ticks\": \"\"}}, \"type\": \"scattercarpet\"}], \"scattergeo\": [{\"marker\": {\"colorbar\": {\"outlinewidth\": 0, \"ticks\": \"\"}}, \"type\": \"scattergeo\"}], \"scattergl\": [{\"marker\": {\"line\": {\"color\": \"#283442\"}}, \"type\": \"scattergl\"}], \"scattermapbox\": [{\"marker\": {\"colorbar\": {\"outlinewidth\": 0, \"ticks\": \"\"}}, \"type\": \"scattermapbox\"}], \"scatterpolar\": [{\"marker\": {\"colorbar\": {\"outlinewidth\": 0, \"ticks\": \"\"}}, \"type\": \"scatterpolar\"}], \"scatterpolargl\": [{\"marker\": {\"colorbar\": {\"outlinewidth\": 0, \"ticks\": \"\"}}, \"type\": \"scatterpolargl\"}], \"scatterternary\": [{\"marker\": {\"colorbar\": {\"outlinewidth\": 0, \"ticks\": \"\"}}, \"type\": \"scatterternary\"}], \"surface\": [{\"colorbar\": {\"outlinewidth\": 0, \"ticks\": \"\"}, \"colorscale\": [[0.0, \"#0d0887\"], [0.1111111111111111, \"#46039f\"], [0.2222222222222222, \"#7201a8\"], [0.3333333333333333, \"#9c179e\"], [0.4444444444444444, \"#bd3786\"], [0.5555555555555556, \"#d8576b\"], [0.6666666666666666, \"#ed7953\"], [0.7777777777777778, \"#fb9f3a\"], [0.8888888888888888, \"#fdca26\"], [1.0, \"#f0f921\"]], \"type\": \"surface\"}], \"table\": [{\"cells\": {\"fill\": {\"color\": \"#506784\"}, \"line\": {\"color\": \"rgb(17,17,17)\"}}, \"header\": {\"fill\": {\"color\": \"#2a3f5f\"}, \"line\": {\"color\": \"rgb(17,17,17)\"}}, \"type\": \"table\"}]}, \"layout\": {\"annotationdefaults\": {\"arrowcolor\": \"#f2f5fa\", \"arrowhead\": 0, \"arrowwidth\": 1}, \"autotypenumbers\": \"strict\", \"coloraxis\": {\"colorbar\": {\"outlinewidth\": 0, \"ticks\": \"\"}}, \"colorscale\": {\"diverging\": [[0, \"#8e0152\"], [0.1, \"#c51b7d\"], [0.2, \"#de77ae\"], [0.3, \"#f1b6da\"], [0.4, \"#fde0ef\"], [0.5, \"#f7f7f7\"], [0.6, \"#e6f5d0\"], [0.7, \"#b8e186\"], [0.8, \"#7fbc41\"], [0.9, \"#4d9221\"], [1, \"#276419\"]], \"sequential\": [[0.0, \"#0d0887\"], [0.1111111111111111, \"#46039f\"], [0.2222222222222222, \"#7201a8\"], [0.3333333333333333, \"#9c179e\"], [0.4444444444444444, \"#bd3786\"], [0.5555555555555556, \"#d8576b\"], [0.6666666666666666, \"#ed7953\"], [0.7777777777777778, \"#fb9f3a\"], [0.8888888888888888, \"#fdca26\"], [1.0, \"#f0f921\"]], \"sequentialminus\": [[0.0, \"#0d0887\"], [0.1111111111111111, \"#46039f\"], [0.2222222222222222, \"#7201a8\"], [0.3333333333333333, \"#9c179e\"], [0.4444444444444444, \"#bd3786\"], [0.5555555555555556, \"#d8576b\"], [0.6666666666666666, \"#ed7953\"], [0.7777777777777778, \"#fb9f3a\"], [0.8888888888888888, \"#fdca26\"], [1.0, \"#f0f921\"]]}, \"colorway\": [\"#636efa\", \"#EF553B\", \"#00cc96\", \"#ab63fa\", \"#FFA15A\", \"#19d3f3\", \"#FF6692\", \"#B6E880\", \"#FF97FF\", \"#FECB52\"], \"font\": {\"color\": \"#f2f5fa\"}, \"geo\": {\"bgcolor\": \"rgb(17,17,17)\", \"lakecolor\": \"rgb(17,17,17)\", \"landcolor\": \"rgb(17,17,17)\", \"showlakes\": true, \"showland\": true, \"subunitcolor\": \"#506784\"}, \"hoverlabel\": {\"align\": \"left\"}, \"hovermode\": \"closest\", \"mapbox\": {\"style\": \"dark\"}, \"paper_bgcolor\": \"rgb(17,17,17)\", \"plot_bgcolor\": \"rgb(17,17,17)\", \"polar\": {\"angularaxis\": {\"gridcolor\": \"#506784\", \"linecolor\": \"#506784\", \"ticks\": \"\"}, \"bgcolor\": \"rgb(17,17,17)\", \"radialaxis\": {\"gridcolor\": \"#506784\", \"linecolor\": \"#506784\", \"ticks\": \"\"}}, \"scene\": {\"xaxis\": {\"backgroundcolor\": \"rgb(17,17,17)\", \"gridcolor\": \"#506784\", \"gridwidth\": 2, \"linecolor\": \"#506784\", \"showbackground\": true, \"ticks\": \"\", \"zerolinecolor\": \"#C8D4E3\"}, \"yaxis\": {\"backgroundcolor\": \"rgb(17,17,17)\", \"gridcolor\": \"#506784\", \"gridwidth\": 2, \"linecolor\": \"#506784\", \"showbackground\": true, \"ticks\": \"\", \"zerolinecolor\": \"#C8D4E3\"}, \"zaxis\": {\"backgroundcolor\": \"rgb(17,17,17)\", \"gridcolor\": \"#506784\", \"gridwidth\": 2, \"linecolor\": \"#506784\", \"showbackground\": true, \"ticks\": \"\", \"zerolinecolor\": \"#C8D4E3\"}}, \"shapedefaults\": {\"line\": {\"color\": \"#f2f5fa\"}}, \"sliderdefaults\": {\"bgcolor\": \"#C8D4E3\", \"bordercolor\": \"rgb(17,17,17)\", \"borderwidth\": 1, \"tickwidth\": 0}, \"ternary\": {\"aaxis\": {\"gridcolor\": \"#506784\", \"linecolor\": \"#506784\", \"ticks\": \"\"}, \"baxis\": {\"gridcolor\": \"#506784\", \"linecolor\": \"#506784\", \"ticks\": \"\"}, \"bgcolor\": \"rgb(17,17,17)\", \"caxis\": {\"gridcolor\": \"#506784\", \"linecolor\": \"#506784\", \"ticks\": \"\"}}, \"title\": {\"x\": 0.05}, \"updatemenudefaults\": {\"bgcolor\": \"#506784\", \"borderwidth\": 0}, \"xaxis\": {\"automargin\": true, \"gridcolor\": \"#283442\", \"linecolor\": \"#506784\", \"ticks\": \"\", \"title\": {\"standoff\": 15}, \"zerolinecolor\": \"#283442\", \"zerolinewidth\": 2}, \"yaxis\": {\"automargin\": true, \"gridcolor\": \"#283442\", \"linecolor\": \"#506784\", \"ticks\": \"\", \"title\": {\"standoff\": 15}, \"zerolinecolor\": \"#283442\", \"zerolinewidth\": 2}}}, \"title\": {\"text\": \"Timeline of mobility restrictions\"}, \"xaxis\": {\"anchor\": \"y\", \"domain\": [0.0, 1.0], \"nticks\": 20, \"tickformat\": \"%d %b %y\", \"tickmode\": \"auto\", \"type\": \"date\"}, \"yaxis\": {\"anchor\": \"x\", \"categoryarray\": [\"eat out to help out\", \"curfew\", \"rule of 6 indoors\", \"wfh\", \"household mixing indoors banned\", \"stay at home\", \"eating places closed\", \"shops closed\", \"pubs closed\", \"schools closed\"], \"categoryorder\": \"array\", \"domain\": [0.0, 1.0], \"title\": {\"text\": \"Restriction\"}}},                        {\"responsive\": true}                    ).then(function(){\n",
       "                            \n",
       "var gd = document.getElementById('7cde90e5-6ab1-45fb-b25b-996b34b1f8d7');\n",
       "var x = new MutationObserver(function (mutations, observer) {{\n",
       "        var display = window.getComputedStyle(gd).display;\n",
       "        if (!display || display === 'none') {{\n",
       "            console.log([gd, 'removed!']);\n",
       "            Plotly.purge(gd);\n",
       "            observer.disconnect();\n",
       "        }}\n",
       "}});\n",
       "\n",
       "// Listen for the removal of the full notebook cells\n",
       "var notebookContainer = gd.closest('#notebook-container');\n",
       "if (notebookContainer) {{\n",
       "    x.observe(notebookContainer, {childList: true});\n",
       "}}\n",
       "\n",
       "// Listen for the clearing of the current output cell\n",
       "var outputEl = gd.closest('.output');\n",
       "if (outputEl) {{\n",
       "    x.observe(outputEl, {childList: true});\n",
       "}}\n",
       "\n",
       "                        })                };                });            </script>        </div>"
      ]
     },
     "metadata": {},
     "output_type": "display_data"
    }
   ],
   "source": [
    "# Create dataset using the restrictions dataset\n",
    "df = pd.DataFrame([\n",
    "    dict(Task='schools_closed_0', Start='2020-03-23', Finish='2020-05-31', Resource='schools closed'),\n",
    "    dict(Task='pubs_closed_0',  Start='2020-03-21',Finish='2020-07-02', Resource='pubs closed'),\n",
    "    dict(Task='shops_closed_0',  Start='2020-03-24',Finish='2020-06-14', Resource='shops closed'),\n",
    "    dict(Task='eating_places_closed_0',  Start='2020-03-21',Finish='2020-07-03', Resource='eating places closed'),\n",
    "    dict(Task='schools_closed_1',  Start='2021-01-05',Finish='2021-03-07', Resource='schools closed'),\n",
    "    dict(Task='pubs_closed_1',  Start='2020-11-05',Finish='2020-12-01', Resource='pubs closed'),\n",
    "    dict(Task='shops_closed_1',  Start='2020-11-05',Finish='2020-12-01', Resource='shops closed'),\n",
    "    dict(Task='eating_places_closed_1',  Start='2020-11-05',Finish='2020-12-01', Resource='eating places closed'),\n",
    "    dict(Task='pubs_closed_2',  Start='2020-12-16',Finish='2021-04-18', Resource='pubs closed'),\n",
    "    dict(Task='shops_closed_2',  Start='2020-12-20',Finish='2021-04-18', Resource='shops closed'),\n",
    "    dict(Task='eating_places_closed_2',  Start='2020-12-16', Finish='2021-04-18', Resource='eating places closed'),\n",
    "    dict(Task='stay_at_home_0',  Start='2020-03-24', Finish='2020-05-10', Resource='stay at home'),\n",
    "    dict(Task='stay_at_home_1',  Start='2020-11-05',Finish='2020-12-02', Resource='stay at home'),\n",
    "    dict(Task='stay_at_home_2',  Start='2020-12-20', Finish='2021-03-28', Resource='stay at home'),\n",
    "    dict(Task='household_mixing_indoors_banned_0',  Start='2020-03-24', Finish='2020-07-03', Resource='household mixing indoors banned'),\n",
    "    dict(Task='household_mixing_indoors_banned_1',  Start='2020-10-17', Finish='2021-04-18', Resource='household mixing indoors banned'),\n",
    "    dict(Task='wfh_0',  Start='2020-03-17', Finish='2020-07-31', Resource='wfh'),\n",
    "    dict(Task='wfh_1',  Start='2020-09-22', Finish='2021-04-18', Resource='wfh'),\n",
    "    dict(Task='rule_of_6_indoors_0',  Start='2020-09-14', Finish='2020-10-16', Resource='rule of 6 indoors'),\n",
    "    dict(Task='curfew_0',  Start='2020-09-24', Finish='2020-11-04', Resource='curfew'),\n",
    "    dict(Task='curfew_1',  Start='2020-12-02', Finish='2020-12-15', Resource='curfew'),\n",
    "    dict(Task='eat_out_to_help_out_0',  Start='2020-08-03',Finish='2020-08-30', Resource='eat out to help out'),\n",
    "])\n",
    "\n",
    "# Plot timeline of restrictions using plotly\n",
    "fig = px.timeline(df, x_start=\"Start\", x_end=\"Finish\",\n",
    "                  y=\"Resource\", color=\"Resource\", labels={\n",
    "                     \"Start\": \"Start\",\n",
    "                     \"Finish\": \"Finish\",\n",
    "                     \"Resource\": \"Restriction\"\n",
    "                 },\n",
    "                title=\"Timeline of mobility restrictions\", template='plotly_dark')\n",
    "fig.update_xaxes(\n",
    "    tickmode = 'auto',\n",
    "    nticks =  20,\n",
    "    tickformat=\"%d %b %y\")\n",
    "\n",
    "\n",
    "fig.update_layout(showlegend=False, plot_bgcolor = 'rgba(0, 0, 0, 0)', paper_bgcolor = 'rgba(0, 0, 0, 0)' )\n",
    "\n",
    "\n",
    "fig.show()\n",
    "fig.write_html(\"data/timeline_restrictions.html\")"
   ]
  },
  {
   "cell_type": "markdown",
   "metadata": {},
   "source": [
    "### Mobility infrastructure of london"
   ]
  },
  {
   "cell_type": "code",
   "execution_count": 244,
   "metadata": {},
   "outputs": [],
   "source": [
    "# Obtain number of bus stops per borough, number of docking stations per borough, number of tfl stops per borough\n",
    "    \n",
    "with open('datasets/london_boroughs.geojson') as f:\n",
    "    london = geojson.load(f)\n",
    "    \n",
    "with open('datasets/stops_with_lat_longs.geojson') as f:\n",
    "    stops = geojson.load(f)\n",
    "    \n",
    "with open('datasets/cycle_hire_locations.geojson') as f:\n",
    "    stations = geojson.load(f)   \n",
    "\n",
    "with open('datasets/tfl.geojson') as f:\n",
    "    tfl = geojson.load(f)   \n",
    "    \n",
    "        \n",
    "# Transform coordenates to Points\n",
    "bus_points = []\n",
    "for i in range(len(stops['features'])):\n",
    "    bus_points.append(Point(stops['features'][i]['geometry']['coordinates']\n",
    "                  [0], stops['features'][i]['geometry']['coordinates'][1]))\n",
    "\n",
    "docking_points = []\n",
    "for i in range(len(stations['features'])):\n",
    "    docking_points.append(Point(stations['features'][i]['properties']['longitude'],\n",
    "                   stations['features'][i]['properties']['latitude']))\n",
    "    \n",
    "tfl_points = []\n",
    "for i in range(len(tfl['features'])):\n",
    "     tfl_points.append(Point(tfl['features'][i]['geometry']['coordinates']\n",
    "                  [0], tfl['features'][i]['geometry']['coordinates'][1]))\n",
    "\n",
    "# Check if borough contains each point        \n",
    "for feature in london['features']:\n",
    "    polygon = shape(feature['geometry'])\n",
    "    feature['properties']['stops_counter']  = 0\n",
    "    feature['properties']['docking_counter']  = 0\n",
    "    feature['properties']['tfl_counter']  = 0\n",
    "    \n",
    "    # Count stops\n",
    "    for point in bus_points:\n",
    "        if polygon.contains(point):\n",
    "            feature['properties']['stops_counter'] +=1\n",
    "            \n",
    "    # Count docking stations       \n",
    "    for point in docking_points:\n",
    "        if polygon.contains(point):\n",
    "            feature['properties']['docking_counter'] +=1\n",
    "            \n",
    "    # Count docking stations       \n",
    "    for point in tfl_points:\n",
    "        if polygon.contains(point):\n",
    "            feature['properties']['tfl_counter'] +=1\n",
    "            \n",
    "with open('datasets/london_stops.geojson', 'w') as f:\n",
    "    json.dump(london, f)            "
   ]
  },
  {
   "cell_type": "markdown",
   "metadata": {},
   "source": [
    "#### Bus"
   ]
  },
  {
   "cell_type": "code",
   "execution_count": 245,
   "metadata": {},
   "outputs": [],
   "source": [
    "# Plot Bus Stops per Borough\n",
    "\n",
    "with open('datasets/london_stops.geojson') as f:\n",
    "    london_source = GeoJSONDataSource(geojson=f.read())\n",
    "\n",
    "\n",
    "# Define color mapper    \n",
    "color_mapper = LinearColorMapper(palette=Viridis11, low=0, high=1200)\n",
    "\n",
    "TOOLS = \"pan,wheel_zoom,box_zoom,reset,hover,save\"\n",
    "\n",
    "curdoc().theme = 'night_sky'\n",
    "\n",
    "p = figure(title=\"Number of bus stops per borough\", tools=TOOLS, x_axis_location=None,\n",
    "           y_axis_location=None, width=600, height=400)\n",
    "p.grid.grid_line_color = None\n",
    "\n",
    "\n",
    "# Plot map of Greater London\n",
    "p.patches('xs', 'ys', source=london_source,\n",
    "          fill_color={'field': 'stops_counter', 'transform': color_mapper},\n",
    "          fill_alpha=1.0, line_color=\"black\", line_width=0.5)\n",
    "\n",
    "# Add legend\n",
    "color_bar = ColorBar(color_mapper=color_mapper, label_standoff=12, location=(0,0))\n",
    "\n",
    "p.add_layout(color_bar, 'right')\n",
    "\n",
    "p.background_fill_alpha = 0.0\n",
    "p.border_fill_alpha = 0.0\n",
    "color_bar.background_fill_alpha = 0.0\n",
    "\n",
    "\n",
    "hover = p.select_one(HoverTool)\n",
    "hover.point_policy = \"follow_mouse\"\n",
    "hover.tooltips = [(\"Borough\", \"@name\"), (\"Number of stops\", \"@stops_counter\")]\n",
    "\n",
    "output_file(\"data/London_bus_stops.html\", title=\"Number of bus stops per borough\")\n",
    "\n",
    "show(p)"
   ]
  },
  {
   "cell_type": "markdown",
   "metadata": {},
   "source": [
    "#### Cycle"
   ]
  },
  {
   "cell_type": "code",
   "execution_count": 246,
   "metadata": {},
   "outputs": [],
   "source": [
    "# Plot cycle hire docking stations per Borough\n",
    "\n",
    "with open('datasets/london_stops.geojson') as f:\n",
    "    london_source = GeoJSONDataSource(geojson=f.read())\n",
    "\n",
    "# Define color mapper       \n",
    "color_mapper = LinearColorMapper(palette=Viridis11, low=0, high=200)\n",
    "\n",
    "TOOLS = \"pan,wheel_zoom,box_zoom,reset,hover,save\"\n",
    "\n",
    "curdoc().theme = 'night_sky'\n",
    "\n",
    "p = figure(title=\"Number of Santander Cycle Hire docking stations per borough\", tools=TOOLS, x_axis_location=None,\n",
    "           y_axis_location=None, width=600, height=400)\n",
    "p.grid.grid_line_color = None\n",
    "\n",
    "\n",
    "# Plot map of Greater London\n",
    "p.patches('xs', 'ys', source=london_source,\n",
    "          fill_color={'field': 'docking_counter', 'transform': color_mapper},\n",
    "          fill_alpha=1.0, line_color=\"black\", line_width=0.5)\n",
    "\n",
    "\n",
    "color_bar = ColorBar(color_mapper=color_mapper, label_standoff=12, location=(0,0))\n",
    "\n",
    "p.add_layout(color_bar, 'right')\n",
    "\n",
    "p.background_fill_alpha = 0.0\n",
    "p.border_fill_alpha = 0.0\n",
    "color_bar.background_fill_alpha = 0.0\n",
    "\n",
    "hover = p.select_one(HoverTool)\n",
    "hover.point_policy = \"follow_mouse\"\n",
    "hover.tooltips = [(\"Borough\", \"@name\"), (\"Number of docking stations\", \"@docking_counter\")]\n",
    "\n",
    "output_file(\"data/London_docking_stations.html\", title=\"Number of bus stops per borough\")\n",
    "\n",
    "show(p)"
   ]
  },
  {
   "cell_type": "code",
   "execution_count": 247,
   "metadata": {},
   "outputs": [],
   "source": [
    "# Plot number of cycle hires\n",
    "\n",
    "cycle_hires = pd.read_excel('datasets/tfl-daily-cycle-hires.xlsx', sheet_name='Data')\n",
    "\n",
    "\n",
    "cycle_hires = cycle_hires.loc[cycle_hires['Day']>'2017-01-01']\n",
    "\n",
    "curdoc().theme = 'night_sky'\n",
    "\n",
    "p = figure(plot_height=300, plot_width=800, tools=\"xpan\", toolbar_location=None,\n",
    "           x_axis_type=\"datetime\", x_range=(datetime.datetime(2017,1,1), datetime.datetime(2021, 4, 1)))\n",
    "\n",
    "p.circle(cycle_hires['Day'], cycle_hires['Number of Bicycle Hires'])\n",
    "\n",
    "p.yaxis.axis_label = 'Bicycle Hires'\n",
    "\n",
    "\n",
    "\n",
    "\n",
    "\n",
    "select = figure(title=\"Drag the middle and edges of the selection box to change the date range above\",\n",
    "                plot_height=100, plot_width=800, y_range=p.y_range,\n",
    "                x_axis_type=\"datetime\", y_axis_type=None,\n",
    "                tools=\"\", toolbar_location=None)\n",
    "\n",
    "\n",
    "\n",
    "p.background_fill_alpha = 0.0\n",
    "p.border_fill_alpha = 0.0\n",
    "select.background_fill_alpha = 0.0\n",
    "select.border_fill_alpha = 0.0\n",
    "\n",
    "\n",
    "range_tool = RangeTool(x_range=p.x_range)\n",
    "range_tool.overlay.fill_color = \"navy\"\n",
    "range_tool.overlay.fill_alpha = 0.2\n",
    "\n",
    "select.line(cycle_hires['Day'], cycle_hires['Number of Bicycle Hires'])\n",
    "select.ygrid.grid_line_color = None\n",
    "select.add_tools(range_tool)\n",
    "select.toolbar.active_multi = range_tool\n",
    "\n",
    "show(column(p, select))\n",
    "\n",
    "output_file(\"data/CycleHires.html\")"
   ]
  },
  {
   "cell_type": "code",
   "execution_count": 257,
   "metadata": {},
   "outputs": [],
   "source": [
    "# Plot cycle routes\n",
    "with open('datasets/london_boroughs.geojson') as f:\n",
    "    london_source = GeoJSONDataSource(geojson=f.read())\n",
    "\n",
    "with open('datasets/CycleRoutes.geojson') as f:\n",
    "    cycle_source = GeoJSONDataSource(geojson=f.read())\n",
    "\n",
    "    \n",
    "with open('datasets/cycle_hire_locations.geojson') as f:\n",
    "    docking_source = GeoJSONDataSource(geojson=f.read())\n",
    "\n",
    "\n",
    "TOOLS = \"pan,wheel_zoom,box_zoom,reset,hover,save\"\n",
    "\n",
    "p = figure(title=\"Cycle Routes\", tools=TOOLS, x_axis_location=None,\n",
    "           y_axis_location=None, width=600, height=400)\n",
    "p.grid.grid_line_color = None\n",
    "\n",
    "\n",
    "# Plot map of Greater London\n",
    "p.patches('xs', 'ys', source=london_source,\n",
    "          fill_color=Viridis6[0],\n",
    "          fill_alpha=0.5, line_color=\"black\", line_width=0.5)\n",
    "\n",
    "# Plot cycle routes on top\n",
    "p.multi_line('xs', 'ys', source=cycle_source, line_alpha=1, line_color=Viridis6[5],\n",
    "             line_width=0.7)\n",
    "\n",
    "p.background_fill_alpha = 0.0\n",
    "p.border_fill_alpha = 0.0\n",
    "        \n",
    "hover = p.select_one(HoverTool)\n",
    "hover.point_policy = \"follow_mouse\"\n",
    "hover.tooltips = [(\"Borough\", \"@name\")]\n",
    "\n",
    "output_file(\"data/Cycle_Routes.html\", title=\"Cycle Routes\")\n",
    "\n",
    "show(p)"
   ]
  },
  {
   "cell_type": "markdown",
   "metadata": {},
   "source": [
    "#### TLF STATIONS (Tube, DLR, Overground, Tramlink, Emirates Air Line and Crossrail)"
   ]
  },
  {
   "cell_type": "code",
   "execution_count": 248,
   "metadata": {},
   "outputs": [],
   "source": [
    "# Plot TFL stations per Borough\n",
    "\n",
    "with open('datasets/london_stops.geojson') as f:\n",
    "    london_source = GeoJSONDataSource(geojson=f.read())\n",
    "\n",
    "# Define color mapper \n",
    "color_mapper = LinearColorMapper(palette=Viridis11, low=0, high=40)\n",
    "\n",
    "TOOLS = \"pan,wheel_zoom,box_zoom,reset,hover,save\"\n",
    "\n",
    "curdoc().theme = 'night_sky'\n",
    "\n",
    "p = figure(title=\"Number of TFL Stations per borough\", tools=TOOLS, x_axis_location=None,\n",
    "           y_axis_location=None, width=600, height=400)\n",
    "p.grid.grid_line_color = None\n",
    "\n",
    "\n",
    "# Plot map of Greater London\n",
    "p.patches('xs', 'ys', source=london_source,\n",
    "          fill_color={'field': 'tfl_counter', 'transform': color_mapper},\n",
    "          fill_alpha=1.0, line_color=\"black\", line_width=0.5)\n",
    "\n",
    "\n",
    "color_bar = ColorBar(color_mapper=color_mapper, label_standoff=12, location=(0,0))\n",
    "\n",
    "p.add_layout(color_bar, 'right')\n",
    "\n",
    "p.background_fill_alpha = 0.0\n",
    "p.border_fill_alpha = 0.0\n",
    "color_bar.background_fill_alpha = 0.0\n",
    "\n",
    "hover = p.select_one(HoverTool)\n",
    "hover.point_policy = \"follow_mouse\"\n",
    "hover.tooltips = [(\"Borough\", \"@name\"), (\"Number of TFL stations\", \"@tfl_counter\")]\n",
    "\n",
    "output_file(\"data/London_tfl_stations.html\", title=\"Number of TFL Stations per borough\")\n",
    "\n",
    "show(p)"
   ]
  },
  {
   "cell_type": "code",
   "execution_count": 284,
   "metadata": {},
   "outputs": [
    {
     "data": {
      "application/vnd.plotly.v1+json": {
       "config": {
        "plotlyServerURL": "https://plot.ly"
       },
       "data": [
        {
         "hovertemplate": "Transport=Bus journeys (m)<br>Date=%{x}<br>Number of journeys (M)=%{y}<extra></extra>",
         "legendgroup": "Bus journeys (m)",
         "line": {
          "color": "#636efa",
          "dash": "solid"
         },
         "mode": "lines",
         "name": "Bus journeys (m)",
         "orientation": "v",
         "showlegend": true,
         "type": "scatter",
         "x": [
          "2020-01-05T00:00:00",
          "2020-02-02T00:00:00",
          "2020-03-01T00:00:00",
          "2020-04-01T00:00:00",
          "2020-05-03T00:00:00",
          "2020-05-31T00:00:00",
          "2020-06-28T00:00:00",
          "2020-07-26T00:00:00",
          "2020-08-23T00:00:00",
          "2020-09-20T00:00:00",
          "2020-10-18T00:00:00",
          "2020-11-15T00:00:00",
          "2020-12-13T00:00:00",
          "2021-01-10T00:00:00",
          "2021-02-07T00:00:00",
          "2021-03-07T00:00:00"
         ],
         "xaxis": "x",
         "y": [
          169.4236582600289,
          165.17622233037375,
          126.44616132724443,
          30.223736458292898,
          32.46724290097331,
          46.95951983461955,
          66.66579493012472,
          75.17395978665473,
          94.76144428045436,
          101.9750271676867,
          88.8552370275924,
          88.99404730650653,
          57.480442735795364,
          51.70725002790512,
          null,
          null
         ],
         "yaxis": "y"
        },
        {
         "hovertemplate": "Transport=Underground journeys (m)<br>Date=%{x}<br>Number of journeys (M)=%{y}<extra></extra>",
         "legendgroup": "Underground journeys (m)",
         "line": {
          "color": "#EF553B",
          "dash": "solid"
         },
         "mode": "lines",
         "name": "Underground journeys (m)",
         "orientation": "v",
         "showlegend": true,
         "type": "scatter",
         "x": [
          "2020-01-05T00:00:00",
          "2020-02-02T00:00:00",
          "2020-03-01T00:00:00",
          "2020-04-01T00:00:00",
          "2020-05-03T00:00:00",
          "2020-05-31T00:00:00",
          "2020-06-28T00:00:00",
          "2020-07-26T00:00:00",
          "2020-08-23T00:00:00",
          "2020-09-20T00:00:00",
          "2020-10-18T00:00:00",
          "2020-11-15T00:00:00",
          "2020-12-13T00:00:00",
          "2021-01-10T00:00:00",
          "2021-02-07T00:00:00",
          "2021-03-07T00:00:00"
         ],
         "xaxis": "x",
         "y": [
          105.84715473968258,
          106.24112818537368,
          60.939926896781,
          5.745631918972532,
          6.68298673744539,
          13.306859998144638,
          22.21073222251943,
          28.76560573051814,
          36.320267769843674,
          39.49871553832502,
          33.74868381063021,
          32.123280524075525,
          18.829916745729665,
          16.75093711176854,
          null,
          null
         ],
         "yaxis": "y"
        },
        {
         "hovertemplate": "Transport=DLR Journeys (m)<br>Date=%{x}<br>Number of journeys (M)=%{y}<extra></extra>",
         "legendgroup": "DLR Journeys (m)",
         "line": {
          "color": "#00cc96",
          "dash": "solid"
         },
         "mode": "lines",
         "name": "DLR Journeys (m)",
         "orientation": "v",
         "showlegend": true,
         "type": "scatter",
         "x": [
          "2020-01-05T00:00:00",
          "2020-02-02T00:00:00",
          "2020-03-01T00:00:00",
          "2020-04-01T00:00:00",
          "2020-05-03T00:00:00",
          "2020-05-31T00:00:00",
          "2020-06-28T00:00:00",
          "2020-07-26T00:00:00",
          "2020-08-23T00:00:00",
          "2020-09-20T00:00:00",
          "2020-10-18T00:00:00",
          "2020-11-15T00:00:00",
          "2020-12-13T00:00:00",
          "2021-01-10T00:00:00",
          "2021-02-07T00:00:00",
          "2021-03-07T00:00:00"
         ],
         "xaxis": "x",
         "y": [
          9.188811355000778,
          9.2822617652399,
          6.061950203531573,
          1.2051248473495402,
          1.3581124606349002,
          2.133763106249653,
          2.9498722307173986,
          3.5889009085512233,
          4.161391602749663,
          4.4615183106503045,
          4.063587913228024,
          4.008239745198158,
          2.7413223849128507,
          2.6621261585442277,
          null,
          null
         ],
         "yaxis": "y"
        },
        {
         "hovertemplate": "Transport=Tram Journeys (m)<br>Date=%{x}<br>Number of journeys (M)=%{y}<extra></extra>",
         "legendgroup": "Tram Journeys (m)",
         "line": {
          "color": "#ab63fa",
          "dash": "solid"
         },
         "mode": "lines",
         "name": "Tram Journeys (m)",
         "orientation": "v",
         "showlegend": true,
         "type": "scatter",
         "x": [
          "2020-01-05T00:00:00",
          "2020-02-02T00:00:00",
          "2020-03-01T00:00:00",
          "2020-04-01T00:00:00",
          "2020-05-03T00:00:00",
          "2020-05-31T00:00:00",
          "2020-06-28T00:00:00",
          "2020-07-26T00:00:00",
          "2020-08-23T00:00:00",
          "2020-09-20T00:00:00",
          "2020-10-18T00:00:00",
          "2020-11-15T00:00:00",
          "2020-12-13T00:00:00",
          "2021-01-10T00:00:00",
          "2021-02-07T00:00:00",
          "2021-03-07T00:00:00"
         ],
         "xaxis": "x",
         "y": [
          2.306802813423464,
          2.1967179192746253,
          1.609062342399981,
          0.4409341026656265,
          0.47081118235656483,
          0.7047072513810636,
          1.0001144171319079,
          1.0384243499962424,
          1.2178636159797576,
          1.3868153925663915,
          1.0273932311959164,
          1.1302216583450404,
          0.7389538500863388,
          0.668000888863097,
          null,
          null
         ],
         "yaxis": "y"
        },
        {
         "hovertemplate": "Transport=Overground Journeys (m)<br>Date=%{x}<br>Number of journeys (M)=%{y}<extra></extra>",
         "legendgroup": "Overground Journeys (m)",
         "line": {
          "color": "#FFA15A",
          "dash": "solid"
         },
         "mode": "lines",
         "name": "Overground Journeys (m)",
         "orientation": "v",
         "showlegend": true,
         "type": "scatter",
         "x": [
          "2020-01-05T00:00:00",
          "2020-02-02T00:00:00",
          "2020-03-01T00:00:00",
          "2020-04-01T00:00:00",
          "2020-05-03T00:00:00",
          "2020-05-31T00:00:00",
          "2020-06-28T00:00:00",
          "2020-07-26T00:00:00",
          "2020-08-23T00:00:00",
          "2020-09-20T00:00:00",
          "2020-10-18T00:00:00",
          "2020-11-15T00:00:00",
          "2020-12-13T00:00:00",
          "2021-01-10T00:00:00",
          "2021-02-07T00:00:00",
          "2021-03-07T00:00:00"
         ],
         "xaxis": "x",
         "y": [
          14.056911476517955,
          15.608205259940437,
          12.954588009163984,
          0.9996926778558272,
          1.4918895512742971,
          2.7977437229432947,
          4.614011696616592,
          5.5347074022311755,
          6.746926244210039,
          7.201712948336827,
          6.5039947922898245,
          6.704695515844125,
          3.5719755776324624,
          3.519876878641384,
          null,
          null
         ],
         "yaxis": "y"
        },
        {
         "hovertemplate": "Transport=Emirates Airline Journeys (m)<br>Date=%{x}<br>Number of journeys (M)=%{y}<extra></extra>",
         "legendgroup": "Emirates Airline Journeys (m)",
         "line": {
          "color": "#19d3f3",
          "dash": "solid"
         },
         "mode": "lines",
         "name": "Emirates Airline Journeys (m)",
         "orientation": "v",
         "showlegend": true,
         "type": "scatter",
         "x": [
          "2020-01-05T00:00:00",
          "2020-02-02T00:00:00",
          "2020-03-01T00:00:00",
          "2020-04-01T00:00:00",
          "2020-05-03T00:00:00",
          "2020-05-31T00:00:00",
          "2020-06-28T00:00:00",
          "2020-07-26T00:00:00",
          "2020-08-23T00:00:00",
          "2020-09-20T00:00:00",
          "2020-10-18T00:00:00",
          "2020-11-15T00:00:00",
          "2020-12-13T00:00:00",
          "2021-01-10T00:00:00",
          "2021-02-07T00:00:00",
          "2021-03-07T00:00:00"
         ],
         "xaxis": "x",
         "y": [
          0.060013,
          0.061136,
          0.013066000000000001,
          0.00016900000000000002,
          0.004978,
          0.015716,
          0.030059000000000002,
          0.060884,
          0.062418999999999995,
          0.039569,
          0.033097,
          0.02052,
          0.029085,
          0.018906,
          null,
          null
         ],
         "yaxis": "y"
        },
        {
         "hovertemplate": "Transport=TfL Rail Journeys (m)<br>Date=%{x}<br>Number of journeys (M)=%{y}<extra></extra>",
         "legendgroup": "TfL Rail Journeys (m)",
         "line": {
          "color": "#FF6692",
          "dash": "solid"
         },
         "mode": "lines",
         "name": "TfL Rail Journeys (m)",
         "orientation": "v",
         "showlegend": true,
         "type": "scatter",
         "x": [
          "2020-01-05T00:00:00",
          "2020-02-02T00:00:00",
          "2020-03-01T00:00:00",
          "2020-04-01T00:00:00",
          "2020-05-03T00:00:00",
          "2020-05-31T00:00:00",
          "2020-06-28T00:00:00",
          "2020-07-26T00:00:00",
          "2020-08-23T00:00:00",
          "2020-09-20T00:00:00",
          "2020-10-18T00:00:00",
          "2020-11-15T00:00:00",
          "2020-12-13T00:00:00",
          "2021-01-10T00:00:00",
          "2021-02-07T00:00:00",
          "2021-03-07T00:00:00"
         ],
         "xaxis": "x",
         "y": [
          5.668711092874902,
          5.240511428862019,
          3.4935386366,
          0.5946148387000001,
          0.7002181766,
          1.1583479897,
          1.6369384714,
          1.951687613,
          2.2219827342999996,
          2.4782569099000002,
          2.1239562843999997,
          2.0764304245000003,
          1.2184410475,
          1.1542064667,
          null,
          null
         ],
         "yaxis": "y"
        }
       ],
       "layout": {
        "legend": {
         "title": {
          "text": "Transport"
         },
         "tracegroupgap": 0
        },
        "paper_bgcolor": "rgba(0, 0, 0, 0)",
        "plot_bgcolor": "rgba(0, 0, 0, 0)",
        "showlegend": true,
        "template": {
         "data": {
          "bar": [
           {
            "error_x": {
             "color": "#f2f5fa"
            },
            "error_y": {
             "color": "#f2f5fa"
            },
            "marker": {
             "line": {
              "color": "rgb(17,17,17)",
              "width": 0.5
             }
            },
            "type": "bar"
           }
          ],
          "barpolar": [
           {
            "marker": {
             "line": {
              "color": "rgb(17,17,17)",
              "width": 0.5
             }
            },
            "type": "barpolar"
           }
          ],
          "carpet": [
           {
            "aaxis": {
             "endlinecolor": "#A2B1C6",
             "gridcolor": "#506784",
             "linecolor": "#506784",
             "minorgridcolor": "#506784",
             "startlinecolor": "#A2B1C6"
            },
            "baxis": {
             "endlinecolor": "#A2B1C6",
             "gridcolor": "#506784",
             "linecolor": "#506784",
             "minorgridcolor": "#506784",
             "startlinecolor": "#A2B1C6"
            },
            "type": "carpet"
           }
          ],
          "choropleth": [
           {
            "colorbar": {
             "outlinewidth": 0,
             "ticks": ""
            },
            "type": "choropleth"
           }
          ],
          "contour": [
           {
            "colorbar": {
             "outlinewidth": 0,
             "ticks": ""
            },
            "colorscale": [
             [
              0,
              "#0d0887"
             ],
             [
              0.1111111111111111,
              "#46039f"
             ],
             [
              0.2222222222222222,
              "#7201a8"
             ],
             [
              0.3333333333333333,
              "#9c179e"
             ],
             [
              0.4444444444444444,
              "#bd3786"
             ],
             [
              0.5555555555555556,
              "#d8576b"
             ],
             [
              0.6666666666666666,
              "#ed7953"
             ],
             [
              0.7777777777777778,
              "#fb9f3a"
             ],
             [
              0.8888888888888888,
              "#fdca26"
             ],
             [
              1,
              "#f0f921"
             ]
            ],
            "type": "contour"
           }
          ],
          "contourcarpet": [
           {
            "colorbar": {
             "outlinewidth": 0,
             "ticks": ""
            },
            "type": "contourcarpet"
           }
          ],
          "heatmap": [
           {
            "colorbar": {
             "outlinewidth": 0,
             "ticks": ""
            },
            "colorscale": [
             [
              0,
              "#0d0887"
             ],
             [
              0.1111111111111111,
              "#46039f"
             ],
             [
              0.2222222222222222,
              "#7201a8"
             ],
             [
              0.3333333333333333,
              "#9c179e"
             ],
             [
              0.4444444444444444,
              "#bd3786"
             ],
             [
              0.5555555555555556,
              "#d8576b"
             ],
             [
              0.6666666666666666,
              "#ed7953"
             ],
             [
              0.7777777777777778,
              "#fb9f3a"
             ],
             [
              0.8888888888888888,
              "#fdca26"
             ],
             [
              1,
              "#f0f921"
             ]
            ],
            "type": "heatmap"
           }
          ],
          "heatmapgl": [
           {
            "colorbar": {
             "outlinewidth": 0,
             "ticks": ""
            },
            "colorscale": [
             [
              0,
              "#0d0887"
             ],
             [
              0.1111111111111111,
              "#46039f"
             ],
             [
              0.2222222222222222,
              "#7201a8"
             ],
             [
              0.3333333333333333,
              "#9c179e"
             ],
             [
              0.4444444444444444,
              "#bd3786"
             ],
             [
              0.5555555555555556,
              "#d8576b"
             ],
             [
              0.6666666666666666,
              "#ed7953"
             ],
             [
              0.7777777777777778,
              "#fb9f3a"
             ],
             [
              0.8888888888888888,
              "#fdca26"
             ],
             [
              1,
              "#f0f921"
             ]
            ],
            "type": "heatmapgl"
           }
          ],
          "histogram": [
           {
            "marker": {
             "colorbar": {
              "outlinewidth": 0,
              "ticks": ""
             }
            },
            "type": "histogram"
           }
          ],
          "histogram2d": [
           {
            "colorbar": {
             "outlinewidth": 0,
             "ticks": ""
            },
            "colorscale": [
             [
              0,
              "#0d0887"
             ],
             [
              0.1111111111111111,
              "#46039f"
             ],
             [
              0.2222222222222222,
              "#7201a8"
             ],
             [
              0.3333333333333333,
              "#9c179e"
             ],
             [
              0.4444444444444444,
              "#bd3786"
             ],
             [
              0.5555555555555556,
              "#d8576b"
             ],
             [
              0.6666666666666666,
              "#ed7953"
             ],
             [
              0.7777777777777778,
              "#fb9f3a"
             ],
             [
              0.8888888888888888,
              "#fdca26"
             ],
             [
              1,
              "#f0f921"
             ]
            ],
            "type": "histogram2d"
           }
          ],
          "histogram2dcontour": [
           {
            "colorbar": {
             "outlinewidth": 0,
             "ticks": ""
            },
            "colorscale": [
             [
              0,
              "#0d0887"
             ],
             [
              0.1111111111111111,
              "#46039f"
             ],
             [
              0.2222222222222222,
              "#7201a8"
             ],
             [
              0.3333333333333333,
              "#9c179e"
             ],
             [
              0.4444444444444444,
              "#bd3786"
             ],
             [
              0.5555555555555556,
              "#d8576b"
             ],
             [
              0.6666666666666666,
              "#ed7953"
             ],
             [
              0.7777777777777778,
              "#fb9f3a"
             ],
             [
              0.8888888888888888,
              "#fdca26"
             ],
             [
              1,
              "#f0f921"
             ]
            ],
            "type": "histogram2dcontour"
           }
          ],
          "mesh3d": [
           {
            "colorbar": {
             "outlinewidth": 0,
             "ticks": ""
            },
            "type": "mesh3d"
           }
          ],
          "parcoords": [
           {
            "line": {
             "colorbar": {
              "outlinewidth": 0,
              "ticks": ""
             }
            },
            "type": "parcoords"
           }
          ],
          "pie": [
           {
            "automargin": true,
            "type": "pie"
           }
          ],
          "scatter": [
           {
            "marker": {
             "line": {
              "color": "#283442"
             }
            },
            "type": "scatter"
           }
          ],
          "scatter3d": [
           {
            "line": {
             "colorbar": {
              "outlinewidth": 0,
              "ticks": ""
             }
            },
            "marker": {
             "colorbar": {
              "outlinewidth": 0,
              "ticks": ""
             }
            },
            "type": "scatter3d"
           }
          ],
          "scattercarpet": [
           {
            "marker": {
             "colorbar": {
              "outlinewidth": 0,
              "ticks": ""
             }
            },
            "type": "scattercarpet"
           }
          ],
          "scattergeo": [
           {
            "marker": {
             "colorbar": {
              "outlinewidth": 0,
              "ticks": ""
             }
            },
            "type": "scattergeo"
           }
          ],
          "scattergl": [
           {
            "marker": {
             "line": {
              "color": "#283442"
             }
            },
            "type": "scattergl"
           }
          ],
          "scattermapbox": [
           {
            "marker": {
             "colorbar": {
              "outlinewidth": 0,
              "ticks": ""
             }
            },
            "type": "scattermapbox"
           }
          ],
          "scatterpolar": [
           {
            "marker": {
             "colorbar": {
              "outlinewidth": 0,
              "ticks": ""
             }
            },
            "type": "scatterpolar"
           }
          ],
          "scatterpolargl": [
           {
            "marker": {
             "colorbar": {
              "outlinewidth": 0,
              "ticks": ""
             }
            },
            "type": "scatterpolargl"
           }
          ],
          "scatterternary": [
           {
            "marker": {
             "colorbar": {
              "outlinewidth": 0,
              "ticks": ""
             }
            },
            "type": "scatterternary"
           }
          ],
          "surface": [
           {
            "colorbar": {
             "outlinewidth": 0,
             "ticks": ""
            },
            "colorscale": [
             [
              0,
              "#0d0887"
             ],
             [
              0.1111111111111111,
              "#46039f"
             ],
             [
              0.2222222222222222,
              "#7201a8"
             ],
             [
              0.3333333333333333,
              "#9c179e"
             ],
             [
              0.4444444444444444,
              "#bd3786"
             ],
             [
              0.5555555555555556,
              "#d8576b"
             ],
             [
              0.6666666666666666,
              "#ed7953"
             ],
             [
              0.7777777777777778,
              "#fb9f3a"
             ],
             [
              0.8888888888888888,
              "#fdca26"
             ],
             [
              1,
              "#f0f921"
             ]
            ],
            "type": "surface"
           }
          ],
          "table": [
           {
            "cells": {
             "fill": {
              "color": "#506784"
             },
             "line": {
              "color": "rgb(17,17,17)"
             }
            },
            "header": {
             "fill": {
              "color": "#2a3f5f"
             },
             "line": {
              "color": "rgb(17,17,17)"
             }
            },
            "type": "table"
           }
          ]
         },
         "layout": {
          "annotationdefaults": {
           "arrowcolor": "#f2f5fa",
           "arrowhead": 0,
           "arrowwidth": 1
          },
          "autotypenumbers": "strict",
          "coloraxis": {
           "colorbar": {
            "outlinewidth": 0,
            "ticks": ""
           }
          },
          "colorscale": {
           "diverging": [
            [
             0,
             "#8e0152"
            ],
            [
             0.1,
             "#c51b7d"
            ],
            [
             0.2,
             "#de77ae"
            ],
            [
             0.3,
             "#f1b6da"
            ],
            [
             0.4,
             "#fde0ef"
            ],
            [
             0.5,
             "#f7f7f7"
            ],
            [
             0.6,
             "#e6f5d0"
            ],
            [
             0.7,
             "#b8e186"
            ],
            [
             0.8,
             "#7fbc41"
            ],
            [
             0.9,
             "#4d9221"
            ],
            [
             1,
             "#276419"
            ]
           ],
           "sequential": [
            [
             0,
             "#0d0887"
            ],
            [
             0.1111111111111111,
             "#46039f"
            ],
            [
             0.2222222222222222,
             "#7201a8"
            ],
            [
             0.3333333333333333,
             "#9c179e"
            ],
            [
             0.4444444444444444,
             "#bd3786"
            ],
            [
             0.5555555555555556,
             "#d8576b"
            ],
            [
             0.6666666666666666,
             "#ed7953"
            ],
            [
             0.7777777777777778,
             "#fb9f3a"
            ],
            [
             0.8888888888888888,
             "#fdca26"
            ],
            [
             1,
             "#f0f921"
            ]
           ],
           "sequentialminus": [
            [
             0,
             "#0d0887"
            ],
            [
             0.1111111111111111,
             "#46039f"
            ],
            [
             0.2222222222222222,
             "#7201a8"
            ],
            [
             0.3333333333333333,
             "#9c179e"
            ],
            [
             0.4444444444444444,
             "#bd3786"
            ],
            [
             0.5555555555555556,
             "#d8576b"
            ],
            [
             0.6666666666666666,
             "#ed7953"
            ],
            [
             0.7777777777777778,
             "#fb9f3a"
            ],
            [
             0.8888888888888888,
             "#fdca26"
            ],
            [
             1,
             "#f0f921"
            ]
           ]
          },
          "colorway": [
           "#636efa",
           "#EF553B",
           "#00cc96",
           "#ab63fa",
           "#FFA15A",
           "#19d3f3",
           "#FF6692",
           "#B6E880",
           "#FF97FF",
           "#FECB52"
          ],
          "font": {
           "color": "#f2f5fa"
          },
          "geo": {
           "bgcolor": "rgb(17,17,17)",
           "lakecolor": "rgb(17,17,17)",
           "landcolor": "rgb(17,17,17)",
           "showlakes": true,
           "showland": true,
           "subunitcolor": "#506784"
          },
          "hoverlabel": {
           "align": "left"
          },
          "hovermode": "closest",
          "mapbox": {
           "style": "dark"
          },
          "paper_bgcolor": "rgb(17,17,17)",
          "plot_bgcolor": "rgb(17,17,17)",
          "polar": {
           "angularaxis": {
            "gridcolor": "#506784",
            "linecolor": "#506784",
            "ticks": ""
           },
           "bgcolor": "rgb(17,17,17)",
           "radialaxis": {
            "gridcolor": "#506784",
            "linecolor": "#506784",
            "ticks": ""
           }
          },
          "scene": {
           "xaxis": {
            "backgroundcolor": "rgb(17,17,17)",
            "gridcolor": "#506784",
            "gridwidth": 2,
            "linecolor": "#506784",
            "showbackground": true,
            "ticks": "",
            "zerolinecolor": "#C8D4E3"
           },
           "yaxis": {
            "backgroundcolor": "rgb(17,17,17)",
            "gridcolor": "#506784",
            "gridwidth": 2,
            "linecolor": "#506784",
            "showbackground": true,
            "ticks": "",
            "zerolinecolor": "#C8D4E3"
           },
           "zaxis": {
            "backgroundcolor": "rgb(17,17,17)",
            "gridcolor": "#506784",
            "gridwidth": 2,
            "linecolor": "#506784",
            "showbackground": true,
            "ticks": "",
            "zerolinecolor": "#C8D4E3"
           }
          },
          "shapedefaults": {
           "line": {
            "color": "#f2f5fa"
           }
          },
          "sliderdefaults": {
           "bgcolor": "#C8D4E3",
           "bordercolor": "rgb(17,17,17)",
           "borderwidth": 1,
           "tickwidth": 0
          },
          "ternary": {
           "aaxis": {
            "gridcolor": "#506784",
            "linecolor": "#506784",
            "ticks": ""
           },
           "baxis": {
            "gridcolor": "#506784",
            "linecolor": "#506784",
            "ticks": ""
           },
           "bgcolor": "rgb(17,17,17)",
           "caxis": {
            "gridcolor": "#506784",
            "linecolor": "#506784",
            "ticks": ""
           }
          },
          "title": {
           "x": 0.05
          },
          "updatemenudefaults": {
           "bgcolor": "#506784",
           "borderwidth": 0
          },
          "xaxis": {
           "automargin": true,
           "gridcolor": "#283442",
           "linecolor": "#506784",
           "ticks": "",
           "title": {
            "standoff": 15
           },
           "zerolinecolor": "#283442",
           "zerolinewidth": 2
          },
          "yaxis": {
           "automargin": true,
           "gridcolor": "#283442",
           "linecolor": "#506784",
           "ticks": "",
           "title": {
            "standoff": 15
           },
           "zerolinecolor": "#283442",
           "zerolinewidth": 2
          }
         }
        },
        "title": {
         "text": "'Monthly number of journeys on the public transport network by type of transport (in millions)'"
        },
        "xaxis": {
         "anchor": "y",
         "domain": [
          0,
          1
         ],
         "title": {
          "text": "Date"
         }
        },
        "yaxis": {
         "anchor": "x",
         "domain": [
          0,
          1
         ],
         "title": {
          "text": "Number of journeys (M)"
         }
        }
       }
      },
      "text/html": [
       "<div>                            <div id=\"c92de98a-1cac-448a-8362-2065106b8b5a\" class=\"plotly-graph-div\" style=\"height:525px; width:100%;\"></div>            <script type=\"text/javascript\">                require([\"plotly\"], function(Plotly) {                    window.PLOTLYENV=window.PLOTLYENV || {};                                    if (document.getElementById(\"c92de98a-1cac-448a-8362-2065106b8b5a\")) {                    Plotly.newPlot(                        \"c92de98a-1cac-448a-8362-2065106b8b5a\",                        [{\"hovertemplate\": \"Transport=Bus journeys (m)<br>Date=%{x}<br>Number of journeys (M)=%{y}<extra></extra>\", \"legendgroup\": \"Bus journeys (m)\", \"line\": {\"color\": \"#636efa\", \"dash\": \"solid\"}, \"mode\": \"lines\", \"name\": \"Bus journeys (m)\", \"orientation\": \"v\", \"showlegend\": true, \"type\": \"scatter\", \"x\": [\"2020-01-05T00:00:00\", \"2020-02-02T00:00:00\", \"2020-03-01T00:00:00\", \"2020-04-01T00:00:00\", \"2020-05-03T00:00:00\", \"2020-05-31T00:00:00\", \"2020-06-28T00:00:00\", \"2020-07-26T00:00:00\", \"2020-08-23T00:00:00\", \"2020-09-20T00:00:00\", \"2020-10-18T00:00:00\", \"2020-11-15T00:00:00\", \"2020-12-13T00:00:00\", \"2021-01-10T00:00:00\", \"2021-02-07T00:00:00\", \"2021-03-07T00:00:00\"], \"xaxis\": \"x\", \"y\": [169.4236582600289, 165.17622233037375, 126.44616132724443, 30.223736458292898, 32.46724290097331, 46.95951983461955, 66.66579493012472, 75.17395978665473, 94.76144428045436, 101.9750271676867, 88.8552370275924, 88.99404730650653, 57.480442735795364, 51.70725002790512, null, null], \"yaxis\": \"y\"}, {\"hovertemplate\": \"Transport=Underground journeys (m)<br>Date=%{x}<br>Number of journeys (M)=%{y}<extra></extra>\", \"legendgroup\": \"Underground journeys (m)\", \"line\": {\"color\": \"#EF553B\", \"dash\": \"solid\"}, \"mode\": \"lines\", \"name\": \"Underground journeys (m)\", \"orientation\": \"v\", \"showlegend\": true, \"type\": \"scatter\", \"x\": [\"2020-01-05T00:00:00\", \"2020-02-02T00:00:00\", \"2020-03-01T00:00:00\", \"2020-04-01T00:00:00\", \"2020-05-03T00:00:00\", \"2020-05-31T00:00:00\", \"2020-06-28T00:00:00\", \"2020-07-26T00:00:00\", \"2020-08-23T00:00:00\", \"2020-09-20T00:00:00\", \"2020-10-18T00:00:00\", \"2020-11-15T00:00:00\", \"2020-12-13T00:00:00\", \"2021-01-10T00:00:00\", \"2021-02-07T00:00:00\", \"2021-03-07T00:00:00\"], \"xaxis\": \"x\", \"y\": [105.84715473968258, 106.24112818537368, 60.939926896781, 5.745631918972532, 6.68298673744539, 13.306859998144638, 22.21073222251943, 28.76560573051814, 36.320267769843674, 39.49871553832502, 33.74868381063021, 32.123280524075525, 18.829916745729665, 16.75093711176854, null, null], \"yaxis\": \"y\"}, {\"hovertemplate\": \"Transport=DLR Journeys (m)<br>Date=%{x}<br>Number of journeys (M)=%{y}<extra></extra>\", \"legendgroup\": \"DLR Journeys (m)\", \"line\": {\"color\": \"#00cc96\", \"dash\": \"solid\"}, \"mode\": \"lines\", \"name\": \"DLR Journeys (m)\", \"orientation\": \"v\", \"showlegend\": true, \"type\": \"scatter\", \"x\": [\"2020-01-05T00:00:00\", \"2020-02-02T00:00:00\", \"2020-03-01T00:00:00\", \"2020-04-01T00:00:00\", \"2020-05-03T00:00:00\", \"2020-05-31T00:00:00\", \"2020-06-28T00:00:00\", \"2020-07-26T00:00:00\", \"2020-08-23T00:00:00\", \"2020-09-20T00:00:00\", \"2020-10-18T00:00:00\", \"2020-11-15T00:00:00\", \"2020-12-13T00:00:00\", \"2021-01-10T00:00:00\", \"2021-02-07T00:00:00\", \"2021-03-07T00:00:00\"], \"xaxis\": \"x\", \"y\": [9.188811355000778, 9.2822617652399, 6.061950203531573, 1.2051248473495402, 1.3581124606349002, 2.133763106249653, 2.9498722307173986, 3.5889009085512233, 4.161391602749663, 4.4615183106503045, 4.063587913228024, 4.008239745198158, 2.7413223849128507, 2.6621261585442277, null, null], \"yaxis\": \"y\"}, {\"hovertemplate\": \"Transport=Tram Journeys (m)<br>Date=%{x}<br>Number of journeys (M)=%{y}<extra></extra>\", \"legendgroup\": \"Tram Journeys (m)\", \"line\": {\"color\": \"#ab63fa\", \"dash\": \"solid\"}, \"mode\": \"lines\", \"name\": \"Tram Journeys (m)\", \"orientation\": \"v\", \"showlegend\": true, \"type\": \"scatter\", \"x\": [\"2020-01-05T00:00:00\", \"2020-02-02T00:00:00\", \"2020-03-01T00:00:00\", \"2020-04-01T00:00:00\", \"2020-05-03T00:00:00\", \"2020-05-31T00:00:00\", \"2020-06-28T00:00:00\", \"2020-07-26T00:00:00\", \"2020-08-23T00:00:00\", \"2020-09-20T00:00:00\", \"2020-10-18T00:00:00\", \"2020-11-15T00:00:00\", \"2020-12-13T00:00:00\", \"2021-01-10T00:00:00\", \"2021-02-07T00:00:00\", \"2021-03-07T00:00:00\"], \"xaxis\": \"x\", \"y\": [2.306802813423464, 2.1967179192746253, 1.609062342399981, 0.4409341026656265, 0.47081118235656483, 0.7047072513810636, 1.0001144171319079, 1.0384243499962424, 1.2178636159797576, 1.3868153925663915, 1.0273932311959164, 1.1302216583450404, 0.7389538500863388, 0.668000888863097, null, null], \"yaxis\": \"y\"}, {\"hovertemplate\": \"Transport=Overground Journeys (m)<br>Date=%{x}<br>Number of journeys (M)=%{y}<extra></extra>\", \"legendgroup\": \"Overground Journeys (m)\", \"line\": {\"color\": \"#FFA15A\", \"dash\": \"solid\"}, \"mode\": \"lines\", \"name\": \"Overground Journeys (m)\", \"orientation\": \"v\", \"showlegend\": true, \"type\": \"scatter\", \"x\": [\"2020-01-05T00:00:00\", \"2020-02-02T00:00:00\", \"2020-03-01T00:00:00\", \"2020-04-01T00:00:00\", \"2020-05-03T00:00:00\", \"2020-05-31T00:00:00\", \"2020-06-28T00:00:00\", \"2020-07-26T00:00:00\", \"2020-08-23T00:00:00\", \"2020-09-20T00:00:00\", \"2020-10-18T00:00:00\", \"2020-11-15T00:00:00\", \"2020-12-13T00:00:00\", \"2021-01-10T00:00:00\", \"2021-02-07T00:00:00\", \"2021-03-07T00:00:00\"], \"xaxis\": \"x\", \"y\": [14.056911476517955, 15.608205259940437, 12.954588009163984, 0.9996926778558272, 1.4918895512742971, 2.7977437229432947, 4.614011696616592, 5.5347074022311755, 6.746926244210039, 7.201712948336827, 6.5039947922898245, 6.704695515844125, 3.5719755776324624, 3.519876878641384, null, null], \"yaxis\": \"y\"}, {\"hovertemplate\": \"Transport=Emirates Airline Journeys (m)<br>Date=%{x}<br>Number of journeys (M)=%{y}<extra></extra>\", \"legendgroup\": \"Emirates Airline Journeys (m)\", \"line\": {\"color\": \"#19d3f3\", \"dash\": \"solid\"}, \"mode\": \"lines\", \"name\": \"Emirates Airline Journeys (m)\", \"orientation\": \"v\", \"showlegend\": true, \"type\": \"scatter\", \"x\": [\"2020-01-05T00:00:00\", \"2020-02-02T00:00:00\", \"2020-03-01T00:00:00\", \"2020-04-01T00:00:00\", \"2020-05-03T00:00:00\", \"2020-05-31T00:00:00\", \"2020-06-28T00:00:00\", \"2020-07-26T00:00:00\", \"2020-08-23T00:00:00\", \"2020-09-20T00:00:00\", \"2020-10-18T00:00:00\", \"2020-11-15T00:00:00\", \"2020-12-13T00:00:00\", \"2021-01-10T00:00:00\", \"2021-02-07T00:00:00\", \"2021-03-07T00:00:00\"], \"xaxis\": \"x\", \"y\": [0.060013, 0.061136, 0.013066000000000001, 0.00016900000000000002, 0.004978, 0.015716, 0.030059000000000002, 0.060884, 0.062418999999999995, 0.039569, 0.033097, 0.02052, 0.029085, 0.018906, null, null], \"yaxis\": \"y\"}, {\"hovertemplate\": \"Transport=TfL Rail Journeys (m)<br>Date=%{x}<br>Number of journeys (M)=%{y}<extra></extra>\", \"legendgroup\": \"TfL Rail Journeys (m)\", \"line\": {\"color\": \"#FF6692\", \"dash\": \"solid\"}, \"mode\": \"lines\", \"name\": \"TfL Rail Journeys (m)\", \"orientation\": \"v\", \"showlegend\": true, \"type\": \"scatter\", \"x\": [\"2020-01-05T00:00:00\", \"2020-02-02T00:00:00\", \"2020-03-01T00:00:00\", \"2020-04-01T00:00:00\", \"2020-05-03T00:00:00\", \"2020-05-31T00:00:00\", \"2020-06-28T00:00:00\", \"2020-07-26T00:00:00\", \"2020-08-23T00:00:00\", \"2020-09-20T00:00:00\", \"2020-10-18T00:00:00\", \"2020-11-15T00:00:00\", \"2020-12-13T00:00:00\", \"2021-01-10T00:00:00\", \"2021-02-07T00:00:00\", \"2021-03-07T00:00:00\"], \"xaxis\": \"x\", \"y\": [5.668711092874902, 5.240511428862019, 3.4935386366, 0.5946148387000001, 0.7002181766, 1.1583479897, 1.6369384714, 1.951687613, 2.2219827342999996, 2.4782569099000002, 2.1239562843999997, 2.0764304245000003, 1.2184410475, 1.1542064667, null, null], \"yaxis\": \"y\"}],                        {\"legend\": {\"title\": {\"text\": \"Transport\"}, \"tracegroupgap\": 0}, \"paper_bgcolor\": \"rgba(0, 0, 0, 0)\", \"plot_bgcolor\": \"rgba(0, 0, 0, 0)\", \"showlegend\": true, \"template\": {\"data\": {\"bar\": [{\"error_x\": {\"color\": \"#f2f5fa\"}, \"error_y\": {\"color\": \"#f2f5fa\"}, \"marker\": {\"line\": {\"color\": \"rgb(17,17,17)\", \"width\": 0.5}}, \"type\": \"bar\"}], \"barpolar\": [{\"marker\": {\"line\": {\"color\": \"rgb(17,17,17)\", \"width\": 0.5}}, \"type\": \"barpolar\"}], \"carpet\": [{\"aaxis\": {\"endlinecolor\": \"#A2B1C6\", \"gridcolor\": \"#506784\", \"linecolor\": \"#506784\", \"minorgridcolor\": \"#506784\", \"startlinecolor\": \"#A2B1C6\"}, \"baxis\": {\"endlinecolor\": \"#A2B1C6\", \"gridcolor\": \"#506784\", \"linecolor\": \"#506784\", \"minorgridcolor\": \"#506784\", \"startlinecolor\": \"#A2B1C6\"}, \"type\": \"carpet\"}], \"choropleth\": [{\"colorbar\": {\"outlinewidth\": 0, \"ticks\": \"\"}, \"type\": \"choropleth\"}], \"contour\": [{\"colorbar\": {\"outlinewidth\": 0, \"ticks\": \"\"}, \"colorscale\": [[0.0, \"#0d0887\"], [0.1111111111111111, \"#46039f\"], [0.2222222222222222, \"#7201a8\"], [0.3333333333333333, \"#9c179e\"], [0.4444444444444444, \"#bd3786\"], [0.5555555555555556, \"#d8576b\"], [0.6666666666666666, \"#ed7953\"], [0.7777777777777778, \"#fb9f3a\"], [0.8888888888888888, \"#fdca26\"], [1.0, \"#f0f921\"]], \"type\": \"contour\"}], \"contourcarpet\": [{\"colorbar\": {\"outlinewidth\": 0, \"ticks\": \"\"}, \"type\": \"contourcarpet\"}], \"heatmap\": [{\"colorbar\": {\"outlinewidth\": 0, \"ticks\": \"\"}, \"colorscale\": [[0.0, \"#0d0887\"], [0.1111111111111111, \"#46039f\"], [0.2222222222222222, \"#7201a8\"], [0.3333333333333333, \"#9c179e\"], [0.4444444444444444, \"#bd3786\"], [0.5555555555555556, \"#d8576b\"], [0.6666666666666666, \"#ed7953\"], [0.7777777777777778, \"#fb9f3a\"], [0.8888888888888888, \"#fdca26\"], [1.0, \"#f0f921\"]], \"type\": \"heatmap\"}], \"heatmapgl\": [{\"colorbar\": {\"outlinewidth\": 0, \"ticks\": \"\"}, \"colorscale\": [[0.0, \"#0d0887\"], [0.1111111111111111, \"#46039f\"], [0.2222222222222222, \"#7201a8\"], [0.3333333333333333, \"#9c179e\"], [0.4444444444444444, \"#bd3786\"], [0.5555555555555556, \"#d8576b\"], [0.6666666666666666, \"#ed7953\"], [0.7777777777777778, \"#fb9f3a\"], [0.8888888888888888, \"#fdca26\"], [1.0, \"#f0f921\"]], \"type\": \"heatmapgl\"}], \"histogram\": [{\"marker\": {\"colorbar\": {\"outlinewidth\": 0, \"ticks\": \"\"}}, \"type\": \"histogram\"}], \"histogram2d\": [{\"colorbar\": {\"outlinewidth\": 0, \"ticks\": \"\"}, \"colorscale\": [[0.0, \"#0d0887\"], [0.1111111111111111, \"#46039f\"], [0.2222222222222222, \"#7201a8\"], [0.3333333333333333, \"#9c179e\"], [0.4444444444444444, \"#bd3786\"], [0.5555555555555556, \"#d8576b\"], [0.6666666666666666, \"#ed7953\"], [0.7777777777777778, \"#fb9f3a\"], [0.8888888888888888, \"#fdca26\"], [1.0, \"#f0f921\"]], \"type\": \"histogram2d\"}], \"histogram2dcontour\": [{\"colorbar\": {\"outlinewidth\": 0, \"ticks\": \"\"}, \"colorscale\": [[0.0, \"#0d0887\"], [0.1111111111111111, \"#46039f\"], [0.2222222222222222, \"#7201a8\"], [0.3333333333333333, \"#9c179e\"], [0.4444444444444444, \"#bd3786\"], [0.5555555555555556, \"#d8576b\"], [0.6666666666666666, \"#ed7953\"], [0.7777777777777778, \"#fb9f3a\"], [0.8888888888888888, \"#fdca26\"], [1.0, \"#f0f921\"]], \"type\": \"histogram2dcontour\"}], \"mesh3d\": [{\"colorbar\": {\"outlinewidth\": 0, \"ticks\": \"\"}, \"type\": \"mesh3d\"}], \"parcoords\": [{\"line\": {\"colorbar\": {\"outlinewidth\": 0, \"ticks\": \"\"}}, \"type\": \"parcoords\"}], \"pie\": [{\"automargin\": true, \"type\": \"pie\"}], \"scatter\": [{\"marker\": {\"line\": {\"color\": \"#283442\"}}, \"type\": \"scatter\"}], \"scatter3d\": [{\"line\": {\"colorbar\": {\"outlinewidth\": 0, \"ticks\": \"\"}}, \"marker\": {\"colorbar\": {\"outlinewidth\": 0, \"ticks\": \"\"}}, \"type\": \"scatter3d\"}], \"scattercarpet\": [{\"marker\": {\"colorbar\": {\"outlinewidth\": 0, \"ticks\": \"\"}}, \"type\": \"scattercarpet\"}], \"scattergeo\": [{\"marker\": {\"colorbar\": {\"outlinewidth\": 0, \"ticks\": \"\"}}, \"type\": \"scattergeo\"}], \"scattergl\": [{\"marker\": {\"line\": {\"color\": \"#283442\"}}, \"type\": \"scattergl\"}], \"scattermapbox\": [{\"marker\": {\"colorbar\": {\"outlinewidth\": 0, \"ticks\": \"\"}}, \"type\": \"scattermapbox\"}], \"scatterpolar\": [{\"marker\": {\"colorbar\": {\"outlinewidth\": 0, \"ticks\": \"\"}}, \"type\": \"scatterpolar\"}], \"scatterpolargl\": [{\"marker\": {\"colorbar\": {\"outlinewidth\": 0, \"ticks\": \"\"}}, \"type\": \"scatterpolargl\"}], \"scatterternary\": [{\"marker\": {\"colorbar\": {\"outlinewidth\": 0, \"ticks\": \"\"}}, \"type\": \"scatterternary\"}], \"surface\": [{\"colorbar\": {\"outlinewidth\": 0, \"ticks\": \"\"}, \"colorscale\": [[0.0, \"#0d0887\"], [0.1111111111111111, \"#46039f\"], [0.2222222222222222, \"#7201a8\"], [0.3333333333333333, \"#9c179e\"], [0.4444444444444444, \"#bd3786\"], [0.5555555555555556, \"#d8576b\"], [0.6666666666666666, \"#ed7953\"], [0.7777777777777778, \"#fb9f3a\"], [0.8888888888888888, \"#fdca26\"], [1.0, \"#f0f921\"]], \"type\": \"surface\"}], \"table\": [{\"cells\": {\"fill\": {\"color\": \"#506784\"}, \"line\": {\"color\": \"rgb(17,17,17)\"}}, \"header\": {\"fill\": {\"color\": \"#2a3f5f\"}, \"line\": {\"color\": \"rgb(17,17,17)\"}}, \"type\": \"table\"}]}, \"layout\": {\"annotationdefaults\": {\"arrowcolor\": \"#f2f5fa\", \"arrowhead\": 0, \"arrowwidth\": 1}, \"autotypenumbers\": \"strict\", \"coloraxis\": {\"colorbar\": {\"outlinewidth\": 0, \"ticks\": \"\"}}, \"colorscale\": {\"diverging\": [[0, \"#8e0152\"], [0.1, \"#c51b7d\"], [0.2, \"#de77ae\"], [0.3, \"#f1b6da\"], [0.4, \"#fde0ef\"], [0.5, \"#f7f7f7\"], [0.6, \"#e6f5d0\"], [0.7, \"#b8e186\"], [0.8, \"#7fbc41\"], [0.9, \"#4d9221\"], [1, \"#276419\"]], \"sequential\": [[0.0, \"#0d0887\"], [0.1111111111111111, \"#46039f\"], [0.2222222222222222, \"#7201a8\"], [0.3333333333333333, \"#9c179e\"], [0.4444444444444444, \"#bd3786\"], [0.5555555555555556, \"#d8576b\"], [0.6666666666666666, \"#ed7953\"], [0.7777777777777778, \"#fb9f3a\"], [0.8888888888888888, \"#fdca26\"], [1.0, \"#f0f921\"]], \"sequentialminus\": [[0.0, \"#0d0887\"], [0.1111111111111111, \"#46039f\"], [0.2222222222222222, \"#7201a8\"], [0.3333333333333333, \"#9c179e\"], [0.4444444444444444, \"#bd3786\"], [0.5555555555555556, \"#d8576b\"], [0.6666666666666666, \"#ed7953\"], [0.7777777777777778, \"#fb9f3a\"], [0.8888888888888888, \"#fdca26\"], [1.0, \"#f0f921\"]]}, \"colorway\": [\"#636efa\", \"#EF553B\", \"#00cc96\", \"#ab63fa\", \"#FFA15A\", \"#19d3f3\", \"#FF6692\", \"#B6E880\", \"#FF97FF\", \"#FECB52\"], \"font\": {\"color\": \"#f2f5fa\"}, \"geo\": {\"bgcolor\": \"rgb(17,17,17)\", \"lakecolor\": \"rgb(17,17,17)\", \"landcolor\": \"rgb(17,17,17)\", \"showlakes\": true, \"showland\": true, \"subunitcolor\": \"#506784\"}, \"hoverlabel\": {\"align\": \"left\"}, \"hovermode\": \"closest\", \"mapbox\": {\"style\": \"dark\"}, \"paper_bgcolor\": \"rgb(17,17,17)\", \"plot_bgcolor\": \"rgb(17,17,17)\", \"polar\": {\"angularaxis\": {\"gridcolor\": \"#506784\", \"linecolor\": \"#506784\", \"ticks\": \"\"}, \"bgcolor\": \"rgb(17,17,17)\", \"radialaxis\": {\"gridcolor\": \"#506784\", \"linecolor\": \"#506784\", \"ticks\": \"\"}}, \"scene\": {\"xaxis\": {\"backgroundcolor\": \"rgb(17,17,17)\", \"gridcolor\": \"#506784\", \"gridwidth\": 2, \"linecolor\": \"#506784\", \"showbackground\": true, \"ticks\": \"\", \"zerolinecolor\": \"#C8D4E3\"}, \"yaxis\": {\"backgroundcolor\": \"rgb(17,17,17)\", \"gridcolor\": \"#506784\", \"gridwidth\": 2, \"linecolor\": \"#506784\", \"showbackground\": true, \"ticks\": \"\", \"zerolinecolor\": \"#C8D4E3\"}, \"zaxis\": {\"backgroundcolor\": \"rgb(17,17,17)\", \"gridcolor\": \"#506784\", \"gridwidth\": 2, \"linecolor\": \"#506784\", \"showbackground\": true, \"ticks\": \"\", \"zerolinecolor\": \"#C8D4E3\"}}, \"shapedefaults\": {\"line\": {\"color\": \"#f2f5fa\"}}, \"sliderdefaults\": {\"bgcolor\": \"#C8D4E3\", \"bordercolor\": \"rgb(17,17,17)\", \"borderwidth\": 1, \"tickwidth\": 0}, \"ternary\": {\"aaxis\": {\"gridcolor\": \"#506784\", \"linecolor\": \"#506784\", \"ticks\": \"\"}, \"baxis\": {\"gridcolor\": \"#506784\", \"linecolor\": \"#506784\", \"ticks\": \"\"}, \"bgcolor\": \"rgb(17,17,17)\", \"caxis\": {\"gridcolor\": \"#506784\", \"linecolor\": \"#506784\", \"ticks\": \"\"}}, \"title\": {\"x\": 0.05}, \"updatemenudefaults\": {\"bgcolor\": \"#506784\", \"borderwidth\": 0}, \"xaxis\": {\"automargin\": true, \"gridcolor\": \"#283442\", \"linecolor\": \"#506784\", \"ticks\": \"\", \"title\": {\"standoff\": 15}, \"zerolinecolor\": \"#283442\", \"zerolinewidth\": 2}, \"yaxis\": {\"automargin\": true, \"gridcolor\": \"#283442\", \"linecolor\": \"#506784\", \"ticks\": \"\", \"title\": {\"standoff\": 15}, \"zerolinecolor\": \"#283442\", \"zerolinewidth\": 2}}}, \"title\": {\"text\": \"'Monthly number of journeys on the public transport network by type of transport (in millions)'\"}, \"xaxis\": {\"anchor\": \"y\", \"domain\": [0.0, 1.0], \"title\": {\"text\": \"Date\"}}, \"yaxis\": {\"anchor\": \"x\", \"domain\": [0.0, 1.0], \"title\": {\"text\": \"Number of journeys (M)\"}}},                        {\"responsive\": true}                    ).then(function(){\n",
       "                            \n",
       "var gd = document.getElementById('c92de98a-1cac-448a-8362-2065106b8b5a');\n",
       "var x = new MutationObserver(function (mutations, observer) {{\n",
       "        var display = window.getComputedStyle(gd).display;\n",
       "        if (!display || display === 'none') {{\n",
       "            console.log([gd, 'removed!']);\n",
       "            Plotly.purge(gd);\n",
       "            observer.disconnect();\n",
       "        }}\n",
       "}});\n",
       "\n",
       "// Listen for the removal of the full notebook cells\n",
       "var notebookContainer = gd.closest('#notebook-container');\n",
       "if (notebookContainer) {{\n",
       "    x.observe(notebookContainer, {childList: true});\n",
       "}}\n",
       "\n",
       "// Listen for the clearing of the current output cell\n",
       "var outputEl = gd.closest('.output');\n",
       "if (outputEl) {{\n",
       "    x.observe(outputEl, {childList: true});\n",
       "}}\n",
       "\n",
       "                        })                };                });            </script>        </div>"
      ]
     },
     "metadata": {},
     "output_type": "display_data"
    }
   ],
   "source": [
    "df2 = pd.read_excel('datasets/tfl-journeys-type.xlsx', sheet_name=1)\n",
    "\n",
    "df2 = df2.loc[df2['Period beginning'] > '2020-01-01']\n",
    "\n",
    "\n",
    "\n",
    "fig  = px.line(df2, x = 'Period beginning', y =list(df2.columns.values)[-7:], \n",
    "                title=\"'Monthly number of journeys on the public transport network by type of transport (in millions)'\", template='plotly_dark', labels={\n",
    "                     'Period beginning':\"Date\",\n",
    "                    \"value\": \"Number of journeys (M)\"   ,\n",
    "                     \"variable\": \"Transport\"\n",
    "                 }, )\n",
    "\n",
    "\n",
    "\n",
    "fig.update_layout(showlegend=True, plot_bgcolor = 'rgba(0, 0, 0, 0)', paper_bgcolor = 'rgba(0, 0, 0, 0)' )\n",
    "\n",
    "\n",
    "fig.show()\n",
    "fig.write_html(\"data/monthly_journeys.html\")\n",
    "\n"
   ]
  },
  {
   "cell_type": "code",
   "execution_count": null,
   "metadata": {},
   "outputs": [],
   "source": []
  }
 ],
 "metadata": {
  "kernelspec": {
   "display_name": "Python 3",
   "language": "python",
   "name": "python3"
  },
  "language_info": {
   "codemirror_mode": {
    "name": "ipython",
    "version": 3
   },
   "file_extension": ".py",
   "mimetype": "text/x-python",
   "name": "python",
   "nbconvert_exporter": "python",
   "pygments_lexer": "ipython3",
   "version": "3.8.5"
  },
  "varInspector": {
   "cols": {
    "lenName": 16,
    "lenType": 16,
    "lenVar": 40
   },
   "kernels_config": {
    "python": {
     "delete_cmd_postfix": "",
     "delete_cmd_prefix": "del ",
     "library": "var_list.py",
     "varRefreshCmd": "print(var_dic_list())"
    },
    "r": {
     "delete_cmd_postfix": ") ",
     "delete_cmd_prefix": "rm(",
     "library": "var_list.r",
     "varRefreshCmd": "cat(var_dic_list()) "
    }
   },
   "oldHeight": 465,
   "position": {
    "height": "487px",
    "left": "1001px",
    "right": "20px",
    "top": "46px",
    "width": "339px"
   },
   "types_to_exclude": [
    "module",
    "function",
    "builtin_function_or_method",
    "instance",
    "_Feature"
   ],
   "varInspector_section_display": "block",
   "window_display": false
  }
 },
 "nbformat": 4,
 "nbformat_minor": 4
}
